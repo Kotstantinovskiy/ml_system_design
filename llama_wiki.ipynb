{
 "cells": [
  {
   "cell_type": "code",
   "execution_count": 22,
   "id": "c1d2e652-7a7f-4db4-a86e-0dd4a5efcfb5",
   "metadata": {},
   "outputs": [],
   "source": [
    "import datasets as ds\n",
    "import pandas as pd\n",
    "\n",
    "from tqdm import tqdm"
   ]
  },
  {
   "cell_type": "code",
   "execution_count": 30,
   "id": "98664294-e4d4-4332-8b4b-25661fa04d67",
   "metadata": {},
   "outputs": [],
   "source": [
    "with open('main_langs.txt', 'r', encoding='utf-8') as f:\n",
    "    wiki_langs = [line.strip() for line in f if line.strip()]\n"
   ]
  },
  {
   "cell_type": "code",
   "execution_count": 20,
   "id": "d8886246-3ac2-4ce4-969e-64d2d97f7fe0",
   "metadata": {},
   "outputs": [],
   "source": [
    "wiki_data = pd.read_csv('wiki_data.csv')"
   ]
  },
  {
   "cell_type": "code",
   "execution_count": 39,
   "id": "f94e7f42-7910-4c1b-9bab-dcbaa0fb1a1b",
   "metadata": {},
   "outputs": [],
   "source": [
    "import ollama\n",
    "\n",
    "# Choose a small model (e.g., 'phi3', 'gemma:2b', or 'mistral')\n",
    "model_name = 'llama3.2:3b'\n",
    "prompt = \"\"\"Classify the language of this sentence from this list: {langs}\n",
    "\n",
    "Text:\n",
    "{text}\n",
    "\n",
    "Write answer only one word, if you are not sure write UNK\n",
    "\"\"\""
   ]
  },
  {
   "cell_type": "code",
   "execution_count": 42,
   "id": "125713d4-d10d-416b-811a-cd488fb3d6c5",
   "metadata": {},
   "outputs": [
    {
     "name": "stderr",
     "output_type": "stream",
     "text": [
      "100%|█████████████████████████████████████████████████████████████████████████████████████████████████████████████████████████| 25000/25000 [21:54<00:00, 19.01it/s]\n"
     ]
    }
   ],
   "source": [
    "llm_ans = []\n",
    "for text in tqdm(wiki_data['text'].values):\n",
    "    prompt = prompt.format(langs=wiki_langs, text=text)\n",
    "    #print(prompt)\n",
    "\n",
    "    response = ollama.generate(model=model_name, prompt=prompt)\n",
    "    llm_ans.append(response['response'])\n"
   ]
  },
  {
   "cell_type": "code",
   "execution_count": 43,
   "id": "73810fa3-a85e-4bf3-9b9a-4f76ef79640e",
   "metadata": {},
   "outputs": [],
   "source": [
    "wiki_data['pred_llm'] = llm_ans"
   ]
  },
  {
   "cell_type": "code",
   "execution_count": 44,
   "id": "56c99cdf-3a4b-49b4-82f2-d5fa464c8888",
   "metadata": {},
   "outputs": [],
   "source": [
    "wiki_data.to_csv('wiki_data_with_llm.csv', index=None)"
   ]
  },
  {
   "cell_type": "code",
   "execution_count": 45,
   "id": "9d3ff888-0c48-4709-a273-39e3970f27b9",
   "metadata": {},
   "outputs": [
    {
     "data": {
      "text/html": [
       "<div>\n",
       "<style scoped>\n",
       "    .dataframe tbody tr th:only-of-type {\n",
       "        vertical-align: middle;\n",
       "    }\n",
       "\n",
       "    .dataframe tbody tr th {\n",
       "        vertical-align: top;\n",
       "    }\n",
       "\n",
       "    .dataframe thead th {\n",
       "        text-align: right;\n",
       "    }\n",
       "</style>\n",
       "<table border=\"1\" class=\"dataframe\">\n",
       "  <thead>\n",
       "    <tr style=\"text-align: right;\">\n",
       "      <th></th>\n",
       "      <th>lang</th>\n",
       "      <th>text</th>\n",
       "      <th>pred_llm</th>\n",
       "    </tr>\n",
       "  </thead>\n",
       "  <tbody>\n",
       "    <tr>\n",
       "      <th>0</th>\n",
       "      <td>en</td>\n",
       "      <td>British Arab Commercial Bank The British Arab ...</td>\n",
       "      <td>UNK</td>\n",
       "    </tr>\n",
       "    <tr>\n",
       "      <th>1</th>\n",
       "      <td>en</td>\n",
       "      <td>British Arab Commercial Bank BACB has a head o...</td>\n",
       "      <td>de</td>\n",
       "    </tr>\n",
       "    <tr>\n",
       "      <th>2</th>\n",
       "      <td>en</td>\n",
       "      <td>British Arab Commercial Bank The bank provides...</td>\n",
       "      <td>en</td>\n",
       "    </tr>\n",
       "    <tr>\n",
       "      <th>3</th>\n",
       "      <td>en</td>\n",
       "      <td>British Arab Commercial Bank The bank was foun...</td>\n",
       "      <td>UNK</td>\n",
       "    </tr>\n",
       "    <tr>\n",
       "      <th>4</th>\n",
       "      <td>en</td>\n",
       "      <td>British Arab Commercial Bank In 2009, Commerci...</td>\n",
       "      <td>en</td>\n",
       "    </tr>\n",
       "    <tr>\n",
       "      <th>...</th>\n",
       "      <td>...</td>\n",
       "      <td>...</td>\n",
       "      <td>...</td>\n",
       "    </tr>\n",
       "    <tr>\n",
       "      <th>24995</th>\n",
       "      <td>sw</td>\n",
       "      <td>Kenya Hadi mwaka wa 1920, eneo linaloitwa Keny...</td>\n",
       "      <td>en</td>\n",
       "    </tr>\n",
       "    <tr>\n",
       "      <th>24996</th>\n",
       "      <td>sw</td>\n",
       "      <td>Kenya Mwanzoni mwa karne ya 20, wakulima Waing...</td>\n",
       "      <td>en</td>\n",
       "    </tr>\n",
       "    <tr>\n",
       "      <th>24997</th>\n",
       "      <td>sw</td>\n",
       "      <td>Kenya Maeneo hayo yalikuwa makao ya watu milio...</td>\n",
       "      <td>UNK</td>\n",
       "    </tr>\n",
       "    <tr>\n",
       "      <th>24998</th>\n",
       "      <td>sw</td>\n",
       "      <td>Kenya Mwaka wa 1951, Horace Hector Hearne akaw...</td>\n",
       "      <td>en</td>\n",
       "    </tr>\n",
       "    <tr>\n",
       "      <th>24999</th>\n",
       "      <td>sw</td>\n",
       "      <td>Kenya Kuanzia Oktoba 1952 mpaka Desemba 1959, ...</td>\n",
       "      <td>en</td>\n",
       "    </tr>\n",
       "  </tbody>\n",
       "</table>\n",
       "<p>25000 rows × 3 columns</p>\n",
       "</div>"
      ],
      "text/plain": [
       "      lang                                               text pred_llm\n",
       "0       en  British Arab Commercial Bank The British Arab ...      UNK\n",
       "1       en  British Arab Commercial Bank BACB has a head o...       de\n",
       "2       en  British Arab Commercial Bank The bank provides...       en\n",
       "3       en  British Arab Commercial Bank The bank was foun...      UNK\n",
       "4       en  British Arab Commercial Bank In 2009, Commerci...       en\n",
       "...    ...                                                ...      ...\n",
       "24995   sw  Kenya Hadi mwaka wa 1920, eneo linaloitwa Keny...       en\n",
       "24996   sw  Kenya Mwanzoni mwa karne ya 20, wakulima Waing...       en\n",
       "24997   sw  Kenya Maeneo hayo yalikuwa makao ya watu milio...      UNK\n",
       "24998   sw  Kenya Mwaka wa 1951, Horace Hector Hearne akaw...       en\n",
       "24999   sw  Kenya Kuanzia Oktoba 1952 mpaka Desemba 1959, ...       en\n",
       "\n",
       "[25000 rows x 3 columns]"
      ]
     },
     "execution_count": 45,
     "metadata": {},
     "output_type": "execute_result"
    }
   ],
   "source": [
    "wiki_data"
   ]
  },
  {
   "cell_type": "code",
   "execution_count": 50,
   "id": "6af40758-4e5d-4898-9b36-28a572081b55",
   "metadata": {},
   "outputs": [
    {
     "data": {
      "text/plain": [
       "array(['UNK', 'ar', 'de', 'en', 'es', 'unk'], dtype=object)"
      ]
     },
     "execution_count": 50,
     "metadata": {},
     "output_type": "execute_result"
    }
   ],
   "source": [
    "import numpy as np\n",
    "\n",
    "np.unique(wiki_data['pred_llm'].values)"
   ]
  },
  {
   "cell_type": "code",
   "execution_count": null,
   "id": "21e61306-f92e-4e7d-9f8a-f8d4e9106e03",
   "metadata": {},
   "outputs": [],
   "source": []
  }
 ],
 "metadata": {
  "kernelspec": {
   "display_name": "Python 3 (ipykernel)",
   "language": "python",
   "name": "python3"
  },
  "language_info": {
   "codemirror_mode": {
    "name": "ipython",
    "version": 3
   },
   "file_extension": ".py",
   "mimetype": "text/x-python",
   "name": "python",
   "nbconvert_exporter": "python",
   "pygments_lexer": "ipython3",
   "version": "3.12.8"
  }
 },
 "nbformat": 4,
 "nbformat_minor": 5
}
