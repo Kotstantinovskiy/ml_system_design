{
 "cells": [
  {
   "cell_type": "markdown",
   "id": "654c2cde-9a36-4b87-a56b-a50989e5dd71",
   "metadata": {},
   "source": [
    "Домашнее задание 2 ниже в ноутбуке, делал все за раз извините :("
   ]
  },
  {
   "cell_type": "markdown",
   "id": "0d54f9ee-fe38-4027-b6d4-ce85134dd318",
   "metadata": {},
   "source": [
    "# Homework 1"
   ]
  },
  {
   "cell_type": "markdown",
   "id": "c7f5ed97-c563-48a9-a20c-0bbb1cb2d907",
   "metadata": {},
   "source": [
    "## Выбор кейса"
   ]
  },
  {
   "cell_type": "markdown",
   "id": "e408a104-7186-4ed9-8722-7b9f825a5c3b",
   "metadata": {},
   "source": [
    "Я выбрал задачу определения языка по тексту. В ней может быть теоретически очень много классов (например, не только мировые языки, но и я зыки малых народов, вымершие языки и тд). Сложность задачи как раз, что есть много языков с почти полностью совпадающим алфавитом и схожими словами, грамматикой и так далее."
   ]
  },
  {
   "cell_type": "markdown",
   "id": "1474424f-9009-42df-aed6-48ad79fffce5",
   "metadata": {},
   "source": [
    "## Сбор данных"
   ]
  },
  {
   "cell_type": "code",
   "execution_count": 2,
   "id": "20af093d-8c48-4882-81bd-c3d4444df29a",
   "metadata": {
    "execution": {
     "iopub.execute_input": "2025-03-26T09:02:02.198282Z",
     "iopub.status.busy": "2025-03-26T09:02:02.197844Z",
     "iopub.status.idle": "2025-03-26T09:02:02.273073Z",
     "shell.execute_reply": "2025-03-26T09:02:02.272392Z",
     "shell.execute_reply.started": "2025-03-26T09:02:02.198256Z"
    },
    "tags": []
   },
   "outputs": [],
   "source": [
    "import warnings\n",
    "warnings.filterwarnings(\"ignore\")"
   ]
  },
  {
   "cell_type": "code",
   "execution_count": 3,
   "id": "e82b898e-1e93-4ca2-9708-cc3cce54ae37",
   "metadata": {
    "execution": {
     "iopub.execute_input": "2025-03-26T09:02:02.357549Z",
     "iopub.status.busy": "2025-03-26T09:02:02.357050Z",
     "iopub.status.idle": "2025-03-26T09:02:02.417553Z",
     "shell.execute_reply": "2025-03-26T09:02:02.416887Z",
     "shell.execute_reply.started": "2025-03-26T09:02:02.357528Z"
    },
    "tags": []
   },
   "outputs": [],
   "source": [
    "import pandas as pd\n",
    "import numpy as np"
   ]
  },
  {
   "cell_type": "markdown",
   "id": "9569f278-b361-4256-b809-8b485e8a6a21",
   "metadata": {},
   "source": [
    "Я использовал датасет для нераспостраненнх языков:\n",
    "1. https://huggingface.co/papers/2310.16248\n"
   ]
  },
  {
   "cell_type": "markdown",
   "id": "19f2a50e-a74a-4c16-be88-c0f43721f397",
   "metadata": {
    "execution": {
     "iopub.execute_input": "2025-03-25T10:40:02.089899Z",
     "iopub.status.busy": "2025-03-25T10:40:02.089313Z",
     "iopub.status.idle": "2025-03-25T10:40:02.133958Z",
     "shell.execute_reply": "2025-03-25T10:40:02.133377Z",
     "shell.execute_reply.started": "2025-03-25T10:40:02.089882Z"
    }
   },
   "source": [
    "У него лицензия Apache 2.0, то есть его можно использовать в комерческих целях"
   ]
  },
  {
   "cell_type": "code",
   "execution_count": 8,
   "id": "01a27a61-4733-4449-be5b-4fc781448f26",
   "metadata": {
    "execution": {
     "iopub.execute_input": "2025-03-25T17:13:54.508816Z",
     "iopub.status.busy": "2025-03-25T17:13:54.508451Z",
     "iopub.status.idle": "2025-03-25T17:13:55.944216Z",
     "shell.execute_reply": "2025-03-25T17:13:55.943661Z",
     "shell.execute_reply.started": "2025-03-25T17:13:54.508797Z"
    },
    "tags": []
   },
   "outputs": [],
   "source": [
    "from datasets import load_dataset\n",
    "\n",
    "data = load_dataset(\"cis-lmu/GlotStoryBook\", \"default\")\n",
    "data = data['train'].to_pandas()"
   ]
  },
  {
   "cell_type": "code",
   "execution_count": 13,
   "id": "f7981563-06a8-41fb-8e62-01daf45bb63a",
   "metadata": {
    "execution": {
     "iopub.execute_input": "2025-03-25T17:15:05.544355Z",
     "iopub.status.busy": "2025-03-25T17:15:05.544028Z",
     "iopub.status.idle": "2025-03-25T17:15:05.567023Z",
     "shell.execute_reply": "2025-03-25T17:15:05.566406Z",
     "shell.execute_reply.started": "2025-03-25T17:15:05.544339Z"
    },
    "tags": []
   },
   "outputs": [],
   "source": [
    "data = data[['Text', 'Language']].rename(columns={'Text': 'text', 'Language': 'lang'})"
   ]
  },
  {
   "cell_type": "code",
   "execution_count": 17,
   "id": "ce9e5394-5246-4868-8fa7-57539e210d4b",
   "metadata": {
    "execution": {
     "iopub.execute_input": "2025-03-25T17:16:14.838858Z",
     "iopub.status.busy": "2025-03-25T17:16:14.838134Z",
     "iopub.status.idle": "2025-03-25T17:16:14.850155Z",
     "shell.execute_reply": "2025-03-25T17:16:14.849593Z",
     "shell.execute_reply.started": "2025-03-25T17:16:14.838839Z"
    }
   },
   "outputs": [],
   "source": [
    "all_data = data"
   ]
  },
  {
   "cell_type": "markdown",
   "id": "07e7b17d-a44b-4190-9c7c-1d10b0823ccf",
   "metadata": {},
   "source": [
    "Посмотрим какие языки в первом датасете"
   ]
  },
  {
   "cell_type": "code",
   "execution_count": 14,
   "id": "8a8325e3-429b-4918-9441-4506a5d1a27f",
   "metadata": {
    "execution": {
     "iopub.execute_input": "2025-03-25T17:15:19.744751Z",
     "iopub.status.busy": "2025-03-25T17:15:19.744431Z",
     "iopub.status.idle": "2025-03-25T17:15:19.761253Z",
     "shell.execute_reply": "2025-03-25T17:15:19.760705Z",
     "shell.execute_reply.started": "2025-03-25T17:15:19.744735Z"
    },
    "tags": []
   },
   "outputs": [
    {
     "data": {
      "text/html": [
       "<div>\n",
       "<style scoped>\n",
       "    .dataframe tbody tr th:only-of-type {\n",
       "        vertical-align: middle;\n",
       "    }\n",
       "\n",
       "    .dataframe tbody tr th {\n",
       "        vertical-align: top;\n",
       "    }\n",
       "\n",
       "    .dataframe thead th {\n",
       "        text-align: right;\n",
       "    }\n",
       "</style>\n",
       "<table border=\"1\" class=\"dataframe\">\n",
       "  <thead>\n",
       "    <tr style=\"text-align: right;\">\n",
       "      <th></th>\n",
       "      <th>text</th>\n",
       "      <th>lang</th>\n",
       "    </tr>\n",
       "  </thead>\n",
       "  <tbody>\n",
       "    <tr>\n",
       "      <th>0</th>\n",
       "      <td>Atwero ngwec kede.</td>\n",
       "      <td>ach</td>\n",
       "    </tr>\n",
       "    <tr>\n",
       "      <th>1</th>\n",
       "      <td>Atwero pye kede.</td>\n",
       "      <td>ach</td>\n",
       "    </tr>\n",
       "    <tr>\n",
       "      <th>2</th>\n",
       "      <td>Atwero Myel Kede.</td>\n",
       "      <td>ach</td>\n",
       "    </tr>\n",
       "    <tr>\n",
       "      <th>3</th>\n",
       "      <td>Atwero kwang kede.</td>\n",
       "      <td>ach</td>\n",
       "    </tr>\n",
       "    <tr>\n",
       "      <th>4</th>\n",
       "      <td>Atwero lenge kede.</td>\n",
       "      <td>ach</td>\n",
       "    </tr>\n",
       "    <tr>\n",
       "      <th>...</th>\n",
       "      <td>...</td>\n",
       "      <td>...</td>\n",
       "    </tr>\n",
       "    <tr>\n",
       "      <th>79106</th>\n",
       "      <td>UMandla wagcina ethola indawa\\nlapho azodansel...</td>\n",
       "      <td>zu</td>\n",
       "    </tr>\n",
       "    <tr>\n",
       "      <th>79107</th>\n",
       "      <td>UMandla unamandla amaningi\\nngoba udla izithel...</td>\n",
       "      <td>zu</td>\n",
       "    </tr>\n",
       "    <tr>\n",
       "      <th>79108</th>\n",
       "      <td>UMandla waqala umbukiso\\nwokudansa ebukelwa yi...</td>\n",
       "      <td>zu</td>\n",
       "    </tr>\n",
       "    <tr>\n",
       "      <th>79109</th>\n",
       "      <td>Ukuzivocavoca kwakhe kwakhe\\nkuhle kakhulu, ng...</td>\n",
       "      <td>zu</td>\n",
       "    </tr>\n",
       "    <tr>\n",
       "      <th>79110</th>\n",
       "      <td>Waphenduka kanjalo inkawu\\nyomdanso uMandla.</td>\n",
       "      <td>zu</td>\n",
       "    </tr>\n",
       "  </tbody>\n",
       "</table>\n",
       "<p>79111 rows × 2 columns</p>\n",
       "</div>"
      ],
      "text/plain": [
       "                                                    text lang\n",
       "0                                     Atwero ngwec kede.  ach\n",
       "1                                       Atwero pye kede.  ach\n",
       "2                                      Atwero Myel Kede.  ach\n",
       "3                                     Atwero kwang kede.  ach\n",
       "4                                     Atwero lenge kede.  ach\n",
       "...                                                  ...  ...\n",
       "79106  UMandla wagcina ethola indawa\\nlapho azodansel...   zu\n",
       "79107  UMandla unamandla amaningi\\nngoba udla izithel...   zu\n",
       "79108  UMandla waqala umbukiso\\nwokudansa ebukelwa yi...   zu\n",
       "79109  Ukuzivocavoca kwakhe kwakhe\\nkuhle kakhulu, ng...   zu\n",
       "79110       Waphenduka kanjalo inkawu\\nyomdanso uMandla.   zu\n",
       "\n",
       "[79111 rows x 2 columns]"
      ]
     },
     "execution_count": 14,
     "metadata": {},
     "output_type": "execute_result"
    }
   ],
   "source": [
    "data"
   ]
  },
  {
   "cell_type": "code",
   "execution_count": 15,
   "id": "e2b73ab1-5cc8-433e-a52e-c46a6e7739ab",
   "metadata": {
    "execution": {
     "iopub.execute_input": "2025-03-25T17:15:25.991620Z",
     "iopub.status.busy": "2025-03-25T17:15:25.991283Z",
     "iopub.status.idle": "2025-03-25T17:15:26.032038Z",
     "shell.execute_reply": "2025-03-25T17:15:26.031497Z",
     "shell.execute_reply.started": "2025-03-25T17:15:25.991603Z"
    },
    "tags": []
   },
   "outputs": [
    {
     "data": {
      "text/plain": [
       "array(['ach', 'ada', 'adh', 'aeb', 'af', 'alz', 'am', 'anu', 'ar',\n",
       "       'ar-diacritics', 'as', 'bem', 'bn', 'bo', 'bxk', 'ca', 'cce',\n",
       "       'ckb', 'crk', 'csw', 'ctu', 'da', 'dag', 'de', 'dga', 'din', 'dje',\n",
       "       'ee', 'el', 'en', 'eo', 'es', 'fa', 'fa-diacritics', 'fat', 'ff',\n",
       "       'fr', 'gaa', 'gjn', 'gu', 'gur', 'guz', 'gyn', 'ha', 'hbs', 'hch',\n",
       "       'hi', 'ht', 'hu', 'hus', 'hz', 'id', 'it', 'ja', 'jam', 'kam',\n",
       "       'kdj', 'keo', 'ki', 'kj', 'kln', 'km', 'kmr', 'kn', 'ko', 'kok',\n",
       "       'koo', 'kpz', 'kqn', 'kr', 'kri', 'kru', 'ktz', 'kwn', 'la', 'laj',\n",
       "       'lg', 'lgg', 'lgg-official', 'lko', 'ln', 'loz', 'loz-na',\n",
       "       'loz-zm', 'lsm', 'lt', 'luc', 'lue', 'lun', 'luo', 'lwg', 'mas',\n",
       "       'mat', 'maz', 'mer', 'mfe', 'mg', 'mhi', 'mhw', 'miu', 'ml', 'mmc',\n",
       "       'mnw', 'mqu', 'mr', 'ms', 'my', 'myx', 'naq', 'nb', 'nch', 'ne',\n",
       "       'ng', 'nhe', 'nhw', 'nl', 'nle', 'nn', 'no', 'no-ipa', 'nr', 'nso',\n",
       "       'nuj', 'ny', 'nyn', 'nyu', 'nzi', 'ocu', 'old', 'om', 'or', 'pa',\n",
       "       'pa-shahmukhi', 'pcm', 'pl', 'pmq', 'prs', 'prs-diacritics', 'ps',\n",
       "       'pt', 'rki', 'ro', 'ru', 'rw', 'sa', 'saq', 'sck', 'se', 'sg',\n",
       "       'so', 'sq', 'sr', 'ss', 'st', 'sv', 'sw', 'ta', 'te', 'teo', 'tet',\n",
       "       'th', 'ti', 'tl', 'tn', 'toh', 'toi', 'tr', 'ts', 'tsc', 'ttj',\n",
       "       'tum', 'tuv', 'tw-akua', 'tw-asan', 'uk', 'ur', 've', 'vi', 'xh',\n",
       "       'xog', 'xsm', 'yo', 'yua', 'yue', 'zh', 'zh-pinyin', 'zne', 'zu'],\n",
       "      dtype=object)"
      ]
     },
     "execution_count": 15,
     "metadata": {},
     "output_type": "execute_result"
    }
   ],
   "source": [
    "np.unique(data['lang'].values)"
   ]
  },
  {
   "cell_type": "code",
   "execution_count": 184,
   "id": "aee8b5c9-fedb-4db7-9199-18b6c9d13a71",
   "metadata": {
    "execution": {
     "iopub.execute_input": "2025-03-25T16:26:10.577426Z",
     "iopub.status.busy": "2025-03-25T16:26:10.577066Z",
     "iopub.status.idle": "2025-03-25T16:26:10.593774Z",
     "shell.execute_reply": "2025-03-25T16:26:10.593292Z",
     "shell.execute_reply.started": "2025-03-25T16:26:10.577409Z"
    },
    "tags": []
   },
   "outputs": [],
   "source": [
    "lang2short = {\n",
    "    'Arabic': 'ar',\n",
    "    'Danish': 'da',\n",
    "    'Dutch': 'nl',\n",
    "    'English': 'en',\n",
    "    'French': 'fr',\n",
    "    'German': 'de',\n",
    "    'Greek': 'el',\n",
    "    'Hindi': 'hi',\n",
    "    'Italian': 'it',\n",
    "    'Kannada': 'kn',\n",
    "    'Malayalam': 'ml',\n",
    "    'Portugeese': 'pt',\n",
    "    'Russian': 'ru',\n",
    "    'Spanish': 'es',\n",
    "    'Sweedish': 'sv',\n",
    "    'Tamil': 'ta',\n",
    "    'Turkish': 'tr'\n",
    "}"
   ]
  },
  {
   "cell_type": "code",
   "execution_count": 185,
   "id": "1eaad722-881c-4282-913a-9294cb217885",
   "metadata": {
    "execution": {
     "iopub.execute_input": "2025-03-25T16:26:10.837323Z",
     "iopub.status.busy": "2025-03-25T16:26:10.836829Z",
     "iopub.status.idle": "2025-03-25T16:26:10.846837Z",
     "shell.execute_reply": "2025-03-25T16:26:10.846372Z",
     "shell.execute_reply.started": "2025-03-25T16:26:10.837307Z"
    },
    "tags": []
   },
   "outputs": [],
   "source": [
    "data1['lang'] = data1['lang'].map(lang2short)"
   ]
  },
  {
   "cell_type": "code",
   "execution_count": 10,
   "id": "cd26895c-02a8-4ca2-8123-0717a0e2a097",
   "metadata": {
    "execution": {
     "iopub.execute_input": "2025-03-25T07:26:36.281696Z",
     "iopub.status.busy": "2025-03-25T07:26:36.281408Z",
     "iopub.status.idle": "2025-03-25T07:26:36.303387Z",
     "shell.execute_reply": "2025-03-25T07:26:36.302836Z",
     "shell.execute_reply.started": "2025-03-25T07:26:36.281682Z"
    }
   },
   "outputs": [
    {
     "data": {
      "text/html": [
       "<div>\n",
       "<style scoped>\n",
       "    .dataframe tbody tr th:only-of-type {\n",
       "        vertical-align: middle;\n",
       "    }\n",
       "\n",
       "    .dataframe tbody tr th {\n",
       "        vertical-align: top;\n",
       "    }\n",
       "\n",
       "    .dataframe thead th {\n",
       "        text-align: right;\n",
       "    }\n",
       "</style>\n",
       "<table border=\"1\" class=\"dataframe\">\n",
       "  <thead>\n",
       "    <tr style=\"text-align: right;\">\n",
       "      <th></th>\n",
       "      <th>text</th>\n",
       "      <th>lang</th>\n",
       "    </tr>\n",
       "  </thead>\n",
       "  <tbody>\n",
       "    <tr>\n",
       "      <th>0</th>\n",
       "      <td>Nature, in the broadest sense, is the natural...</td>\n",
       "      <td>en</td>\n",
       "    </tr>\n",
       "    <tr>\n",
       "      <th>1</th>\n",
       "      <td>\"Nature\" can refer to the phenomena of the phy...</td>\n",
       "      <td>en</td>\n",
       "    </tr>\n",
       "    <tr>\n",
       "      <th>2</th>\n",
       "      <td>The study of nature is a large, if not the onl...</td>\n",
       "      <td>en</td>\n",
       "    </tr>\n",
       "    <tr>\n",
       "      <th>3</th>\n",
       "      <td>Although humans are part of nature, human acti...</td>\n",
       "      <td>en</td>\n",
       "    </tr>\n",
       "    <tr>\n",
       "      <th>4</th>\n",
       "      <td>[1] The word nature is borrowed from the Old F...</td>\n",
       "      <td>en</td>\n",
       "    </tr>\n",
       "    <tr>\n",
       "      <th>...</th>\n",
       "      <td>...</td>\n",
       "      <td>...</td>\n",
       "    </tr>\n",
       "    <tr>\n",
       "      <th>10332</th>\n",
       "      <td>ನಿಮ್ಮ ತಪ್ಪು ಏನು ಬಂದಿದೆಯೆಂದರೆ ಆ ದಿನದಿಂದ ನಿಮಗೆ ಒ...</td>\n",
       "      <td>kn</td>\n",
       "    </tr>\n",
       "    <tr>\n",
       "      <th>10333</th>\n",
       "      <td>ನಾರ್ಸಿಸಾ ತಾನು ಮೊದಲಿಗೆ ಹೆಣಗಾಡುತ್ತಿದ್ದ ಮಾರ್ಗಗಳನ್...</td>\n",
       "      <td>kn</td>\n",
       "    </tr>\n",
       "    <tr>\n",
       "      <th>10334</th>\n",
       "      <td>ಹೇಗೆ ' ನಾರ್ಸಿಸಿಸಮ್ ಈಗ ಮರಿಯನ್ ಅವರಿಗೆ ಸಂಭವಿಸಿದ ಎ...</td>\n",
       "      <td>kn</td>\n",
       "    </tr>\n",
       "    <tr>\n",
       "      <th>10335</th>\n",
       "      <td>ಅವಳು ಈಗ ಹೆಚ್ಚು ಚಿನ್ನದ ಬ್ರೆಡ್ ಬಯಸುವುದಿಲ್ಲ ಎಂದು ...</td>\n",
       "      <td>kn</td>\n",
       "    </tr>\n",
       "    <tr>\n",
       "      <th>10336</th>\n",
       "      <td>ಟೆರ್ರಿ ನೀವು ನಿಜವಾಗಿಯೂ ಆ ದೇವದೂತನಂತೆ ಸ್ವಲ್ಪ ಕಾಣು...</td>\n",
       "      <td>kn</td>\n",
       "    </tr>\n",
       "  </tbody>\n",
       "</table>\n",
       "<p>10337 rows × 2 columns</p>\n",
       "</div>"
      ],
      "text/plain": [
       "                                                    text lang\n",
       "0       Nature, in the broadest sense, is the natural...   en\n",
       "1      \"Nature\" can refer to the phenomena of the phy...   en\n",
       "2      The study of nature is a large, if not the onl...   en\n",
       "3      Although humans are part of nature, human acti...   en\n",
       "4      [1] The word nature is borrowed from the Old F...   en\n",
       "...                                                  ...  ...\n",
       "10332  ನಿಮ್ಮ ತಪ್ಪು ಏನು ಬಂದಿದೆಯೆಂದರೆ ಆ ದಿನದಿಂದ ನಿಮಗೆ ಒ...   kn\n",
       "10333  ನಾರ್ಸಿಸಾ ತಾನು ಮೊದಲಿಗೆ ಹೆಣಗಾಡುತ್ತಿದ್ದ ಮಾರ್ಗಗಳನ್...   kn\n",
       "10334  ಹೇಗೆ ' ನಾರ್ಸಿಸಿಸಮ್ ಈಗ ಮರಿಯನ್ ಅವರಿಗೆ ಸಂಭವಿಸಿದ ಎ...   kn\n",
       "10335  ಅವಳು ಈಗ ಹೆಚ್ಚು ಚಿನ್ನದ ಬ್ರೆಡ್ ಬಯಸುವುದಿಲ್ಲ ಎಂದು ...   kn\n",
       "10336  ಟೆರ್ರಿ ನೀವು ನಿಜವಾಗಿಯೂ ಆ ದೇವದೂತನಂತೆ ಸ್ವಲ್ಪ ಕಾಣು...   kn\n",
       "\n",
       "[10337 rows x 2 columns]"
      ]
     },
     "execution_count": 10,
     "metadata": {},
     "output_type": "execute_result"
    }
   ],
   "source": [
    "data1"
   ]
  },
  {
   "cell_type": "code",
   "execution_count": 75,
   "id": "bd1889e0-c0d1-4b80-9e13-4511ab543847",
   "metadata": {
    "execution": {
     "iopub.execute_input": "2025-03-24T21:54:26.052452Z",
     "iopub.status.busy": "2025-03-24T21:54:26.051504Z",
     "iopub.status.idle": "2025-03-24T21:54:26.073987Z",
     "shell.execute_reply": "2025-03-24T21:54:26.073219Z",
     "shell.execute_reply.started": "2025-03-24T21:54:26.052419Z"
    },
    "tags": []
   },
   "outputs": [
    {
     "data": {
      "text/html": [
       "<div>\n",
       "<style scoped>\n",
       "    .dataframe tbody tr th:only-of-type {\n",
       "        vertical-align: middle;\n",
       "    }\n",
       "\n",
       "    .dataframe tbody tr th {\n",
       "        vertical-align: top;\n",
       "    }\n",
       "\n",
       "    .dataframe thead th {\n",
       "        text-align: right;\n",
       "    }\n",
       "</style>\n",
       "<table border=\"1\" class=\"dataframe\">\n",
       "  <thead>\n",
       "    <tr style=\"text-align: right;\">\n",
       "      <th></th>\n",
       "      <th>lang</th>\n",
       "      <th>text</th>\n",
       "    </tr>\n",
       "  </thead>\n",
       "  <tbody>\n",
       "    <tr>\n",
       "      <th>0</th>\n",
       "      <td>pt</td>\n",
       "      <td>os chefes de defesa da estónia, letónia, lituâ...</td>\n",
       "    </tr>\n",
       "    <tr>\n",
       "      <th>1</th>\n",
       "      <td>bg</td>\n",
       "      <td>размерът на хоризонталната мрежа може да бъде ...</td>\n",
       "    </tr>\n",
       "    <tr>\n",
       "      <th>2</th>\n",
       "      <td>zh</td>\n",
       "      <td>很好，以前从不去评价，不知道浪费了多少积分，现在知道积分可以换钱，就要好好评价了，后来我就把...</td>\n",
       "    </tr>\n",
       "    <tr>\n",
       "      <th>3</th>\n",
       "      <td>th</td>\n",
       "      <td>สำหรับ ของเก่า ที่ จริงจัง ลอง   honeychurch  ...</td>\n",
       "    </tr>\n",
       "    <tr>\n",
       "      <th>4</th>\n",
       "      <td>ru</td>\n",
       "      <td>Он увеличил давление .</td>\n",
       "    </tr>\n",
       "    <tr>\n",
       "      <th>...</th>\n",
       "      <td>...</td>\n",
       "      <td>...</td>\n",
       "    </tr>\n",
       "    <tr>\n",
       "      <th>69995</th>\n",
       "      <td>ja</td>\n",
       "      <td>本格的なゲーミングヘッドホンでした。 今まで使ってた1万円するパナソニックのヘッドホンは何だ...</td>\n",
       "    </tr>\n",
       "    <tr>\n",
       "      <th>69996</th>\n",
       "      <td>el</td>\n",
       "      <td>Ναι , ξέρω ένα που είναι ακόμα έτσι , αλλά αυτ...</td>\n",
       "    </tr>\n",
       "    <tr>\n",
       "      <th>69997</th>\n",
       "      <td>ur</td>\n",
       "      <td>اور مجھے اس ملک کے بارے میں معلوم نہیں ہے کہ گ...</td>\n",
       "    </tr>\n",
       "    <tr>\n",
       "      <th>69998</th>\n",
       "      <td>es</td>\n",
       "      <td>Se me rompió uno al sacarlo del cargador. Cali...</td>\n",
       "    </tr>\n",
       "    <tr>\n",
       "      <th>69999</th>\n",
       "      <td>hi</td>\n",
       "      <td>कोसोवो कथा का विवरण जिसमें स ् थानीय राष ् ट ्...</td>\n",
       "    </tr>\n",
       "  </tbody>\n",
       "</table>\n",
       "<p>70000 rows × 2 columns</p>\n",
       "</div>"
      ],
      "text/plain": [
       "      lang                                               text\n",
       "0       pt  os chefes de defesa da estónia, letónia, lituâ...\n",
       "1       bg  размерът на хоризонталната мрежа може да бъде ...\n",
       "2       zh  很好，以前从不去评价，不知道浪费了多少积分，现在知道积分可以换钱，就要好好评价了，后来我就把...\n",
       "3       th  สำหรับ ของเก่า ที่ จริงจัง ลอง   honeychurch  ...\n",
       "4       ru                             Он увеличил давление .\n",
       "...    ...                                                ...\n",
       "69995   ja  本格的なゲーミングヘッドホンでした。 今まで使ってた1万円するパナソニックのヘッドホンは何だ...\n",
       "69996   el  Ναι , ξέρω ένα που είναι ακόμα έτσι , αλλά αυτ...\n",
       "69997   ur  اور مجھے اس ملک کے بارے میں معلوم نہیں ہے کہ گ...\n",
       "69998   es  Se me rompió uno al sacarlo del cargador. Cali...\n",
       "69999   hi  कोसोवो कथा का विवरण जिसमें स ् थानीय राष ् ट ्...\n",
       "\n",
       "[70000 rows x 2 columns]"
      ]
     },
     "execution_count": 75,
     "metadata": {},
     "output_type": "execute_result"
    }
   ],
   "source": [
    "data2"
   ]
  },
  {
   "cell_type": "code",
   "execution_count": 19,
   "id": "63d6d532-7480-4a6f-8aff-a899eb153fe7",
   "metadata": {
    "execution": {
     "iopub.execute_input": "2025-03-25T07:34:55.009284Z",
     "iopub.status.busy": "2025-03-25T07:34:55.008832Z",
     "iopub.status.idle": "2025-03-25T07:34:55.062138Z",
     "shell.execute_reply": "2025-03-25T07:34:55.061269Z",
     "shell.execute_reply.started": "2025-03-25T07:34:55.009264Z"
    },
    "tags": []
   },
   "outputs": [
    {
     "data": {
      "text/plain": [
       "{'ar', 'de', 'el', 'en', 'es', 'fr', 'hi', 'it', 'nl', 'pt', 'ru', 'tr'}"
      ]
     },
     "execution_count": 19,
     "metadata": {},
     "output_type": "execute_result"
    }
   ],
   "source": [
    "# Языки которые есть в первом датсете и во втором\n",
    "set(np.unique(data2['lang'])) & set(np.unique(data1['lang']))"
   ]
  },
  {
   "cell_type": "code",
   "execution_count": 24,
   "id": "4640a071-e9dc-44a7-821c-d0b0a2661650",
   "metadata": {
    "execution": {
     "iopub.execute_input": "2025-03-25T07:36:48.757950Z",
     "iopub.status.busy": "2025-03-25T07:36:48.757488Z",
     "iopub.status.idle": "2025-03-25T07:36:48.799716Z",
     "shell.execute_reply": "2025-03-25T07:36:48.799127Z",
     "shell.execute_reply.started": "2025-03-25T07:36:48.757932Z"
    },
    "tags": []
   },
   "outputs": [
    {
     "data": {
      "text/plain": [
       "{'da', 'kn', 'ml', 'sv', 'ta'}"
      ]
     },
     "execution_count": 24,
     "metadata": {},
     "output_type": "execute_result"
    }
   ],
   "source": [
    "# Языки которые есть в первом датсете, но нету во втором\n",
    "set(np.unique(data1['lang'])) - set(np.unique(data2['lang']))"
   ]
  },
  {
   "cell_type": "code",
   "execution_count": 25,
   "id": "6f95c8ef-e9f0-4a86-aaef-b84e65b41562",
   "metadata": {
    "execution": {
     "iopub.execute_input": "2025-03-25T07:36:55.664157Z",
     "iopub.status.busy": "2025-03-25T07:36:55.663369Z",
     "iopub.status.idle": "2025-03-25T07:36:55.709273Z",
     "shell.execute_reply": "2025-03-25T07:36:55.708556Z",
     "shell.execute_reply.started": "2025-03-25T07:36:55.664136Z"
    }
   },
   "outputs": [
    {
     "data": {
      "text/plain": [
       "{'bg', 'ja', 'pl', 'sw', 'th', 'ur', 'vi', 'zh'}"
      ]
     },
     "execution_count": 25,
     "metadata": {},
     "output_type": "execute_result"
    }
   ],
   "source": [
    "# Языки которые есть во втором датсете, но нету в первом\n",
    "set(np.unique(data2['lang'])) - set(np.unique(data1['lang']))"
   ]
  },
  {
   "cell_type": "code",
   "execution_count": 186,
   "id": "53a25603-45e4-4259-8935-dd0ff5843c6a",
   "metadata": {
    "execution": {
     "iopub.execute_input": "2025-03-25T16:26:16.582972Z",
     "iopub.status.busy": "2025-03-25T16:26:16.582682Z",
     "iopub.status.idle": "2025-03-25T16:26:16.602763Z",
     "shell.execute_reply": "2025-03-25T16:26:16.602176Z",
     "shell.execute_reply.started": "2025-03-25T16:26:16.582957Z"
    },
    "tags": []
   },
   "outputs": [
    {
     "data": {
      "text/html": [
       "<div>\n",
       "<style scoped>\n",
       "    .dataframe tbody tr th:only-of-type {\n",
       "        vertical-align: middle;\n",
       "    }\n",
       "\n",
       "    .dataframe tbody tr th {\n",
       "        vertical-align: top;\n",
       "    }\n",
       "\n",
       "    .dataframe thead th {\n",
       "        text-align: right;\n",
       "    }\n",
       "</style>\n",
       "<table border=\"1\" class=\"dataframe\">\n",
       "  <thead>\n",
       "    <tr style=\"text-align: right;\">\n",
       "      <th></th>\n",
       "      <th>text</th>\n",
       "      <th>lang</th>\n",
       "    </tr>\n",
       "  </thead>\n",
       "  <tbody>\n",
       "    <tr>\n",
       "      <th>0</th>\n",
       "      <td>Nature, in the broadest sense, is the natural...</td>\n",
       "      <td>en</td>\n",
       "    </tr>\n",
       "    <tr>\n",
       "      <th>1</th>\n",
       "      <td>\"Nature\" can refer to the phenomena of the phy...</td>\n",
       "      <td>en</td>\n",
       "    </tr>\n",
       "    <tr>\n",
       "      <th>2</th>\n",
       "      <td>The study of nature is a large, if not the onl...</td>\n",
       "      <td>en</td>\n",
       "    </tr>\n",
       "    <tr>\n",
       "      <th>3</th>\n",
       "      <td>Although humans are part of nature, human acti...</td>\n",
       "      <td>en</td>\n",
       "    </tr>\n",
       "    <tr>\n",
       "      <th>4</th>\n",
       "      <td>[1] The word nature is borrowed from the Old F...</td>\n",
       "      <td>en</td>\n",
       "    </tr>\n",
       "    <tr>\n",
       "      <th>...</th>\n",
       "      <td>...</td>\n",
       "      <td>...</td>\n",
       "    </tr>\n",
       "    <tr>\n",
       "      <th>80332</th>\n",
       "      <td>本格的なゲーミングヘッドホンでした。 今まで使ってた1万円するパナソニックのヘッドホンは何だ...</td>\n",
       "      <td>ja</td>\n",
       "    </tr>\n",
       "    <tr>\n",
       "      <th>80333</th>\n",
       "      <td>Ναι , ξέρω ένα που είναι ακόμα έτσι , αλλά αυτ...</td>\n",
       "      <td>el</td>\n",
       "    </tr>\n",
       "    <tr>\n",
       "      <th>80334</th>\n",
       "      <td>اور مجھے اس ملک کے بارے میں معلوم نہیں ہے کہ گ...</td>\n",
       "      <td>ur</td>\n",
       "    </tr>\n",
       "    <tr>\n",
       "      <th>80335</th>\n",
       "      <td>Se me rompió uno al sacarlo del cargador. Cali...</td>\n",
       "      <td>es</td>\n",
       "    </tr>\n",
       "    <tr>\n",
       "      <th>80336</th>\n",
       "      <td>कोसोवो कथा का विवरण जिसमें स ् थानीय राष ् ट ्...</td>\n",
       "      <td>hi</td>\n",
       "    </tr>\n",
       "  </tbody>\n",
       "</table>\n",
       "<p>80337 rows × 2 columns</p>\n",
       "</div>"
      ],
      "text/plain": [
       "                                                    text lang\n",
       "0       Nature, in the broadest sense, is the natural...   en\n",
       "1      \"Nature\" can refer to the phenomena of the phy...   en\n",
       "2      The study of nature is a large, if not the onl...   en\n",
       "3      Although humans are part of nature, human acti...   en\n",
       "4      [1] The word nature is borrowed from the Old F...   en\n",
       "...                                                  ...  ...\n",
       "80332  本格的なゲーミングヘッドホンでした。 今まで使ってた1万円するパナソニックのヘッドホンは何だ...   ja\n",
       "80333  Ναι , ξέρω ένα που είναι ακόμα έτσι , αλλά αυτ...   el\n",
       "80334  اور مجھے اس ملک کے بارے میں معلوم نہیں ہے کہ گ...   ur\n",
       "80335  Se me rompió uno al sacarlo del cargador. Cali...   es\n",
       "80336  कोसोवो कथा का विवरण जिसमें स ् थानीय राष ् ट ्...   hi\n",
       "\n",
       "[80337 rows x 2 columns]"
      ]
     },
     "execution_count": 186,
     "metadata": {},
     "output_type": "execute_result"
    }
   ],
   "source": [
    "all_data = pd.concat([data1, data2], ignore_index=True)\n",
    "all_data"
   ]
  },
  {
   "cell_type": "code",
   "execution_count": 39,
   "id": "c24859dc-4f96-4c1d-ae68-738571d46b39",
   "metadata": {
    "execution": {
     "iopub.execute_input": "2025-03-25T11:00:31.542479Z",
     "iopub.status.busy": "2025-03-25T11:00:31.541813Z",
     "iopub.status.idle": "2025-03-25T11:00:31.589639Z",
     "shell.execute_reply": "2025-03-25T11:00:31.589201Z",
     "shell.execute_reply.started": "2025-03-25T11:00:31.542457Z"
    },
    "tags": []
   },
   "outputs": [
    {
     "data": {
      "text/plain": [
       "array(['ar', 'bg', 'da', 'de', 'el', 'en', 'es', 'fr', 'hi', 'it', 'ja',\n",
       "       'kn', 'ml', 'nl', 'pl', 'pt', 'ru', 'sv', 'sw', 'ta', 'th', 'tr',\n",
       "       'ur', 'vi', 'zh'], dtype=object)"
      ]
     },
     "execution_count": 39,
     "metadata": {},
     "output_type": "execute_result"
    }
   ],
   "source": [
    "# Все языки которые есть в нашем основном датасете\n",
    "np.unique(all_data['lang'])"
   ]
  },
  {
   "cell_type": "code",
   "execution_count": 40,
   "id": "bf1c1fd3-7653-4568-9936-a04109acd56d",
   "metadata": {
    "execution": {
     "iopub.execute_input": "2025-03-25T11:00:36.582321Z",
     "iopub.status.busy": "2025-03-25T11:00:36.581894Z",
     "iopub.status.idle": "2025-03-25T11:00:36.652939Z",
     "shell.execute_reply": "2025-03-25T11:00:36.652400Z",
     "shell.execute_reply.started": "2025-03-25T11:00:36.582305Z"
    },
    "tags": []
   },
   "outputs": [],
   "source": [
    "with open('main_langs.txt', 'w', encoding='utf-8') as f:\n",
    "    for lang in np.unique(all_data['lang']):\n",
    "        f.write(f\"{lang}\\n\")"
   ]
  },
  {
   "cell_type": "markdown",
   "id": "9f706517-8bf1-47a8-8b19-4d39447edb82",
   "metadata": {},
   "source": [
    "## Weak Supervision для увеличения размеченного датасета"
   ]
  },
  {
   "cell_type": "markdown",
   "id": "65d693f6-3041-4639-8cfd-b1e27a3e66ce",
   "metadata": {},
   "source": [
    "Решил взять тексты из википедии, так там есть уже как бы готовая разметка (в урле). Также немного другой домен более длинных документов. Ссылка: https://huggingface.co/datasets/Cohere/wikipedia-2023-11-embed-multilingual-v3"
   ]
  },
  {
   "cell_type": "markdown",
   "id": "13ffa59e-b8f9-4c5c-ae0b-9ee1c0ee129f",
   "metadata": {},
   "source": [
    "Сделал в другом ноутбуке, попытался разметить llama и еще посимвольной классификацией, то есть когда мы смотрим на специфические символы для языка, и если их много то выбираем этот язык. Все эти методы работают плохо (если бы работлаи хорошо, то не надо было бы делать отдельную ml задачу под это)"
   ]
  },
  {
   "cell_type": "markdown",
   "id": "915d7402-5478-4604-ab28-df54b54e0e18",
   "metadata": {},
   "source": [
    "### Разметка LLM"
   ]
  },
  {
   "cell_type": "markdown",
   "id": "b75e4560-df77-44da-97a4-48ea5c093354",
   "metadata": {},
   "source": [
    "Смотри на llama_wiki.ipynb"
   ]
  },
  {
   "cell_type": "code",
   "execution_count": 35,
   "id": "3147579c-24ef-4dd0-bdfb-ff22622e0e23",
   "metadata": {
    "execution": {
     "iopub.execute_input": "2025-03-25T10:29:16.744798Z",
     "iopub.status.busy": "2025-03-25T10:29:16.744318Z",
     "iopub.status.idle": "2025-03-25T10:29:21.758234Z",
     "shell.execute_reply": "2025-03-25T10:29:21.757688Z",
     "shell.execute_reply.started": "2025-03-25T10:29:16.744781Z"
    },
    "tags": []
   },
   "outputs": [],
   "source": [
    "pred_lang = [classify_language(text) for text in all_data['text'].values]\n"
   ]
  },
  {
   "cell_type": "markdown",
   "id": "84bbaa78-5852-40c8-8fe2-353932d7a06f",
   "metadata": {},
   "source": [
    "### Эвристики для определения языка"
   ]
  },
  {
   "cell_type": "code",
   "execution_count": null,
   "id": "f5923fee-50bb-45fd-b907-74f2abef83ec",
   "metadata": {},
   "outputs": [],
   "source": [
    "labels2lang = {\n",
    "    'ar': 'Arabic',\n",
    "    'bg': 'Bulgarian',\n",
    "    'de': 'German',\n",
    "    'el': 'Greek',\n",
    "    'en': 'English',\n",
    "    'es': 'Spanish',\n",
    "    'fr': 'French',\n",
    "    'hi': 'Hindi',\n",
    "    'it': 'Italian',\n",
    "    'ja': 'Japanese',\n",
    "    'nl': 'Dutch',\n",
    "    'pl': 'Polish',\n",
    "    'pt': 'Portuguese',\n",
    "    'ru': 'Russian',\n",
    "    'sw': 'Swahili',\n",
    "    'th': 'Thai',\n",
    "    'tr': 'Turkish',\n",
    "    'ur': 'Urdu',\n",
    "    'vi': 'Vietnamese',\n",
    "    'zh': 'Chinese'\n",
    "}"
   ]
  },
  {
   "cell_type": "code",
   "execution_count": 34,
   "id": "9bf300e9-b2be-4072-a1de-320b32c4e66f",
   "metadata": {
    "execution": {
     "iopub.execute_input": "2025-03-25T10:29:15.823569Z",
     "iopub.status.busy": "2025-03-25T10:29:15.823011Z",
     "iopub.status.idle": "2025-03-25T10:29:15.836397Z",
     "shell.execute_reply": "2025-03-25T10:29:15.835938Z",
     "shell.execute_reply.started": "2025-03-25T10:29:15.823552Z"
    },
    "tags": []
   },
   "outputs": [],
   "source": [
    "def classify_language(text):\n",
    "    # Define unique characters for various languages\n",
    "    language_symbols = {\n",
    "        'Arabic': set('ابتثجحخدذرزسشصضطظعغفقكلمنهوي'),\n",
    "        'Bulgarian': set('абвгдежзийклмнопрстуфхцчшщъьюя'),\n",
    "        'Danish': set('abcdefghijklmnopqrstuvwxyzæøå'),\n",
    "        'Dutch': set('abcdefghijklmnopqrstuvwxyz'),\n",
    "        'English': set('abcdefghijklmnopqrstuvwxyz'),\n",
    "        'French': set('abcdefghijklmnopqrstuvwxyzàâçéèêëîïôûùüÿœæ'),\n",
    "        'German': set('abcdefghijklmnopqrstuvwxyzäöüß'),\n",
    "        'Greek': set('αβγδεζηθικλμνξοπρστυφχψω'),\n",
    "        'Hindi': set('अआइईउऊऋऌएऐओऔकखगघङचछजझञटठडढणतथदधनपफबभमयरलवशषसह'),\n",
    "        'Italian': set('abcdefghijklmnopqrstuvwxyzàèéìíîòóùú'),\n",
    "        'Japanese': set('あいうえおかきくけこさしすせそたちつてとなにぬねのまみむめもやゆよらりるれろわをん'),\n",
    "        'Kannada': set('ಅಆಇಈಉಊಋಎಏಐಒಓಔಕಖಗಘಙಚಛಜಝಞಟಠಡಢಣತಥದಧನಪಫಬಭಮಯರಲವಶಷಸಹಳ'),\n",
    "        'Malayalam': set('അആഇഈഉഊഋഎഏഐഒഓഔകഖഗഘങചഛജഝഞടഠഡഢണതഥദധനപഫബഭമയരലവശഷസഹളഴറ'),\n",
    "        'Portuguese': set('abcdefghijklmnopqrstuvwxyzáàãâéêíóôõúç'),\n",
    "        'Russian': set('абвгдеёжзийклмнопрстуфхцчшщъыьэюя'),\n",
    "        'Spanish': set('abcdefghijklmnopqrstuvwxyzáéíñóúü'),\n",
    "        'Swedish': set('abcdefghijklmnopqrstuvwxyzåäö'),\n",
    "        'Tamil': set('அஆஇஈஉஊஎஏஐஒஓஔகஙசஞடணதநபமயரலவழளறன'),\n",
    "        'Turkish': set('abcdefghijklmnopqrstuvwxyzçğıöşü'),\n",
    "        'Urdu': set('ابتثجحخدذرزسشصضطظعغفقكلمنہويے'),\n",
    "        'Vietnamese': set('abcdefghijklmnopqrstuvwxyzăâđêôơưàáảãạầấẩẫậằắẳẵặèéẻẽẹềếểễệìíỉĩịòóỏõọồốổỗộờớởỡợùúủũụừứửữựỳýỷỹỵ'),\n",
    "        'Chinese': set('的一是在不了有和人这中大为上个国我以要他时来用们生到作地于出就分对成会可主发年动'),\n",
    "        'Thai': set('กขคฆงจฉชซฌญฎฏฐฑฒณดตถทธนบปผฝพฟภมยรลวศษสหฬอฮ'),\n",
    "        'Polish': set('abcdefghijklmnopqrstuvwxyząćęłńóśźż'),\n",
    "        'Swahili': set('abcdefghijklmnopqrstuvwxyz'),\n",
    "    }\n",
    "\n",
    "    text_set = set(text.lower())\n",
    "\n",
    "    scores = {}\n",
    "    for language, symbols in language_symbols.items():\n",
    "        common_symbols = text_set & symbols\n",
    "        scores[language] = len(common_symbols)\n",
    "\n",
    "    detected_language = max(scores, key=scores.get)\n",
    "\n",
    "    return detected_language if scores[detected_language] > 0 else 'Unknown'\n"
   ]
  },
  {
   "cell_type": "code",
   "execution_count": 36,
   "id": "1a1aed78-13c0-444f-a650-4c3d075ffae8",
   "metadata": {
    "execution": {
     "iopub.execute_input": "2025-03-25T10:29:24.758797Z",
     "iopub.status.busy": "2025-03-25T10:29:24.758557Z",
     "iopub.status.idle": "2025-03-25T10:29:24.776862Z",
     "shell.execute_reply": "2025-03-25T10:29:24.776404Z",
     "shell.execute_reply.started": "2025-03-25T10:29:24.758778Z"
    },
    "tags": []
   },
   "outputs": [
    {
     "data": {
      "text/plain": [
       "Counter({'Danish': 19690,\n",
       "         'French': 6462,\n",
       "         'German': 2782,\n",
       "         'Polish': 3099,\n",
       "         'Malayalam': 592,\n",
       "         'Hindi': 3521,\n",
       "         'Tamil': 469,\n",
       "         'Portuguese': 3921,\n",
       "         'Italian': 1779,\n",
       "         'Spanish': 730,\n",
       "         'Unknown': 12,\n",
       "         'Greek': 3854,\n",
       "         'Bulgarian': 4291,\n",
       "         'Russian': 3397,\n",
       "         'Vietnamese': 3492,\n",
       "         'Turkish': 3570,\n",
       "         'Swedish': 416,\n",
       "         'Arabic': 4158,\n",
       "         'Kannada': 369,\n",
       "         'Chinese': 3447,\n",
       "         'Thai': 3459,\n",
       "         'Urdu': 3335,\n",
       "         'Japanese': 3492})"
      ]
     },
     "execution_count": 36,
     "metadata": {},
     "output_type": "execute_result"
    }
   ],
   "source": [
    "Counter(pred_lang)"
   ]
  },
  {
   "cell_type": "markdown",
   "id": "c8b51002-c36f-4874-aae9-d0c66786db4d",
   "metadata": {},
   "source": [
    "Как мы видим, что английского вообще нету, потому что датский очень похож по символам на английский. Можно было бы сделать каое то домножение на апостореорную вероятность, но это уже не супер просто, надо подбирать + не факт что даст профит."
   ]
  },
  {
   "cell_type": "markdown",
   "id": "bdcdde1c-3889-4949-958b-47ee5c8759af",
   "metadata": {},
   "source": [
    "## Метрика качества и тестовый датасет"
   ]
  },
  {
   "cell_type": "code",
   "execution_count": 18,
   "id": "e204056f-bf49-4744-b1a2-c1120ac5d9c3",
   "metadata": {
    "execution": {
     "iopub.execute_input": "2025-03-25T17:16:22.493392Z",
     "iopub.status.busy": "2025-03-25T17:16:22.493076Z",
     "iopub.status.idle": "2025-03-25T17:16:22.515829Z",
     "shell.execute_reply": "2025-03-25T17:16:22.515251Z",
     "shell.execute_reply.started": "2025-03-25T17:16:22.493377Z"
    },
    "tags": []
   },
   "outputs": [],
   "source": [
    "from collections import Counter\n",
    "\n",
    "counts = Counter(all_data['lang'])\n",
    "labels, frequencies = zip(*counts.items())\n"
   ]
  },
  {
   "cell_type": "code",
   "execution_count": 19,
   "id": "ed51a16d-91c1-4f30-a065-d5e6580a639a",
   "metadata": {
    "execution": {
     "iopub.execute_input": "2025-03-25T17:16:24.349668Z",
     "iopub.status.busy": "2025-03-25T17:16:24.349260Z",
     "iopub.status.idle": "2025-03-25T17:16:25.032118Z",
     "shell.execute_reply": "2025-03-25T17:16:25.031222Z",
     "shell.execute_reply.started": "2025-03-25T17:16:24.349642Z"
    },
    "tags": []
   },
   "outputs": [
    {
     "data": {
      "image/png": "[encoded data removed]",
      "text/plain": [
       "<Figure size 640x480 with 1 Axes>"
      ]
     },
     "metadata": {},
     "output_type": "display_data"
    }
   ],
   "source": [
    "import matplotlib.pyplot as plt\n",
    "\n",
    "plt.bar(labels, frequencies)\n",
    "\n",
    "plt.xticks(rotation=45)\n",
    "plt.xlabel('Languages')\n",
    "plt.ylabel('Count')\n",
    "plt.title('Count of languages')\n",
    "\n",
    "plt.tight_layout()\n",
    "plt.show()"
   ]
  },
  {
   "cell_type": "markdown",
   "id": "bcbd1e1b-f8d2-4958-b038-6d69342b990e",
   "metadata": {},
   "source": [
    "### Метрика качества"
   ]
  },
  {
   "cell_type": "code",
   "execution_count": 5,
   "id": "6f839bd2-baec-411f-af91-fa6cf7eff465",
   "metadata": {
    "execution": {
     "iopub.execute_input": "2025-03-26T08:40:52.912684Z",
     "iopub.status.busy": "2025-03-26T08:40:52.912261Z",
     "iopub.status.idle": "2025-03-26T08:40:54.909560Z",
     "shell.execute_reply": "2025-03-26T08:40:54.908880Z",
     "shell.execute_reply.started": "2025-03-26T08:40:52.912644Z"
    },
    "tags": []
   },
   "outputs": [],
   "source": [
    "from sklearn.metrics import classification_report, accuracy_score, confusion_matrix\n",
    "from sklearn.metrics import f1_score"
   ]
  },
  {
   "cell_type": "code",
   "execution_count": 6,
   "id": "71cdf26a-ebc6-446a-9fc1-8a21a229dc28",
   "metadata": {
    "execution": {
     "iopub.execute_input": "2025-03-26T08:40:54.910836Z",
     "iopub.status.busy": "2025-03-26T08:40:54.910486Z",
     "iopub.status.idle": "2025-03-26T08:40:55.181857Z",
     "shell.execute_reply": "2025-03-26T08:40:55.181123Z",
     "shell.execute_reply.started": "2025-03-26T08:40:54.910794Z"
    },
    "tags": []
   },
   "outputs": [],
   "source": [
    "import seaborn as sns\n",
    "\n",
    "def evaluate_classification_model(y_true, y_pred, labels=None, plot=True):\n",
    "    acc = accuracy_score(y_true, y_pred)\n",
    "    f1 = f1_score(y_true, y_pred, average='weighted')\n",
    "    report = classification_report(y_true, y_pred, output_dict=True)\n",
    "    cm = confusion_matrix(y_true, y_pred, labels=labels)\n",
    "\n",
    "    if plot:\n",
    "        plt.figure(figsize=(8, 6))\n",
    "        sns.heatmap(cm, annot=True, fmt='d', cmap='Blues',\n",
    "                    xticklabels=labels, yticklabels=labels)\n",
    "        plt.title(\"Confusion Matrix\")\n",
    "        plt.xlabel(\"Predicted\")\n",
    "        plt.ylabel(\"Actual\")\n",
    "        plt.tight_layout()\n",
    "        plt.show()\n",
    "\n",
    "    return {\n",
    "        'accuracy': acc,\n",
    "        'f1_weighted': f1,\n",
    "        'classification_report': report,\n",
    "        'confusion_matrix': cm\n",
    "    }"
   ]
  },
  {
   "cell_type": "markdown",
   "id": "45b3a955-2f16-4801-9556-b39a6dbea182",
   "metadata": {},
   "source": [
    "Есть стандартные метрики для многоклассовой классификации:\n",
    "1. Accuracy\n",
    "2. По классовый Precision, Recall\n",
    "3. F1, Precision, Recall - micro, macro, weighted\n",
    "4. Confusion matrix\n",
    "\n",
    "Accuracy плохо подходит, так как мы видим у некоторых языков сильный дисбаланс классиов, хотя для многоклассовой это не так критично.\n",
    "\n",
    "Поскольку нас интересует как модель различает похожие языки, то можем использовать Confusion matrix, однако по ней сложно однозначно принять решение о выкатке в прод, например, посольку может легко возникунть ситуация когда на одних языках матрица стала лучше работать а на других хуже, но это решеие можно принять с помощью каких то продуктовых знаний. Например, c помощью продуктовых знаний и кворума о принятии решений.\n",
    "\n",
    "За основную примнимаем F1 weighted, так как это некий баланс между Precision и Recall, также учитвающие распределение классов. А остальные Accuracy, Precision, Precision, Confusion matrix за второстепенные"
   ]
  },
  {
   "cell_type": "markdown",
   "id": "1ab1083f-99c6-44c8-89c3-56750961c8d4",
   "metadata": {},
   "source": [
    "## Подготовка к обучению "
   ]
  },
  {
   "cell_type": "markdown",
   "id": "e0a26c20-4b46-40e6-acaf-8036e34bf374",
   "metadata": {},
   "source": [
    "## Предобработать данные"
   ]
  },
  {
   "cell_type": "markdown",
   "id": "efbba3eb-2570-4762-b8ca-45f34c2ba9ad",
   "metadata": {},
   "source": [
    "Удаляем дубликаты, тем самым спасаемся от лика в тесте"
   ]
  },
  {
   "cell_type": "code",
   "execution_count": 22,
   "id": "75a30f74-3319-4a7c-b0ee-bf994880789d",
   "metadata": {
    "execution": {
     "iopub.execute_input": "2025-03-25T17:16:39.792643Z",
     "iopub.status.busy": "2025-03-25T17:16:39.792264Z",
     "iopub.status.idle": "2025-03-25T17:16:39.803821Z",
     "shell.execute_reply": "2025-03-25T17:16:39.803253Z",
     "shell.execute_reply.started": "2025-03-25T17:16:39.792623Z"
    },
    "tags": []
   },
   "outputs": [
    {
     "data": {
      "text/plain": [
       "'Full len: 79111'"
      ]
     },
     "execution_count": 22,
     "metadata": {},
     "output_type": "execute_result"
    }
   ],
   "source": [
    "f\"Full len: {all_data.shape[0]}\""
   ]
  },
  {
   "cell_type": "code",
   "execution_count": 23,
   "id": "ebf807f0-3ad3-489e-8696-ee41ae412a43",
   "metadata": {
    "execution": {
     "iopub.execute_input": "2025-03-25T17:16:40.833813Z",
     "iopub.status.busy": "2025-03-25T17:16:40.833399Z",
     "iopub.status.idle": "2025-03-25T17:16:40.856711Z",
     "shell.execute_reply": "2025-03-25T17:16:40.856135Z",
     "shell.execute_reply.started": "2025-03-25T17:16:40.833787Z"
    },
    "tags": []
   },
   "outputs": [
    {
     "data": {
      "text/plain": [
       "'After duplicates len: 77188'"
      ]
     },
     "execution_count": 23,
     "metadata": {},
     "output_type": "execute_result"
    }
   ],
   "source": [
    "f\"After duplicates len: {all_data['text'].drop_duplicates().shape[0]}\""
   ]
  },
  {
   "cell_type": "markdown",
   "id": "1fda66e2-3ed5-4414-932e-6183cbd44d2a",
   "metadata": {
    "tags": []
   },
   "source": [
    "### Вычищаем датасет"
   ]
  },
  {
   "cell_type": "markdown",
   "id": "25a0dd01-d957-44be-b13f-5396ff09d713",
   "metadata": {},
   "source": [
    "Пропуски есть"
   ]
  },
  {
   "cell_type": "code",
   "execution_count": 24,
   "id": "17c7d554-676a-44f0-928d-80bf3318d07a",
   "metadata": {
    "execution": {
     "iopub.execute_input": "2025-03-25T17:16:44.990912Z",
     "iopub.status.busy": "2025-03-25T17:16:44.990498Z",
     "iopub.status.idle": "2025-03-25T17:16:45.047430Z",
     "shell.execute_reply": "2025-03-25T17:16:45.046713Z",
     "shell.execute_reply.started": "2025-03-25T17:16:44.990895Z"
    },
    "tags": []
   },
   "outputs": [
    {
     "data": {
      "text/html": [
       "<div>\n",
       "<style scoped>\n",
       "    .dataframe tbody tr th:only-of-type {\n",
       "        vertical-align: middle;\n",
       "    }\n",
       "\n",
       "    .dataframe tbody tr th {\n",
       "        vertical-align: top;\n",
       "    }\n",
       "\n",
       "    .dataframe thead th {\n",
       "        text-align: right;\n",
       "    }\n",
       "</style>\n",
       "<table border=\"1\" class=\"dataframe\">\n",
       "  <thead>\n",
       "    <tr style=\"text-align: right;\">\n",
       "      <th></th>\n",
       "      <th>text</th>\n",
       "      <th>lang</th>\n",
       "    </tr>\n",
       "  </thead>\n",
       "  <tbody>\n",
       "    <tr>\n",
       "      <th>298</th>\n",
       "      <td>None</td>\n",
       "      <td>aeb</td>\n",
       "    </tr>\n",
       "    <tr>\n",
       "      <th>300</th>\n",
       "      <td>None</td>\n",
       "      <td>aeb</td>\n",
       "    </tr>\n",
       "    <tr>\n",
       "      <th>302</th>\n",
       "      <td>None</td>\n",
       "      <td>aeb</td>\n",
       "    </tr>\n",
       "    <tr>\n",
       "      <th>304</th>\n",
       "      <td>None</td>\n",
       "      <td>aeb</td>\n",
       "    </tr>\n",
       "    <tr>\n",
       "      <th>306</th>\n",
       "      <td>None</td>\n",
       "      <td>aeb</td>\n",
       "    </tr>\n",
       "    <tr>\n",
       "      <th>...</th>\n",
       "      <td>...</td>\n",
       "      <td>...</td>\n",
       "    </tr>\n",
       "    <tr>\n",
       "      <th>78903</th>\n",
       "      <td>None</td>\n",
       "      <td>zu</td>\n",
       "    </tr>\n",
       "    <tr>\n",
       "      <th>78907</th>\n",
       "      <td>None</td>\n",
       "      <td>zu</td>\n",
       "    </tr>\n",
       "    <tr>\n",
       "      <th>78910</th>\n",
       "      <td>None</td>\n",
       "      <td>zu</td>\n",
       "    </tr>\n",
       "    <tr>\n",
       "      <th>78978</th>\n",
       "      <td>None</td>\n",
       "      <td>zu</td>\n",
       "    </tr>\n",
       "    <tr>\n",
       "      <th>79097</th>\n",
       "      <td>None</td>\n",
       "      <td>zu</td>\n",
       "    </tr>\n",
       "  </tbody>\n",
       "</table>\n",
       "<p>385 rows × 2 columns</p>\n",
       "</div>"
      ],
      "text/plain": [
       "       text lang\n",
       "298    None  aeb\n",
       "300    None  aeb\n",
       "302    None  aeb\n",
       "304    None  aeb\n",
       "306    None  aeb\n",
       "...     ...  ...\n",
       "78903  None   zu\n",
       "78907  None   zu\n",
       "78910  None   zu\n",
       "78978  None   zu\n",
       "79097  None   zu\n",
       "\n",
       "[385 rows x 2 columns]"
      ]
     },
     "execution_count": 24,
     "metadata": {},
     "output_type": "execute_result"
    }
   ],
   "source": [
    "all_data[pd.isna(all_data['text'])]"
   ]
  },
  {
   "cell_type": "code",
   "execution_count": 25,
   "id": "433f3a8d-7ef9-4c5e-ac2c-5b37069b3a32",
   "metadata": {
    "execution": {
     "iopub.execute_input": "2025-03-25T17:17:18.060025Z",
     "iopub.status.busy": "2025-03-25T17:17:18.059723Z",
     "iopub.status.idle": "2025-03-25T17:17:18.082476Z",
     "shell.execute_reply": "2025-03-25T17:17:18.081831Z",
     "shell.execute_reply.started": "2025-03-25T17:17:18.060008Z"
    }
   },
   "outputs": [],
   "source": [
    "all_data = all_data[~pd.isna(all_data['text'])]"
   ]
  },
  {
   "cell_type": "code",
   "execution_count": 26,
   "id": "64d36ed1-9d84-4f63-bd50-fe3de0d0c28c",
   "metadata": {
    "execution": {
     "iopub.execute_input": "2025-03-25T17:17:20.181933Z",
     "iopub.status.busy": "2025-03-25T17:17:20.181516Z",
     "iopub.status.idle": "2025-03-25T17:17:20.194622Z",
     "shell.execute_reply": "2025-03-25T17:17:20.194042Z",
     "shell.execute_reply.started": "2025-03-25T17:17:20.181907Z"
    },
    "tags": []
   },
   "outputs": [
    {
     "data": {
      "text/html": [
       "<div>\n",
       "<style scoped>\n",
       "    .dataframe tbody tr th:only-of-type {\n",
       "        vertical-align: middle;\n",
       "    }\n",
       "\n",
       "    .dataframe tbody tr th {\n",
       "        vertical-align: top;\n",
       "    }\n",
       "\n",
       "    .dataframe thead th {\n",
       "        text-align: right;\n",
       "    }\n",
       "</style>\n",
       "<table border=\"1\" class=\"dataframe\">\n",
       "  <thead>\n",
       "    <tr style=\"text-align: right;\">\n",
       "      <th></th>\n",
       "      <th>text</th>\n",
       "      <th>lang</th>\n",
       "    </tr>\n",
       "  </thead>\n",
       "  <tbody>\n",
       "  </tbody>\n",
       "</table>\n",
       "</div>"
      ],
      "text/plain": [
       "Empty DataFrame\n",
       "Columns: [text, lang]\n",
       "Index: []"
      ]
     },
     "execution_count": 26,
     "metadata": {},
     "output_type": "execute_result"
    }
   ],
   "source": [
    "all_data[pd.isna(all_data['lang'])]"
   ]
  },
  {
   "cell_type": "markdown",
   "id": "2f179a97-905e-4d5a-9524-467ac017e555",
   "metadata": {},
   "source": [
    "Вычищаем примеры где больше 30% цифр, поскольку это может добавлять шум"
   ]
  },
  {
   "cell_type": "code",
   "execution_count": 27,
   "id": "33802a75-0f83-44ba-b057-bddc779c4412",
   "metadata": {
    "execution": {
     "iopub.execute_input": "2025-03-25T17:17:25.521635Z",
     "iopub.status.busy": "2025-03-25T17:17:25.521333Z",
     "iopub.status.idle": "2025-03-25T17:17:25.996669Z",
     "shell.execute_reply": "2025-03-25T17:17:25.996161Z",
     "shell.execute_reply.started": "2025-03-25T17:17:25.521619Z"
    },
    "tags": []
   },
   "outputs": [
    {
     "data": {
      "text/html": [
       "<div>\n",
       "<style scoped>\n",
       "    .dataframe tbody tr th:only-of-type {\n",
       "        vertical-align: middle;\n",
       "    }\n",
       "\n",
       "    .dataframe tbody tr th {\n",
       "        vertical-align: top;\n",
       "    }\n",
       "\n",
       "    .dataframe thead th {\n",
       "        text-align: right;\n",
       "    }\n",
       "</style>\n",
       "<table border=\"1\" class=\"dataframe\">\n",
       "  <thead>\n",
       "    <tr style=\"text-align: right;\">\n",
       "      <th></th>\n",
       "      <th>text</th>\n",
       "      <th>lang</th>\n",
       "    </tr>\n",
       "  </thead>\n",
       "  <tbody>\n",
       "    <tr>\n",
       "      <th>21528</th>\n",
       "      <td>મારો ફોન નમબર ૦૩૩૩૪૨૬૫૮૭ છે.</td>\n",
       "      <td>gu</td>\n",
       "    </tr>\n",
       "    <tr>\n",
       "      <th>48594</th>\n",
       "      <td>Enamba y’esimu yange\\n0752-342658.</td>\n",
       "      <td>nuj</td>\n",
       "    </tr>\n",
       "    <tr>\n",
       "      <th>50983</th>\n",
       "      <td>Lakkofsi bilbilaakoo\\n033-3426587.</td>\n",
       "      <td>om</td>\n",
       "    </tr>\n",
       "    <tr>\n",
       "      <th>75898</th>\n",
       "      <td>我電話號碼係(033) 342-6587。</td>\n",
       "      <td>yue</td>\n",
       "    </tr>\n",
       "    <tr>\n",
       "      <th>76852</th>\n",
       "      <td>我的电话号码是(033) 342-6587。</td>\n",
       "      <td>zh</td>\n",
       "    </tr>\n",
       "    <tr>\n",
       "      <th>77533</th>\n",
       "      <td>我的電話號碼是(033) 342-6587。</td>\n",
       "      <td>zh-pinyin</td>\n",
       "    </tr>\n",
       "  </tbody>\n",
       "</table>\n",
       "</div>"
      ],
      "text/plain": [
       "                                     text       lang\n",
       "21528        મારો ફોન નમબર ૦૩૩૩૪૨૬૫૮૭ છે.         gu\n",
       "48594  Enamba y’esimu yange\\n0752-342658.        nuj\n",
       "50983  Lakkofsi bilbilaakoo\\n033-3426587.         om\n",
       "75898               我電話號碼係(033) 342-6587。        yue\n",
       "76852              我的电话号码是(033) 342-6587。         zh\n",
       "77533              我的電話號碼是(033) 342-6587。  zh-pinyin"
      ]
     },
     "execution_count": 27,
     "metadata": {},
     "output_type": "execute_result"
    }
   ],
   "source": [
    "def more_than_30_percent_digits(s):\n",
    "    if not s:\n",
    "        return False\n",
    "    total = len(s)\n",
    "    digit_count = sum(c.isdigit() for c in s)\n",
    "    return (digit_count / total) > 0.3\n",
    "\n",
    "def less_than_30_percent_digits(s):\n",
    "    if not s:\n",
    "        return False\n",
    "    total = len(s)\n",
    "    digit_count = sum(c.isdigit() for c in s)\n",
    "    return (digit_count / total) < 0.3\n",
    "\n",
    "all_data[all_data['text'].apply(more_than_30_percent_digits)]"
   ]
  },
  {
   "cell_type": "code",
   "execution_count": 28,
   "id": "6508146d-fd4d-48ac-80d2-16cdac22abd3",
   "metadata": {
    "execution": {
     "iopub.execute_input": "2025-03-25T17:17:33.778846Z",
     "iopub.status.busy": "2025-03-25T17:17:33.778471Z",
     "iopub.status.idle": "2025-03-25T17:17:34.279197Z",
     "shell.execute_reply": "2025-03-25T17:17:34.278625Z",
     "shell.execute_reply.started": "2025-03-25T17:17:33.778824Z"
    },
    "tags": []
   },
   "outputs": [],
   "source": [
    "all_data = all_data[all_data['text'].apply(less_than_30_percent_digits)]\n"
   ]
  },
  {
   "cell_type": "markdown",
   "id": "2f2f1d85-9182-4f11-82f5-1f856b762152",
   "metadata": {},
   "source": [
    "Вычищаем слова меньше 5 символов"
   ]
  },
  {
   "cell_type": "code",
   "execution_count": 29,
   "id": "24479397-5ee6-45e7-8fa1-4eb1f6b0dbe2",
   "metadata": {
    "execution": {
     "iopub.execute_input": "2025-03-25T17:17:37.649979Z",
     "iopub.status.busy": "2025-03-25T17:17:37.649142Z",
     "iopub.status.idle": "2025-03-25T17:17:39.281127Z",
     "shell.execute_reply": "2025-03-25T17:17:39.280513Z",
     "shell.execute_reply.started": "2025-03-25T17:17:37.649962Z"
    },
    "tags": []
   },
   "outputs": [],
   "source": [
    "from transformers import M2M100ForConditionalGeneration, M2M100Tokenizer\n",
    "import pandas as pd"
   ]
  },
  {
   "cell_type": "code",
   "execution_count": 30,
   "id": "5f502e53-46e8-4cd8-b6b2-527a88baa5f6",
   "metadata": {
    "execution": {
     "iopub.execute_input": "2025-03-25T17:17:39.282695Z",
     "iopub.status.busy": "2025-03-25T17:17:39.281979Z",
     "iopub.status.idle": "2025-03-25T17:17:39.321135Z",
     "shell.execute_reply": "2025-03-25T17:17:39.320544Z",
     "shell.execute_reply.started": "2025-03-25T17:17:39.282673Z"
    },
    "tags": []
   },
   "outputs": [],
   "source": [
    "all_data = all_data[all_data['text'].str.len() >= 5]"
   ]
  },
  {
   "cell_type": "markdown",
   "id": "1ff3533f-ec38-4bcd-919e-0a25a0aaa980",
   "metadata": {
    "tags": []
   },
   "source": [
    "### Разбиение датасета на обучающий и тестовый"
   ]
  },
  {
   "cell_type": "markdown",
   "id": "d1ea4563-37c8-4e05-be52-64fbc501cac8",
   "metadata": {},
   "source": [
    "Вообще хорошо бы разбить еще на val датасет, но сделаем как описано в задании\n",
    "\n",
    "Сделаем stratified разбиение, посольку некоторые языки не сблансированы"
   ]
  },
  {
   "cell_type": "code",
   "execution_count": 42,
   "id": "e5199b92-7497-4734-bf82-9f7c4e4d25cd",
   "metadata": {
    "execution": {
     "iopub.execute_input": "2025-03-25T19:49:42.017559Z",
     "iopub.status.busy": "2025-03-25T19:49:42.017214Z",
     "iopub.status.idle": "2025-03-25T19:49:42.028328Z",
     "shell.execute_reply": "2025-03-25T19:49:42.027721Z",
     "shell.execute_reply.started": "2025-03-25T19:49:42.017541Z"
    },
    "tags": []
   },
   "outputs": [
    {
     "data": {
      "text/plain": [
       "(7854, 4)"
      ]
     },
     "execution_count": 42,
     "metadata": {},
     "output_type": "execute_result"
    }
   ],
   "source": [
    "data_test.shape"
   ]
  },
  {
   "cell_type": "code",
   "execution_count": 31,
   "id": "0d7f845c-1859-494b-b969-32955f6bd639",
   "metadata": {
    "execution": {
     "iopub.execute_input": "2025-03-25T17:17:45.512985Z",
     "iopub.status.busy": "2025-03-25T17:17:45.512088Z",
     "iopub.status.idle": "2025-03-25T17:17:45.579874Z",
     "shell.execute_reply": "2025-03-25T17:17:45.579244Z",
     "shell.execute_reply.started": "2025-03-25T17:17:45.512962Z"
    },
    "tags": []
   },
   "outputs": [],
   "source": [
    "from sklearn.model_selection import train_test_split\n",
    "\n",
    "data_train, data_test = train_test_split(\n",
    "    all_data, test_size=0.1, random_state=29, stratify=all_data['lang']\n",
    ")"
   ]
  },
  {
   "cell_type": "code",
   "execution_count": 32,
   "id": "0c123eec-927c-4801-9a3c-248cc9bb8dd7",
   "metadata": {
    "execution": {
     "iopub.execute_input": "2025-03-25T17:17:47.337067Z",
     "iopub.status.busy": "2025-03-25T17:17:47.336457Z",
     "iopub.status.idle": "2025-03-25T17:17:48.025393Z",
     "shell.execute_reply": "2025-03-25T17:17:48.024782Z",
     "shell.execute_reply.started": "2025-03-25T17:17:47.337042Z"
    },
    "tags": []
   },
   "outputs": [
    {
     "data": {
      "image/png": "[encoded data removed]",
      "text/plain": [
       "<Figure size 640x480 with 1 Axes>"
      ]
     },
     "metadata": {},
     "output_type": "display_data"
    }
   ],
   "source": [
    "counts = Counter(data_train['lang'])\n",
    "labels, frequencies = zip(*counts.items())\n",
    "\n",
    "plt.bar(labels, frequencies)\n",
    "\n",
    "plt.xticks(rotation=45)\n",
    "plt.xlabel('Languages')\n",
    "plt.ylabel('Count')\n",
    "plt.title('Count of languages')\n",
    "\n",
    "plt.tight_layout()\n",
    "plt.show()"
   ]
  },
  {
   "cell_type": "code",
   "execution_count": 33,
   "id": "57ed3267-c5b1-479a-9c2d-162ab5653b27",
   "metadata": {
    "execution": {
     "iopub.execute_input": "2025-03-25T17:17:51.411178Z",
     "iopub.status.busy": "2025-03-25T17:17:51.410608Z",
     "iopub.status.idle": "2025-03-25T17:17:52.076537Z",
     "shell.execute_reply": "2025-03-25T17:17:52.075903Z",
     "shell.execute_reply.started": "2025-03-25T17:17:51.411161Z"
    },
    "tags": []
   },
   "outputs": [
    {
     "data": {
      "image/png": "[encoded data removed]",
      "text/plain": [
       "<Figure size 640x480 with 1 Axes>"
      ]
     },
     "metadata": {},
     "output_type": "display_data"
    }
   ],
   "source": [
    "counts = Counter(data_test['lang'])\n",
    "labels, frequencies = zip(*counts.items())\n",
    "\n",
    "plt.bar(labels, frequencies)\n",
    "\n",
    "plt.xticks(rotation=45)\n",
    "plt.xlabel('Languages')\n",
    "plt.ylabel('Count')\n",
    "plt.title('Count of languages')\n",
    "\n",
    "plt.tight_layout()\n",
    "plt.show()"
   ]
  },
  {
   "cell_type": "markdown",
   "id": "b1d18fd0-e024-40df-9895-e4d04da74d7d",
   "metadata": {},
   "source": [
    "### Аугментация"
   ]
  },
  {
   "cell_type": "markdown",
   "id": "e84a625e-9742-430d-8e1b-b2baf202836d",
   "metadata": {},
   "source": [
    "Меняем слова местами"
   ]
  },
  {
   "cell_type": "code",
   "execution_count": 39,
   "id": "17bc3c18-5695-4c63-9827-5254da756406",
   "metadata": {
    "execution": {
     "iopub.execute_input": "2025-03-25T17:18:53.154961Z",
     "iopub.status.busy": "2025-03-25T17:18:53.154506Z",
     "iopub.status.idle": "2025-03-25T17:18:53.174281Z",
     "shell.execute_reply": "2025-03-25T17:18:53.173813Z",
     "shell.execute_reply.started": "2025-03-25T17:18:53.154939Z"
    },
    "tags": []
   },
   "outputs": [],
   "source": [
    "import random\n",
    "\n",
    "def random_swap(text, n_swaps=1):\n",
    "    words = text.split()\n",
    "    if len(words) < 2:\n",
    "        return text\n",
    "    for _ in range(n_swaps):\n",
    "        idx1, idx2 = random.sample(range(len(words)), 2)\n",
    "        words[idx1], words[idx2] = words[idx2], words[idx1]\n",
    "    return ' '.join(words)"
   ]
  },
  {
   "cell_type": "code",
   "execution_count": 40,
   "id": "a583f015-71a8-4e29-8e6e-3238cc6ec200",
   "metadata": {
    "execution": {
     "iopub.execute_input": "2025-03-25T17:18:54.082097Z",
     "iopub.status.busy": "2025-03-25T17:18:54.081830Z",
     "iopub.status.idle": "2025-03-25T17:18:54.137740Z",
     "shell.execute_reply": "2025-03-25T17:18:54.136830Z",
     "shell.execute_reply.started": "2025-03-25T17:18:54.082083Z"
    },
    "tags": []
   },
   "outputs": [],
   "source": [
    "sample_frac = 0.1\n",
    "n_swaps = 2\n",
    "\n",
    "swap_df = data_train.sample(frac=sample_frac, random_state=29)\n",
    "swap_df['text'] = swap_df['text'].apply(lambda x: random_swap(x, n_swaps=n_swaps))\n"
   ]
  },
  {
   "cell_type": "markdown",
   "id": "6f89c9f5-9ec7-493b-832a-d4e9af57c31c",
   "metadata": {},
   "source": [
    "Для нашей задачи отлично подходит аугментация перевода на другой язык и обратно"
   ]
  },
  {
   "cell_type": "code",
   "execution_count": 195,
   "id": "580cdde5-79c7-40c2-80e3-126bde5c5ff4",
   "metadata": {
    "execution": {
     "iopub.execute_input": "2025-03-25T16:27:15.449627Z",
     "iopub.status.busy": "2025-03-25T16:27:15.448811Z",
     "iopub.status.idle": "2025-03-25T16:27:32.052243Z",
     "shell.execute_reply": "2025-03-25T16:27:32.051640Z",
     "shell.execute_reply.started": "2025-03-25T16:27:15.449611Z"
    },
    "tags": []
   },
   "outputs": [],
   "source": [
    "model_name = \"facebook/m2m100_418M\"\n",
    "tokenizer = M2M100Tokenizer.from_pretrained(model_name)\n",
    "model = M2M100ForConditionalGeneration.from_pretrained(model_name)\n",
    "\n",
    "model = model.to('cuda')"
   ]
  },
  {
   "cell_type": "code",
   "execution_count": 196,
   "id": "362489ad-65e5-449b-8f0b-953ffb154dd8",
   "metadata": {
    "execution": {
     "iopub.execute_input": "2025-03-25T16:27:32.053774Z",
     "iopub.status.busy": "2025-03-25T16:27:32.053138Z",
     "iopub.status.idle": "2025-03-25T16:27:32.066056Z",
     "shell.execute_reply": "2025-03-25T16:27:32.065555Z",
     "shell.execute_reply.started": "2025-03-25T16:27:32.053757Z"
    },
    "tags": []
   },
   "outputs": [],
   "source": [
    "from tqdm import tqdm\n",
    "\n",
    "def translate_text(texts, src_lang, tgt_lang, batch_size=16):\n",
    "    results = []\n",
    "    tokenizer.src_lang = src_lang\n",
    "\n",
    "    for i in tqdm(range(0, len(texts), batch_size)):\n",
    "        batch_texts = texts[i:i + batch_size]\n",
    "\n",
    "        encoded = tokenizer(batch_texts, return_tensors=\"pt\", padding=True, truncation=True, max_length=512).to('cuda')\n",
    "\n",
    "        generated = model.generate(\n",
    "            **encoded,\n",
    "            forced_bos_token_id=tokenizer.get_lang_id(tgt_lang)\n",
    "        )\n",
    "\n",
    "        decoded = tokenizer.batch_decode(generated, skip_special_tokens=True)\n",
    "        results.extend(decoded)\n",
    "\n",
    "    return results"
   ]
  },
  {
   "cell_type": "code",
   "execution_count": 197,
   "id": "e23a9c09-039c-4d3e-a5ae-0ca9f3bc9d7a",
   "metadata": {
    "execution": {
     "iopub.execute_input": "2025-03-25T16:27:32.066774Z",
     "iopub.status.busy": "2025-03-25T16:27:32.066560Z",
     "iopub.status.idle": "2025-03-25T16:27:32.109331Z",
     "shell.execute_reply": "2025-03-25T16:27:32.108826Z",
     "shell.execute_reply.started": "2025-03-25T16:27:32.066762Z"
    },
    "tags": []
   },
   "outputs": [],
   "source": [
    "sample_frac = 0.1\n",
    "\n",
    "translate_df = data_train.sample(frac=sample_frac, random_state=29)\n",
    "\n",
    "supported_langs = list(np.unique(all_data['lang'].values))"
   ]
  },
  {
   "cell_type": "code",
   "execution_count": 198,
   "id": "b46f05f8-2df5-4c02-bf7f-ee0968d47bf5",
   "metadata": {
    "execution": {
     "iopub.execute_input": "2025-03-25T16:27:32.110495Z",
     "iopub.status.busy": "2025-03-25T16:27:32.110141Z",
     "iopub.status.idle": "2025-03-25T16:57:18.628218Z",
     "shell.execute_reply": "2025-03-25T16:57:18.627544Z",
     "shell.execute_reply.started": "2025-03-25T16:27:32.110482Z"
    },
    "tags": []
   },
   "outputs": [
    {
     "name": "stderr",
     "output_type": "stream",
     "text": [
      "100%|██████████| 21/21 [00:33<00:00,  1.57s/it]\n",
      "100%|██████████| 21/21 [00:32<00:00,  1.56s/it]\n",
      "100%|██████████| 19/19 [00:47<00:00,  2.51s/it]\n",
      "100%|██████████| 19/19 [00:38<00:00,  2.03s/it]\n",
      "100%|██████████| 21/21 [00:16<00:00,  1.28it/s]\n",
      "100%|██████████| 21/21 [00:17<00:00,  1.18it/s]\n",
      "100%|██████████| 19/19 [00:30<00:00,  1.60s/it]\n",
      "100%|██████████| 19/19 [00:38<00:00,  2.05s/it]\n",
      "100%|██████████| 3/3 [00:04<00:00,  1.50s/it]\n",
      "100%|██████████| 3/3 [00:03<00:00,  1.33s/it]\n",
      "100%|██████████| 22/22 [00:33<00:00,  1.50s/it]\n",
      "100%|██████████| 22/22 [00:31<00:00,  1.43s/it]\n",
      "100%|██████████| 26/26 [00:41<00:00,  1.61s/it]\n",
      "100%|██████████| 26/26 [00:38<00:00,  1.49s/it]\n",
      "100%|██████████| 24/24 [01:10<00:00,  2.94s/it]\n",
      "100%|██████████| 24/24 [01:04<00:00,  2.67s/it]\n",
      "100%|██████████| 18/18 [00:36<00:00,  2.01s/it]\n",
      "100%|██████████| 18/18 [00:28<00:00,  1.59s/it]\n",
      "100%|██████████| 26/26 [01:24<00:00,  3.25s/it]\n",
      "100%|██████████| 26/26 [01:11<00:00,  2.76s/it]\n",
      "100%|██████████| 4/4 [00:05<00:00,  1.29s/it]\n",
      "100%|██████████| 4/4 [00:07<00:00,  1.85s/it]\n",
      "100%|██████████| 20/20 [00:57<00:00,  2.89s/it]\n",
      "100%|██████████| 20/20 [01:03<00:00,  3.16s/it]\n",
      "100%|██████████| 4/4 [00:09<00:00,  2.35s/it]\n",
      "100%|██████████| 4/4 [00:07<00:00,  1.86s/it]\n",
      "100%|██████████| 27/27 [01:07<00:00,  2.51s/it]\n",
      "100%|██████████| 27/27 [01:07<00:00,  2.51s/it]\n",
      "100%|██████████| 25/25 [00:53<00:00,  2.15s/it]\n",
      "100%|██████████| 25/25 [00:49<00:00,  1.97s/it]\n",
      "100%|██████████| 3/3 [00:07<00:00,  2.35s/it]\n",
      "100%|██████████| 3/3 [00:06<00:00,  2.33s/it]\n",
      "100%|██████████| 19/19 [00:37<00:00,  1.99s/it]\n",
      "100%|██████████| 19/19 [00:36<00:00,  1.93s/it]\n",
      "100%|██████████| 24/24 [00:33<00:00,  1.38s/it]\n",
      "100%|██████████| 24/24 [00:35<00:00,  1.48s/it]\n",
      "100%|██████████| 21/21 [01:17<00:00,  3.69s/it]\n",
      "100%|██████████| 21/21 [01:19<00:00,  3.76s/it]\n",
      "100%|██████████| 3/3 [00:05<00:00,  1.92s/it]\n",
      "100%|██████████| 3/3 [00:06<00:00,  2.26s/it]\n",
      "100%|██████████| 19/19 [00:32<00:00,  1.69s/it]\n",
      "100%|██████████| 19/19 [00:28<00:00,  1.51s/it]\n",
      "100%|██████████| 26/26 [00:28<00:00,  1.10s/it]\n",
      "100%|██████████| 26/26 [00:26<00:00,  1.02s/it]\n",
      "100%|██████████| 24/24 [00:30<00:00,  1.25s/it]\n",
      "100%|██████████| 24/24 [00:26<00:00,  1.09s/it]\n",
      "100%|██████████| 24/24 [00:26<00:00,  1.10s/it]\n",
      "100%|██████████| 24/24 [00:25<00:00,  1.05s/it]\n",
      "100%|██████████| 23/23 [00:38<00:00,  1.68s/it]\n",
      "100%|██████████| 23/23 [00:43<00:00,  1.91s/it]\n"
     ]
    }
   ],
   "source": [
    "texts = translate_df['text'].tolist()\n",
    "langs = translate_df['lang'].tolist()\n",
    "\n",
    "augmented_rows = []\n",
    "for src_lang in set(langs):\n",
    "    subset = translate_df[translate_df['lang'] == src_lang]\n",
    "    texts_subset = subset['text'].tolist()\n",
    "    \n",
    "    possible_targets = list(set(supported_langs) - {src_lang})\n",
    "    tgt_lang = random.choice(possible_targets)\n",
    "\n",
    "    translated = translate_text(texts_subset, src_lang, tgt_lang)\n",
    "    back_translated = translate_text(translated, tgt_lang, src_lang)\n",
    "\n",
    "    for original_row, bt_text in zip(subset.itertuples(), back_translated):\n",
    "        augmented_rows.append({'text': bt_text, 'lang': src_lang})\n",
    "    \n",
    "translate_df = pd.DataFrame(augmented_rows)"
   ]
  },
  {
   "cell_type": "code",
   "execution_count": 43,
   "id": "4fd456fa-4b16-4246-b3a1-9762bdd4f5cd",
   "metadata": {
    "execution": {
     "iopub.execute_input": "2025-03-25T17:20:05.467574Z",
     "iopub.status.busy": "2025-03-25T17:20:05.467121Z",
     "iopub.status.idle": "2025-03-25T17:20:05.547580Z",
     "shell.execute_reply": "2025-03-25T17:20:05.546967Z",
     "shell.execute_reply.started": "2025-03-25T17:20:05.467557Z"
    },
    "tags": []
   },
   "outputs": [],
   "source": [
    "data_train = pd.concat([data_train, swap_df, translate_df], ignore_index=True)"
   ]
  },
  {
   "cell_type": "code",
   "execution_count": 44,
   "id": "5a0b0e5c-c21b-4bb0-9e4f-79732fcf0bd7",
   "metadata": {
    "execution": {
     "iopub.execute_input": "2025-03-25T17:20:09.033074Z",
     "iopub.status.busy": "2025-03-25T17:20:09.032580Z",
     "iopub.status.idle": "2025-03-25T17:20:09.347405Z",
     "shell.execute_reply": "2025-03-25T17:20:09.346833Z",
     "shell.execute_reply.started": "2025-03-25T17:20:09.033056Z"
    },
    "tags": []
   },
   "outputs": [],
   "source": [
    "data_train.to_csv('train_data.csv', index=None)"
   ]
  },
  {
   "cell_type": "code",
   "execution_count": 76,
   "id": "cff5155c-d92d-4390-8915-f031c8036344",
   "metadata": {
    "execution": {
     "iopub.execute_input": "2025-03-25T17:58:53.104498Z",
     "iopub.status.busy": "2025-03-25T17:58:53.104084Z",
     "iopub.status.idle": "2025-03-25T17:58:53.161394Z",
     "shell.execute_reply": "2025-03-25T17:58:53.160765Z",
     "shell.execute_reply.started": "2025-03-25T17:58:53.104481Z"
    }
   },
   "outputs": [],
   "source": [
    "data_test.to_csv('test_data.csv', index=None)"
   ]
  },
  {
   "cell_type": "code",
   "execution_count": 4,
   "id": "fa7652fc-62d6-4621-9f51-04ca2ce550d3",
   "metadata": {
    "execution": {
     "iopub.execute_input": "2025-03-26T09:02:15.298144Z",
     "iopub.status.busy": "2025-03-26T09:02:15.297702Z",
     "iopub.status.idle": "2025-03-26T09:02:15.542763Z",
     "shell.execute_reply": "2025-03-26T09:02:15.541972Z",
     "shell.execute_reply.started": "2025-03-26T09:02:15.298122Z"
    },
    "tags": []
   },
   "outputs": [],
   "source": [
    "data_train = pd.read_csv('train_data.csv')\n",
    "data_test = pd.read_csv('test_data.csv')"
   ]
  },
  {
   "cell_type": "markdown",
   "id": "6f869a49-2a5b-4ba3-97c6-1098e22f5590",
   "metadata": {},
   "source": [
    "## Baseline"
   ]
  },
  {
   "cell_type": "markdown",
   "id": "6bfe4eee-6ad1-4192-a7d7-495658a9c94a",
   "metadata": {},
   "source": [
    "Для бейзлайна выберес обычную линейную модель: Логистическую классификацию над bag of chars\n",
    "\n",
    "То есть мы будем векторизовать не слова а символы или несколько подряд идущих символов, поскольку нам не обязательно понимать все слова целиком а только часть (например буквы специфичные буквы для этого языка). И также если попадутся новые слова мы их разберем и сможем применить модель. "
   ]
  },
  {
   "cell_type": "code",
   "execution_count": 45,
   "id": "30c84fa1-dc43-497c-9fdb-18cc8c745705",
   "metadata": {
    "execution": {
     "iopub.execute_input": "2025-03-25T17:20:11.504461Z",
     "iopub.status.busy": "2025-03-25T17:20:11.503633Z",
     "iopub.status.idle": "2025-03-25T17:20:11.535605Z",
     "shell.execute_reply": "2025-03-25T17:20:11.535070Z",
     "shell.execute_reply.started": "2025-03-25T17:20:11.504438Z"
    },
    "tags": []
   },
   "outputs": [],
   "source": [
    "import pandas as pd\n",
    "from sklearn.feature_extraction.text import CountVectorizer\n",
    "from sklearn.linear_model import LogisticRegression\n",
    "from sklearn.model_selection import train_test_split\n",
    "from sklearn.metrics import classification_report, accuracy_score"
   ]
  },
  {
   "cell_type": "code",
   "execution_count": 52,
   "id": "880f8dc6-f6e9-46a8-8bfc-2e9c63df1026",
   "metadata": {
    "execution": {
     "iopub.execute_input": "2025-03-25T17:31:16.592625Z",
     "iopub.status.busy": "2025-03-25T17:31:16.592204Z",
     "iopub.status.idle": "2025-03-25T17:31:16.610570Z",
     "shell.execute_reply": "2025-03-25T17:31:16.609946Z",
     "shell.execute_reply.started": "2025-03-25T17:31:16.592610Z"
    }
   },
   "outputs": [
    {
     "data": {
      "text/html": [
       "<div>\n",
       "<style scoped>\n",
       "    .dataframe tbody tr th:only-of-type {\n",
       "        vertical-align: middle;\n",
       "    }\n",
       "\n",
       "    .dataframe tbody tr th {\n",
       "        vertical-align: top;\n",
       "    }\n",
       "\n",
       "    .dataframe thead th {\n",
       "        text-align: right;\n",
       "    }\n",
       "</style>\n",
       "<table border=\"1\" class=\"dataframe\">\n",
       "  <thead>\n",
       "    <tr style=\"text-align: right;\">\n",
       "      <th></th>\n",
       "      <th>text</th>\n",
       "      <th>lang</th>\n",
       "    </tr>\n",
       "  </thead>\n",
       "  <tbody>\n",
       "    <tr>\n",
       "      <th>0</th>\n",
       "      <td>ኣብ ቐጻሊ እንታይ ከም ዝፍጠር ኣይፈልጥን እየ። መደበይ ናብ ካልእ ቤት ...</td>\n",
       "      <td>ti</td>\n",
       "    </tr>\n",
       "    <tr>\n",
       "      <th>1</th>\n",
       "      <td>« C'est maman qui fait le meilleur porridge ! ...</td>\n",
       "      <td>fr</td>\n",
       "    </tr>\n",
       "    <tr>\n",
       "      <th>2</th>\n",
       "      <td>ಹುಳಿಯಾಳ ಬೀಜಗಳ ಸೂಪರ್ ಬೀಜದರ್ಶನ\\n\\nನಮಸ್ಕಾರ!. ನಾನು...</td>\n",
       "      <td>kn</td>\n",
       "    </tr>\n",
       "    <tr>\n",
       "      <th>3</th>\n",
       "      <td>ಈ ಮಹಿಳೆ ಭಾವನೆ ಏನಿದೆ? \\n\\nಬಹುಶಃ ಆಕೆಗೆ ನಾಚಿಕೆ ಆಗ...</td>\n",
       "      <td>kn</td>\n",
       "    </tr>\n",
       "    <tr>\n",
       "      <th>4</th>\n",
       "      <td>To små føtter for å sparke.</td>\n",
       "      <td>nb</td>\n",
       "    </tr>\n",
       "    <tr>\n",
       "      <th>...</th>\n",
       "      <td>...</td>\n",
       "      <td>...</td>\n",
       "    </tr>\n",
       "    <tr>\n",
       "      <th>77746</th>\n",
       "      <td>我跟朋友一起跳舞很好玩。 我妈妈带我和我堂哥去折箭组织办的一个圆舞会。 我看到很多我认识的人。</td>\n",
       "      <td>zh</td>\n",
       "    </tr>\n",
       "    <tr>\n",
       "      <th>77747</th>\n",
       "      <td>তো বললেন “চমৎকার! এটা দিয়ে দাদু আমি থ্যাঙ্ক দে...</td>\n",
       "      <td>bn</td>\n",
       "    </tr>\n",
       "    <tr>\n",
       "      <th>77748</th>\n",
       "      <td>ili ...kaj grandas. ĝuste</td>\n",
       "      <td>eo</td>\n",
       "    </tr>\n",
       "    <tr>\n",
       "      <th>77749</th>\n",
       "      <td>Одного Аніта. Зімбегвіре ліжка. “Ліниве дівчис...</td>\n",
       "      <td>uk</td>\n",
       "    </tr>\n",
       "    <tr>\n",
       "      <th>77750</th>\n",
       "      <td>Une femme appelle une ambulance. vite y eu a u...</td>\n",
       "      <td>fr</td>\n",
       "    </tr>\n",
       "  </tbody>\n",
       "</table>\n",
       "<p>77751 rows × 2 columns</p>\n",
       "</div>"
      ],
      "text/plain": [
       "                                                    text lang\n",
       "0      ኣብ ቐጻሊ እንታይ ከም ዝፍጠር ኣይፈልጥን እየ። መደበይ ናብ ካልእ ቤት ...   ti\n",
       "1      « C'est maman qui fait le meilleur porridge ! ...   fr\n",
       "2      ಹುಳಿಯಾಳ ಬೀಜಗಳ ಸೂಪರ್ ಬೀಜದರ್ಶನ\\n\\nನಮಸ್ಕಾರ!. ನಾನು...   kn\n",
       "3      ಈ ಮಹಿಳೆ ಭಾವನೆ ಏನಿದೆ? \\n\\nಬಹುಶಃ ಆಕೆಗೆ ನಾಚಿಕೆ ಆಗ...   kn\n",
       "4                            To små føtter for å sparke.   nb\n",
       "...                                                  ...  ...\n",
       "77746    我跟朋友一起跳舞很好玩。 我妈妈带我和我堂哥去折箭组织办的一个圆舞会。 我看到很多我认识的人。   zh\n",
       "77747  তো বললেন “চমৎকার! এটা দিয়ে দাদু আমি থ্যাঙ্ক দে...   bn\n",
       "77748                          ili ...kaj grandas. ĝuste   eo\n",
       "77749  Одного Аніта. Зімбегвіре ліжка. “Ліниве дівчис...   uk\n",
       "77750  Une femme appelle une ambulance. vite y eu a u...   fr\n",
       "\n",
       "[77751 rows x 2 columns]"
      ]
     },
     "execution_count": 52,
     "metadata": {},
     "output_type": "execute_result"
    }
   ],
   "source": [
    "data_train"
   ]
  },
  {
   "cell_type": "code",
   "execution_count": 46,
   "id": "0e4979a0-e7e5-4d69-988f-1eba8096ef37",
   "metadata": {
    "execution": {
     "iopub.execute_input": "2025-03-25T17:20:14.012194Z",
     "iopub.status.busy": "2025-03-25T17:20:14.011735Z",
     "iopub.status.idle": "2025-03-25T17:20:25.658651Z",
     "shell.execute_reply": "2025-03-25T17:20:25.657635Z",
     "shell.execute_reply.started": "2025-03-25T17:20:14.012178Z"
    },
    "tags": []
   },
   "outputs": [],
   "source": [
    "vectorizer = CountVectorizer(analyzer='char', ngram_range=(1, 3))\n",
    "X_train_vec = vectorizer.fit_transform(data_train['text'])\n",
    "X_test_vec = vectorizer.transform(data_test['text'])"
   ]
  },
  {
   "cell_type": "code",
   "execution_count": null,
   "id": "9ea25d60-2a02-4b95-9652-8c3b2905d445",
   "metadata": {
    "tags": []
   },
   "outputs": [],
   "source": [
    "clf = LogisticRegression(max_iter=100, solver='saga')\n",
    "clf.fit(X_train_vec, data_train['lang'])"
   ]
  },
  {
   "cell_type": "code",
   "execution_count": 117,
   "id": "8ca44aca-aa70-49ac-97cb-e9404cd5fff4",
   "metadata": {
    "execution": {
     "iopub.execute_input": "2025-03-25T18:36:24.665388Z",
     "iopub.status.busy": "2025-03-25T18:36:24.665148Z",
     "iopub.status.idle": "2025-03-25T18:36:25.030544Z",
     "shell.execute_reply": "2025-03-25T18:36:25.029460Z",
     "shell.execute_reply.started": "2025-03-25T18:36:24.665374Z"
    },
    "tags": []
   },
   "outputs": [],
   "source": [
    "y_pred = clf.predict(X_test_vec)"
   ]
  },
  {
   "cell_type": "code",
   "execution_count": 118,
   "id": "048c9a65-411f-4700-b53b-a519e4eb1485",
   "metadata": {
    "execution": {
     "iopub.execute_input": "2025-03-25T18:36:25.031498Z",
     "iopub.status.busy": "2025-03-25T18:36:25.031249Z",
     "iopub.status.idle": "2025-03-25T18:36:25.040073Z",
     "shell.execute_reply": "2025-03-25T18:36:25.039610Z",
     "shell.execute_reply.started": "2025-03-25T18:36:25.031483Z"
    },
    "tags": []
   },
   "outputs": [
    {
     "data": {
      "text/plain": [
       "array(['kn', 'zu', 'de', ..., 'en', 'loz-na', 'zu'], dtype=object)"
      ]
     },
     "execution_count": 118,
     "metadata": {},
     "output_type": "execute_result"
    }
   ],
   "source": [
    "y_pred"
   ]
  },
  {
   "cell_type": "code",
   "execution_count": 119,
   "id": "351811ce-e332-4077-a610-5d504f2d728d",
   "metadata": {
    "execution": {
     "iopub.execute_input": "2025-03-25T18:36:25.041425Z",
     "iopub.status.busy": "2025-03-25T18:36:25.041183Z",
     "iopub.status.idle": "2025-03-25T18:36:25.061051Z",
     "shell.execute_reply": "2025-03-25T18:36:25.060536Z",
     "shell.execute_reply.started": "2025-03-25T18:36:25.041412Z"
    },
    "tags": []
   },
   "outputs": [
    {
     "data": {
      "text/plain": [
       "29849     kn\n",
       "78316     zu\n",
       "64147     sv\n",
       "8382      de\n",
       "50600     om\n",
       "        ... \n",
       "70082     tn\n",
       "72034     uk\n",
       "14397     en\n",
       "66774    tet\n",
       "66827    tet\n",
       "Name: lang, Length: 7854, dtype: object"
      ]
     },
     "execution_count": 119,
     "metadata": {},
     "output_type": "execute_result"
    }
   ],
   "source": [
    "data_test['lang']"
   ]
  },
  {
   "cell_type": "code",
   "execution_count": 120,
   "id": "33f984f5-e370-4e2b-958e-0e0a963315fb",
   "metadata": {
    "execution": {
     "iopub.execute_input": "2025-03-25T18:36:25.061755Z",
     "iopub.status.busy": "2025-03-25T18:36:25.061547Z",
     "iopub.status.idle": "2025-03-25T18:36:57.081547Z",
     "shell.execute_reply": "2025-03-25T18:36:57.080969Z",
     "shell.execute_reply.started": "2025-03-25T18:36:25.061741Z"
    },
    "tags": []
   },
   "outputs": [
    {
     "data": {
      "image/png": "[encoded data removed]",
      "text/plain": [
       "<Figure size 800x600 with 2 Axes>"
      ]
     },
     "metadata": {},
     "output_type": "display_data"
    }
   ],
   "source": [
    "stat = evaluate_classification_model(data_test['lang'], y_pred, labels=clf.classes_)"
   ]
  },
  {
   "cell_type": "code",
   "execution_count": 66,
   "id": "d93f155c-a27f-4751-acb1-08c5e7b5b3da",
   "metadata": {
    "execution": {
     "iopub.execute_input": "2025-03-25T17:48:16.231266Z",
     "iopub.status.busy": "2025-03-25T17:48:16.230926Z",
     "iopub.status.idle": "2025-03-25T17:48:16.254869Z",
     "shell.execute_reply": "2025-03-25T17:48:16.254234Z",
     "shell.execute_reply.started": "2025-03-25T17:48:16.231225Z"
    }
   },
   "outputs": [
    {
     "data": {
      "text/plain": [
       "{'accuracy': 0.5289024700789406,\n",
       " 'f1_weighted': 0.4349361666141123,\n",
       " 'classification_report': {'ach': {'precision': 0.0,\n",
       "   'recall': 0.0,\n",
       "   'f1-score': 0.0,\n",
       "   'support': 1.0},\n",
       "  'ada': {'precision': 0.0, 'recall': 0.0, 'f1-score': 0.0, 'support': 3.0},\n",
       "  'adh': {'precision': 0.0, 'recall': 0.0, 'f1-score': 0.0, 'support': 14.0},\n",
       "  'aeb': {'precision': 0.0, 'recall': 0.0, 'f1-score': 0.0, 'support': 15.0},\n",
       "  'af': {'precision': 0.3129251700680272,\n",
       "   'recall': 0.6052631578947368,\n",
       "   'f1-score': 0.4125560538116592,\n",
       "   'support': 152.0},\n",
       "  'alz': {'precision': 0.0, 'recall': 0.0, 'f1-score': 0.0, 'support': 1.0},\n",
       "  'am': {'precision': 1.0,\n",
       "   'recall': 0.21176470588235294,\n",
       "   'f1-score': 0.34951456310679613,\n",
       "   'support': 85.0},\n",
       "  'anu': {'precision': 0.0, 'recall': 0.0, 'f1-score': 0.0, 'support': 2.0},\n",
       "  'ar': {'precision': 0.9130434782608695,\n",
       "   'recall': 0.9130434782608695,\n",
       "   'f1-score': 0.9130434782608695,\n",
       "   'support': 92.0},\n",
       "  'ar-diacritics': {'precision': 0.0,\n",
       "   'recall': 0.0,\n",
       "   'f1-score': 0.0,\n",
       "   'support': 1.0},\n",
       "  'as': {'precision': 0.0, 'recall': 0.0, 'f1-score': 0.0, 'support': 18.0},\n",
       "  'bem': {'precision': 0.0, 'recall': 0.0, 'f1-score': 0.0, 'support': 45.0},\n",
       "  'bn': {'precision': 0.8676470588235294,\n",
       "   'recall': 1.0,\n",
       "   'f1-score': 0.9291338582677166,\n",
       "   'support': 118.0},\n",
       "  'bo': {'precision': 1.0, 'recall': 1.0, 'f1-score': 1.0, 'support': 42.0},\n",
       "  'bxk': {'precision': 0.0, 'recall': 0.0, 'f1-score': 0.0, 'support': 3.0},\n",
       "  'ca': {'precision': 0.0, 'recall': 0.0, 'f1-score': 0.0, 'support': 5.0},\n",
       "  'cce': {'precision': 0.0, 'recall': 0.0, 'f1-score': 0.0, 'support': 1.0},\n",
       "  'ckb': {'precision': 0.9565217391304348,\n",
       "   'recall': 0.9887640449438202,\n",
       "   'f1-score': 0.9723756906077348,\n",
       "   'support': 89.0},\n",
       "  'crk': {'precision': 0.0, 'recall': 0.0, 'f1-score': 0.0, 'support': 16.0},\n",
       "  'csw': {'precision': 0.0, 'recall': 0.0, 'f1-score': 0.0, 'support': 4.0},\n",
       "  'ctu': {'precision': 0.0, 'recall': 0.0, 'f1-score': 0.0, 'support': 2.0},\n",
       "  'da': {'precision': 0.0, 'recall': 0.0, 'f1-score': 0.0, 'support': 42.0},\n",
       "  'dag': {'precision': 0.0, 'recall': 0.0, 'f1-score': 0.0, 'support': 14.0},\n",
       "  'de': {'precision': 0.4489795918367347,\n",
       "   'recall': 0.46808510638297873,\n",
       "   'f1-score': 0.4583333333333333,\n",
       "   'support': 94.0},\n",
       "  'dga': {'precision': 0.0, 'recall': 0.0, 'f1-score': 0.0, 'support': 6.0},\n",
       "  'din': {'precision': 0.0, 'recall': 0.0, 'f1-score': 0.0, 'support': 28.0},\n",
       "  'dje': {'precision': 0.0, 'recall': 0.0, 'f1-score': 0.0, 'support': 7.0},\n",
       "  'ee': {'precision': 0.0, 'recall': 0.0, 'f1-score': 0.0, 'support': 9.0},\n",
       "  'el': {'precision': 1.0, 'recall': 1.0, 'f1-score': 1.0, 'support': 42.0},\n",
       "  'en': {'precision': 0.465865992414665,\n",
       "   'recall': 0.9800531914893617,\n",
       "   'f1-score': 0.6315338474721508,\n",
       "   'support': 752.0},\n",
       "  'eo': {'precision': 0.0, 'recall': 0.0, 'f1-score': 0.0, 'support': 46.0},\n",
       "  'es': {'precision': 0.0, 'recall': 0.0, 'f1-score': 0.0, 'support': 88.0},\n",
       "  'fa': {'precision': 0.441747572815534,\n",
       "   'recall': 0.9578947368421052,\n",
       "   'f1-score': 0.6046511627906976,\n",
       "   'support': 95.0},\n",
       "  'fa-diacritics': {'precision': 0.0,\n",
       "   'recall': 0.0,\n",
       "   'f1-score': 0.0,\n",
       "   'support': 19.0},\n",
       "  'fat': {'precision': 0.0, 'recall': 0.0, 'f1-score': 0.0, 'support': 3.0},\n",
       "  'ff': {'precision': 0.0, 'recall': 0.0, 'f1-score': 0.0, 'support': 20.0},\n",
       "  'fr': {'precision': 0.4105691056910569,\n",
       "   'recall': 0.9308755760368663,\n",
       "   'f1-score': 0.5698166431593794,\n",
       "   'support': 217.0},\n",
       "  'gaa': {'precision': 0.0, 'recall': 0.0, 'f1-score': 0.0, 'support': 6.0},\n",
       "  'gjn': {'precision': 0.0, 'recall': 0.0, 'f1-score': 0.0, 'support': 6.0},\n",
       "  'gu': {'precision': 1.0, 'recall': 1.0, 'f1-score': 1.0, 'support': 84.0},\n",
       "  'gur': {'precision': 0.0, 'recall': 0.0, 'f1-score': 0.0, 'support': 11.0},\n",
       "  'guz': {'precision': 0.0, 'recall': 0.0, 'f1-score': 0.0, 'support': 20.0},\n",
       "  'ha': {'precision': 0.0, 'recall': 0.0, 'f1-score': 0.0, 'support': 29.0},\n",
       "  'hbs': {'precision': 0.0, 'recall': 0.0, 'f1-score': 0.0, 'support': 28.0},\n",
       "  'hch': {'precision': 0.0, 'recall': 0.0, 'f1-score': 0.0, 'support': 3.0},\n",
       "  'hi': {'precision': 0.4909090909090909,\n",
       "   'recall': 0.9798387096774194,\n",
       "   'f1-score': 0.6541049798115747,\n",
       "   'support': 248.0},\n",
       "  'ht': {'precision': 0.0, 'recall': 0.0, 'f1-score': 0.0, 'support': 42.0},\n",
       "  'hu': {'precision': 0.0, 'recall': 0.0, 'f1-score': 0.0, 'support': 42.0},\n",
       "  'hus': {'precision': 0.0, 'recall': 0.0, 'f1-score': 0.0, 'support': 6.0},\n",
       "  'hz': {'precision': 0.8787878787878788,\n",
       "   'recall': 0.5272727272727272,\n",
       "   'f1-score': 0.6590909090909091,\n",
       "   'support': 55.0},\n",
       "  'it': {'precision': 0.0, 'recall': 0.0, 'f1-score': 0.0, 'support': 73.0},\n",
       "  'ja': {'precision': 1.0, 'recall': 1.0, 'f1-score': 1.0, 'support': 73.0},\n",
       "  'jam': {'precision': 0.0, 'recall': 0.0, 'f1-score': 0.0, 'support': 44.0},\n",
       "  'kam': {'precision': 0.0, 'recall': 0.0, 'f1-score': 0.0, 'support': 45.0},\n",
       "  'kdj': {'precision': 0.0, 'recall': 0.0, 'f1-score': 0.0, 'support': 1.0},\n",
       "  'keo': {'precision': 0.0, 'recall': 0.0, 'f1-score': 0.0, 'support': 4.0},\n",
       "  'ki': {'precision': 0.0, 'recall': 0.0, 'f1-score': 0.0, 'support': 6.0},\n",
       "  'kj': {'precision': 1.0,\n",
       "   'recall': 0.1346153846153846,\n",
       "   'f1-score': 0.23728813559322035,\n",
       "   'support': 52.0},\n",
       "  'kln': {'precision': 0.0, 'recall': 0.0, 'f1-score': 0.0, 'support': 3.0},\n",
       "  'km': {'precision': 0.0, 'recall': 0.0, 'f1-score': 0.0, 'support': 5.0},\n",
       "  'kmr': {'precision': 0.0, 'recall': 0.0, 'f1-score': 0.0, 'support': 28.0},\n",
       "  'kn': {'precision': 1.0, 'recall': 1.0, 'f1-score': 1.0, 'support': 139.0},\n",
       "  'ko': {'precision': 0.0, 'recall': 0.0, 'f1-score': 0.0, 'support': 43.0},\n",
       "  'kok': {'precision': 0.0, 'recall': 0.0, 'f1-score': 0.0, 'support': 4.0},\n",
       "  'koo': {'precision': 0.0, 'recall': 0.0, 'f1-score': 0.0, 'support': 44.0},\n",
       "  'kpz': {'precision': 0.0, 'recall': 0.0, 'f1-score': 0.0, 'support': 8.0},\n",
       "  'kqn': {'precision': 0.0, 'recall': 0.0, 'f1-score': 0.0, 'support': 42.0},\n",
       "  'kr': {'precision': 0.0, 'recall': 0.0, 'f1-score': 0.0, 'support': 23.0},\n",
       "  'kri': {'precision': 0.0, 'recall': 0.0, 'f1-score': 0.0, 'support': 4.0},\n",
       "  'kru': {'precision': 0.0, 'recall': 0.0, 'f1-score': 0.0, 'support': 1.0},\n",
       "  'ktz': {'precision': 0.9047619047619048,\n",
       "   'recall': 0.7169811320754716,\n",
       "   'f1-score': 0.8,\n",
       "   'support': 53.0},\n",
       "  'kwn': {'precision': 0.0, 'recall': 0.0, 'f1-score': 0.0, 'support': 11.0},\n",
       "  'la': {'precision': 0.0, 'recall': 0.0, 'f1-score': 0.0, 'support': 2.0},\n",
       "  'laj': {'precision': 0.0, 'recall': 0.0, 'f1-score': 0.0, 'support': 4.0},\n",
       "  'lg': {'precision': 0.7083333333333334,\n",
       "   'recall': 0.24285714285714285,\n",
       "   'f1-score': 0.3617021276595745,\n",
       "   'support': 70.0},\n",
       "  'lgg': {'precision': 0.504950495049505,\n",
       "   'recall': 0.796875,\n",
       "   'f1-score': 0.6181818181818182,\n",
       "   'support': 64.0},\n",
       "  'lgg-official': {'precision': 0.8958333333333334,\n",
       "   'recall': 0.9347826086956522,\n",
       "   'f1-score': 0.9148936170212766,\n",
       "   'support': 46.0},\n",
       "  'lko': {'precision': 0.0, 'recall': 0.0, 'f1-score': 0.0, 'support': 9.0},\n",
       "  'ln': {'precision': 0.0, 'recall': 0.0, 'f1-score': 0.0, 'support': 28.0},\n",
       "  'loz': {'precision': 0.0, 'recall': 0.0, 'f1-score': 0.0, 'support': 8.0},\n",
       "  'loz-na': {'precision': 0.0,\n",
       "   'recall': 0.0,\n",
       "   'f1-score': 0.0,\n",
       "   'support': 49.0},\n",
       "  'loz-zm': {'precision': 0.0,\n",
       "   'recall': 0.0,\n",
       "   'f1-score': 0.0,\n",
       "   'support': 38.0},\n",
       "  'lsm': {'precision': 0.0, 'recall': 0.0, 'f1-score': 0.0, 'support': 2.0},\n",
       "  'lt': {'precision': 0.0, 'recall': 0.0, 'f1-score': 0.0, 'support': 41.0},\n",
       "  'luc': {'precision': 0.0, 'recall': 0.0, 'f1-score': 0.0, 'support': 15.0},\n",
       "  'lue': {'precision': 0.0, 'recall': 0.0, 'f1-score': 0.0, 'support': 42.0},\n",
       "  'lun': {'precision': 0.0, 'recall': 0.0, 'f1-score': 0.0, 'support': 42.0},\n",
       "  'luo': {'precision': 0.0, 'recall': 0.0, 'f1-score': 0.0, 'support': 7.0},\n",
       "  'lwg': {'precision': 0.8571428571428571,\n",
       "   'recall': 0.17391304347826086,\n",
       "   'f1-score': 0.2891566265060241,\n",
       "   'support': 69.0},\n",
       "  'mas': {'precision': 0.9090909090909091,\n",
       "   'recall': 0.37037037037037035,\n",
       "   'f1-score': 0.5263157894736842,\n",
       "   'support': 54.0},\n",
       "  'mat': {'precision': 0.0, 'recall': 0.0, 'f1-score': 0.0, 'support': 1.0},\n",
       "  'maz': {'precision': 0.0, 'recall': 0.0, 'f1-score': 0.0, 'support': 2.0},\n",
       "  'mer': {'precision': 0.0, 'recall': 0.0, 'f1-score': 0.0, 'support': 4.0},\n",
       "  'mfe': {'precision': 0.0, 'recall': 0.0, 'f1-score': 0.0, 'support': 42.0},\n",
       "  'mg': {'precision': 0.0, 'recall': 0.0, 'f1-score': 0.0, 'support': 2.0},\n",
       "  'mhi': {'precision': 0.0, 'recall': 0.0, 'f1-score': 0.0, 'support': 1.0},\n",
       "  'mhw': {'precision': 0.0, 'recall': 0.0, 'f1-score': 0.0, 'support': 2.0},\n",
       "  'miu': {'precision': 0.0, 'recall': 0.0, 'f1-score': 0.0, 'support': 1.0},\n",
       "  'ml': {'precision': 1.0,\n",
       "   'recall': 0.8571428571428571,\n",
       "   'f1-score': 0.9230769230769231,\n",
       "   'support': 28.0},\n",
       "  'mmc': {'precision': 0.0, 'recall': 0.0, 'f1-score': 0.0, 'support': 2.0},\n",
       "  'mnw': {'precision': 0.5365853658536586,\n",
       "   'recall': 0.9777777777777777,\n",
       "   'f1-score': 0.6929133858267716,\n",
       "   'support': 45.0},\n",
       "  'mqu': {'precision': 0.0, 'recall': 0.0, 'f1-score': 0.0, 'support': 1.0},\n",
       "  'mr': {'precision': 0.7790055248618785,\n",
       "   'recall': 0.9096774193548387,\n",
       "   'f1-score': 0.8392857142857143,\n",
       "   'support': 155.0},\n",
       "  'my': {'precision': 0.8,\n",
       "   'recall': 0.125,\n",
       "   'f1-score': 0.21621621621621623,\n",
       "   'support': 32.0},\n",
       "  'myx': {'precision': 0.49473684210526314,\n",
       "   'recall': 0.734375,\n",
       "   'f1-score': 0.5911949685534591,\n",
       "   'support': 64.0},\n",
       "  'naq': {'precision': 0.0, 'recall': 0.0, 'f1-score': 0.0, 'support': 6.0},\n",
       "  'nb': {'precision': 0.0, 'recall': 0.0, 'f1-score': 0.0, 'support': 77.0},\n",
       "  'nch': {'precision': 0.0, 'recall': 0.0, 'f1-score': 0.0, 'support': 1.0},\n",
       "  'ne': {'precision': 0.0, 'recall': 0.0, 'f1-score': 0.0, 'support': 31.0},\n",
       "  'ng': {'precision': 0.6829268292682927,\n",
       "   'recall': 0.509090909090909,\n",
       "   'f1-score': 0.5833333333333334,\n",
       "   'support': 55.0},\n",
       "  'nhe': {'precision': 0.0, 'recall': 0.0, 'f1-score': 0.0, 'support': 1.0},\n",
       "  'nhw': {'precision': 0.0, 'recall': 0.0, 'f1-score': 0.0, 'support': 1.0},\n",
       "  'nl': {'precision': 0.0, 'recall': 0.0, 'f1-score': 0.0, 'support': 23.0},\n",
       "  'nle': {'precision': 0.0, 'recall': 0.0, 'f1-score': 0.0, 'support': 1.0},\n",
       "  'nn': {'precision': 0.0, 'recall': 0.0, 'f1-score': 0.0, 'support': 75.0},\n",
       "  'no': {'precision': 0.0, 'recall': 0.0, 'f1-score': 0.0, 'support': 7.0},\n",
       "  'no-ipa': {'precision': 0.0, 'recall': 0.0, 'f1-score': 0.0, 'support': 3.0},\n",
       "  'nr': {'precision': 0.0, 'recall': 0.0, 'f1-score': 0.0, 'support': 32.0},\n",
       "  'nso': {'precision': 0.6896551724137931,\n",
       "   'recall': 0.3225806451612903,\n",
       "   'f1-score': 0.43956043956043955,\n",
       "   'support': 62.0},\n",
       "  'nuj': {'precision': 0.7380952380952381,\n",
       "   'recall': 0.6966292134831461,\n",
       "   'f1-score': 0.7167630057803468,\n",
       "   'support': 89.0},\n",
       "  'ny': {'precision': 0.0, 'recall': 0.0, 'f1-score': 0.0, 'support': 45.0},\n",
       "  'nyn': {'precision': 0.0, 'recall': 0.0, 'f1-score': 0.0, 'support': 2.0},\n",
       "  'nyu': {'precision': 0.0, 'recall': 0.0, 'f1-score': 0.0, 'support': 1.0},\n",
       "  'nzi': {'precision': 0.0, 'recall': 0.0, 'f1-score': 0.0, 'support': 3.0},\n",
       "  'ocu': {'precision': 0.0, 'recall': 0.0, 'f1-score': 0.0, 'support': 1.0},\n",
       "  'old': {'precision': 0.0, 'recall': 0.0, 'f1-score': 0.0, 'support': 1.0},\n",
       "  'om': {'precision': 1.0,\n",
       "   'recall': 0.03896103896103896,\n",
       "   'f1-score': 0.075,\n",
       "   'support': 77.0},\n",
       "  'or': {'precision': 1.0, 'recall': 1.0, 'f1-score': 1.0, 'support': 65.0},\n",
       "  'pa': {'precision': 1.0, 'recall': 1.0, 'f1-score': 1.0, 'support': 83.0},\n",
       "  'pa-shahmukhi': {'precision': 0.0,\n",
       "   'recall': 0.0,\n",
       "   'f1-score': 0.0,\n",
       "   'support': 1.0},\n",
       "  'pcm': {'precision': 0.0, 'recall': 0.0, 'f1-score': 0.0, 'support': 20.0},\n",
       "  'pl': {'precision': 1.0,\n",
       "   'recall': 0.014285714285714285,\n",
       "   'f1-score': 0.028169014084507043,\n",
       "   'support': 70.0},\n",
       "  'pmq': {'precision': 1.0,\n",
       "   'recall': 0.7619047619047619,\n",
       "   'f1-score': 0.8648648648648649,\n",
       "   'support': 42.0},\n",
       "  'prs': {'precision': 1.0,\n",
       "   'recall': 0.014285714285714285,\n",
       "   'f1-score': 0.028169014084507043,\n",
       "   'support': 70.0},\n",
       "  'prs-diacritics': {'precision': 0.0,\n",
       "   'recall': 0.0,\n",
       "   'f1-score': 0.0,\n",
       "   'support': 21.0},\n",
       "  'ps': {'precision': 0.953125,\n",
       "   'recall': 0.8714285714285714,\n",
       "   'f1-score': 0.9104477611940298,\n",
       "   'support': 70.0},\n",
       "  'pt': {'precision': 0.3194444444444444,\n",
       "   'recall': 0.8994413407821229,\n",
       "   'f1-score': 0.47144948755490484,\n",
       "   'support': 179.0},\n",
       "  'rki': {'precision': 0.0, 'recall': 0.0, 'f1-score': 0.0, 'support': 11.0},\n",
       "  'ro': {'precision': 0.0, 'recall': 0.0, 'f1-score': 0.0, 'support': 70.0},\n",
       "  'ru': {'precision': 0.0, 'recall': 0.0, 'f1-score': 0.0, 'support': 49.0},\n",
       "  'rw': {'precision': 0.9411764705882353,\n",
       "   'recall': 0.19753086419753085,\n",
       "   'f1-score': 0.32653061224489793,\n",
       "   'support': 81.0},\n",
       "  'sa': {'precision': 0.0, 'recall': 0.0, 'f1-score': 0.0, 'support': 32.0},\n",
       "  'saq': {'precision': 0.0, 'recall': 0.0, 'f1-score': 0.0, 'support': 1.0},\n",
       "  'sck': {'precision': 0.0, 'recall': 0.0, 'f1-score': 0.0, 'support': 1.0},\n",
       "  'se': {'precision': 0.0, 'recall': 0.0, 'f1-score': 0.0, 'support': 1.0},\n",
       "  'sg': {'precision': 0.0, 'recall': 0.0, 'f1-score': 0.0, 'support': 4.0},\n",
       "  'so': {'precision': 0.6371681415929203,\n",
       "   'recall': 0.8888888888888888,\n",
       "   'f1-score': 0.7422680412371134,\n",
       "   'support': 81.0},\n",
       "  'sq': {'precision': 0.0, 'recall': 0.0, 'f1-score': 0.0, 'support': 28.0},\n",
       "  'sr': {'precision': 0.0, 'recall': 0.0, 'f1-score': 0.0, 'support': 29.0},\n",
       "  'ss': {'precision': 0.0, 'recall': 0.0, 'f1-score': 0.0, 'support': 25.0},\n",
       "  'st': {'precision': 0.0, 'recall': 0.0, 'f1-score': 0.0, 'support': 40.0},\n",
       "  'sv': {'precision': 0.0, 'recall': 0.0, 'f1-score': 0.0, 'support': 66.0},\n",
       "  'sw': {'precision': 0.17391304347826086,\n",
       "   'recall': 0.9751243781094527,\n",
       "   'f1-score': 0.29518072289156627,\n",
       "   'support': 201.0},\n",
       "  'ta': {'precision': 1.0, 'recall': 1.0, 'f1-score': 1.0, 'support': 76.0},\n",
       "  'te': {'precision': 1.0, 'recall': 1.0, 'f1-score': 1.0, 'support': 151.0},\n",
       "  'teo': {'precision': 0.0, 'recall': 0.0, 'f1-score': 0.0, 'support': 19.0},\n",
       "  'tet': {'precision': 0.0, 'recall': 0.0, 'f1-score': 0.0, 'support': 42.0},\n",
       "  'th': {'precision': 1.0,\n",
       "   'recall': 0.8928571428571429,\n",
       "   'f1-score': 0.9433962264150944,\n",
       "   'support': 28.0},\n",
       "  'ti': {'precision': 0.75,\n",
       "   'recall': 0.04285714285714286,\n",
       "   'f1-score': 0.08108108108108109,\n",
       "   'support': 70.0},\n",
       "  'tl': {'precision': 0.6333333333333333,\n",
       "   'recall': 0.7916666666666666,\n",
       "   'f1-score': 0.7037037037037037,\n",
       "   'support': 72.0},\n",
       "  'tn': {'precision': 0.5675675675675675,\n",
       "   'recall': 0.5833333333333334,\n",
       "   'f1-score': 0.5753424657534246,\n",
       "   'support': 72.0},\n",
       "  'toh': {'precision': 0.0, 'recall': 0.0, 'f1-score': 0.0, 'support': 1.0},\n",
       "  'toi': {'precision': 0.0, 'recall': 0.0, 'f1-score': 0.0, 'support': 45.0},\n",
       "  'tr': {'precision': 1.0,\n",
       "   'recall': 0.04225352112676056,\n",
       "   'f1-score': 0.08108108108108109,\n",
       "   'support': 71.0},\n",
       "  'ts': {'precision': 0.0, 'recall': 0.0, 'f1-score': 0.0, 'support': 32.0},\n",
       "  'tsc': {'precision': 0.0, 'recall': 0.0, 'f1-score': 0.0, 'support': 10.0},\n",
       "  'ttj': {'precision': 0.0, 'recall': 0.0, 'f1-score': 0.0, 'support': 10.0},\n",
       "  'tum': {'precision': 0.0, 'recall': 0.0, 'f1-score': 0.0, 'support': 2.0},\n",
       "  'tuv': {'precision': 0.0, 'recall': 0.0, 'f1-score': 0.0, 'support': 26.0},\n",
       "  'tw-akua': {'precision': 0.0,\n",
       "   'recall': 0.0,\n",
       "   'f1-score': 0.0,\n",
       "   'support': 2.0},\n",
       "  'tw-asan': {'precision': 0.0,\n",
       "   'recall': 0.0,\n",
       "   'f1-score': 0.0,\n",
       "   'support': 5.0},\n",
       "  'uk': {'precision': 0.4797297297297297,\n",
       "   'recall': 1.0,\n",
       "   'f1-score': 0.6484018264840182,\n",
       "   'support': 71.0},\n",
       "  'ur': {'precision': 0.9594594594594594,\n",
       "   'recall': 1.0,\n",
       "   'f1-score': 0.9793103448275862,\n",
       "   'support': 71.0},\n",
       "  've': {'precision': 0.0, 'recall': 0.0, 'f1-score': 0.0, 'support': 32.0},\n",
       "  'vi': {'precision': 0.0, 'recall': 0.0, 'f1-score': 0.0, 'support': 44.0},\n",
       "  'xh': {'precision': 0.0, 'recall': 0.0, 'f1-score': 0.0, 'support': 86.0},\n",
       "  'xog': {'precision': 0.0, 'recall': 0.0, 'f1-score': 0.0, 'support': 22.0},\n",
       "  'xsm': {'precision': 0.0, 'recall': 0.0, 'f1-score': 0.0, 'support': 3.0},\n",
       "  'yo': {'precision': 0.0, 'recall': 0.0, 'f1-score': 0.0, 'support': 18.0},\n",
       "  'yua': {'precision': 1.0,\n",
       "   'recall': 0.7142857142857143,\n",
       "   'f1-score': 0.8333333333333334,\n",
       "   'support': 42.0},\n",
       "  'yue': {'precision': 0.96,\n",
       "   'recall': 0.8674698795180723,\n",
       "   'f1-score': 0.9113924050632911,\n",
       "   'support': 83.0},\n",
       "  'zh': {'precision': 0.6265822784810127,\n",
       "   'recall': 0.9705882352941176,\n",
       "   'f1-score': 0.7615384615384615,\n",
       "   'support': 102.0},\n",
       "  'zh-pinyin': {'precision': 0.0,\n",
       "   'recall': 0.0,\n",
       "   'f1-score': 0.0,\n",
       "   'support': 51.0},\n",
       "  'zne': {'precision': 0.0, 'recall': 0.0, 'f1-score': 0.0, 'support': 4.0},\n",
       "  'zu': {'precision': 0.3607305936073059,\n",
       "   'recall': 0.7383177570093458,\n",
       "   'f1-score': 0.48466257668711654,\n",
       "   'support': 107.0},\n",
       "  'accuracy': 0.5289024700789406,\n",
       "  'macro avg': {'precision': 0.23270456511529758,\n",
       "   'recall': 0.20741083570042396,\n",
       "   'f1-score': 0.19269924132381733,\n",
       "   'support': 7854.0},\n",
       "  'weighted avg': {'precision': 0.46730961326345094,\n",
       "   'recall': 0.5289024700789406,\n",
       "   'f1-score': 0.4349361666141123,\n",
       "   'support': 7854.0}},\n",
       " 'confusion_matrix': array([[ 0,  0,  0, ...,  0,  0,  0],\n",
       "        [ 0,  0,  0, ...,  0,  0,  0],\n",
       "        [ 0,  0,  0, ...,  0,  0,  0],\n",
       "        ...,\n",
       "        [ 0,  0,  0, ...,  0,  0,  0],\n",
       "        [ 0,  0,  0, ...,  0,  0,  0],\n",
       "        [ 0,  0,  0, ...,  0,  0, 79]])}"
      ]
     },
     "execution_count": 66,
     "metadata": {},
     "output_type": "execute_result"
    }
   ],
   "source": [
    "stat"
   ]
  },
  {
   "cell_type": "markdown",
   "id": "4e4d34ce-5448-4bb4-80e8-3692353022e3",
   "metadata": {},
   "source": [
    "Выбили 0.4349 по F1 weighted, неплохо продолжаем)"
   ]
  },
  {
   "cell_type": "markdown",
   "id": "cb9c9cd8-907e-46e7-9e6a-88dba8043d51",
   "metadata": {},
   "source": [
    "## Модель"
   ]
  },
  {
   "cell_type": "code",
   "execution_count": 5,
   "id": "cf7beb31-67ed-41c2-9ffa-e4f5970108e2",
   "metadata": {
    "execution": {
     "iopub.execute_input": "2025-03-26T09:02:30.190520Z",
     "iopub.status.busy": "2025-03-26T09:02:30.190064Z",
     "iopub.status.idle": "2025-03-26T09:02:30.289653Z",
     "shell.execute_reply": "2025-03-26T09:02:30.288863Z",
     "shell.execute_reply.started": "2025-03-26T09:02:30.190494Z"
    },
    "tags": []
   },
   "outputs": [],
   "source": [
    "from sklearn.preprocessing import LabelEncoder\n",
    "\n",
    "le = LabelEncoder()\n",
    "data_train['labels'] = le.fit_transform(data_train['lang'])\n",
    "\n",
    "data_test['labels'] = le.transform(data_test['lang'])"
   ]
  },
  {
   "cell_type": "code",
   "execution_count": 6,
   "id": "a04aedfa-8020-48bf-8900-721630630769",
   "metadata": {
    "execution": {
     "iopub.execute_input": "2025-03-26T09:02:30.413444Z",
     "iopub.status.busy": "2025-03-26T09:02:30.413064Z",
     "iopub.status.idle": "2025-03-26T09:02:30.560701Z",
     "shell.execute_reply": "2025-03-26T09:02:30.559836Z",
     "shell.execute_reply.started": "2025-03-26T09:02:30.413421Z"
    },
    "tags": []
   },
   "outputs": [],
   "source": [
    "from datasets import Dataset\n",
    "\n",
    "train_dataset = Dataset.from_pandas(data_train[['text', 'labels']])\n",
    "val_dataset = Dataset.from_pandas(data_test[['text', 'labels']])"
   ]
  },
  {
   "cell_type": "code",
   "execution_count": 104,
   "id": "9708dab3-8fbd-4523-8b75-f6343865e0c9",
   "metadata": {
    "execution": {
     "iopub.execute_input": "2025-03-25T18:10:12.449141Z",
     "iopub.status.busy": "2025-03-25T18:10:12.448898Z",
     "iopub.status.idle": "2025-03-25T18:10:12.769968Z",
     "shell.execute_reply": "2025-03-25T18:10:12.769323Z",
     "shell.execute_reply.started": "2025-03-25T18:10:12.449125Z"
    },
    "tags": []
   },
   "outputs": [],
   "source": [
    "from transformers import AutoTokenizer, AutoModelForSequenceClassification, Trainer, TrainingArguments\n",
    "\n",
    "model_checkpoint = \"google-bert/bert-base-multilingual-cased\"\n",
    "tokenizer = AutoTokenizer.from_pretrained(model_checkpoint)"
   ]
  },
  {
   "cell_type": "code",
   "execution_count": 12,
   "id": "284b2792-9d06-4f6a-bbdf-01ff878d079f",
   "metadata": {
    "execution": {
     "iopub.execute_input": "2025-03-26T08:45:16.696368Z",
     "iopub.status.busy": "2025-03-26T08:45:16.696Z",
     "iopub.status.idle": "2025-03-26T08:45:23.305655Z",
     "shell.execute_reply": "2025-03-26T08:45:23.304795Z",
     "shell.execute_reply.started": "2025-03-26T08:45:16.696346Z"
    },
    "tags": []
   },
   "outputs": [
    {
     "name": "stderr",
     "output_type": "stream",
     "text": [
      "Map: 100%|██████████| 77751/77751 [00:05<00:00, 13058.79 examples/s]\n",
      "Map: 100%|██████████| 7854/7854 [00:00<00:00, 13394.45 examples/s]\n"
     ]
    }
   ],
   "source": [
    "def tokenize_function(examples):\n",
    "    return tokenizer(examples[\"text\"], truncation=True, padding='max_length', max_length=128)\n",
    "\n",
    "train_dataset = train_dataset.map(tokenize_function, batched=True)\n",
    "val_dataset = val_dataset.map(tokenize_function, batched=True)\n",
    "\n",
    "train_dataset.set_format(type='torch', columns=['input_ids', 'attention_mask', 'labels'])\n",
    "val_dataset.set_format(type='torch', columns=['input_ids', 'attention_mask', 'labels'])\n"
   ]
  },
  {
   "cell_type": "code",
   "execution_count": 111,
   "id": "c2b67074-3b25-4c11-89a5-188b67b59205",
   "metadata": {
    "execution": {
     "iopub.execute_input": "2025-03-25T18:11:30.823414Z",
     "iopub.status.busy": "2025-03-25T18:11:30.823070Z",
     "iopub.status.idle": "2025-03-25T18:11:32.149633Z",
     "shell.execute_reply": "2025-03-25T18:11:32.149066Z",
     "shell.execute_reply.started": "2025-03-25T18:11:30.823397Z"
    },
    "tags": []
   },
   "outputs": [
    {
     "name": "stderr",
     "output_type": "stream",
     "text": [
      "Some weights of BertForSequenceClassification were not initialized from the model checkpoint at google-bert/bert-base-multilingual-cased and are newly initialized: ['classifier.weight', 'classifier.bias']\n",
      "You should probably TRAIN this model on a down-stream task to be able to use it for predictions and inference.\n"
     ]
    }
   ],
   "source": [
    "num_labels = len(le.classes_)\n",
    "model = AutoModelForSequenceClassification.from_pretrained(model_checkpoint, num_labels=num_labels)\n",
    "\n",
    "model = model.to('cuda')"
   ]
  },
  {
   "cell_type": "code",
   "execution_count": 10,
   "id": "d1591ead-6c6c-418e-9549-9753114e65b6",
   "metadata": {
    "execution": {
     "iopub.execute_input": "2025-03-26T09:05:25.920677Z",
     "iopub.status.busy": "2025-03-26T09:05:25.920236Z",
     "iopub.status.idle": "2025-03-26T09:05:25.968975Z",
     "shell.execute_reply": "2025-03-26T09:05:25.968264Z",
     "shell.execute_reply.started": "2025-03-26T09:05:25.920655Z"
    },
    "tags": []
   },
   "outputs": [],
   "source": [
    "from sklearn.metrics import accuracy_score, f1_score, precision_score, recall_score\n",
    "\n",
    "def compute_metrics(pred):\n",
    "    labels = pred.label_ids\n",
    "    preds = pred.predictions.argmax(-1)\n",
    "\n",
    "    return {\n",
    "        \"accuracy\": accuracy_score(labels, preds),\n",
    "        \"precision_weighted\": precision_score(labels, preds, average=\"weighted\", zero_division=0),\n",
    "        \"recall_weighted\": recall_score(labels, preds, average=\"weighted\", zero_division=0),\n",
    "        \"f1_weighted\": f1_score(labels, preds, average=\"weighted\", zero_division=0),\n",
    "    }"
   ]
  },
  {
   "cell_type": "code",
   "execution_count": 113,
   "id": "149c76c7-2fcb-423e-a56a-6c8f8d712359",
   "metadata": {
    "execution": {
     "iopub.execute_input": "2025-03-25T18:11:32.685730Z",
     "iopub.status.busy": "2025-03-25T18:11:32.685477Z",
     "iopub.status.idle": "2025-03-25T18:11:32.725568Z",
     "shell.execute_reply": "2025-03-25T18:11:32.724993Z",
     "shell.execute_reply.started": "2025-03-25T18:11:32.685715Z"
    },
    "tags": []
   },
   "outputs": [],
   "source": [
    "training_args = TrainingArguments(\n",
    "    output_dir=\"./results\",\n",
    "    evaluation_strategy=\"epoch\",\n",
    "    save_strategy=\"epoch\",\n",
    "    logging_strategy=\"steps\",\n",
    "    logging_steps=50,\n",
    "    learning_rate=2e-5,\n",
    "    per_device_train_batch_size=64,\n",
    "    per_device_eval_batch_size=64,\n",
    "    num_train_epochs=5,\n",
    "    weight_decay=0.01,\n",
    "    load_best_model_at_end=True,\n",
    "    metric_for_best_model=\"f1_weighted\",\n",
    "    #compute_metrics=compute_metrics,\n",
    "    report_to=\"wandb\",\n",
    "    \n",
    "    fp16=True,\n",
    ")"
   ]
  },
  {
   "cell_type": "code",
   "execution_count": 114,
   "id": "481c0805-939f-4859-b425-0f4e66a27735",
   "metadata": {
    "execution": {
     "iopub.execute_input": "2025-03-25T18:11:33.412487Z",
     "iopub.status.busy": "2025-03-25T18:11:33.411699Z",
     "iopub.status.idle": "2025-03-25T18:11:33.435436Z",
     "shell.execute_reply": "2025-03-25T18:11:33.434932Z",
     "shell.execute_reply.started": "2025-03-25T18:11:33.412469Z"
    },
    "tags": []
   },
   "outputs": [],
   "source": [
    "trainer = Trainer(\n",
    "    model=model,\n",
    "    args=training_args,\n",
    "    train_dataset=train_dataset,\n",
    "    eval_dataset=val_dataset,\n",
    "    tokenizer=tokenizer,\n",
    "    compute_metrics=compute_metrics,\n",
    ")"
   ]
  },
  {
   "cell_type": "code",
   "execution_count": 115,
   "id": "60b11262-956f-477d-9012-982ef4f1fd8e",
   "metadata": {
    "collapsed": true,
    "execution": {
     "iopub.execute_input": "2025-03-25T18:11:33.961041Z",
     "iopub.status.busy": "2025-03-25T18:11:33.960625Z",
     "iopub.status.idle": "2025-03-25T18:25:44.612553Z",
     "shell.execute_reply": "2025-03-25T18:25:44.611914Z",
     "shell.execute_reply.started": "2025-03-25T18:11:33.961013Z"
    },
    "jupyter": {
     "outputs_hidden": true
    },
    "tags": []
   },
   "outputs": [
    {
     "name": "stderr",
     "output_type": "stream",
     "text": [
      "  3%|▎         | 164/6075 [01:41<1:00:40,  1.62it/s]\n",
      "                                                 \n",
      "  1%|          | 50/6075 [00:03<07:47, 12.88it/s] \n",
      "  1%|          | 51/6075 [00:04<07:53, 12.73it/s]]\u001b[A"
     ]
    },
    {
     "name": "stdout",
     "output_type": "stream",
     "text": [
      "{'loss': 4.9174, 'learning_rate': 1.9845267489711937e-05, 'epoch': 0.04}\n"
     ]
    },
    {
     "name": "stderr",
     "output_type": "stream",
     "text": [
      "                                                 \n",
      "  2%|▏         | 100/6075 [00:07<07:45, 12.83it/s]\n",
      "  2%|▏         | 101/6075 [00:07<07:50, 12.71it/s]\u001b[A"
     ]
    },
    {
     "name": "stdout",
     "output_type": "stream",
     "text": [
      "{'loss': 3.9245, 'learning_rate': 1.9680658436213993e-05, 'epoch': 0.08}\n"
     ]
    },
    {
     "name": "stderr",
     "output_type": "stream",
     "text": [
      "                                                  \n",
      "  2%|▏         | 150/6075 [00:11<07:42, 12.82it/s]\n",
      "  9%|▉         | 551/6075 [01:21<07:16, 12.66it/s]\u001b[A"
     ]
    },
    {
     "name": "stdout",
     "output_type": "stream",
     "text": [
      "{'loss': 3.1912, 'learning_rate': 1.951604938271605e-05, 'epoch': 0.12}\n"
     ]
    },
    {
     "name": "stderr",
     "output_type": "stream",
     "text": [
      "                                                  \n",
      "  3%|▎         | 200/6075 [00:15<07:37, 12.83it/s]\n",
      "  3%|▎         | 201/6075 [00:15<07:41, 12.74it/s]\u001b[A"
     ]
    },
    {
     "name": "stdout",
     "output_type": "stream",
     "text": [
      "{'loss': 2.7502, 'learning_rate': 1.935144032921811e-05, 'epoch': 0.16}\n"
     ]
    },
    {
     "name": "stderr",
     "output_type": "stream",
     "text": [
      "                                                  \n",
      "  4%|▍         | 250/6075 [00:19<07:33, 12.83it/s]\n",
      "  9%|▉         | 551/6075 [01:29<07:16, 12.66it/s]\u001b[A"
     ]
    },
    {
     "name": "stdout",
     "output_type": "stream",
     "text": [
      "{'loss': 2.3652, 'learning_rate': 1.9186831275720167e-05, 'epoch': 0.21}\n"
     ]
    },
    {
     "name": "stderr",
     "output_type": "stream",
     "text": [
      "                                                  \n",
      "  5%|▍         | 300/6075 [00:23<07:29, 12.84it/s]\n",
      "  5%|▍         | 301/6075 [00:23<07:34, 12.71it/s]\u001b[A"
     ]
    },
    {
     "name": "stdout",
     "output_type": "stream",
     "text": [
      "{'loss': 2.106, 'learning_rate': 1.9022222222222223e-05, 'epoch': 0.25}\n"
     ]
    },
    {
     "name": "stderr",
     "output_type": "stream",
     "text": [
      "                                                  \n",
      "  6%|▌         | 350/6075 [00:27<07:27, 12.81it/s]\n",
      "  9%|▉         | 551/6075 [01:37<07:16, 12.66it/s]\u001b[A"
     ]
    },
    {
     "name": "stdout",
     "output_type": "stream",
     "text": [
      "{'loss': 1.9627, 'learning_rate': 1.885761316872428e-05, 'epoch': 0.29}\n"
     ]
    },
    {
     "name": "stderr",
     "output_type": "stream",
     "text": [
      "                                                  \n",
      "  7%|▋         | 400/6075 [00:31<07:21, 12.86it/s]\n",
      "  7%|▋         | 401/6075 [00:31<07:25, 12.74it/s]\u001b[A"
     ]
    },
    {
     "name": "stdout",
     "output_type": "stream",
     "text": [
      "{'loss': 1.8001, 'learning_rate': 1.869300411522634e-05, 'epoch': 0.33}\n"
     ]
    },
    {
     "name": "stderr",
     "output_type": "stream",
     "text": [
      "                                                  \n",
      "  7%|▋         | 450/6075 [00:35<07:18, 12.82it/s]\n",
      "  9%|▉         | 551/6075 [01:45<07:16, 12.66it/s]\u001b[A"
     ]
    },
    {
     "name": "stdout",
     "output_type": "stream",
     "text": [
      "{'loss': 1.6269, 'learning_rate': 1.8528395061728397e-05, 'epoch': 0.37}\n"
     ]
    },
    {
     "name": "stderr",
     "output_type": "stream",
     "text": [
      "                                                  \n",
      "  8%|▊         | 500/6075 [00:39<07:14, 12.83it/s]\n",
      "  8%|▊         | 501/6075 [00:39<07:22, 12.61it/s]\u001b[A"
     ]
    },
    {
     "name": "stdout",
     "output_type": "stream",
     "text": [
      "{'loss': 1.5717, 'learning_rate': 1.8363786008230453e-05, 'epoch': 0.41}\n"
     ]
    },
    {
     "name": "stderr",
     "output_type": "stream",
     "text": [
      "                                                  \n",
      "  9%|▉         | 550/6075 [00:43<07:16, 12.65it/s]\n",
      "  9%|▉         | 551/6075 [01:53<07:16, 12.66it/s]\u001b[A"
     ]
    },
    {
     "name": "stdout",
     "output_type": "stream",
     "text": [
      "{'loss': 1.4479, 'learning_rate': 1.819917695473251e-05, 'epoch': 0.45}\n"
     ]
    },
    {
     "name": "stderr",
     "output_type": "stream",
     "text": [
      "                                                  \n",
      " 10%|▉         | 600/6075 [00:46<07:07, 12.81it/s]\n",
      " 10%|▉         | 601/6075 [00:46<07:12, 12.65it/s]\u001b[A"
     ]
    },
    {
     "name": "stdout",
     "output_type": "stream",
     "text": [
      "{'loss': 1.3245, 'learning_rate': 1.803456790123457e-05, 'epoch': 0.49}\n"
     ]
    },
    {
     "name": "stderr",
     "output_type": "stream",
     "text": [
      "                                                  \n",
      " 11%|█         | 650/6075 [00:50<07:03, 12.81it/s]\n",
      "  9%|▉         | 551/6075 [02:01<07:16, 12.66it/s]\u001b[A"
     ]
    },
    {
     "name": "stdout",
     "output_type": "stream",
     "text": [
      "{'loss': 1.3129, 'learning_rate': 1.7869958847736627e-05, 'epoch': 0.53}\n"
     ]
    },
    {
     "name": "stderr",
     "output_type": "stream",
     "text": [
      "                                                  \n",
      " 12%|█▏        | 700/6075 [00:54<06:58, 12.83it/s]\n",
      " 12%|█▏        | 701/6075 [00:54<07:03, 12.69it/s]\u001b[A"
     ]
    },
    {
     "name": "stdout",
     "output_type": "stream",
     "text": [
      "{'loss': 1.2223, 'learning_rate': 1.7705349794238683e-05, 'epoch': 0.58}\n"
     ]
    },
    {
     "name": "stderr",
     "output_type": "stream",
     "text": [
      "                                                  \n",
      " 12%|█▏        | 750/6075 [00:58<06:55, 12.82it/s]\n",
      "  9%|▉         | 551/6075 [02:08<07:16, 12.66it/s]\u001b[A"
     ]
    },
    {
     "name": "stdout",
     "output_type": "stream",
     "text": [
      "{'loss': 1.109, 'learning_rate': 1.7540740740740743e-05, 'epoch': 0.62}\n"
     ]
    },
    {
     "name": "stderr",
     "output_type": "stream",
     "text": [
      "                                                  \n",
      " 13%|█▎        | 800/6075 [01:02<06:52, 12.80it/s]\n",
      " 13%|█▎        | 801/6075 [01:02<06:57, 12.64it/s]\u001b[A"
     ]
    },
    {
     "name": "stdout",
     "output_type": "stream",
     "text": [
      "{'loss': 1.1634, 'learning_rate': 1.73761316872428e-05, 'epoch': 0.66}\n"
     ]
    },
    {
     "name": "stderr",
     "output_type": "stream",
     "text": [
      "                                                  \n",
      " 14%|█▍        | 850/6075 [01:06<06:47, 12.81it/s]\n",
      "  9%|▉         | 551/6075 [02:16<07:16, 12.66it/s]\u001b[A"
     ]
    },
    {
     "name": "stdout",
     "output_type": "stream",
     "text": [
      "{'loss': 1.0731, 'learning_rate': 1.7211522633744857e-05, 'epoch': 0.7}\n"
     ]
    },
    {
     "name": "stderr",
     "output_type": "stream",
     "text": [
      "                                                  \n",
      " 15%|█▍        | 900/6075 [01:10<06:42, 12.84it/s]\n",
      " 15%|█▍        | 901/6075 [01:10<06:48, 12.68it/s]\u001b[A"
     ]
    },
    {
     "name": "stdout",
     "output_type": "stream",
     "text": [
      "{'loss': 1.0192, 'learning_rate': 1.7046913580246917e-05, 'epoch': 0.74}\n"
     ]
    },
    {
     "name": "stderr",
     "output_type": "stream",
     "text": [
      "                                                  \n",
      " 16%|█▌        | 950/6075 [01:14<06:39, 12.82it/s]\n",
      "  9%|▉         | 551/6075 [02:24<07:16, 12.66it/s]\u001b[A"
     ]
    },
    {
     "name": "stdout",
     "output_type": "stream",
     "text": [
      "{'loss': 0.9617, 'learning_rate': 1.688230452674897e-05, 'epoch': 0.78}\n"
     ]
    },
    {
     "name": "stderr",
     "output_type": "stream",
     "text": [
      "                                                  \n",
      " 16%|█▋        | 1000/6075 [01:18<06:35, 12.82it/s]\n",
      " 16%|█▋        | 1001/6075 [01:18<06:40, 12.67it/s][A"
     ]
    },
    {
     "name": "stdout",
     "output_type": "stream",
     "text": [
      "{'loss': 0.9379, 'learning_rate': 1.671769547325103e-05, 'epoch': 0.82}\n"
     ]
    },
    {
     "name": "stderr",
     "output_type": "stream",
     "text": [
      "                                                   \n",
      " 17%|█▋        | 1050/6075 [01:22<06:32, 12.82it/s]\n",
      "  9%|▉         | 551/6075 [02:32<07:16, 12.66it/s]\u001b[A"
     ]
    },
    {
     "name": "stdout",
     "output_type": "stream",
     "text": [
      "{'loss': 0.8764, 'learning_rate': 1.6553086419753087e-05, 'epoch': 0.86}\n"
     ]
    },
    {
     "name": "stderr",
     "output_type": "stream",
     "text": [
      "                                                   \n",
      " 18%|█▊        | 1100/6075 [01:26<06:28, 12.80it/s]\n",
      " 18%|█▊        | 1101/6075 [01:26<06:31, 12.69it/s][A"
     ]
    },
    {
     "name": "stdout",
     "output_type": "stream",
     "text": [
      "{'loss': 0.8641, 'learning_rate': 1.6388477366255143e-05, 'epoch': 0.91}\n"
     ]
    },
    {
     "name": "stderr",
     "output_type": "stream",
     "text": [
      "                                                   \n",
      " 19%|█▉        | 1150/6075 [01:29<06:24, 12.81it/s]\n",
      "  9%|▉         | 551/6075 [02:40<07:16, 12.66it/s]\u001b[A"
     ]
    },
    {
     "name": "stdout",
     "output_type": "stream",
     "text": [
      "{'loss': 0.8234, 'learning_rate': 1.6223868312757203e-05, 'epoch': 0.95}\n"
     ]
    },
    {
     "name": "stderr",
     "output_type": "stream",
     "text": [
      "                                                   \n",
      " 20%|█▉        | 1200/6075 [01:33<06:20, 12.83it/s]\n",
      " 20%|█▉        | 1201/6075 [01:33<06:26, 12.62it/s][A"
     ]
    },
    {
     "name": "stdout",
     "output_type": "stream",
     "text": [
      "{'loss': 0.76, 'learning_rate': 1.605925925925926e-05, 'epoch': 0.99}\n"
     ]
    },
    {
     "name": "stderr",
     "output_type": "stream",
     "text": [
      " 20%|██        | 1215/6075 [01:34<06:17, 12.88it/s]\n",
      "\n",
      "  0%|          | 0/123 [00:00<?, ?it/s]\u001b[A\u001b[A\n",
      "\n",
      "  5%|▍         | 6/123 [00:00<00:02, 51.01it/s]\u001b[A\u001b[A\n",
      "\n",
      " 10%|▉         | 12/123 [00:00<00:02, 45.33it/s]\u001b[A\u001b[A\n",
      "\n",
      " 14%|█▍        | 17/123 [00:00<00:02, 43.88it/s]\u001b[A\u001b[A\n",
      "\n",
      " 18%|█▊        | 22/123 [00:00<00:02, 43.20it/s]\u001b[A\u001b[A\n",
      "\n",
      " 22%|██▏       | 27/123 [00:00<00:02, 42.78it/s]\u001b[A\u001b[A\n",
      "\n",
      " 26%|██▌       | 32/123 [00:00<00:02, 42.57it/s]\u001b[A\u001b[A\n",
      "\n",
      " 30%|███       | 37/123 [00:00<00:02, 42.40it/s]\u001b[A\u001b[A\n",
      "\n",
      " 34%|███▍      | 42/123 [00:00<00:01, 42.27it/s]\u001b[A\u001b[A\n",
      "\n",
      " 38%|███▊      | 47/123 [00:01<00:01, 42.09it/s]\u001b[A\u001b[A\n",
      "\n",
      " 42%|████▏     | 52/123 [00:01<00:01, 42.08it/s]\u001b[A\u001b[A\n",
      "\n",
      " 46%|████▋     | 57/123 [00:01<00:01, 41.95it/s]\u001b[A\u001b[A\n",
      "\n",
      " 50%|█████     | 62/123 [00:01<00:01, 41.98it/s]\u001b[A\u001b[A\n",
      "\n",
      " 54%|█████▍    | 67/123 [00:01<00:01, 41.97it/s]\u001b[A\u001b[A\n",
      "\n",
      " 59%|█████▊    | 72/123 [00:01<00:01, 41.92it/s]\u001b[A\u001b[A\n",
      "\n",
      " 63%|██████▎   | 77/123 [00:01<00:01, 41.91it/s]\u001b[A\u001b[A\n",
      "\n",
      " 67%|██████▋   | 82/123 [00:01<00:00, 41.86it/s]\u001b[A\u001b[A\n",
      "\n",
      " 71%|███████   | 87/123 [00:02<00:00, 41.88it/s]\u001b[A\u001b[A\n",
      "\n",
      " 75%|███████▍  | 92/123 [00:02<00:00, 41.82it/s]\u001b[A\u001b[A\n",
      "\n",
      " 79%|███████▉  | 97/123 [00:02<00:00, 41.83it/s]\u001b[A\u001b[A\n",
      "\n",
      " 83%|████████▎ | 102/123 [00:02<00:00, 41.88it/s]\u001b[A\u001b[A\n",
      "\n",
      " 87%|████████▋ | 107/123 [00:02<00:00, 41.96it/s]\u001b[A\u001b[A\n",
      "\n",
      " 91%|█████████ | 112/123 [00:02<00:00, 42.04it/s]\u001b[A\u001b[A\n",
      "\n",
      " 95%|█████████▌| 117/123 [00:02<00:00, 42.08it/s]\u001b[A\u001b[A\n",
      "\n",
      " 99%|█████████▉| 122/123 [00:02<00:00, 42.20it/s]\u001b[A\u001b[A\n",
      "\n",
      "                                                   \n",
      "\u001b[A                                               \n",
      "\n",
      " 20%|██        | 1215/6075 [01:37<06:17, 12.88it/s]A\u001b[A\n",
      "  9%|▉         | 551/6075 [02:48<07:16, 12.66it/s]\u001b[A\n",
      "\n",
      "                                                 \u001b[A\u001b[A"
     ]
    },
    {
     "name": "stdout",
     "output_type": "stream",
     "text": [
      "{'eval_loss': 0.7148299813270569, 'eval_accuracy': 0.8445378151260504, 'eval_precision_weighted': 0.8249829360501314, 'eval_recall_weighted': 0.8445378151260504, 'eval_f1_weighted': 0.8198328382783693, 'eval_runtime': 2.9443, 'eval_samples_per_second': 2667.506, 'eval_steps_per_second': 41.775, 'epoch': 1.0}\n"
     ]
    },
    {
     "name": "stderr",
     "output_type": "stream",
     "text": [
      "                                                      \n",
      " 21%|██        | 1250/6075 [02:53<08:22,  9.61it/s]\n",
      "  9%|▉         | 551/6075 [04:03<07:16, 12.66it/s]\u001b[A"
     ]
    },
    {
     "name": "stdout",
     "output_type": "stream",
     "text": [
      "{'loss': 0.7602, 'learning_rate': 1.5894650205761317e-05, 'epoch': 1.03}\n"
     ]
    },
    {
     "name": "stderr",
     "output_type": "stream",
     "text": [
      "                                                   \n",
      " 21%|██▏       | 1300/6075 [02:57<06:11, 12.85it/s]\n",
      "  9%|▉         | 551/6075 [04:07<07:16, 12.66it/s]\u001b[A"
     ]
    },
    {
     "name": "stdout",
     "output_type": "stream",
     "text": [
      "{'loss': 0.6861, 'learning_rate': 1.5730041152263377e-05, 'epoch': 1.07}\n"
     ]
    },
    {
     "name": "stderr",
     "output_type": "stream",
     "text": [
      "                                                   \n",
      " 22%|██▏       | 1350/6075 [03:01<06:08, 12.83it/s]\n",
      "  9%|▉         | 551/6075 [04:11<07:16, 12.66it/s]\u001b[A"
     ]
    },
    {
     "name": "stdout",
     "output_type": "stream",
     "text": [
      "{'loss': 0.6895, 'learning_rate': 1.5565432098765433e-05, 'epoch': 1.11}\n"
     ]
    },
    {
     "name": "stderr",
     "output_type": "stream",
     "text": [
      "                                                   \n",
      " 23%|██▎       | 1400/6075 [03:05<06:04, 12.82it/s]\n",
      "  9%|▉         | 551/6075 [04:15<07:16, 12.66it/s]\u001b[A"
     ]
    },
    {
     "name": "stdout",
     "output_type": "stream",
     "text": [
      "{'loss': 0.6392, 'learning_rate': 1.540082304526749e-05, 'epoch': 1.15}\n"
     ]
    },
    {
     "name": "stderr",
     "output_type": "stream",
     "text": [
      "                                                   \n",
      " 24%|██▍       | 1450/6075 [03:08<06:01, 12.81it/s]\n",
      "  9%|▉         | 551/6075 [04:19<07:16, 12.66it/s]\u001b[A"
     ]
    },
    {
     "name": "stdout",
     "output_type": "stream",
     "text": [
      "{'loss': 0.6378, 'learning_rate': 1.5236213991769548e-05, 'epoch': 1.19}\n"
     ]
    },
    {
     "name": "stderr",
     "output_type": "stream",
     "text": [
      "                                                   \n",
      " 25%|██▍       | 1500/6075 [03:12<05:57, 12.81it/s]\n",
      "  9%|▉         | 551/6075 [04:23<07:16, 12.66it/s]\u001b[A"
     ]
    },
    {
     "name": "stdout",
     "output_type": "stream",
     "text": [
      "{'loss': 0.6108, 'learning_rate': 1.5071604938271607e-05, 'epoch': 1.23}\n"
     ]
    },
    {
     "name": "stderr",
     "output_type": "stream",
     "text": [
      "                                                   \n",
      " 26%|██▌       | 1550/6075 [03:16<05:54, 12.78it/s]\n",
      "  9%|▉         | 551/6075 [04:26<07:16, 12.66it/s]\u001b[A"
     ]
    },
    {
     "name": "stdout",
     "output_type": "stream",
     "text": [
      "{'loss': 0.5724, 'learning_rate': 1.4906995884773663e-05, 'epoch': 1.28}\n"
     ]
    },
    {
     "name": "stderr",
     "output_type": "stream",
     "text": [
      "                                                   \n",
      " 26%|██▋       | 1600/6075 [03:20<05:49, 12.80it/s]\n",
      "  9%|▉         | 551/6075 [04:30<07:16, 12.66it/s]\u001b[A"
     ]
    },
    {
     "name": "stdout",
     "output_type": "stream",
     "text": [
      "{'loss': 0.6098, 'learning_rate': 1.4742386831275722e-05, 'epoch': 1.32}\n"
     ]
    },
    {
     "name": "stderr",
     "output_type": "stream",
     "text": [
      "                                                   \n",
      " 27%|██▋       | 1650/6075 [03:24<05:44, 12.83it/s]\n",
      "  9%|▉         | 551/6075 [04:34<07:16, 12.66it/s]\u001b[A"
     ]
    },
    {
     "name": "stdout",
     "output_type": "stream",
     "text": [
      "{'loss': 0.5828, 'learning_rate': 1.457777777777778e-05, 'epoch': 1.36}\n"
     ]
    },
    {
     "name": "stderr",
     "output_type": "stream",
     "text": [
      "                                                   \n",
      " 28%|██▊       | 1700/6075 [03:28<05:43, 12.73it/s]\n",
      "  9%|▉         | 551/6075 [04:38<07:16, 12.66it/s]\u001b[A"
     ]
    },
    {
     "name": "stdout",
     "output_type": "stream",
     "text": [
      "{'loss': 0.5519, 'learning_rate': 1.4413168724279835e-05, 'epoch': 1.4}\n"
     ]
    },
    {
     "name": "stderr",
     "output_type": "stream",
     "text": [
      "                                                   \n",
      " 29%|██▉       | 1750/6075 [03:32<05:38, 12.78it/s]\n",
      "  9%|▉         | 551/6075 [04:42<07:16, 12.66it/s]\u001b[A"
     ]
    },
    {
     "name": "stdout",
     "output_type": "stream",
     "text": [
      "{'loss': 0.547, 'learning_rate': 1.4248559670781893e-05, 'epoch': 1.44}\n"
     ]
    },
    {
     "name": "stderr",
     "output_type": "stream",
     "text": [
      "                                                   \n",
      " 30%|██▉       | 1800/6075 [03:36<05:33, 12.83it/s]\n",
      "  9%|▉         | 551/6075 [04:46<07:16, 12.66it/s]\u001b[A"
     ]
    },
    {
     "name": "stdout",
     "output_type": "stream",
     "text": [
      "{'loss': 0.5277, 'learning_rate': 1.4083950617283952e-05, 'epoch': 1.48}\n"
     ]
    },
    {
     "name": "stderr",
     "output_type": "stream",
     "text": [
      "                                                   \n",
      " 30%|███       | 1850/6075 [03:40<05:29, 12.83it/s]\n",
      "  9%|▉         | 551/6075 [04:50<07:16, 12.66it/s]\u001b[A"
     ]
    },
    {
     "name": "stdout",
     "output_type": "stream",
     "text": [
      "{'loss': 0.5184, 'learning_rate': 1.3919341563786008e-05, 'epoch': 1.52}\n"
     ]
    },
    {
     "name": "stderr",
     "output_type": "stream",
     "text": [
      "                                                   \n",
      " 31%|███▏      | 1900/6075 [03:44<05:25, 12.83it/s]\n",
      "  9%|▉         | 551/6075 [04:54<07:16, 12.66it/s]\u001b[A"
     ]
    },
    {
     "name": "stdout",
     "output_type": "stream",
     "text": [
      "{'loss': 0.5459, 'learning_rate': 1.3754732510288067e-05, 'epoch': 1.56}\n"
     ]
    },
    {
     "name": "stderr",
     "output_type": "stream",
     "text": [
      "                                                   \n",
      " 32%|███▏      | 1950/6075 [03:48<05:21, 12.81it/s]\n",
      "  9%|▉         | 551/6075 [04:58<07:16, 12.66it/s]\u001b[A"
     ]
    },
    {
     "name": "stdout",
     "output_type": "stream",
     "text": [
      "{'loss': 0.5047, 'learning_rate': 1.3590123456790125e-05, 'epoch': 1.6}\n"
     ]
    },
    {
     "name": "stderr",
     "output_type": "stream",
     "text": [
      "                                                   \n",
      " 33%|███▎      | 2000/6075 [03:51<05:17, 12.82it/s]\n",
      "  9%|▉         | 551/6075 [05:02<07:16, 12.66it/s]\u001b[A"
     ]
    },
    {
     "name": "stdout",
     "output_type": "stream",
     "text": [
      "{'loss': 0.4955, 'learning_rate': 1.3425514403292182e-05, 'epoch': 1.65}\n"
     ]
    },
    {
     "name": "stderr",
     "output_type": "stream",
     "text": [
      "                                                   \n",
      " 34%|███▎      | 2050/6075 [03:55<05:13, 12.84it/s]\n",
      "  9%|▉         | 551/6075 [05:06<07:16, 12.66it/s]\u001b[A"
     ]
    },
    {
     "name": "stdout",
     "output_type": "stream",
     "text": [
      "{'loss': 0.4569, 'learning_rate': 1.326090534979424e-05, 'epoch': 1.69}\n"
     ]
    },
    {
     "name": "stderr",
     "output_type": "stream",
     "text": [
      "                                                   \n",
      " 35%|███▍      | 2100/6075 [03:59<05:09, 12.83it/s]\n",
      " 35%|███▍      | 2102/6075 [03:59<05:12, 12.73it/s][A"
     ]
    },
    {
     "name": "stdout",
     "output_type": "stream",
     "text": [
      "{'loss': 0.4542, 'learning_rate': 1.3096296296296298e-05, 'epoch': 1.73}\n"
     ]
    },
    {
     "name": "stderr",
     "output_type": "stream",
     "text": [
      "                                                   \n",
      " 35%|███▌      | 2150/6075 [04:03<05:06, 12.82it/s]\n",
      "  9%|▉         | 551/6075 [05:13<07:16, 12.66it/s]\u001b[A"
     ]
    },
    {
     "name": "stdout",
     "output_type": "stream",
     "text": [
      "{'loss': 0.4424, 'learning_rate': 1.2931687242798353e-05, 'epoch': 1.77}\n"
     ]
    },
    {
     "name": "stderr",
     "output_type": "stream",
     "text": [
      "                                                   \n",
      " 36%|███▌      | 2200/6075 [04:07<05:02, 12.81it/s]\n",
      " 36%|███▌      | 2202/6075 [04:07<05:04, 12.72it/s][A"
     ]
    },
    {
     "name": "stdout",
     "output_type": "stream",
     "text": [
      "{'loss': 0.4368, 'learning_rate': 1.2767078189300412e-05, 'epoch': 1.81}\n"
     ]
    },
    {
     "name": "stderr",
     "output_type": "stream",
     "text": [
      "                                                   \n",
      " 37%|███▋      | 2250/6075 [04:11<04:58, 12.82it/s]\n",
      "  9%|▉         | 551/6075 [05:21<07:16, 12.66it/s]\u001b[A"
     ]
    },
    {
     "name": "stdout",
     "output_type": "stream",
     "text": [
      "{'loss': 0.4603, 'learning_rate': 1.260246913580247e-05, 'epoch': 1.85}\n"
     ]
    },
    {
     "name": "stderr",
     "output_type": "stream",
     "text": [
      "                                                   \n",
      " 38%|███▊      | 2300/6075 [04:15<04:55, 12.78it/s]\n",
      "  9%|▉         | 551/6075 [05:25<07:16, 12.66it/s]\u001b[A"
     ]
    },
    {
     "name": "stdout",
     "output_type": "stream",
     "text": [
      "{'loss': 0.4321, 'learning_rate': 1.2437860082304527e-05, 'epoch': 1.89}\n"
     ]
    },
    {
     "name": "stderr",
     "output_type": "stream",
     "text": [
      "                                                   \n",
      " 39%|███▊      | 2350/6075 [04:19<04:50, 12.80it/s]\n",
      "  9%|▉         | 551/6075 [05:29<07:16, 12.66it/s]\u001b[A"
     ]
    },
    {
     "name": "stdout",
     "output_type": "stream",
     "text": [
      "{'loss': 0.4175, 'learning_rate': 1.2273251028806585e-05, 'epoch': 1.93}\n"
     ]
    },
    {
     "name": "stderr",
     "output_type": "stream",
     "text": [
      "                                                   \n",
      " 40%|███▉      | 2400/6075 [04:23<04:47, 12.79it/s]\n",
      "  9%|▉         | 551/6075 [05:33<07:16, 12.66it/s]\u001b[A"
     ]
    },
    {
     "name": "stdout",
     "output_type": "stream",
     "text": [
      "{'loss': 0.4262, 'learning_rate': 1.2108641975308643e-05, 'epoch': 1.98}\n"
     ]
    },
    {
     "name": "stderr",
     "output_type": "stream",
     "text": [
      " 40%|████      | 2430/6075 [04:25<04:42, 12.89it/s]\n",
      "\n",
      "  0%|          | 0/123 [00:00<?, ?it/s]\u001b[A\u001b[A\n",
      "\n",
      "  5%|▍         | 6/123 [00:00<00:02, 51.57it/s]\u001b[A\u001b[A\n",
      "\n",
      " 10%|▉         | 12/123 [00:00<00:02, 45.48it/s]\u001b[A\u001b[A\n",
      "\n",
      " 14%|█▍        | 17/123 [00:00<00:02, 44.14it/s]\u001b[A\u001b[A\n",
      "\n",
      " 18%|█▊        | 22/123 [00:00<00:02, 43.40it/s]\u001b[A\u001b[A\n",
      "\n",
      " 22%|██▏       | 27/123 [00:00<00:02, 42.80it/s]\u001b[A\u001b[A\n",
      "\n",
      " 26%|██▌       | 32/123 [00:00<00:02, 42.59it/s]\u001b[A\u001b[A\n",
      "\n",
      " 30%|███       | 37/123 [00:00<00:02, 42.48it/s]\u001b[A\u001b[A\n",
      "\n",
      " 34%|███▍      | 42/123 [00:00<00:01, 42.39it/s]\u001b[A\u001b[A\n",
      "\n",
      " 38%|███▊      | 47/123 [00:01<00:01, 42.25it/s]\u001b[A\u001b[A\n",
      "\n",
      " 42%|████▏     | 52/123 [00:01<00:01, 42.24it/s]\u001b[A\u001b[A\n",
      "\n",
      " 46%|████▋     | 57/123 [00:01<00:01, 42.20it/s]\u001b[A\u001b[A\n",
      "\n",
      " 50%|█████     | 62/123 [00:01<00:01, 42.25it/s]\u001b[A\u001b[A\n",
      "\n",
      " 54%|█████▍    | 67/123 [00:01<00:01, 42.17it/s]\u001b[A\u001b[A\n",
      "\n",
      " 59%|█████▊    | 72/123 [00:01<00:01, 42.18it/s]\u001b[A\u001b[A\n",
      "\n",
      " 63%|██████▎   | 77/123 [00:01<00:01, 42.18it/s]\u001b[A\u001b[A\n",
      "\n",
      " 67%|██████▋   | 82/123 [00:01<00:00, 42.10it/s]\u001b[A\u001b[A\n",
      "\n",
      " 71%|███████   | 87/123 [00:02<00:00, 42.12it/s]\u001b[A\u001b[A\n",
      "\n",
      " 75%|███████▍  | 92/123 [00:02<00:00, 42.22it/s]\u001b[A\u001b[A\n",
      "\n",
      " 79%|███████▉  | 97/123 [00:02<00:00, 42.24it/s]\u001b[A\u001b[A\n",
      "\n",
      " 83%|████████▎ | 102/123 [00:02<00:00, 42.11it/s]\u001b[A\u001b[A\n",
      "\n",
      " 87%|████████▋ | 107/123 [00:02<00:00, 42.15it/s]\u001b[A\u001b[A\n",
      "\n",
      " 91%|█████████ | 112/123 [00:02<00:00, 42.20it/s]\u001b[A\u001b[A\n",
      "\n",
      " 95%|█████████▌| 117/123 [00:02<00:00, 42.20it/s]\u001b[A\u001b[A\n",
      "\n",
      "                                                   A\u001b[A\n",
      "\u001b[A                                               \n",
      "\n",
      " 40%|████      | 2430/6075 [04:28<04:42, 12.89it/s]\n",
      "  9%|▉         | 551/6075 [05:38<07:16, 12.66it/s]\u001b[A\n",
      "\n",
      "100%|██████████| 123/123 [00:02<00:00, 42.23it/s]\u001b[A\u001b[A\n",
      "\n",
      "                                                 \u001b[A\u001b[A"
     ]
    },
    {
     "name": "stdout",
     "output_type": "stream",
     "text": [
      "{'eval_loss': 0.4215667247772217, 'eval_accuracy': 0.8953399541634836, 'eval_precision_weighted': 0.8734809621086234, 'eval_recall_weighted': 0.8953399541634836, 'eval_f1_weighted': 0.8792536020801865, 'eval_runtime': 2.9321, 'eval_samples_per_second': 2678.609, 'eval_steps_per_second': 41.949, 'epoch': 2.0}\n"
     ]
    },
    {
     "name": "stderr",
     "output_type": "stream",
     "text": [
      "                                                      \n",
      " 40%|████      | 2450/6075 [05:42<32:21,  1.87it/s]\n",
      " 40%|████      | 2451/6075 [05:42<24:04,  2.51it/s][A"
     ]
    },
    {
     "name": "stdout",
     "output_type": "stream",
     "text": [
      "{'loss': 0.414, 'learning_rate': 1.19440329218107e-05, 'epoch': 2.02}\n"
     ]
    },
    {
     "name": "stderr",
     "output_type": "stream",
     "text": [
      "                                                   \n",
      " 41%|████      | 2500/6075 [05:46<04:38, 12.83it/s]\n",
      " 41%|████      | 2501/6075 [05:46<04:41, 12.69it/s][A"
     ]
    },
    {
     "name": "stdout",
     "output_type": "stream",
     "text": [
      "{'loss': 0.3631, 'learning_rate': 1.1779423868312758e-05, 'epoch': 2.06}\n"
     ]
    },
    {
     "name": "stderr",
     "output_type": "stream",
     "text": [
      "                                                   \n",
      " 42%|████▏     | 2550/6075 [05:50<04:34, 12.86it/s]\n",
      " 42%|████▏     | 2551/6075 [05:50<04:37, 12.69it/s][A"
     ]
    },
    {
     "name": "stdout",
     "output_type": "stream",
     "text": [
      "{'loss': 0.3678, 'learning_rate': 1.1614814814814817e-05, 'epoch': 2.1}\n"
     ]
    },
    {
     "name": "stderr",
     "output_type": "stream",
     "text": [
      "                                                   \n",
      " 43%|████▎     | 2600/6075 [05:53<04:30, 12.85it/s]\n",
      " 43%|████▎     | 2601/6075 [05:54<04:33, 12.72it/s][A"
     ]
    },
    {
     "name": "stdout",
     "output_type": "stream",
     "text": [
      "{'loss': 0.3836, 'learning_rate': 1.1450205761316873e-05, 'epoch': 2.14}\n"
     ]
    },
    {
     "name": "stderr",
     "output_type": "stream",
     "text": [
      "                                                   \n",
      " 44%|████▎     | 2650/6075 [05:57<04:27, 12.79it/s]\n",
      " 44%|████▎     | 2651/6075 [05:57<04:31, 12.62it/s][A"
     ]
    },
    {
     "name": "stdout",
     "output_type": "stream",
     "text": [
      "{'loss': 0.3504, 'learning_rate': 1.1285596707818932e-05, 'epoch': 2.18}\n"
     ]
    },
    {
     "name": "stderr",
     "output_type": "stream",
     "text": [
      "                                                   \n",
      " 44%|████▍     | 2700/6075 [06:01<04:24, 12.78it/s]\n",
      " 44%|████▍     | 2701/6075 [06:01<04:27, 12.62it/s][A"
     ]
    },
    {
     "name": "stdout",
     "output_type": "stream",
     "text": [
      "{'loss': 0.3386, 'learning_rate': 1.112098765432099e-05, 'epoch': 2.22}\n"
     ]
    },
    {
     "name": "stderr",
     "output_type": "stream",
     "text": [
      "                                                   \n",
      " 45%|████▌     | 2750/6075 [06:05<04:19, 12.81it/s]\n",
      " 45%|████▌     | 2751/6075 [06:05<04:21, 12.69it/s][A"
     ]
    },
    {
     "name": "stdout",
     "output_type": "stream",
     "text": [
      "{'loss': 0.3632, 'learning_rate': 1.0956378600823045e-05, 'epoch': 2.26}\n"
     ]
    },
    {
     "name": "stderr",
     "output_type": "stream",
     "text": [
      "                                                   \n",
      " 46%|████▌     | 2800/6075 [06:09<04:15, 12.82it/s]\n",
      "  9%|▉         | 551/6075 [07:19<07:16, 12.66it/s]\u001b[A"
     ]
    },
    {
     "name": "stdout",
     "output_type": "stream",
     "text": [
      "{'loss': 0.332, 'learning_rate': 1.0791769547325103e-05, 'epoch': 2.3}\n"
     ]
    },
    {
     "name": "stderr",
     "output_type": "stream",
     "text": [
      "                                                   \n",
      " 47%|████▋     | 2850/6075 [06:13<04:11, 12.81it/s]\n",
      " 47%|████▋     | 2851/6075 [06:13<04:14, 12.68it/s][A"
     ]
    },
    {
     "name": "stdout",
     "output_type": "stream",
     "text": [
      "{'loss': 0.3539, 'learning_rate': 1.0627160493827162e-05, 'epoch': 2.35}\n"
     ]
    },
    {
     "name": "stderr",
     "output_type": "stream",
     "text": [
      "                                                   \n",
      " 48%|████▊     | 2900/6075 [06:17<04:07, 12.80it/s]\n",
      "  9%|▉         | 551/6075 [07:27<07:16, 12.66it/s]\u001b[A"
     ]
    },
    {
     "name": "stdout",
     "output_type": "stream",
     "text": [
      "{'loss': 0.3218, 'learning_rate': 1.0462551440329218e-05, 'epoch': 2.39}\n"
     ]
    },
    {
     "name": "stderr",
     "output_type": "stream",
     "text": [
      "                                                   \n",
      " 49%|████▊     | 2950/6075 [06:21<04:04, 12.81it/s]\n",
      " 49%|████▊     | 2951/6075 [06:21<04:06, 12.68it/s][A"
     ]
    },
    {
     "name": "stdout",
     "output_type": "stream",
     "text": [
      "{'loss': 0.3165, 'learning_rate': 1.0297942386831277e-05, 'epoch': 2.43}\n"
     ]
    },
    {
     "name": "stderr",
     "output_type": "stream",
     "text": [
      "                                                   \n",
      " 49%|████▉     | 3000/6075 [06:25<04:01, 12.74it/s]\n",
      "  9%|▉         | 551/6075 [07:35<07:16, 12.66it/s]\u001b[A"
     ]
    },
    {
     "name": "stdout",
     "output_type": "stream",
     "text": [
      "{'loss': 0.2963, 'learning_rate': 1.0133333333333335e-05, 'epoch': 2.47}\n"
     ]
    },
    {
     "name": "stderr",
     "output_type": "stream",
     "text": [
      "                                                   \n",
      " 50%|█████     | 3050/6075 [06:29<03:56, 12.81it/s]\n",
      " 50%|█████     | 3051/6075 [06:29<03:58, 12.68it/s][A"
     ]
    },
    {
     "name": "stdout",
     "output_type": "stream",
     "text": [
      "{'loss': 0.3101, 'learning_rate': 9.968724279835392e-06, 'epoch': 2.51}\n"
     ]
    },
    {
     "name": "stderr",
     "output_type": "stream",
     "text": [
      "                                                   \n",
      " 51%|█████     | 3100/6075 [06:33<03:52, 12.80it/s]\n",
      "  9%|▉         | 551/6075 [07:43<07:16, 12.66it/s]\u001b[A"
     ]
    },
    {
     "name": "stdout",
     "output_type": "stream",
     "text": [
      "{'loss': 0.2984, 'learning_rate': 9.80411522633745e-06, 'epoch': 2.55}\n"
     ]
    },
    {
     "name": "stderr",
     "output_type": "stream",
     "text": [
      "                                                   \n",
      " 52%|█████▏    | 3150/6075 [06:36<03:48, 12.82it/s]\n",
      " 52%|█████▏    | 3151/6075 [06:37<03:50, 12.69it/s][A"
     ]
    },
    {
     "name": "stdout",
     "output_type": "stream",
     "text": [
      "{'loss': 0.3044, 'learning_rate': 9.639506172839507e-06, 'epoch': 2.59}\n"
     ]
    },
    {
     "name": "stderr",
     "output_type": "stream",
     "text": [
      "                                                   \n",
      " 53%|█████▎    | 3200/6075 [06:40<03:46, 12.68it/s]\n",
      "  9%|▉         | 551/6075 [07:51<07:16, 12.66it/s]\u001b[A"
     ]
    },
    {
     "name": "stdout",
     "output_type": "stream",
     "text": [
      "{'loss': 0.3183, 'learning_rate': 9.474897119341565e-06, 'epoch': 2.63}\n"
     ]
    },
    {
     "name": "stderr",
     "output_type": "stream",
     "text": [
      "                                                   \n",
      " 53%|█████▎    | 3250/6075 [06:44<03:39, 12.86it/s]\n",
      " 54%|█████▎    | 3251/6075 [06:44<03:42, 12.72it/s][A"
     ]
    },
    {
     "name": "stdout",
     "output_type": "stream",
     "text": [
      "{'loss': 0.2897, 'learning_rate': 9.310288065843622e-06, 'epoch': 2.67}\n"
     ]
    },
    {
     "name": "stderr",
     "output_type": "stream",
     "text": [
      "                                                   \n",
      " 54%|█████▍    | 3300/6075 [06:48<03:39, 12.67it/s]\n",
      "  9%|▉         | 551/6075 [07:58<07:16, 12.66it/s]\u001b[A"
     ]
    },
    {
     "name": "stdout",
     "output_type": "stream",
     "text": [
      "{'loss': 0.314, 'learning_rate': 9.14567901234568e-06, 'epoch': 2.72}\n"
     ]
    },
    {
     "name": "stderr",
     "output_type": "stream",
     "text": [
      "                                                   \n",
      " 55%|█████▌    | 3350/6075 [06:52<03:32, 12.83it/s]\n",
      " 55%|█████▌    | 3351/6075 [06:52<03:34, 12.70it/s][A"
     ]
    },
    {
     "name": "stdout",
     "output_type": "stream",
     "text": [
      "{'loss': 0.2908, 'learning_rate': 8.981069958847738e-06, 'epoch': 2.76}\n"
     ]
    },
    {
     "name": "stderr",
     "output_type": "stream",
     "text": [
      "                                                   \n",
      " 56%|█████▌    | 3400/6075 [06:56<03:28, 12.83it/s]\n",
      "  9%|▉         | 551/6075 [08:06<07:16, 12.66it/s]\u001b[A"
     ]
    },
    {
     "name": "stdout",
     "output_type": "stream",
     "text": [
      "{'loss': 0.3306, 'learning_rate': 8.816460905349795e-06, 'epoch': 2.8}\n"
     ]
    },
    {
     "name": "stderr",
     "output_type": "stream",
     "text": [
      "                                                   \n",
      " 57%|█████▋    | 3450/6075 [07:00<03:25, 12.80it/s]\n",
      " 57%|█████▋    | 3451/6075 [07:00<03:27, 12.67it/s][A"
     ]
    },
    {
     "name": "stdout",
     "output_type": "stream",
     "text": [
      "{'loss': 0.2758, 'learning_rate': 8.651851851851852e-06, 'epoch': 2.84}\n"
     ]
    },
    {
     "name": "stderr",
     "output_type": "stream",
     "text": [
      "                                                   \n",
      " 58%|█████▊    | 3500/6075 [07:04<03:21, 12.81it/s]\n",
      "  9%|▉         | 551/6075 [08:14<07:16, 12.66it/s]\u001b[A"
     ]
    },
    {
     "name": "stdout",
     "output_type": "stream",
     "text": [
      "{'loss': 0.2928, 'learning_rate': 8.48724279835391e-06, 'epoch': 2.88}\n"
     ]
    },
    {
     "name": "stderr",
     "output_type": "stream",
     "text": [
      "                                                   \n",
      " 58%|█████▊    | 3550/6075 [07:08<03:17, 12.79it/s]\n",
      " 58%|█████▊    | 3551/6075 [07:08<03:19, 12.67it/s][A"
     ]
    },
    {
     "name": "stdout",
     "output_type": "stream",
     "text": [
      "{'loss': 0.2802, 'learning_rate': 8.322633744855968e-06, 'epoch': 2.92}\n"
     ]
    },
    {
     "name": "stderr",
     "output_type": "stream",
     "text": [
      "                                                   \n",
      " 59%|█████▉    | 3600/6075 [07:12<03:13, 12.81it/s]\n",
      "  9%|▉         | 551/6075 [08:22<07:16, 12.66it/s]\u001b[A"
     ]
    },
    {
     "name": "stdout",
     "output_type": "stream",
     "text": [
      "{'loss': 0.2706, 'learning_rate': 8.158024691358025e-06, 'epoch': 2.96}\n"
     ]
    },
    {
     "name": "stderr",
     "output_type": "stream",
     "text": [
      " 60%|██████    | 3645/6075 [07:15<03:07, 12.98it/s]\n",
      "\n",
      "  0%|          | 0/123 [00:00<?, ?it/s]\u001b[A\u001b[A\n",
      "\n",
      "  5%|▍         | 6/123 [00:00<00:02, 51.14it/s]\u001b[A\u001b[A\n",
      "\n",
      " 10%|▉         | 12/123 [00:00<00:02, 45.50it/s]\u001b[A\u001b[A\n",
      "\n",
      " 14%|█▍        | 17/123 [00:00<00:02, 43.27it/s]\u001b[A\u001b[A\n",
      "\n",
      " 18%|█▊        | 22/123 [00:00<00:02, 42.82it/s]\u001b[A\u001b[A\n",
      "\n",
      " 22%|██▏       | 27/123 [00:00<00:02, 42.60it/s]\u001b[A\u001b[A\n",
      "\n",
      " 26%|██▌       | 32/123 [00:00<00:02, 42.31it/s]\u001b[A\u001b[A\n",
      "\n",
      " 30%|███       | 37/123 [00:00<00:02, 41.95it/s]\u001b[A\u001b[A\n",
      "\n",
      " 34%|███▍      | 42/123 [00:00<00:01, 42.01it/s]\u001b[A\u001b[A\n",
      "\n",
      " 38%|███▊      | 47/123 [00:01<00:01, 42.09it/s]\u001b[A\u001b[A\n",
      "\n",
      " 42%|████▏     | 52/123 [00:01<00:01, 42.11it/s]\u001b[A\u001b[A\n",
      "\n",
      " 46%|████▋     | 57/123 [00:01<00:01, 42.11it/s]\u001b[A\u001b[A\n",
      "\n",
      " 50%|█████     | 62/123 [00:01<00:01, 42.11it/s]\u001b[A\u001b[A\n",
      "\n",
      " 54%|█████▍    | 67/123 [00:01<00:01, 42.12it/s]\u001b[A\u001b[A\n",
      "\n",
      " 59%|█████▊    | 72/123 [00:01<00:01, 42.14it/s]\u001b[A\u001b[A\n",
      "\n",
      " 63%|██████▎   | 77/123 [00:01<00:01, 42.06it/s]\u001b[A\u001b[A\n",
      "\n",
      " 67%|██████▋   | 82/123 [00:01<00:00, 42.07it/s]\u001b[A\u001b[A\n",
      "\n",
      " 71%|███████   | 87/123 [00:02<00:00, 42.17it/s]\u001b[A\u001b[A\n",
      "\n",
      " 75%|███████▍  | 92/123 [00:02<00:00, 42.12it/s]\u001b[A\u001b[A\n",
      "\n",
      " 79%|███████▉  | 97/123 [00:02<00:00, 42.11it/s]\u001b[A\u001b[A\n",
      "\n",
      " 83%|████████▎ | 102/123 [00:02<00:00, 42.17it/s]\u001b[A\u001b[A\n",
      "\n",
      " 87%|████████▋ | 107/123 [00:02<00:00, 42.20it/s]\u001b[A\u001b[A\n",
      "\n",
      " 91%|█████████ | 112/123 [00:02<00:00, 42.24it/s]\u001b[A\u001b[A\n",
      "\n",
      " 95%|█████████▌| 117/123 [00:02<00:00, 42.26it/s]\u001b[A\u001b[A\n",
      "\n",
      "                                                   A\u001b[A\n",
      "\u001b[A                                               \n",
      "\n",
      " 60%|██████    | 3645/6075 [07:18<03:07, 12.98it/s]\n",
      "  9%|▉         | 551/6075 [08:28<07:16, 12.66it/s]\u001b[A\n",
      "\n",
      "100%|██████████| 123/123 [00:02<00:00, 41.69it/s]\u001b[A\u001b[A\n",
      "\n"
     ]
    },
    {
     "name": "stdout",
     "output_type": "stream",
     "text": [
      "{'eval_loss': 0.3260379731655121, 'eval_accuracy': 0.9173669467787114, 'eval_precision_weighted': 0.9102401407267725, 'eval_recall_weighted': 0.9173669467787114, 'eval_f1_weighted': 0.9059128791122967, 'eval_runtime': 2.9453, 'eval_samples_per_second': 2666.636, 'eval_steps_per_second': 41.762, 'epoch': 3.0}\n"
     ]
    },
    {
     "name": "stderr",
     "output_type": "stream",
     "text": [
      "                                                     [A\n",
      " 60%|██████    | 3650/6075 [08:31<4:04:40,  6.05s/it]\n",
      "  9%|▉         | 551/6075 [09:41<07:16, 12.66it/s]\u001b[A"
     ]
    },
    {
     "name": "stdout",
     "output_type": "stream",
     "text": [
      "{'loss': 0.2722, 'learning_rate': 7.993415637860082e-06, 'epoch': 3.0}\n"
     ]
    },
    {
     "name": "stderr",
     "output_type": "stream",
     "text": [
      "                                                     \n",
      " 61%|██████    | 3700/6075 [08:35<03:06, 12.73it/s]\n",
      "  9%|▉         | 551/6075 [09:45<07:16, 12.66it/s]\u001b[A"
     ]
    },
    {
     "name": "stdout",
     "output_type": "stream",
     "text": [
      "{'loss': 0.2575, 'learning_rate': 7.82880658436214e-06, 'epoch': 3.05}\n"
     ]
    },
    {
     "name": "stderr",
     "output_type": "stream",
     "text": [
      "                                                   \n",
      " 62%|██████▏   | 3750/6075 [08:39<03:00, 12.86it/s]\n",
      " 62%|██████▏   | 3752/6075 [08:39<03:02, 12.74it/s][A"
     ]
    },
    {
     "name": "stdout",
     "output_type": "stream",
     "text": [
      "{'loss': 0.2328, 'learning_rate': 7.664197530864198e-06, 'epoch': 3.09}\n"
     ]
    },
    {
     "name": "stderr",
     "output_type": "stream",
     "text": [
      "                                                   \n",
      " 63%|██████▎   | 3800/6075 [08:43<02:57, 12.84it/s]\n",
      "  9%|▉         | 551/6075 [09:53<07:16, 12.66it/s]\u001b[A"
     ]
    },
    {
     "name": "stdout",
     "output_type": "stream",
     "text": [
      "{'loss': 0.2205, 'learning_rate': 7.499588477366255e-06, 'epoch': 3.13}\n"
     ]
    },
    {
     "name": "stderr",
     "output_type": "stream",
     "text": [
      "                                                   \n",
      " 63%|██████▎   | 3850/6075 [08:46<02:53, 12.86it/s]\n",
      "  9%|▉         | 551/6075 [09:57<07:16, 12.66it/s]\u001b[A"
     ]
    },
    {
     "name": "stdout",
     "output_type": "stream",
     "text": [
      "{'loss': 0.243, 'learning_rate': 7.3349794238683135e-06, 'epoch': 3.17}\n"
     ]
    },
    {
     "name": "stderr",
     "output_type": "stream",
     "text": [
      "                                                   \n",
      " 64%|██████▍   | 3900/6075 [08:50<02:49, 12.83it/s]\n",
      "  9%|▉         | 551/6075 [10:01<07:16, 12.66it/s]\u001b[A"
     ]
    },
    {
     "name": "stdout",
     "output_type": "stream",
     "text": [
      "{'loss': 0.2446, 'learning_rate': 7.170370370370371e-06, 'epoch': 3.21}\n"
     ]
    },
    {
     "name": "stderr",
     "output_type": "stream",
     "text": [
      "                                                   \n",
      " 65%|██████▌   | 3950/6075 [08:54<02:44, 12.88it/s]\n",
      "  9%|▉         | 551/6075 [10:04<07:16, 12.66it/s]\u001b[A"
     ]
    },
    {
     "name": "stdout",
     "output_type": "stream",
     "text": [
      "{'loss': 0.222, 'learning_rate': 7.0057613168724285e-06, 'epoch': 3.25}\n"
     ]
    },
    {
     "name": "stderr",
     "output_type": "stream",
     "text": [
      "                                                   \n",
      " 66%|██████▌   | 4000/6075 [08:58<02:41, 12.84it/s]\n",
      "  9%|▉         | 551/6075 [10:08<07:16, 12.66it/s]\u001b[A"
     ]
    },
    {
     "name": "stdout",
     "output_type": "stream",
     "text": [
      "{'loss': 0.2277, 'learning_rate': 6.841152263374487e-06, 'epoch': 3.29}\n"
     ]
    },
    {
     "name": "stderr",
     "output_type": "stream",
     "text": [
      "                                                   \n",
      " 67%|██████▋   | 4050/6075 [09:02<02:37, 12.83it/s]\n",
      "  9%|▉         | 551/6075 [10:12<07:16, 12.66it/s]\u001b[A"
     ]
    },
    {
     "name": "stdout",
     "output_type": "stream",
     "text": [
      "{'loss': 0.2538, 'learning_rate': 6.6765432098765435e-06, 'epoch': 3.33}\n"
     ]
    },
    {
     "name": "stderr",
     "output_type": "stream",
     "text": [
      "                                                   \n",
      " 67%|██████▋   | 4100/6075 [09:06<02:33, 12.85it/s]\n",
      "  9%|▉         | 551/6075 [10:16<07:16, 12.66it/s]\u001b[A"
     ]
    },
    {
     "name": "stdout",
     "output_type": "stream",
     "text": [
      "{'loss': 0.2224, 'learning_rate': 6.511934156378601e-06, 'epoch': 3.37}\n"
     ]
    },
    {
     "name": "stderr",
     "output_type": "stream",
     "text": [
      "                                                   \n",
      " 68%|██████▊   | 4150/6075 [09:10<02:29, 12.86it/s]\n",
      "  9%|▉         | 551/6075 [10:20<07:16, 12.66it/s]\u001b[A"
     ]
    },
    {
     "name": "stdout",
     "output_type": "stream",
     "text": [
      "{'loss': 0.2403, 'learning_rate': 6.347325102880659e-06, 'epoch': 3.42}\n"
     ]
    },
    {
     "name": "stderr",
     "output_type": "stream",
     "text": [
      "                                                   \n",
      " 69%|██████▉   | 4200/6075 [09:14<02:25, 12.86it/s]\n",
      " 69%|██████▉   | 4202/6075 [09:14<02:27, 12.73it/s][A"
     ]
    },
    {
     "name": "stdout",
     "output_type": "stream",
     "text": [
      "{'loss': 0.2202, 'learning_rate': 6.182716049382717e-06, 'epoch': 3.46}\n"
     ]
    },
    {
     "name": "stderr",
     "output_type": "stream",
     "text": [
      "                                                   \n",
      " 70%|██████▉   | 4250/6075 [09:18<02:22, 12.84it/s]\n",
      "  9%|▉         | 551/6075 [10:28<07:16, 12.66it/s]\u001b[A"
     ]
    },
    {
     "name": "stdout",
     "output_type": "stream",
     "text": [
      "{'loss': 0.2196, 'learning_rate': 6.0181069958847734e-06, 'epoch': 3.5}\n"
     ]
    },
    {
     "name": "stderr",
     "output_type": "stream",
     "text": [
      "                                                   \n",
      " 71%|███████   | 4300/6075 [09:22<02:18, 12.80it/s]\n",
      " 71%|███████   | 4302/6075 [09:22<02:19, 12.67it/s][A"
     ]
    },
    {
     "name": "stdout",
     "output_type": "stream",
     "text": [
      "{'loss': 0.2065, 'learning_rate': 5.853497942386832e-06, 'epoch': 3.54}\n"
     ]
    },
    {
     "name": "stderr",
     "output_type": "stream",
     "text": [
      "                                                   \n",
      " 72%|███████▏  | 4350/6075 [09:25<02:14, 12.84it/s]\n",
      "  9%|▉         | 551/6075 [10:36<07:16, 12.66it/s]\u001b[A"
     ]
    },
    {
     "name": "stdout",
     "output_type": "stream",
     "text": [
      "{'loss': 0.2392, 'learning_rate': 5.688888888888889e-06, 'epoch': 3.58}\n"
     ]
    },
    {
     "name": "stderr",
     "output_type": "stream",
     "text": [
      "                                                   \n",
      " 72%|███████▏  | 4400/6075 [09:29<02:10, 12.81it/s]\n",
      " 72%|███████▏  | 4402/6075 [09:30<02:11, 12.69it/s][A"
     ]
    },
    {
     "name": "stdout",
     "output_type": "stream",
     "text": [
      "{'loss': 0.226, 'learning_rate': 5.524279835390947e-06, 'epoch': 3.62}\n"
     ]
    },
    {
     "name": "stderr",
     "output_type": "stream",
     "text": [
      "                                                   \n",
      " 73%|███████▎  | 4450/6075 [09:33<02:07, 12.77it/s]\n",
      "  9%|▉         | 551/6075 [10:43<07:16, 12.66it/s]\u001b[A"
     ]
    },
    {
     "name": "stdout",
     "output_type": "stream",
     "text": [
      "{'loss': 0.24, 'learning_rate': 5.359670781893005e-06, 'epoch': 3.66}\n"
     ]
    },
    {
     "name": "stderr",
     "output_type": "stream",
     "text": [
      "                                                   \n",
      " 74%|███████▍  | 4500/6075 [09:37<02:02, 12.84it/s]\n",
      " 74%|███████▍  | 4502/6075 [09:37<02:03, 12.72it/s][A"
     ]
    },
    {
     "name": "stdout",
     "output_type": "stream",
     "text": [
      "{'loss': 0.2163, 'learning_rate': 5.195061728395062e-06, 'epoch': 3.7}\n"
     ]
    },
    {
     "name": "stderr",
     "output_type": "stream",
     "text": [
      "                                                   \n",
      " 75%|███████▍  | 4550/6075 [09:41<01:58, 12.84it/s]\n",
      "  9%|▉         | 551/6075 [10:51<07:16, 12.66it/s]\u001b[A"
     ]
    },
    {
     "name": "stdout",
     "output_type": "stream",
     "text": [
      "{'loss': 0.2019, 'learning_rate': 5.030452674897119e-06, 'epoch': 3.74}\n"
     ]
    },
    {
     "name": "stderr",
     "output_type": "stream",
     "text": [
      "                                                   \n",
      " 76%|███████▌  | 4600/6075 [09:45<01:54, 12.84it/s]\n",
      "  9%|▉         | 551/6075 [10:55<07:16, 12.66it/s]\u001b[A"
     ]
    },
    {
     "name": "stdout",
     "output_type": "stream",
     "text": [
      "{'loss': 0.2293, 'learning_rate': 4.865843621399178e-06, 'epoch': 3.79}\n"
     ]
    },
    {
     "name": "stderr",
     "output_type": "stream",
     "text": [
      "                                                   \n",
      " 77%|███████▋  | 4650/6075 [09:49<01:51, 12.82it/s]\n",
      "  9%|▉         | 551/6075 [10:59<07:16, 12.66it/s]\u001b[A"
     ]
    },
    {
     "name": "stdout",
     "output_type": "stream",
     "text": [
      "{'loss': 0.2273, 'learning_rate': 4.701234567901235e-06, 'epoch': 3.83}\n"
     ]
    },
    {
     "name": "stderr",
     "output_type": "stream",
     "text": [
      "                                                   \n",
      " 77%|███████▋  | 4700/6075 [09:53<01:46, 12.85it/s]\n",
      "  9%|▉         | 551/6075 [11:03<07:16, 12.66it/s]\u001b[A"
     ]
    },
    {
     "name": "stdout",
     "output_type": "stream",
     "text": [
      "{'loss': 0.2174, 'learning_rate': 4.536625514403293e-06, 'epoch': 3.87}\n"
     ]
    },
    {
     "name": "stderr",
     "output_type": "stream",
     "text": [
      "                                                   \n",
      " 78%|███████▊  | 4750/6075 [09:57<01:43, 12.83it/s]\n",
      "  9%|▉         | 551/6075 [11:07<07:16, 12.66it/s]\u001b[A"
     ]
    },
    {
     "name": "stdout",
     "output_type": "stream",
     "text": [
      "{'loss': 0.2183, 'learning_rate': 4.37201646090535e-06, 'epoch': 3.91}\n"
     ]
    },
    {
     "name": "stderr",
     "output_type": "stream",
     "text": [
      "                                                   \n",
      " 79%|███████▉  | 4800/6075 [10:01<01:39, 12.83it/s]\n",
      "  9%|▉         | 551/6075 [11:11<07:16, 12.66it/s]\u001b[A"
     ]
    },
    {
     "name": "stdout",
     "output_type": "stream",
     "text": [
      "{'loss': 0.2314, 'learning_rate': 4.207407407407408e-06, 'epoch': 3.95}\n"
     ]
    },
    {
     "name": "stderr",
     "output_type": "stream",
     "text": [
      "                                                   \n",
      " 80%|███████▉  | 4850/6075 [10:05<01:35, 12.84it/s]\n",
      "  9%|▉         | 551/6075 [11:15<07:16, 12.66it/s]\u001b[A"
     ]
    },
    {
     "name": "stdout",
     "output_type": "stream",
     "text": [
      "{'loss': 0.2094, 'learning_rate': 4.042798353909466e-06, 'epoch': 3.99}\n"
     ]
    },
    {
     "name": "stderr",
     "output_type": "stream",
     "text": [
      " 80%|████████  | 4860/6075 [10:05<01:33, 12.95it/s]\n",
      "\n",
      "  0%|          | 0/123 [00:00<?, ?it/s]\u001b[A\u001b[A\n",
      "\n",
      "  5%|▍         | 6/123 [00:00<00:02, 50.99it/s]\u001b[A\u001b[A\n",
      "\n",
      " 10%|▉         | 12/123 [00:00<00:02, 45.31it/s]\u001b[A\u001b[A\n",
      "\n",
      " 14%|█▍        | 17/123 [00:00<00:02, 43.81it/s]\u001b[A\u001b[A\n",
      "\n",
      " 18%|█▊        | 22/123 [00:00<00:02, 43.12it/s]\u001b[A\u001b[A\n",
      "\n",
      " 22%|██▏       | 27/123 [00:00<00:02, 42.68it/s]\u001b[A\u001b[A\n",
      "\n",
      " 26%|██▌       | 32/123 [00:00<00:02, 42.45it/s]\u001b[A\u001b[A\n",
      "\n",
      " 30%|███       | 37/123 [00:00<00:02, 42.19it/s]\u001b[A\u001b[A\n",
      "\n",
      " 34%|███▍      | 42/123 [00:00<00:01, 42.11it/s]\u001b[A\u001b[A\n",
      "\n",
      " 38%|███▊      | 47/123 [00:01<00:01, 42.12it/s]\u001b[A\u001b[A\n",
      "\n",
      " 42%|████▏     | 52/123 [00:01<00:01, 42.09it/s]\u001b[A\u001b[A\n",
      "\n",
      " 46%|████▋     | 57/123 [00:01<00:01, 42.11it/s]\u001b[A\u001b[A\n",
      "\n",
      " 50%|█████     | 62/123 [00:01<00:01, 42.03it/s]\u001b[A\u001b[A\n",
      "\n",
      " 54%|█████▍    | 67/123 [00:01<00:01, 42.07it/s]\u001b[A\u001b[A\n",
      "\n",
      " 59%|█████▊    | 72/123 [00:01<00:01, 42.08it/s]\u001b[A\u001b[A\n",
      "\n",
      " 63%|██████▎   | 77/123 [00:01<00:01, 42.05it/s]\u001b[A\u001b[A\n",
      "\n",
      " 67%|██████▋   | 82/123 [00:01<00:00, 42.16it/s]\u001b[A\u001b[A\n",
      "\n",
      " 71%|███████   | 87/123 [00:02<00:00, 42.16it/s]\u001b[A\u001b[A\n",
      "\n",
      " 75%|███████▍  | 92/123 [00:02<00:00, 42.03it/s]\u001b[A\u001b[A\n",
      "\n",
      " 79%|███████▉  | 97/123 [00:02<00:00, 42.02it/s]\u001b[A\u001b[A\n",
      "\n",
      " 83%|████████▎ | 102/123 [00:02<00:00, 41.98it/s]\u001b[A\u001b[A\n",
      "\n",
      " 87%|████████▋ | 107/123 [00:02<00:00, 42.04it/s]\u001b[A\u001b[A\n",
      "\n",
      " 91%|█████████ | 112/123 [00:02<00:00, 42.04it/s]\u001b[A\u001b[A\n",
      "\n",
      " 95%|█████████▌| 117/123 [00:02<00:00, 42.02it/s]\u001b[A\u001b[A\n",
      "\n",
      "                                                   A\u001b[A\n",
      "\u001b[A                                               \n",
      "\n",
      " 80%|████████  | 4860/6075 [10:08<01:33, 12.95it/s]\n",
      "  9%|▉         | 551/6075 [11:18<07:16, 12.66it/s]\u001b[A\n",
      "\n",
      "100%|██████████| 123/123 [00:02<00:00, 42.16it/s]\u001b[A\u001b[A\n",
      "\n",
      "                                                 \u001b[A\u001b[A"
     ]
    },
    {
     "name": "stdout",
     "output_type": "stream",
     "text": [
      "{'eval_loss': 0.300886869430542, 'eval_accuracy': 0.9187675070028011, 'eval_precision_weighted': 0.911982529311473, 'eval_recall_weighted': 0.9187675070028011, 'eval_f1_weighted': 0.9104028501966858, 'eval_runtime': 2.9418, 'eval_samples_per_second': 2669.755, 'eval_steps_per_second': 41.811, 'epoch': 4.0}\n"
     ]
    },
    {
     "name": "stderr",
     "output_type": "stream",
     "text": [
      "                                                     \n",
      " 81%|████████  | 4900/6075 [11:24<01:46, 11.03it/s]\n",
      "  9%|▉         | 551/6075 [12:34<07:16, 12.66it/s]\u001b[A"
     ]
    },
    {
     "name": "stdout",
     "output_type": "stream",
     "text": [
      "{'loss': 0.1838, 'learning_rate': 3.878189300411523e-06, 'epoch': 4.03}\n"
     ]
    },
    {
     "name": "stderr",
     "output_type": "stream",
     "text": [
      "                                                   \n",
      " 81%|████████▏ | 4950/6075 [11:28<01:27, 12.85it/s]\n",
      " 81%|████████▏ | 4951/6075 [11:28<01:28, 12.73it/s][A"
     ]
    },
    {
     "name": "stdout",
     "output_type": "stream",
     "text": [
      "{'loss': 0.1927, 'learning_rate': 3.7135802469135805e-06, 'epoch': 4.07}\n"
     ]
    },
    {
     "name": "stderr",
     "output_type": "stream",
     "text": [
      "                                                   \n",
      " 82%|████████▏ | 5000/6075 [11:32<01:23, 12.85it/s]\n",
      "  9%|▉         | 551/6075 [12:42<07:16, 12.66it/s]\u001b[A"
     ]
    },
    {
     "name": "stdout",
     "output_type": "stream",
     "text": [
      "{'loss': 0.1697, 'learning_rate': 3.548971193415638e-06, 'epoch': 4.12}\n"
     ]
    },
    {
     "name": "stderr",
     "output_type": "stream",
     "text": [
      "                                                   \n",
      " 83%|████████▎ | 5050/6075 [11:35<01:19, 12.85it/s]\n",
      " 83%|████████▎ | 5051/6075 [11:35<01:20, 12.72it/s][A"
     ]
    },
    {
     "name": "stdout",
     "output_type": "stream",
     "text": [
      "{'loss': 0.2062, 'learning_rate': 3.3843621399176955e-06, 'epoch': 4.16}\n"
     ]
    },
    {
     "name": "stderr",
     "output_type": "stream",
     "text": [
      "                                                   \n",
      " 84%|████████▍ | 5100/6075 [11:39<01:15, 12.83it/s]\n",
      "  9%|▉         | 551/6075 [12:50<07:16, 12.66it/s]\u001b[A"
     ]
    },
    {
     "name": "stdout",
     "output_type": "stream",
     "text": [
      "{'loss': 0.194, 'learning_rate': 3.2197530864197535e-06, 'epoch': 4.2}\n"
     ]
    },
    {
     "name": "stderr",
     "output_type": "stream",
     "text": [
      "                                                   \n",
      " 85%|████████▍ | 5150/6075 [11:43<01:11, 12.86it/s]\n",
      " 85%|████████▍ | 5151/6075 [11:43<01:12, 12.72it/s][A"
     ]
    },
    {
     "name": "stdout",
     "output_type": "stream",
     "text": [
      "{'loss': 0.1922, 'learning_rate': 3.0551440329218105e-06, 'epoch': 4.24}\n"
     ]
    },
    {
     "name": "stderr",
     "output_type": "stream",
     "text": [
      "                                                   \n",
      " 86%|████████▌ | 5200/6075 [11:47<01:08, 12.84it/s]\n",
      "  9%|▉         | 551/6075 [12:57<07:16, 12.66it/s]\u001b[A"
     ]
    },
    {
     "name": "stdout",
     "output_type": "stream",
     "text": [
      "{'loss': 0.1601, 'learning_rate': 2.8905349794238685e-06, 'epoch': 4.28}\n"
     ]
    },
    {
     "name": "stderr",
     "output_type": "stream",
     "text": [
      "                                                   \n",
      " 86%|████████▋ | 5250/6075 [11:51<01:04, 12.87it/s]\n",
      " 86%|████████▋ | 5251/6075 [11:51<01:04, 12.72it/s][A"
     ]
    },
    {
     "name": "stdout",
     "output_type": "stream",
     "text": [
      "{'loss': 0.1669, 'learning_rate': 2.7259259259259264e-06, 'epoch': 4.32}\n"
     ]
    },
    {
     "name": "stderr",
     "output_type": "stream",
     "text": [
      "                                                   \n",
      " 87%|████████▋ | 5300/6075 [11:55<01:00, 12.87it/s]\n",
      " 87%|████████▋ | 5301/6075 [11:55<01:00, 12.72it/s][A"
     ]
    },
    {
     "name": "stdout",
     "output_type": "stream",
     "text": [
      "{'loss': 0.1856, 'learning_rate': 2.5613168724279835e-06, 'epoch': 4.36}\n"
     ]
    },
    {
     "name": "stderr",
     "output_type": "stream",
     "text": [
      "                                                   \n",
      " 88%|████████▊ | 5350/6075 [11:59<00:56, 12.83it/s]\n",
      "  9%|▉         | 551/6075 [13:09<07:16, 12.66it/s]\u001b[A"
     ]
    },
    {
     "name": "stdout",
     "output_type": "stream",
     "text": [
      "{'loss': 0.1898, 'learning_rate': 2.3967078189300414e-06, 'epoch': 4.4}\n"
     ]
    },
    {
     "name": "stderr",
     "output_type": "stream",
     "text": [
      "                                                   \n",
      " 89%|████████▉ | 5400/6075 [12:03<00:52, 12.80it/s]\n",
      " 89%|████████▉ | 5401/6075 [12:03<00:53, 12.67it/s][A"
     ]
    },
    {
     "name": "stdout",
     "output_type": "stream",
     "text": [
      "{'loss': 0.2025, 'learning_rate': 2.232098765432099e-06, 'epoch': 4.44}\n"
     ]
    },
    {
     "name": "stderr",
     "output_type": "stream",
     "text": [
      "                                                   \n",
      " 90%|████████▉ | 5450/6075 [12:07<00:48, 12.84it/s]\n",
      "  9%|▉         | 551/6075 [13:17<07:16, 12.66it/s]\u001b[A"
     ]
    },
    {
     "name": "stdout",
     "output_type": "stream",
     "text": [
      "{'loss': 0.1865, 'learning_rate': 2.067489711934157e-06, 'epoch': 4.49}\n"
     ]
    },
    {
     "name": "stderr",
     "output_type": "stream",
     "text": [
      "                                                   \n",
      " 91%|█████████ | 5500/6075 [12:11<00:44, 12.83it/s]\n",
      " 91%|█████████ | 5501/6075 [12:11<00:45, 12.67it/s][A"
     ]
    },
    {
     "name": "stdout",
     "output_type": "stream",
     "text": [
      "{'loss': 0.1664, 'learning_rate': 1.902880658436214e-06, 'epoch': 4.53}\n"
     ]
    },
    {
     "name": "stderr",
     "output_type": "stream",
     "text": [
      "                                                   \n",
      " 91%|█████████▏| 5550/6075 [12:14<00:40, 12.82it/s]\n",
      "  9%|▉         | 551/6075 [13:25<07:16, 12.66it/s]\u001b[A"
     ]
    },
    {
     "name": "stdout",
     "output_type": "stream",
     "text": [
      "{'loss': 0.1838, 'learning_rate': 1.7382716049382716e-06, 'epoch': 4.57}\n"
     ]
    },
    {
     "name": "stderr",
     "output_type": "stream",
     "text": [
      "                                                   \n",
      " 92%|█████████▏| 5600/6075 [12:18<00:37, 12.73it/s]\n",
      " 92%|█████████▏| 5601/6075 [12:18<00:37, 12.64it/s][A"
     ]
    },
    {
     "name": "stdout",
     "output_type": "stream",
     "text": [
      "{'loss': 0.1696, 'learning_rate': 1.5736625514403295e-06, 'epoch': 4.61}\n"
     ]
    },
    {
     "name": "stderr",
     "output_type": "stream",
     "text": [
      "                                                   \n",
      " 93%|█████████▎| 5650/6075 [12:22<00:33, 12.77it/s]\n",
      "  9%|▉         | 551/6075 [13:32<07:16, 12.66it/s]\u001b[A"
     ]
    },
    {
     "name": "stdout",
     "output_type": "stream",
     "text": [
      "{'loss': 0.1795, 'learning_rate': 1.409053497942387e-06, 'epoch': 4.65}\n"
     ]
    },
    {
     "name": "stderr",
     "output_type": "stream",
     "text": [
      "                                                   \n",
      " 94%|█████████▍| 5700/6075 [12:26<00:29, 12.83it/s]\n",
      " 94%|█████████▍| 5701/6075 [12:26<00:29, 12.67it/s][A"
     ]
    },
    {
     "name": "stdout",
     "output_type": "stream",
     "text": [
      "{'loss': 0.1691, 'learning_rate': 1.2444444444444445e-06, 'epoch': 4.69}\n"
     ]
    },
    {
     "name": "stderr",
     "output_type": "stream",
     "text": [
      "                                                   \n",
      " 95%|█████████▍| 5750/6075 [12:30<00:25, 12.82it/s]\n",
      "  9%|▉         | 551/6075 [13:40<07:16, 12.66it/s]\u001b[A"
     ]
    },
    {
     "name": "stdout",
     "output_type": "stream",
     "text": [
      "{'loss': 0.1955, 'learning_rate': 1.0798353909465022e-06, 'epoch': 4.73}\n"
     ]
    },
    {
     "name": "stderr",
     "output_type": "stream",
     "text": [
      "                                                   \n",
      " 95%|█████████▌| 5800/6075 [12:34<00:21, 12.86it/s]\n",
      " 95%|█████████▌| 5801/6075 [12:34<00:21, 12.71it/s][A"
     ]
    },
    {
     "name": "stdout",
     "output_type": "stream",
     "text": [
      "{'loss': 0.1647, 'learning_rate': 9.152263374485597e-07, 'epoch': 4.77}\n"
     ]
    },
    {
     "name": "stderr",
     "output_type": "stream",
     "text": [
      "                                                   \n",
      " 96%|█████████▋| 5850/6075 [12:38<00:17, 12.81it/s]\n",
      "  9%|▉         | 551/6075 [13:48<07:16, 12.66it/s]\u001b[A"
     ]
    },
    {
     "name": "stdout",
     "output_type": "stream",
     "text": [
      "{'loss': 0.1768, 'learning_rate': 7.506172839506173e-07, 'epoch': 4.81}\n"
     ]
    },
    {
     "name": "stderr",
     "output_type": "stream",
     "text": [
      "                                                   \n",
      " 97%|█████████▋| 5900/6075 [12:42<00:13, 12.85it/s]\n",
      " 97%|█████████▋| 5901/6075 [12:42<00:13, 12.70it/s][A"
     ]
    },
    {
     "name": "stdout",
     "output_type": "stream",
     "text": [
      "{'loss': 0.1714, 'learning_rate': 5.860082304526749e-07, 'epoch': 4.86}\n"
     ]
    },
    {
     "name": "stderr",
     "output_type": "stream",
     "text": [
      "                                                   \n",
      " 98%|█████████▊| 5950/6075 [12:46<00:09, 12.86it/s]\n",
      "  9%|▉         | 551/6075 [13:56<07:16, 12.66it/s]\u001b[A"
     ]
    },
    {
     "name": "stdout",
     "output_type": "stream",
     "text": [
      "{'loss': 0.1777, 'learning_rate': 4.213991769547326e-07, 'epoch': 4.9}\n"
     ]
    },
    {
     "name": "stderr",
     "output_type": "stream",
     "text": [
      "                                                   \n",
      " 99%|█████████▉| 6000/6075 [12:50<00:05, 12.89it/s]\n",
      " 99%|█████████▉| 6001/6075 [12:50<00:05, 12.73it/s][A"
     ]
    },
    {
     "name": "stdout",
     "output_type": "stream",
     "text": [
      "{'loss': 0.1905, 'learning_rate': 2.5679012345679013e-07, 'epoch': 4.94}\n"
     ]
    },
    {
     "name": "stderr",
     "output_type": "stream",
     "text": [
      "                                                   \n",
      "100%|█████████▉| 6050/6075 [12:53<00:01, 12.89it/s]\n",
      "100%|█████████▉| 6051/6075 [12:54<00:01, 12.76it/s][A"
     ]
    },
    {
     "name": "stdout",
     "output_type": "stream",
     "text": [
      "{'loss': 0.197, 'learning_rate': 9.218106995884775e-08, 'epoch': 4.98}\n"
     ]
    },
    {
     "name": "stderr",
     "output_type": "stream",
     "text": [
      "100%|██████████| 6075/6075 [12:55<00:00, 12.96it/s]\n",
      "\n",
      "  0%|          | 0/123 [00:00<?, ?it/s]\u001b[A\u001b[A\n",
      "\n",
      "  5%|▍         | 6/123 [00:00<00:02, 51.51it/s]\u001b[A\u001b[A\n",
      "\n",
      " 10%|▉         | 12/123 [00:00<00:02, 45.84it/s]\u001b[A\u001b[A\n",
      "\n",
      " 14%|█▍        | 17/123 [00:00<00:02, 44.27it/s]\u001b[A\u001b[A\n",
      "\n",
      " 18%|█▊        | 22/123 [00:00<00:02, 43.48it/s]\u001b[A\u001b[A\n",
      "\n",
      " 22%|██▏       | 27/123 [00:00<00:02, 43.09it/s]\u001b[A\u001b[A\n",
      "\n",
      " 26%|██▌       | 32/123 [00:00<00:02, 42.85it/s]\u001b[A\u001b[A\n",
      "\n",
      " 30%|███       | 37/123 [00:00<00:02, 42.59it/s]\u001b[A\u001b[A\n",
      "\n",
      " 34%|███▍      | 42/123 [00:00<00:01, 42.42it/s]\u001b[A\u001b[A\n",
      "\n",
      " 38%|███▊      | 47/123 [00:01<00:01, 42.39it/s]\u001b[A\u001b[A\n",
      "\n",
      " 42%|████▏     | 52/123 [00:01<00:01, 42.29it/s]\u001b[A\u001b[A\n",
      "\n",
      " 46%|████▋     | 57/123 [00:01<00:01, 42.28it/s]\u001b[A\u001b[A\n",
      "\n",
      " 50%|█████     | 62/123 [00:01<00:01, 42.29it/s]\u001b[A\u001b[A\n",
      "\n",
      " 54%|█████▍    | 67/123 [00:01<00:01, 42.22it/s]\u001b[A\u001b[A\n",
      "\n",
      " 59%|█████▊    | 72/123 [00:01<00:01, 42.17it/s]\u001b[A\u001b[A\n",
      "\n",
      " 63%|██████▎   | 77/123 [00:01<00:01, 42.24it/s]\u001b[A\u001b[A\n",
      "\n",
      " 67%|██████▋   | 82/123 [00:01<00:00, 42.26it/s]\u001b[A\u001b[A\n",
      "\n",
      " 71%|███████   | 87/123 [00:02<00:00, 42.19it/s]\u001b[A\u001b[A\n",
      "\n",
      " 75%|███████▍  | 92/123 [00:02<00:00, 42.23it/s]\u001b[A\u001b[A\n",
      "\n",
      " 79%|███████▉  | 97/123 [00:02<00:00, 42.14it/s]\u001b[A\u001b[A\n",
      "\n",
      " 83%|████████▎ | 102/123 [00:02<00:00, 42.14it/s]\u001b[A\u001b[A\n",
      "\n",
      " 87%|████████▋ | 107/123 [00:02<00:00, 42.21it/s]\u001b[A\u001b[A\n",
      "\n",
      " 91%|█████████ | 112/123 [00:02<00:00, 42.28it/s]\u001b[A\u001b[A\n",
      "\n",
      " 95%|█████████▌| 117/123 [00:02<00:00, 42.24it/s]\u001b[A\u001b[A\n",
      "\n",
      "                                                   A\u001b[A\n",
      "\u001b[A                                               \n",
      "\n",
      "100%|██████████| 6075/6075 [12:58<00:00, 12.96it/s]\n",
      "  9%|▉         | 551/6075 [14:09<07:16, 12.66it/s]\u001b[A\n",
      "\n",
      "100%|██████████| 123/123 [00:02<00:00, 42.43it/s]\u001b[A\u001b[A\n",
      "\n",
      "                                                 \u001b[A\u001b[A"
     ]
    },
    {
     "name": "stdout",
     "output_type": "stream",
     "text": [
      "{'eval_loss': 0.2716367542743683, 'eval_accuracy': 0.9270435446906035, 'eval_precision_weighted': 0.9170402271213166, 'eval_recall_weighted': 0.9270435446906035, 'eval_f1_weighted': 0.9192004449388558, 'eval_runtime': 2.9249, 'eval_samples_per_second': 2685.202, 'eval_steps_per_second': 42.052, 'epoch': 5.0}\n"
     ]
    },
    {
     "name": "stderr",
     "output_type": "stream",
     "text": [
      "                                                   \n",
      "100%|██████████| 6075/6075 [14:10<00:00, 12.96it/s]\n",
      "100%|██████████| 6075/6075 [14:10<00:00,  7.14it/s][A"
     ]
    },
    {
     "name": "stdout",
     "output_type": "stream",
     "text": [
      "{'train_runtime': 850.3752, 'train_samples_per_second': 457.157, 'train_steps_per_second': 7.144, 'train_loss': 0.5933028385178052, 'epoch': 5.0}\n"
     ]
    },
    {
     "name": "stderr",
     "output_type": "stream",
     "text": [
      "\n"
     ]
    },
    {
     "data": {
      "text/plain": [
       "TrainOutput(global_step=6075, training_loss=0.5933028385178052, metrics={'train_runtime': 850.3752, 'train_samples_per_second': 457.157, 'train_steps_per_second': 7.144, 'train_loss': 0.5933028385178052, 'epoch': 5.0})"
      ]
     },
     "execution_count": 115,
     "metadata": {},
     "output_type": "execute_result"
    }
   ],
   "source": [
    "trainer.train()"
   ]
  },
  {
   "cell_type": "markdown",
   "id": "b223cbe0-dd8e-4921-bbef-538d3be7fcb1",
   "metadata": {},
   "source": [
    "Мы добились существенного прироста в качестве по сравнению с лог регерессией!\n",
    "\n",
    "Получили 0.9192 по F1 weighted\n",
    "\n",
    "![title](./bert_base_metric.png)"
   ]
  },
  {
   "cell_type": "code",
   "execution_count": null,
   "id": "6ed6c3f6-858f-4993-b029-f0ad07d72227",
   "metadata": {},
   "outputs": [],
   "source": []
  },
  {
   "cell_type": "markdown",
   "id": "002eaec1-f163-44da-a2aa-dbb2cd54f3e1",
   "metadata": {},
   "source": [
    "# Homework 2"
   ]
  },
  {
   "cell_type": "markdown",
   "id": "85395a2e-1362-461c-8e20-d382b95d0d60",
   "metadata": {},
   "source": [
    "### Roberta-large\n",
    "\n",
    "Просто берем берт модель побольше, к тому же она мульилингальная, поэтому токенайзер должен справиться"
   ]
  },
  {
   "cell_type": "code",
   "execution_count": 31,
   "id": "796d630c-e10b-4537-936d-16132d3b6d79",
   "metadata": {
    "execution": {
     "iopub.execute_input": "2025-03-25T18:59:34.905570Z",
     "iopub.status.busy": "2025-03-25T18:59:34.904647Z",
     "iopub.status.idle": "2025-03-25T18:59:39.163093Z",
     "shell.execute_reply": "2025-03-25T18:59:39.162385Z",
     "shell.execute_reply.started": "2025-03-25T18:59:34.905551Z"
    },
    "tags": []
   },
   "outputs": [],
   "source": [
    "from transformers import AutoTokenizer, AutoModelForSequenceClassification, Trainer, TrainingArguments\n",
    "\n",
    "model_checkpoint = \"FacebookAI/roberta-large\"\n",
    "tokenizer = AutoTokenizer.from_pretrained(model_checkpoint)"
   ]
  },
  {
   "cell_type": "code",
   "execution_count": null,
   "id": "93eca461-2cb4-4710-904c-fef084c209e4",
   "metadata": {
    "tags": []
   },
   "outputs": [],
   "source": [
    "def tokenize_function(examples):\n",
    "    return tokenizer(examples[\"text\"], truncation=True, padding='max_length', max_length=128)\n",
    "\n",
    "train_dataset = train_dataset.map(tokenize_function, batched=True)\n",
    "val_dataset = val_dataset.map(tokenize_function, batched=True)\n",
    "\n",
    "train_dataset.set_format(type='torch', columns=['input_ids', 'attention_mask', 'labels'])\n",
    "val_dataset.set_format(type='torch', columns=['input_ids', 'attention_mask', 'labels'])\n"
   ]
  },
  {
   "cell_type": "code",
   "execution_count": 33,
   "id": "941b5afd-0e6b-48ec-a23c-7f2e94674dd2",
   "metadata": {
    "execution": {
     "iopub.execute_input": "2025-03-25T18:59:45.434556Z",
     "iopub.status.busy": "2025-03-25T18:59:45.434005Z",
     "iopub.status.idle": "2025-03-25T19:02:21.000946Z",
     "shell.execute_reply": "2025-03-25T19:02:21.000190Z",
     "shell.execute_reply.started": "2025-03-25T18:59:45.434532Z"
    },
    "tags": []
   },
   "outputs": [
    {
     "name": "stderr",
     "output_type": "stream",
     "text": [
      "Some weights of XLMRobertaForSequenceClassification were not initialized from the model checkpoint at FacebookAI/xlm-roberta-large and are newly initialized: ['classifier.dense.bias', 'classifier.dense.weight', 'classifier.out_proj.bias', 'classifier.out_proj.weight']\n",
      "You should probably TRAIN this model on a down-stream task to be able to use it for predictions and inference.\n"
     ]
    }
   ],
   "source": [
    "num_labels = len(le.classes_)\n",
    "model = AutoModelForSequenceClassification.from_pretrained(model_checkpoint, num_labels=num_labels)\n",
    "\n",
    "model = model.to('cuda')"
   ]
  },
  {
   "cell_type": "code",
   "execution_count": 37,
   "id": "9aa83f7b-b1f0-4968-91e3-82419ecaacd3",
   "metadata": {
    "execution": {
     "iopub.execute_input": "2025-03-25T19:35:51.222941Z",
     "iopub.status.busy": "2025-03-25T19:35:51.222596Z",
     "iopub.status.idle": "2025-03-25T19:35:51.249015Z",
     "shell.execute_reply": "2025-03-25T19:35:51.248314Z",
     "shell.execute_reply.started": "2025-03-25T19:35:51.222924Z"
    },
    "tags": []
   },
   "outputs": [],
   "source": [
    "training_args = TrainingArguments(\n",
    "    output_dir=\"./results\",\n",
    "    evaluation_strategy=\"epoch\",\n",
    "    save_strategy=\"epoch\",\n",
    "    logging_strategy=\"steps\",\n",
    "    logging_steps=50,\n",
    "    learning_rate=2e-5,\n",
    "    per_device_train_batch_size=64,\n",
    "    per_device_eval_batch_size=64,\n",
    "    num_train_epochs=5,\n",
    "    weight_decay=0.01,\n",
    "    load_best_model_at_end=True,\n",
    "    metric_for_best_model=\"f1_weighted\",\n",
    "    #compute_metrics=compute_metrics,\n",
    "    report_to=\"wandb\",\n",
    "    \n",
    "    fp16=True,\n",
    ")"
   ]
  },
  {
   "cell_type": "code",
   "execution_count": 38,
   "id": "068e1149-8bcc-4613-9fa0-2ed63a9cb5ae",
   "metadata": {
    "execution": {
     "iopub.execute_input": "2025-03-25T19:35:55.335485Z",
     "iopub.status.busy": "2025-03-25T19:35:55.335057Z",
     "iopub.status.idle": "2025-03-25T19:35:55.364375Z",
     "shell.execute_reply": "2025-03-25T19:35:55.363782Z",
     "shell.execute_reply.started": "2025-03-25T19:35:55.335468Z"
    },
    "tags": []
   },
   "outputs": [],
   "source": [
    "trainer = Trainer(\n",
    "    model=model,\n",
    "    args=training_args,\n",
    "    train_dataset=train_dataset,\n",
    "    eval_dataset=val_dataset,\n",
    "    tokenizer=tokenizer,\n",
    "    compute_metrics=compute_metrics,\n",
    ")"
   ]
  },
  {
   "cell_type": "code",
   "execution_count": null,
   "id": "582e586e-39e0-4395-b15c-12f1072a447b",
   "metadata": {
    "tags": []
   },
   "outputs": [],
   "source": [
    "trainer.train()"
   ]
  },
  {
   "cell_type": "markdown",
   "id": "ffcfadc1-a3aa-48cf-9fb9-87481f5d89bb",
   "metadata": {},
   "source": [
    "Выбили 0.93917\n",
    "\n",
    "![title](./roberta_large_metric.png)"
   ]
  },
  {
   "cell_type": "markdown",
   "id": "8e340ec5-247b-4bd7-a310-2e21f92270f9",
   "metadata": {},
   "source": [
    "### Roberta-large с большим конкестным окном"
   ]
  },
  {
   "cell_type": "markdown",
   "id": "44e5ce11-3988-422f-a863-dee505b0ba54",
   "metadata": {},
   "source": [
    "Мы использовали конекст длины 128 токенов, поскольку кажется что этого болжно хватить, попробуем расширить его и посомтрим на качество"
   ]
  },
  {
   "cell_type": "code",
   "execution_count": 9,
   "id": "e163e288-6b00-4534-a12a-f3344c818398",
   "metadata": {
    "execution": {
     "iopub.execute_input": "2025-03-25T20:29:30.131570Z",
     "iopub.status.busy": "2025-03-25T20:29:30.131064Z",
     "iopub.status.idle": "2025-03-25T20:29:40.959287Z",
     "shell.execute_reply": "2025-03-25T20:29:40.958569Z",
     "shell.execute_reply.started": "2025-03-25T20:29:30.131554Z"
    },
    "tags": []
   },
   "outputs": [
    {
     "name": "stderr",
     "output_type": "stream",
     "text": [
      "Map: 100%|██████████| 77751/77751 [00:07<00:00, 9904.55 examples/s] \n",
      "Map: 100%|██████████| 7854/7854 [00:00<00:00, 10383.93 examples/s]\n",
      "Some weights of XLMRobertaForSequenceClassification were not initialized from the model checkpoint at FacebookAI/xlm-roberta-large and are newly initialized: ['classifier.dense.bias', 'classifier.dense.weight', 'classifier.out_proj.bias', 'classifier.out_proj.weight']\n",
      "You should probably TRAIN this model on a down-stream task to be able to use it for predictions and inference.\n"
     ]
    }
   ],
   "source": [
    "from transformers import AutoTokenizer, AutoModelForSequenceClassification, Trainer, TrainingArguments\n",
    "\n",
    "model_checkpoint = \"FacebookAI/xlm-roberta-large\"\n",
    "tokenizer = AutoTokenizer.from_pretrained(model_checkpoint)\n",
    "\n",
    "def tokenize_function(examples):\n",
    "    return tokenizer(examples[\"text\"], truncation=True, padding='max_length', max_length=256)\n",
    "\n",
    "train_dataset = train_dataset.map(tokenize_function, batched=True)\n",
    "val_dataset = val_dataset.map(tokenize_function, batched=True)\n",
    "\n",
    "train_dataset.set_format(type='torch', columns=['input_ids', 'attention_mask', 'labels'])\n",
    "val_dataset.set_format(type='torch', columns=['input_ids', 'attention_mask', 'labels'])\n",
    "\n",
    "\n",
    "num_labels = len(le.classes_)\n",
    "model = AutoModelForSequenceClassification.from_pretrained(model_checkpoint, num_labels=num_labels)\n",
    "\n",
    "model = model.to('cuda')"
   ]
  },
  {
   "cell_type": "code",
   "execution_count": 14,
   "id": "9e0be4e1-81a8-4302-8aff-aedb0a21d339",
   "metadata": {
    "execution": {
     "iopub.execute_input": "2025-03-25T20:31:40.458658Z",
     "iopub.status.busy": "2025-03-25T20:31:40.458320Z",
     "iopub.status.idle": "2025-03-25T20:31:40.484341Z",
     "shell.execute_reply": "2025-03-25T20:31:40.483690Z",
     "shell.execute_reply.started": "2025-03-25T20:31:40.458642Z"
    },
    "tags": []
   },
   "outputs": [],
   "source": [
    "training_args = TrainingArguments(\n",
    "    output_dir=\"./results\",\n",
    "    run_name=\"roberta-large-larger-context\", \n",
    "    evaluation_strategy=\"epoch\",\n",
    "    save_strategy=\"no\",\n",
    "    logging_strategy=\"steps\",\n",
    "    logging_steps=50,\n",
    "    learning_rate=2e-5,\n",
    "    per_device_train_batch_size=64,\n",
    "    per_device_eval_batch_size=64,\n",
    "    num_train_epochs=5,\n",
    "    weight_decay=0.01,\n",
    "    #load_best_model_at_end=True,\n",
    "    metric_for_best_model=\"f1_weighted\",\n",
    "    #compute_metrics=compute_metrics,\n",
    "    report_to=\"wandb\",\n",
    "    \n",
    "    fp16=True,\n",
    ")"
   ]
  },
  {
   "cell_type": "code",
   "execution_count": 15,
   "id": "9483d74c-b48d-4bc1-b530-416242ac0393",
   "metadata": {
    "execution": {
     "iopub.execute_input": "2025-03-25T20:31:43.144094Z",
     "iopub.status.busy": "2025-03-25T20:31:43.143842Z",
     "iopub.status.idle": "2025-03-25T20:31:43.177834Z",
     "shell.execute_reply": "2025-03-25T20:31:43.177225Z",
     "shell.execute_reply.started": "2025-03-25T20:31:43.144076Z"
    },
    "tags": []
   },
   "outputs": [],
   "source": [
    "trainer = Trainer(\n",
    "    model=model,\n",
    "    args=training_args,\n",
    "    train_dataset=train_dataset,\n",
    "    eval_dataset=val_dataset,\n",
    "    tokenizer=tokenizer,\n",
    "    compute_metrics=compute_metrics,\n",
    ")"
   ]
  },
  {
   "cell_type": "code",
   "execution_count": 16,
   "id": "78e9521a-7f76-49d4-86c4-53309bdf88a7",
   "metadata": {
    "collapsed": true,
    "execution": {
     "iopub.execute_input": "2025-03-25T20:31:44.065255Z",
     "iopub.status.busy": "2025-03-25T20:31:44.064996Z",
     "iopub.status.idle": "2025-03-25T21:02:13.552888Z",
     "shell.execute_reply": "2025-03-25T21:02:13.552281Z",
     "shell.execute_reply.started": "2025-03-25T20:31:44.065236Z"
    },
    "jupyter": {
     "outputs_hidden": true
    },
    "tags": []
   },
   "outputs": [
    {
     "name": "stderr",
     "output_type": "stream",
     "text": [
      "  5%|▍         | 290/6075 [01:57<39:03,  2.47it/s]\n",
      "  1%|          | 50/6075 [00:14<29:15,  3.43it/s]"
     ]
    },
    {
     "name": "stdout",
     "output_type": "stream",
     "text": [
      "{'loss': 1.3949, 'grad_norm': 8.889849662780762, 'learning_rate': 1.983868312757202e-05, 'epoch': 0.04}\n"
     ]
    },
    {
     "name": "stderr",
     "output_type": "stream",
     "text": [
      "  2%|▏         | 100/6075 [00:29<29:03,  3.43it/s]"
     ]
    },
    {
     "name": "stdout",
     "output_type": "stream",
     "text": [
      "{'loss': 1.168, 'grad_norm': 25.489986419677734, 'learning_rate': 1.9677366255144036e-05, 'epoch': 0.08}\n"
     ]
    },
    {
     "name": "stderr",
     "output_type": "stream",
     "text": [
      "  2%|▏         | 150/6075 [00:43<28:44,  3.44it/s]"
     ]
    },
    {
     "name": "stdout",
     "output_type": "stream",
     "text": [
      "{'loss': 1.1126, 'grad_norm': 19.05661964416504, 'learning_rate': 1.951604938271605e-05, 'epoch': 0.12}\n"
     ]
    },
    {
     "name": "stderr",
     "output_type": "stream",
     "text": [
      "  3%|▎         | 200/6075 [00:58<28:35,  3.42it/s]"
     ]
    },
    {
     "name": "stdout",
     "output_type": "stream",
     "text": [
      "{'loss': 0.9963, 'grad_norm': 8.729838371276855, 'learning_rate': 1.935144032921811e-05, 'epoch': 0.16}\n"
     ]
    },
    {
     "name": "stderr",
     "output_type": "stream",
     "text": [
      "  4%|▍         | 250/6075 [01:13<28:23,  3.42it/s]"
     ]
    },
    {
     "name": "stdout",
     "output_type": "stream",
     "text": [
      "{'loss': 0.9309, 'grad_norm': 12.446684837341309, 'learning_rate': 1.9190123456790124e-05, 'epoch': 0.21}\n"
     ]
    },
    {
     "name": "stderr",
     "output_type": "stream",
     "text": [
      "  5%|▍         | 300/6075 [01:27<28:06,  3.42it/s]"
     ]
    },
    {
     "name": "stdout",
     "output_type": "stream",
     "text": [
      "{'loss': 0.8769, 'grad_norm': 10.872164726257324, 'learning_rate': 1.902551440329218e-05, 'epoch': 0.25}\n"
     ]
    },
    {
     "name": "stderr",
     "output_type": "stream",
     "text": [
      "  6%|▌         | 350/6075 [01:42<27:53,  3.42it/s]"
     ]
    },
    {
     "name": "stdout",
     "output_type": "stream",
     "text": [
      "{'loss': 0.9011, 'grad_norm': 8.636470794677734, 'learning_rate': 1.8864197530864198e-05, 'epoch': 0.29}\n"
     ]
    },
    {
     "name": "stderr",
     "output_type": "stream",
     "text": [
      "  7%|▋         | 400/6075 [01:57<27:42,  3.41it/s]"
     ]
    },
    {
     "name": "stdout",
     "output_type": "stream",
     "text": [
      "{'loss': 0.8519, 'grad_norm': 9.89035701751709, 'learning_rate': 1.8699588477366258e-05, 'epoch': 0.33}\n"
     ]
    },
    {
     "name": "stderr",
     "output_type": "stream",
     "text": [
      "  7%|▋         | 450/6075 [02:11<27:25,  3.42it/s]"
     ]
    },
    {
     "name": "stdout",
     "output_type": "stream",
     "text": [
      "{'loss': 0.8071, 'grad_norm': 9.007020950317383, 'learning_rate': 1.8534979423868315e-05, 'epoch': 0.37}\n"
     ]
    },
    {
     "name": "stderr",
     "output_type": "stream",
     "text": [
      "  8%|▊         | 500/6075 [02:26<27:10,  3.42it/s]"
     ]
    },
    {
     "name": "stdout",
     "output_type": "stream",
     "text": [
      "{'loss': 0.7844, 'grad_norm': 10.78194808959961, 'learning_rate': 1.837037037037037e-05, 'epoch': 0.41}\n"
     ]
    },
    {
     "name": "stderr",
     "output_type": "stream",
     "text": [
      "  9%|▉         | 550/6075 [02:40<26:54,  3.42it/s]"
     ]
    },
    {
     "name": "stdout",
     "output_type": "stream",
     "text": [
      "{'loss': 0.7452, 'grad_norm': 9.183625221252441, 'learning_rate': 1.820576131687243e-05, 'epoch': 0.45}\n"
     ]
    },
    {
     "name": "stderr",
     "output_type": "stream",
     "text": [
      " 10%|▉         | 600/6075 [02:55<26:38,  3.42it/s]"
     ]
    },
    {
     "name": "stdout",
     "output_type": "stream",
     "text": [
      "{'loss': 0.7155, 'grad_norm': 7.991519927978516, 'learning_rate': 1.8041152263374485e-05, 'epoch': 0.49}\n"
     ]
    },
    {
     "name": "stderr",
     "output_type": "stream",
     "text": [
      " 11%|█         | 650/6075 [03:10<26:25,  3.42it/s]"
     ]
    },
    {
     "name": "stdout",
     "output_type": "stream",
     "text": [
      "{'loss': 0.6934, 'grad_norm': 7.54644775390625, 'learning_rate': 1.7876543209876545e-05, 'epoch': 0.53}\n"
     ]
    },
    {
     "name": "stderr",
     "output_type": "stream",
     "text": [
      " 12%|█▏        | 700/6075 [03:24<26:10,  3.42it/s]"
     ]
    },
    {
     "name": "stdout",
     "output_type": "stream",
     "text": [
      "{'loss': 0.6573, 'grad_norm': 11.885050773620605, 'learning_rate': 1.77119341563786e-05, 'epoch': 0.58}\n"
     ]
    },
    {
     "name": "stderr",
     "output_type": "stream",
     "text": [
      " 12%|█▏        | 750/6075 [03:39<25:54,  3.42it/s]"
     ]
    },
    {
     "name": "stdout",
     "output_type": "stream",
     "text": [
      "{'loss': 0.6448, 'grad_norm': 13.617473602294922, 'learning_rate': 1.7547325102880658e-05, 'epoch': 0.62}\n"
     ]
    },
    {
     "name": "stderr",
     "output_type": "stream",
     "text": [
      " 13%|█▎        | 800/6075 [03:53<25:42,  3.42it/s]"
     ]
    },
    {
     "name": "stdout",
     "output_type": "stream",
     "text": [
      "{'loss': 0.623, 'grad_norm': 14.181900978088379, 'learning_rate': 1.7382716049382718e-05, 'epoch': 0.66}\n"
     ]
    },
    {
     "name": "stderr",
     "output_type": "stream",
     "text": [
      " 14%|█▍        | 850/6075 [04:08<25:28,  3.42it/s]"
     ]
    },
    {
     "name": "stdout",
     "output_type": "stream",
     "text": [
      "{'loss': 0.5914, 'grad_norm': 16.169076919555664, 'learning_rate': 1.7218106995884775e-05, 'epoch': 0.7}\n"
     ]
    },
    {
     "name": "stderr",
     "output_type": "stream",
     "text": [
      " 15%|█▍        | 900/6075 [04:23<25:13,  3.42it/s]"
     ]
    },
    {
     "name": "stdout",
     "output_type": "stream",
     "text": [
      "{'loss': 0.5706, 'grad_norm': 9.073586463928223, 'learning_rate': 1.705349794238683e-05, 'epoch': 0.74}\n"
     ]
    },
    {
     "name": "stderr",
     "output_type": "stream",
     "text": [
      " 16%|█▌        | 950/6075 [04:37<24:59,  3.42it/s]"
     ]
    },
    {
     "name": "stdout",
     "output_type": "stream",
     "text": [
      "{'loss': 0.5718, 'grad_norm': 11.268794059753418, 'learning_rate': 1.688888888888889e-05, 'epoch': 0.78}\n"
     ]
    },
    {
     "name": "stderr",
     "output_type": "stream",
     "text": [
      " 16%|█▋        | 1000/6075 [04:52<24:43,  3.42it/s]"
     ]
    },
    {
     "name": "stdout",
     "output_type": "stream",
     "text": [
      "{'loss': 0.5645, 'grad_norm': 9.893173217773438, 'learning_rate': 1.6724279835390948e-05, 'epoch': 0.82}\n"
     ]
    },
    {
     "name": "stderr",
     "output_type": "stream",
     "text": [
      " 17%|█▋        | 1050/6075 [05:07<24:28,  3.42it/s]"
     ]
    },
    {
     "name": "stdout",
     "output_type": "stream",
     "text": [
      "{'loss': 0.5458, 'grad_norm': 8.981040000915527, 'learning_rate': 1.6559670781893005e-05, 'epoch': 0.86}\n"
     ]
    },
    {
     "name": "stderr",
     "output_type": "stream",
     "text": [
      " 18%|█▊        | 1100/6075 [05:21<24:15,  3.42it/s]"
     ]
    },
    {
     "name": "stdout",
     "output_type": "stream",
     "text": [
      "{'loss': 0.5229, 'grad_norm': 17.6046142578125, 'learning_rate': 1.6395061728395065e-05, 'epoch': 0.91}\n"
     ]
    },
    {
     "name": "stderr",
     "output_type": "stream",
     "text": [
      " 19%|█▉        | 1150/6075 [05:36<23:59,  3.42it/s]"
     ]
    },
    {
     "name": "stdout",
     "output_type": "stream",
     "text": [
      "{'loss': 0.5382, 'grad_norm': 10.464254379272461, 'learning_rate': 1.623045267489712e-05, 'epoch': 0.95}\n"
     ]
    },
    {
     "name": "stderr",
     "output_type": "stream",
     "text": [
      "                                                   \r"
     ]
    },
    {
     "name": "stdout",
     "output_type": "stream",
     "text": [
      "{'loss': 0.4978, 'grad_norm': 10.46580982208252, 'learning_rate': 1.6065843621399178e-05, 'epoch': 0.99}\n"
     ]
    },
    {
     "name": "stderr",
     "output_type": "stream",
     "text": [
      " 20%|██        | 1215/6075 [05:55<22:46,  3.56it/s]\n",
      "  0%|          | 0/123 [00:00<?, ?it/s]\u001b[A\n",
      "  2%|▏         | 3/123 [00:00<00:06, 17.56it/s]\u001b[A\n",
      "  4%|▍         | 5/123 [00:00<00:08, 14.09it/s]\u001b[A\n",
      "  6%|▌         | 7/123 [00:00<00:08, 12.97it/s]\u001b[A\n",
      "  7%|▋         | 9/123 [00:00<00:09, 12.43it/s]\u001b[A\n",
      "  9%|▉         | 11/123 [00:00<00:09, 12.15it/s]\u001b[A\n",
      " 11%|█         | 13/123 [00:01<00:09, 11.97it/s]\u001b[A\n",
      " 12%|█▏        | 15/123 [00:01<00:09, 11.88it/s]\u001b[A\n",
      " 14%|█▍        | 17/123 [00:01<00:08, 11.81it/s]\u001b[A\n",
      " 15%|█▌        | 19/123 [00:01<00:08, 11.76it/s]\u001b[A\n",
      " 17%|█▋        | 21/123 [00:01<00:08, 11.74it/s]\u001b[A\n",
      " 19%|█▊        | 23/123 [00:01<00:08, 11.71it/s]\u001b[A\n",
      " 20%|██        | 25/123 [00:02<00:08, 11.69it/s]\u001b[A\n",
      " 22%|██▏       | 27/123 [00:02<00:08, 11.68it/s]\u001b[A\n",
      " 24%|██▎       | 29/123 [00:02<00:08, 11.67it/s]\u001b[A\n",
      " 25%|██▌       | 31/123 [00:02<00:07, 11.66it/s]\u001b[A\n",
      " 27%|██▋       | 33/123 [00:02<00:07, 11.66it/s]\u001b[A\n",
      " 28%|██▊       | 35/123 [00:02<00:07, 11.65it/s]\u001b[A\n",
      " 30%|███       | 37/123 [00:03<00:07, 11.66it/s]\u001b[A\n",
      " 32%|███▏      | 39/123 [00:03<00:07, 11.64it/s]\u001b[A\n",
      " 33%|███▎      | 41/123 [00:03<00:07, 11.64it/s]\u001b[A\n",
      " 35%|███▍      | 43/123 [00:03<00:06, 11.64it/s]\u001b[A\n",
      " 37%|███▋      | 45/123 [00:03<00:06, 11.64it/s]\u001b[A\n",
      " 38%|███▊      | 47/123 [00:03<00:06, 11.64it/s]\u001b[A\n",
      " 40%|███▉      | 49/123 [00:04<00:06, 11.66it/s]\u001b[A\n",
      " 41%|████▏     | 51/123 [00:04<00:06, 11.64it/s]\u001b[A\n",
      " 43%|████▎     | 53/123 [00:04<00:06, 11.64it/s]\u001b[A\n",
      " 45%|████▍     | 55/123 [00:04<00:05, 11.64it/s]\u001b[A\n",
      " 46%|████▋     | 57/123 [00:04<00:05, 11.64it/s]\u001b[A\n",
      " 48%|████▊     | 59/123 [00:04<00:05, 11.64it/s]\u001b[A\n",
      " 50%|████▉     | 61/123 [00:05<00:05, 11.63it/s]\u001b[A\n",
      " 51%|█████     | 63/123 [00:05<00:05, 11.63it/s]\u001b[A\n",
      " 53%|█████▎    | 65/123 [00:05<00:04, 11.61it/s]\u001b[A\n",
      " 54%|█████▍    | 67/123 [00:05<00:04, 11.62it/s]\u001b[A\n",
      " 56%|█████▌    | 69/123 [00:05<00:04, 11.54it/s]\u001b[A\n",
      " 58%|█████▊    | 71/123 [00:06<00:04, 11.57it/s]\u001b[A\n",
      " 59%|█████▉    | 73/123 [00:06<00:04, 11.58it/s]\u001b[A\n",
      " 61%|██████    | 75/123 [00:06<00:04, 11.61it/s]\u001b[A\n",
      " 63%|██████▎   | 77/123 [00:06<00:03, 11.62it/s]\u001b[A\n",
      " 64%|██████▍   | 79/123 [00:06<00:03, 11.63it/s]\u001b[A\n",
      " 66%|██████▌   | 81/123 [00:06<00:03, 11.64it/s]\u001b[A\n",
      " 67%|██████▋   | 83/123 [00:07<00:03, 11.64it/s]\u001b[A\n",
      " 69%|██████▉   | 85/123 [00:07<00:03, 11.62it/s]\u001b[A\n",
      " 71%|███████   | 87/123 [00:07<00:03, 11.63it/s]\u001b[A\n",
      " 72%|███████▏  | 89/123 [00:07<00:02, 11.63it/s]\u001b[A\n",
      " 74%|███████▍  | 91/123 [00:07<00:02, 11.62it/s]\u001b[A\n",
      " 76%|███████▌  | 93/123 [00:07<00:02, 11.62it/s]\u001b[A\n",
      " 77%|███████▋  | 95/123 [00:08<00:02, 11.62it/s]\u001b[A\n",
      " 79%|███████▉  | 97/123 [00:08<00:02, 11.63it/s]\u001b[A\n",
      " 80%|████████  | 99/123 [00:08<00:02, 11.63it/s]\u001b[A\n",
      " 82%|████████▏ | 101/123 [00:08<00:01, 11.63it/s]\u001b[A\n",
      " 84%|████████▎ | 103/123 [00:08<00:01, 11.63it/s]\u001b[A\n",
      " 85%|████████▌ | 105/123 [00:08<00:01, 11.63it/s]\u001b[A\n",
      " 87%|████████▋ | 107/123 [00:09<00:01, 11.64it/s]\u001b[A\n",
      " 89%|████████▊ | 109/123 [00:09<00:01, 11.63it/s]\u001b[A\n",
      " 90%|█████████ | 111/123 [00:09<00:01, 11.62it/s]\u001b[A\n",
      " 92%|█████████▏| 113/123 [00:09<00:00, 11.63it/s]\u001b[A\n",
      " 93%|█████████▎| 115/123 [00:09<00:00, 11.63it/s]\u001b[A\n",
      " 95%|█████████▌| 117/123 [00:09<00:00, 11.63it/s]\u001b[A\n",
      " 97%|█████████▋| 119/123 [00:10<00:00, 11.62it/s]\u001b[A\n",
      " 98%|█████████▊| 121/123 [00:10<00:00, 11.62it/s]\u001b[A\n",
      "100%|██████████| 123/123 [00:10<00:00, 12.25it/s]\u001b[A\n",
      "                                                   \n",
      " 20%|██        | 1215/6075 [06:05<22:46,  3.56it/s]A\n",
      "                                                 \u001b[A"
     ]
    },
    {
     "name": "stdout",
     "output_type": "stream",
     "text": [
      "{'eval_loss': 0.45115241408348083, 'eval_accuracy': 0.8792971734148205, 'eval_precision_weighted': 0.8725492053206642, 'eval_recall_weighted': 0.8792971734148205, 'eval_f1_weighted': 0.8681265538288452, 'eval_runtime': 10.5822, 'eval_samples_per_second': 742.193, 'eval_steps_per_second': 11.623, 'epoch': 1.0}\n"
     ]
    },
    {
     "name": "stderr",
     "output_type": "stream",
     "text": [
      " 21%|██        | 1250/6075 [06:16<23:31,  3.42it/s]  "
     ]
    },
    {
     "name": "stdout",
     "output_type": "stream",
     "text": [
      "{'loss': 0.4679, 'grad_norm': 12.975830078125, 'learning_rate': 1.5901234567901235e-05, 'epoch': 1.03}\n"
     ]
    },
    {
     "name": "stderr",
     "output_type": "stream",
     "text": [
      " 21%|██▏       | 1300/6075 [06:30<23:15,  3.42it/s]"
     ]
    },
    {
     "name": "stdout",
     "output_type": "stream",
     "text": [
      "{'loss': 0.4182, 'grad_norm': 11.689915657043457, 'learning_rate': 1.5736625514403295e-05, 'epoch': 1.07}\n"
     ]
    },
    {
     "name": "stderr",
     "output_type": "stream",
     "text": [
      " 22%|██▏       | 1350/6075 [06:45<23:01,  3.42it/s]"
     ]
    },
    {
     "name": "stdout",
     "output_type": "stream",
     "text": [
      "{'loss': 0.3989, 'grad_norm': 23.507619857788086, 'learning_rate': 1.557201646090535e-05, 'epoch': 1.11}\n"
     ]
    },
    {
     "name": "stderr",
     "output_type": "stream",
     "text": [
      " 23%|██▎       | 1400/6075 [06:59<22:46,  3.42it/s]"
     ]
    },
    {
     "name": "stdout",
     "output_type": "stream",
     "text": [
      "{'loss': 0.4059, 'grad_norm': 19.35831642150879, 'learning_rate': 1.5407407407407408e-05, 'epoch': 1.15}\n"
     ]
    },
    {
     "name": "stderr",
     "output_type": "stream",
     "text": [
      " 24%|██▍       | 1450/6075 [07:14<22:34,  3.42it/s]"
     ]
    },
    {
     "name": "stdout",
     "output_type": "stream",
     "text": [
      "{'loss': 0.4254, 'grad_norm': 8.673322677612305, 'learning_rate': 1.5242798353909466e-05, 'epoch': 1.19}\n"
     ]
    },
    {
     "name": "stderr",
     "output_type": "stream",
     "text": [
      " 25%|██▍       | 1500/6075 [07:29<22:18,  3.42it/s]"
     ]
    },
    {
     "name": "stdout",
     "output_type": "stream",
     "text": [
      "{'loss': 0.3937, 'grad_norm': 7.128696441650391, 'learning_rate': 1.5078189300411523e-05, 'epoch': 1.23}\n"
     ]
    },
    {
     "name": "stderr",
     "output_type": "stream",
     "text": [
      " 26%|██▌       | 1550/6075 [07:43<22:01,  3.42it/s]"
     ]
    },
    {
     "name": "stdout",
     "output_type": "stream",
     "text": [
      "{'loss': 0.3779, 'grad_norm': 4.56746244430542, 'learning_rate': 1.4913580246913581e-05, 'epoch': 1.28}\n"
     ]
    },
    {
     "name": "stderr",
     "output_type": "stream",
     "text": [
      " 26%|██▋       | 1600/6075 [07:58<21:47,  3.42it/s]"
     ]
    },
    {
     "name": "stdout",
     "output_type": "stream",
     "text": [
      "{'loss': 0.3685, 'grad_norm': 7.164726257324219, 'learning_rate': 1.474897119341564e-05, 'epoch': 1.32}\n"
     ]
    },
    {
     "name": "stderr",
     "output_type": "stream",
     "text": [
      " 27%|██▋       | 1650/6075 [08:13<21:33,  3.42it/s]"
     ]
    },
    {
     "name": "stdout",
     "output_type": "stream",
     "text": [
      "{'loss': 0.3805, 'grad_norm': 10.838441848754883, 'learning_rate': 1.4584362139917696e-05, 'epoch': 1.36}\n"
     ]
    },
    {
     "name": "stderr",
     "output_type": "stream",
     "text": [
      " 28%|██▊       | 1700/6075 [08:27<21:17,  3.43it/s]"
     ]
    },
    {
     "name": "stdout",
     "output_type": "stream",
     "text": [
      "{'loss': 0.3831, 'grad_norm': 8.946393966674805, 'learning_rate': 1.4419753086419755e-05, 'epoch': 1.4}\n"
     ]
    },
    {
     "name": "stderr",
     "output_type": "stream",
     "text": [
      " 29%|██▉       | 1750/6075 [08:42<21:04,  3.42it/s]"
     ]
    },
    {
     "name": "stdout",
     "output_type": "stream",
     "text": [
      "{'loss': 0.3629, 'grad_norm': 10.156573295593262, 'learning_rate': 1.4255144032921813e-05, 'epoch': 1.44}\n"
     ]
    },
    {
     "name": "stderr",
     "output_type": "stream",
     "text": [
      " 30%|██▉       | 1800/6075 [08:56<20:49,  3.42it/s]"
     ]
    },
    {
     "name": "stdout",
     "output_type": "stream",
     "text": [
      "{'loss': 0.349, 'grad_norm': 8.762297630310059, 'learning_rate': 1.409053497942387e-05, 'epoch': 1.48}\n"
     ]
    },
    {
     "name": "stderr",
     "output_type": "stream",
     "text": [
      " 30%|███       | 1850/6075 [09:11<20:33,  3.42it/s]"
     ]
    },
    {
     "name": "stdout",
     "output_type": "stream",
     "text": [
      "{'loss': 0.3554, 'grad_norm': 9.245150566101074, 'learning_rate': 1.3925925925925928e-05, 'epoch': 1.52}\n"
     ]
    },
    {
     "name": "stderr",
     "output_type": "stream",
     "text": [
      " 31%|███▏      | 1900/6075 [09:26<20:20,  3.42it/s]"
     ]
    },
    {
     "name": "stdout",
     "output_type": "stream",
     "text": [
      "{'loss': 0.3472, 'grad_norm': 10.250204086303711, 'learning_rate': 1.3761316872427986e-05, 'epoch': 1.56}\n"
     ]
    },
    {
     "name": "stderr",
     "output_type": "stream",
     "text": [
      " 32%|███▏      | 1950/6075 [09:40<20:05,  3.42it/s]"
     ]
    },
    {
     "name": "stdout",
     "output_type": "stream",
     "text": [
      "{'loss': 0.3408, 'grad_norm': 5.220067024230957, 'learning_rate': 1.3596707818930041e-05, 'epoch': 1.6}\n"
     ]
    },
    {
     "name": "stderr",
     "output_type": "stream",
     "text": [
      " 33%|███▎      | 2000/6075 [09:55<19:50,  3.42it/s]"
     ]
    },
    {
     "name": "stdout",
     "output_type": "stream",
     "text": [
      "{'loss': 0.3502, 'grad_norm': 9.181870460510254, 'learning_rate': 1.34320987654321e-05, 'epoch': 1.65}\n"
     ]
    },
    {
     "name": "stderr",
     "output_type": "stream",
     "text": [
      " 34%|███▎      | 2050/6075 [10:09<19:37,  3.42it/s]"
     ]
    },
    {
     "name": "stdout",
     "output_type": "stream",
     "text": [
      "{'loss': 0.3072, 'grad_norm': 6.655932903289795, 'learning_rate': 1.3267489711934158e-05, 'epoch': 1.69}\n"
     ]
    },
    {
     "name": "stderr",
     "output_type": "stream",
     "text": [
      " 35%|███▍      | 2100/6075 [10:24<19:21,  3.42it/s]"
     ]
    },
    {
     "name": "stdout",
     "output_type": "stream",
     "text": [
      "{'loss': 0.3406, 'grad_norm': 8.802590370178223, 'learning_rate': 1.3102880658436215e-05, 'epoch': 1.73}\n"
     ]
    },
    {
     "name": "stderr",
     "output_type": "stream",
     "text": [
      " 35%|███▌      | 2150/6075 [10:39<19:06,  3.42it/s]"
     ]
    },
    {
     "name": "stdout",
     "output_type": "stream",
     "text": [
      "{'loss': 0.3232, 'grad_norm': 12.35608196258545, 'learning_rate': 1.2938271604938273e-05, 'epoch': 1.77}\n"
     ]
    },
    {
     "name": "stderr",
     "output_type": "stream",
     "text": [
      " 36%|███▌      | 2200/6075 [10:53<18:52,  3.42it/s]"
     ]
    },
    {
     "name": "stdout",
     "output_type": "stream",
     "text": [
      "{'loss': 0.34, 'grad_norm': 6.683174133300781, 'learning_rate': 1.2773662551440331e-05, 'epoch': 1.81}\n"
     ]
    },
    {
     "name": "stderr",
     "output_type": "stream",
     "text": [
      " 37%|███▋      | 2250/6075 [11:08<18:38,  3.42it/s]"
     ]
    },
    {
     "name": "stdout",
     "output_type": "stream",
     "text": [
      "{'loss': 0.3167, 'grad_norm': 10.690791130065918, 'learning_rate': 1.2609053497942388e-05, 'epoch': 1.85}\n"
     ]
    },
    {
     "name": "stderr",
     "output_type": "stream",
     "text": [
      " 38%|███▊      | 2300/6075 [11:23<18:24,  3.42it/s]"
     ]
    },
    {
     "name": "stdout",
     "output_type": "stream",
     "text": [
      "{'loss': 0.3228, 'grad_norm': 8.4686918258667, 'learning_rate': 1.2444444444444446e-05, 'epoch': 1.89}\n"
     ]
    },
    {
     "name": "stderr",
     "output_type": "stream",
     "text": [
      " 39%|███▊      | 2350/6075 [11:37<18:07,  3.42it/s]"
     ]
    },
    {
     "name": "stdout",
     "output_type": "stream",
     "text": [
      "{'loss': 0.3062, 'grad_norm': 8.30577564239502, 'learning_rate': 1.2279835390946505e-05, 'epoch': 1.93}\n"
     ]
    },
    {
     "name": "stderr",
     "output_type": "stream",
     "text": [
      " 40%|███▉      | 2400/6075 [11:52<17:54,  3.42it/s]"
     ]
    },
    {
     "name": "stdout",
     "output_type": "stream",
     "text": [
      "{'loss': 0.2961, 'grad_norm': 6.96280574798584, 'learning_rate': 1.211522633744856e-05, 'epoch': 1.98}\n"
     ]
    },
    {
     "name": "stderr",
     "output_type": "stream",
     "text": [
      " 40%|████      | 2430/6075 [12:01<17:07,  3.55it/s]\n",
      "  0%|          | 0/123 [00:00<?, ?it/s]\u001b[A\n",
      "  2%|▏         | 3/123 [00:00<00:06, 17.61it/s]\u001b[A\n",
      "  4%|▍         | 5/123 [00:00<00:08, 14.09it/s]\u001b[A\n",
      "  6%|▌         | 7/123 [00:00<00:08, 12.95it/s]\u001b[A\n",
      "  7%|▋         | 9/123 [00:00<00:09, 12.42it/s]\u001b[A\n",
      "  9%|▉         | 11/123 [00:00<00:09, 12.15it/s]\u001b[A\n",
      " 11%|█         | 13/123 [00:01<00:09, 11.96it/s]\u001b[A\n",
      " 12%|█▏        | 15/123 [00:01<00:09, 11.84it/s]\u001b[A\n",
      " 14%|█▍        | 17/123 [00:01<00:09, 11.76it/s]\u001b[A\n",
      " 15%|█▌        | 19/123 [00:01<00:08, 11.72it/s]\u001b[A\n",
      " 17%|█▋        | 21/123 [00:01<00:08, 11.68it/s]\u001b[A\n",
      " 19%|█▊        | 23/123 [00:01<00:08, 11.66it/s]\u001b[A\n",
      " 20%|██        | 25/123 [00:02<00:08, 11.64it/s]\u001b[A\n",
      " 22%|██▏       | 27/123 [00:02<00:08, 11.63it/s]\u001b[A\n",
      " 24%|██▎       | 29/123 [00:02<00:08, 11.63it/s]\u001b[A\n",
      " 25%|██▌       | 31/123 [00:02<00:07, 11.62it/s]\u001b[A\n",
      " 27%|██▋       | 33/123 [00:02<00:07, 11.62it/s]\u001b[A\n",
      " 28%|██▊       | 35/123 [00:02<00:07, 11.63it/s]\u001b[A\n",
      " 30%|███       | 37/123 [00:03<00:07, 11.63it/s]\u001b[A\n",
      " 32%|███▏      | 39/123 [00:03<00:07, 11.62it/s]\u001b[A\n",
      " 33%|███▎      | 41/123 [00:03<00:07, 11.62it/s]\u001b[A\n",
      " 35%|███▍      | 43/123 [00:03<00:06, 11.61it/s]\u001b[A\n",
      " 37%|███▋      | 45/123 [00:03<00:06, 11.61it/s]\u001b[A\n",
      " 38%|███▊      | 47/123 [00:03<00:06, 11.62it/s]\u001b[A\n",
      " 40%|███▉      | 49/123 [00:04<00:06, 11.62it/s]\u001b[A\n",
      " 41%|████▏     | 51/123 [00:04<00:06, 11.62it/s]\u001b[A\n",
      " 43%|████▎     | 53/123 [00:04<00:06, 11.61it/s]\u001b[A\n",
      " 45%|████▍     | 55/123 [00:04<00:05, 11.61it/s]\u001b[A\n",
      " 46%|████▋     | 57/123 [00:04<00:05, 11.61it/s]\u001b[A\n",
      " 48%|████▊     | 59/123 [00:04<00:05, 11.60it/s]\u001b[A\n",
      " 50%|████▉     | 61/123 [00:05<00:05, 11.60it/s]\u001b[A\n",
      " 51%|█████     | 63/123 [00:05<00:05, 11.61it/s]\u001b[A\n",
      " 53%|█████▎    | 65/123 [00:05<00:04, 11.61it/s]\u001b[A\n",
      " 54%|█████▍    | 67/123 [00:05<00:04, 11.59it/s]\u001b[A\n",
      " 56%|█████▌    | 69/123 [00:05<00:04, 11.60it/s]\u001b[A\n",
      " 58%|█████▊    | 71/123 [00:06<00:04, 11.61it/s]\u001b[A\n",
      " 59%|█████▉    | 73/123 [00:06<00:04, 11.61it/s]\u001b[A\n",
      " 61%|██████    | 75/123 [00:06<00:04, 11.60it/s]\u001b[A\n",
      " 63%|██████▎   | 77/123 [00:06<00:03, 11.60it/s]\u001b[A\n",
      " 64%|██████▍   | 79/123 [00:06<00:03, 11.52it/s]\u001b[A\n",
      " 66%|██████▌   | 81/123 [00:06<00:03, 11.54it/s]\u001b[A\n",
      " 67%|██████▋   | 83/123 [00:07<00:03, 11.56it/s]\u001b[A\n",
      " 69%|██████▉   | 85/123 [00:07<00:03, 11.57it/s]\u001b[A\n",
      " 71%|███████   | 87/123 [00:07<00:03, 11.57it/s]\u001b[A\n",
      " 72%|███████▏  | 89/123 [00:07<00:02, 11.57it/s]\u001b[A\n",
      " 74%|███████▍  | 91/123 [00:07<00:02, 11.59it/s]\u001b[A\n",
      " 76%|███████▌  | 93/123 [00:07<00:02, 11.59it/s]\u001b[A\n",
      " 77%|███████▋  | 95/123 [00:08<00:02, 11.59it/s]\u001b[A\n",
      " 79%|███████▉  | 97/123 [00:08<00:02, 11.59it/s]\u001b[A\n",
      " 80%|████████  | 99/123 [00:08<00:02, 11.59it/s]\u001b[A\n",
      " 82%|████████▏ | 101/123 [00:08<00:01, 11.59it/s]\u001b[A\n",
      " 84%|████████▎ | 103/123 [00:08<00:01, 11.60it/s]\u001b[A\n",
      " 85%|████████▌ | 105/123 [00:08<00:01, 11.60it/s]\u001b[A\n",
      " 87%|████████▋ | 107/123 [00:09<00:01, 11.59it/s]\u001b[A\n",
      " 89%|████████▊ | 109/123 [00:09<00:01, 11.59it/s]\u001b[A\n",
      " 90%|█████████ | 111/123 [00:09<00:01, 11.60it/s]\u001b[A\n",
      " 92%|█████████▏| 113/123 [00:09<00:00, 11.60it/s]\u001b[A\n",
      " 93%|█████████▎| 115/123 [00:09<00:00, 11.60it/s]\u001b[A\n",
      " 95%|█████████▌| 117/123 [00:09<00:00, 11.60it/s]\u001b[A\n",
      " 97%|█████████▋| 119/123 [00:10<00:00, 11.59it/s]\u001b[A\n",
      " 98%|█████████▊| 121/123 [00:10<00:00, 11.59it/s]\u001b[A\n",
      "                                                   A\n",
      " 40%|████      | 2430/6075 [12:11<17:07,  3.55it/s]\n",
      "100%|██████████| 123/123 [00:10<00:00, 12.21it/s]\u001b[A\n",
      "                                                 \u001b[A"
     ]
    },
    {
     "name": "stdout",
     "output_type": "stream",
     "text": [
      "{'eval_loss': 0.31386998295783997, 'eval_accuracy': 0.9145658263305322, 'eval_precision_weighted': 0.9091497258775898, 'eval_recall_weighted': 0.9145658263305322, 'eval_f1_weighted': 0.9065794997941171, 'eval_runtime': 10.611, 'eval_samples_per_second': 740.175, 'eval_steps_per_second': 11.592, 'epoch': 2.0}\n"
     ]
    },
    {
     "name": "stderr",
     "output_type": "stream",
     "text": [
      " 40%|████      | 2450/6075 [12:17<17:54,  3.37it/s]  "
     ]
    },
    {
     "name": "stdout",
     "output_type": "stream",
     "text": [
      "{'loss': 0.2786, 'grad_norm': 4.405701637268066, 'learning_rate': 1.1950617283950618e-05, 'epoch': 2.02}\n"
     ]
    },
    {
     "name": "stderr",
     "output_type": "stream",
     "text": [
      " 41%|████      | 2500/6075 [12:32<17:23,  3.43it/s]"
     ]
    },
    {
     "name": "stdout",
     "output_type": "stream",
     "text": [
      "{'loss': 0.2452, 'grad_norm': 5.446620464324951, 'learning_rate': 1.1786008230452676e-05, 'epoch': 2.06}\n"
     ]
    },
    {
     "name": "stderr",
     "output_type": "stream",
     "text": [
      " 42%|████▏     | 2550/6075 [12:46<17:10,  3.42it/s]"
     ]
    },
    {
     "name": "stdout",
     "output_type": "stream",
     "text": [
      "{'loss': 0.2709, 'grad_norm': 8.410748481750488, 'learning_rate': 1.1621399176954733e-05, 'epoch': 2.1}\n"
     ]
    },
    {
     "name": "stderr",
     "output_type": "stream",
     "text": [
      " 43%|████▎     | 2600/6075 [13:01<16:55,  3.42it/s]"
     ]
    },
    {
     "name": "stdout",
     "output_type": "stream",
     "text": [
      "{'loss': 0.2344, 'grad_norm': 10.058858871459961, 'learning_rate': 1.1456790123456791e-05, 'epoch': 2.14}\n"
     ]
    },
    {
     "name": "stderr",
     "output_type": "stream",
     "text": [
      " 44%|████▎     | 2650/6075 [13:16<16:40,  3.42it/s]"
     ]
    },
    {
     "name": "stdout",
     "output_type": "stream",
     "text": [
      "{'loss': 0.2608, 'grad_norm': 9.341479301452637, 'learning_rate': 1.129218106995885e-05, 'epoch': 2.18}\n"
     ]
    },
    {
     "name": "stderr",
     "output_type": "stream",
     "text": [
      " 44%|████▍     | 2700/6075 [13:30<16:25,  3.42it/s]"
     ]
    },
    {
     "name": "stdout",
     "output_type": "stream",
     "text": [
      "{'loss': 0.2392, 'grad_norm': 4.648029327392578, 'learning_rate': 1.1127572016460906e-05, 'epoch': 2.22}\n"
     ]
    },
    {
     "name": "stderr",
     "output_type": "stream",
     "text": [
      " 45%|████▌     | 2750/6075 [13:45<16:11,  3.42it/s]"
     ]
    },
    {
     "name": "stdout",
     "output_type": "stream",
     "text": [
      "{'loss': 0.2364, 'grad_norm': 6.2013044357299805, 'learning_rate': 1.0962962962962965e-05, 'epoch': 2.26}\n"
     ]
    },
    {
     "name": "stderr",
     "output_type": "stream",
     "text": [
      " 46%|████▌     | 2800/6075 [14:00<15:56,  3.43it/s]"
     ]
    },
    {
     "name": "stdout",
     "output_type": "stream",
     "text": [
      "{'loss': 0.2609, 'grad_norm': 10.59346866607666, 'learning_rate': 1.0798353909465023e-05, 'epoch': 2.3}\n"
     ]
    },
    {
     "name": "stderr",
     "output_type": "stream",
     "text": [
      " 47%|████▋     | 2850/6075 [14:14<15:42,  3.42it/s]"
     ]
    },
    {
     "name": "stdout",
     "output_type": "stream",
     "text": [
      "{'loss': 0.2458, 'grad_norm': 7.216892719268799, 'learning_rate': 1.0633744855967078e-05, 'epoch': 2.35}\n"
     ]
    },
    {
     "name": "stderr",
     "output_type": "stream",
     "text": [
      " 48%|████▊     | 2900/6075 [14:29<15:26,  3.43it/s]"
     ]
    },
    {
     "name": "stdout",
     "output_type": "stream",
     "text": [
      "{'loss': 0.236, 'grad_norm': 7.477473258972168, 'learning_rate': 1.0469135802469136e-05, 'epoch': 2.39}\n"
     ]
    },
    {
     "name": "stderr",
     "output_type": "stream",
     "text": [
      " 49%|████▊     | 2950/6075 [14:43<15:12,  3.43it/s]"
     ]
    },
    {
     "name": "stdout",
     "output_type": "stream",
     "text": [
      "{'loss': 0.2408, 'grad_norm': 9.126893043518066, 'learning_rate': 1.0304526748971195e-05, 'epoch': 2.43}\n"
     ]
    },
    {
     "name": "stderr",
     "output_type": "stream",
     "text": [
      " 49%|████▉     | 3000/6075 [14:58<14:58,  3.42it/s]"
     ]
    },
    {
     "name": "stdout",
     "output_type": "stream",
     "text": [
      "{'loss': 0.2103, 'grad_norm': 12.14147663116455, 'learning_rate': 1.0139917695473251e-05, 'epoch': 2.47}\n"
     ]
    },
    {
     "name": "stderr",
     "output_type": "stream",
     "text": [
      " 50%|█████     | 3050/6075 [15:13<14:43,  3.42it/s]"
     ]
    },
    {
     "name": "stdout",
     "output_type": "stream",
     "text": [
      "{'loss': 0.2217, 'grad_norm': 7.042952537536621, 'learning_rate': 9.97530864197531e-06, 'epoch': 2.51}\n"
     ]
    },
    {
     "name": "stderr",
     "output_type": "stream",
     "text": [
      " 51%|█████     | 3100/6075 [15:27<14:28,  3.42it/s]"
     ]
    },
    {
     "name": "stdout",
     "output_type": "stream",
     "text": [
      "{'loss': 0.229, 'grad_norm': 8.308737754821777, 'learning_rate': 9.810699588477366e-06, 'epoch': 2.55}\n"
     ]
    },
    {
     "name": "stderr",
     "output_type": "stream",
     "text": [
      " 52%|█████▏    | 3150/6075 [15:42<14:15,  3.42it/s]"
     ]
    },
    {
     "name": "stdout",
     "output_type": "stream",
     "text": [
      "{'loss': 0.2213, 'grad_norm': 7.183045864105225, 'learning_rate': 9.646090534979425e-06, 'epoch': 2.59}\n"
     ]
    },
    {
     "name": "stderr",
     "output_type": "stream",
     "text": [
      " 53%|█████▎    | 3200/6075 [15:56<13:59,  3.42it/s]"
     ]
    },
    {
     "name": "stdout",
     "output_type": "stream",
     "text": [
      "{'loss': 0.2256, 'grad_norm': 4.622983932495117, 'learning_rate': 9.481481481481483e-06, 'epoch': 2.63}\n"
     ]
    },
    {
     "name": "stderr",
     "output_type": "stream",
     "text": [
      " 53%|█████▎    | 3250/6075 [16:11<13:44,  3.43it/s]"
     ]
    },
    {
     "name": "stdout",
     "output_type": "stream",
     "text": [
      "{'loss': 0.2115, 'grad_norm': 12.45175838470459, 'learning_rate': 9.31687242798354e-06, 'epoch': 2.67}\n"
     ]
    },
    {
     "name": "stderr",
     "output_type": "stream",
     "text": [
      " 54%|█████▍    | 3300/6075 [16:26<13:31,  3.42it/s]"
     ]
    },
    {
     "name": "stdout",
     "output_type": "stream",
     "text": [
      "{'loss': 0.2023, 'grad_norm': 8.229774475097656, 'learning_rate': 9.152263374485596e-06, 'epoch': 2.72}\n"
     ]
    },
    {
     "name": "stderr",
     "output_type": "stream",
     "text": [
      " 55%|█████▌    | 3350/6075 [16:40<13:16,  3.42it/s]"
     ]
    },
    {
     "name": "stdout",
     "output_type": "stream",
     "text": [
      "{'loss': 0.2119, 'grad_norm': 10.995418548583984, 'learning_rate': 8.987654320987655e-06, 'epoch': 2.76}\n"
     ]
    },
    {
     "name": "stderr",
     "output_type": "stream",
     "text": [
      " 56%|█████▌    | 3400/6075 [16:55<13:01,  3.42it/s]"
     ]
    },
    {
     "name": "stdout",
     "output_type": "stream",
     "text": [
      "{'loss': 0.2195, 'grad_norm': 7.258272647857666, 'learning_rate': 8.823045267489713e-06, 'epoch': 2.8}\n"
     ]
    },
    {
     "name": "stderr",
     "output_type": "stream",
     "text": [
      " 57%|█████▋    | 3450/6075 [17:09<12:47,  3.42it/s]"
     ]
    },
    {
     "name": "stdout",
     "output_type": "stream",
     "text": [
      "{'loss': 0.2251, 'grad_norm': 9.395374298095703, 'learning_rate': 8.65843621399177e-06, 'epoch': 2.84}\n"
     ]
    },
    {
     "name": "stderr",
     "output_type": "stream",
     "text": [
      " 58%|█████▊    | 3500/6075 [17:24<12:32,  3.42it/s]"
     ]
    },
    {
     "name": "stdout",
     "output_type": "stream",
     "text": [
      "{'loss': 0.182, 'grad_norm': 7.558801651000977, 'learning_rate': 8.493827160493828e-06, 'epoch': 2.88}\n"
     ]
    },
    {
     "name": "stderr",
     "output_type": "stream",
     "text": [
      " 58%|█████▊    | 3550/6075 [17:39<12:17,  3.42it/s]"
     ]
    },
    {
     "name": "stdout",
     "output_type": "stream",
     "text": [
      "{'loss': 0.2175, 'grad_norm': 8.990662574768066, 'learning_rate': 8.329218106995886e-06, 'epoch': 2.92}\n"
     ]
    },
    {
     "name": "stderr",
     "output_type": "stream",
     "text": [
      " 59%|█████▉    | 3600/6075 [17:53<12:03,  3.42it/s]"
     ]
    },
    {
     "name": "stdout",
     "output_type": "stream",
     "text": [
      "{'loss': 0.2004, 'grad_norm': 3.3083348274230957, 'learning_rate': 8.164609053497943e-06, 'epoch': 2.96}\n"
     ]
    },
    {
     "name": "stderr",
     "output_type": "stream",
     "text": [
      " 60%|██████    | 3645/6075 [18:06<11:24,  3.55it/s]\n",
      "  0%|          | 0/123 [00:00<?, ?it/s]\u001b[A\n",
      "  2%|▏         | 3/123 [00:00<00:06, 17.60it/s]\u001b[A\n",
      "  4%|▍         | 5/123 [00:00<00:08, 14.08it/s]\u001b[A\n",
      "  6%|▌         | 7/123 [00:00<00:08, 12.93it/s]\u001b[A\n",
      "  7%|▋         | 9/123 [00:00<00:09, 12.43it/s]\u001b[A\n",
      "  9%|▉         | 11/123 [00:00<00:09, 12.14it/s]\u001b[A\n",
      " 11%|█         | 13/123 [00:01<00:09, 11.97it/s]\u001b[A\n",
      " 12%|█▏        | 15/123 [00:01<00:09, 11.86it/s]\u001b[A\n",
      " 14%|█▍        | 17/123 [00:01<00:08, 11.78it/s]\u001b[A\n",
      " 15%|█▌        | 19/123 [00:01<00:08, 11.73it/s]\u001b[A\n",
      " 17%|█▋        | 21/123 [00:01<00:08, 11.66it/s]\u001b[A\n",
      " 19%|█▊        | 23/123 [00:01<00:08, 11.60it/s]\u001b[A\n",
      " 20%|██        | 25/123 [00:02<00:08, 11.62it/s]\u001b[A\n",
      " 22%|██▏       | 27/123 [00:02<00:08, 11.61it/s]\u001b[A\n",
      " 24%|██▎       | 29/123 [00:02<00:08, 11.61it/s]\u001b[A\n",
      " 25%|██▌       | 31/123 [00:02<00:07, 11.61it/s]\u001b[A\n",
      " 27%|██▋       | 33/123 [00:02<00:07, 11.61it/s]\u001b[A\n",
      " 28%|██▊       | 35/123 [00:02<00:07, 11.60it/s]\u001b[A\n",
      " 30%|███       | 37/123 [00:03<00:07, 11.61it/s]\u001b[A\n",
      " 32%|███▏      | 39/123 [00:03<00:07, 11.62it/s]\u001b[A\n",
      " 33%|███▎      | 41/123 [00:03<00:07, 11.61it/s]\u001b[A\n",
      " 35%|███▍      | 43/123 [00:03<00:06, 11.61it/s]\u001b[A\n",
      " 37%|███▋      | 45/123 [00:03<00:06, 11.61it/s]\u001b[A\n",
      " 38%|███▊      | 47/123 [00:03<00:06, 11.62it/s]\u001b[A\n",
      " 40%|███▉      | 49/123 [00:04<00:06, 11.61it/s]\u001b[A\n",
      " 41%|████▏     | 51/123 [00:04<00:06, 11.62it/s]\u001b[A\n",
      " 43%|████▎     | 53/123 [00:04<00:06, 11.61it/s]\u001b[A\n",
      " 45%|████▍     | 55/123 [00:04<00:05, 11.62it/s]\u001b[A\n",
      " 46%|████▋     | 57/123 [00:04<00:05, 11.60it/s]\u001b[A\n",
      " 48%|████▊     | 59/123 [00:04<00:05, 11.61it/s]\u001b[A\n",
      " 50%|████▉     | 61/123 [00:05<00:05, 11.61it/s]\u001b[A\n",
      " 51%|█████     | 63/123 [00:05<00:05, 11.62it/s]\u001b[A\n",
      " 53%|█████▎    | 65/123 [00:05<00:04, 11.62it/s]\u001b[A\n",
      " 54%|█████▍    | 67/123 [00:05<00:04, 11.62it/s]\u001b[A\n",
      " 56%|█████▌    | 69/123 [00:05<00:04, 11.62it/s]\u001b[A\n",
      " 58%|█████▊    | 71/123 [00:06<00:04, 11.63it/s]\u001b[A\n",
      " 59%|█████▉    | 73/123 [00:06<00:04, 11.63it/s]\u001b[A\n",
      " 61%|██████    | 75/123 [00:06<00:04, 11.62it/s]\u001b[A\n",
      " 63%|██████▎   | 77/123 [00:06<00:03, 11.60it/s]\u001b[A\n",
      " 64%|██████▍   | 79/123 [00:06<00:03, 11.60it/s]\u001b[A\n",
      " 66%|██████▌   | 81/123 [00:06<00:03, 11.61it/s]\u001b[A\n",
      " 67%|██████▋   | 83/123 [00:07<00:03, 11.62it/s]\u001b[A\n",
      " 69%|██████▉   | 85/123 [00:07<00:03, 11.61it/s]\u001b[A\n",
      " 71%|███████   | 87/123 [00:07<00:03, 11.62it/s]\u001b[A\n",
      " 72%|███████▏  | 89/123 [00:07<00:02, 11.61it/s]\u001b[A\n",
      " 74%|███████▍  | 91/123 [00:07<00:02, 11.62it/s]\u001b[A\n",
      " 76%|███████▌  | 93/123 [00:07<00:02, 11.62it/s]\u001b[A\n",
      " 77%|███████▋  | 95/123 [00:08<00:02, 11.62it/s]\u001b[A\n",
      " 79%|███████▉  | 97/123 [00:08<00:02, 11.63it/s]\u001b[A\n",
      " 80%|████████  | 99/123 [00:08<00:02, 11.62it/s]\u001b[A\n",
      " 82%|████████▏ | 101/123 [00:08<00:01, 11.63it/s]\u001b[A\n",
      " 84%|████████▎ | 103/123 [00:08<00:01, 11.63it/s]\u001b[A\n",
      " 85%|████████▌ | 105/123 [00:08<00:01, 11.62it/s]\u001b[A\n",
      " 87%|████████▋ | 107/123 [00:09<00:01, 11.61it/s]\u001b[A\n",
      " 89%|████████▊ | 109/123 [00:09<00:01, 11.60it/s]\u001b[A\n",
      " 90%|█████████ | 111/123 [00:09<00:01, 11.61it/s]\u001b[A\n",
      " 92%|█████████▏| 113/123 [00:09<00:00, 11.62it/s]\u001b[A\n",
      " 93%|█████████▎| 115/123 [00:09<00:00, 11.62it/s]\u001b[A\n",
      " 95%|█████████▌| 117/123 [00:09<00:00, 11.62it/s]\u001b[A\n",
      " 97%|█████████▋| 119/123 [00:10<00:00, 11.61it/s]\u001b[A\n",
      " 98%|█████████▊| 121/123 [00:10<00:00, 11.60it/s]\u001b[A\n",
      "                                                   A\n",
      " 60%|██████    | 3645/6075 [18:17<11:24,  3.55it/s]\n",
      "100%|██████████| 123/123 [00:10<00:00, 12.22it/s]\u001b[A\n",
      "                                                 \u001b[A"
     ]
    },
    {
     "name": "stdout",
     "output_type": "stream",
     "text": [
      "{'eval_loss': 0.24979695677757263, 'eval_accuracy': 0.9303539597657244, 'eval_precision_weighted': 0.9229463123362129, 'eval_recall_weighted': 0.9303539597657244, 'eval_f1_weighted': 0.9243046394842767, 'eval_runtime': 10.5981, 'eval_samples_per_second': 741.076, 'eval_steps_per_second': 11.606, 'epoch': 3.0}\n"
     ]
    },
    {
     "name": "stderr",
     "output_type": "stream",
     "text": [
      " 60%|██████    | 3650/6075 [18:18<42:36,  1.05s/it]  "
     ]
    },
    {
     "name": "stdout",
     "output_type": "stream",
     "text": [
      "{'loss': 0.1809, 'grad_norm': 1.2998082637786865, 'learning_rate': 8.000000000000001e-06, 'epoch': 3.0}\n"
     ]
    },
    {
     "name": "stderr",
     "output_type": "stream",
     "text": [
      " 61%|██████    | 3700/6075 [18:33<11:34,  3.42it/s]"
     ]
    },
    {
     "name": "stdout",
     "output_type": "stream",
     "text": [
      "{'loss': 0.1661, 'grad_norm': 6.895069599151611, 'learning_rate': 7.835390946502058e-06, 'epoch': 3.05}\n"
     ]
    },
    {
     "name": "stderr",
     "output_type": "stream",
     "text": [
      " 62%|██████▏   | 3750/6075 [18:48<11:20,  3.42it/s]"
     ]
    },
    {
     "name": "stdout",
     "output_type": "stream",
     "text": [
      "{'loss': 0.181, 'grad_norm': 11.496636390686035, 'learning_rate': 7.670781893004116e-06, 'epoch': 3.09}\n"
     ]
    },
    {
     "name": "stderr",
     "output_type": "stream",
     "text": [
      " 63%|██████▎   | 3800/6075 [19:02<11:04,  3.42it/s]"
     ]
    },
    {
     "name": "stdout",
     "output_type": "stream",
     "text": [
      "{'loss': 0.1733, 'grad_norm': 7.135775089263916, 'learning_rate': 7.506172839506174e-06, 'epoch': 3.13}\n"
     ]
    },
    {
     "name": "stderr",
     "output_type": "stream",
     "text": [
      " 63%|██████▎   | 3850/6075 [19:17<10:50,  3.42it/s]"
     ]
    },
    {
     "name": "stdout",
     "output_type": "stream",
     "text": [
      "{'loss': 0.1543, 'grad_norm': 5.280775547027588, 'learning_rate': 7.341563786008231e-06, 'epoch': 3.17}\n"
     ]
    },
    {
     "name": "stderr",
     "output_type": "stream",
     "text": [
      " 64%|██████▍   | 3900/6075 [19:32<10:35,  3.42it/s]"
     ]
    },
    {
     "name": "stdout",
     "output_type": "stream",
     "text": [
      "{'loss': 0.1599, 'grad_norm': 6.9701995849609375, 'learning_rate': 7.176954732510289e-06, 'epoch': 3.21}\n"
     ]
    },
    {
     "name": "stderr",
     "output_type": "stream",
     "text": [
      " 65%|██████▌   | 3950/6075 [19:46<10:20,  3.42it/s]"
     ]
    },
    {
     "name": "stdout",
     "output_type": "stream",
     "text": [
      "{'loss': 0.156, 'grad_norm': 8.746322631835938, 'learning_rate': 7.015637860082305e-06, 'epoch': 3.25}\n"
     ]
    },
    {
     "name": "stderr",
     "output_type": "stream",
     "text": [
      " 66%|██████▌   | 4000/6075 [20:01<10:07,  3.42it/s]"
     ]
    },
    {
     "name": "stdout",
     "output_type": "stream",
     "text": [
      "{'loss': 0.173, 'grad_norm': 17.326305389404297, 'learning_rate': 6.851028806584362e-06, 'epoch': 3.29}\n"
     ]
    },
    {
     "name": "stderr",
     "output_type": "stream",
     "text": [
      " 67%|██████▋   | 4050/6075 [20:15<09:53,  3.41it/s]"
     ]
    },
    {
     "name": "stdout",
     "output_type": "stream",
     "text": [
      "{'loss': 0.172, 'grad_norm': 6.012484073638916, 'learning_rate': 6.68641975308642e-06, 'epoch': 3.33}\n"
     ]
    },
    {
     "name": "stderr",
     "output_type": "stream",
     "text": [
      " 67%|██████▋   | 4100/6075 [20:30<09:39,  3.41it/s]"
     ]
    },
    {
     "name": "stdout",
     "output_type": "stream",
     "text": [
      "{'loss': 0.1394, 'grad_norm': 4.8612565994262695, 'learning_rate': 6.521810699588478e-06, 'epoch': 3.37}\n"
     ]
    },
    {
     "name": "stderr",
     "output_type": "stream",
     "text": [
      " 68%|██████▊   | 4150/6075 [20:45<09:22,  3.42it/s]"
     ]
    },
    {
     "name": "stdout",
     "output_type": "stream",
     "text": [
      "{'loss': 0.1593, 'grad_norm': 9.08647346496582, 'learning_rate': 6.357201646090535e-06, 'epoch': 3.42}\n"
     ]
    },
    {
     "name": "stderr",
     "output_type": "stream",
     "text": [
      " 69%|██████▉   | 4200/6075 [20:59<09:08,  3.42it/s]"
     ]
    },
    {
     "name": "stdout",
     "output_type": "stream",
     "text": [
      "{'loss': 0.1691, 'grad_norm': 12.912999153137207, 'learning_rate': 6.192592592592594e-06, 'epoch': 3.46}\n"
     ]
    },
    {
     "name": "stderr",
     "output_type": "stream",
     "text": [
      " 70%|██████▉   | 4250/6075 [21:14<08:52,  3.43it/s]"
     ]
    },
    {
     "name": "stdout",
     "output_type": "stream",
     "text": [
      "{'loss': 0.1717, 'grad_norm': 9.69997501373291, 'learning_rate': 6.02798353909465e-06, 'epoch': 3.5}\n"
     ]
    },
    {
     "name": "stderr",
     "output_type": "stream",
     "text": [
      " 71%|███████   | 4300/6075 [21:29<08:38,  3.42it/s]"
     ]
    },
    {
     "name": "stdout",
     "output_type": "stream",
     "text": [
      "{'loss': 0.1538, 'grad_norm': 11.873982429504395, 'learning_rate': 5.863374485596708e-06, 'epoch': 3.54}\n"
     ]
    },
    {
     "name": "stderr",
     "output_type": "stream",
     "text": [
      " 72%|███████▏  | 4350/6075 [21:43<08:23,  3.42it/s]"
     ]
    },
    {
     "name": "stdout",
     "output_type": "stream",
     "text": [
      "{'loss': 0.1561, 'grad_norm': 9.147841453552246, 'learning_rate': 5.698765432098766e-06, 'epoch': 3.58}\n"
     ]
    },
    {
     "name": "stderr",
     "output_type": "stream",
     "text": [
      " 72%|███████▏  | 4400/6075 [21:58<08:09,  3.42it/s]"
     ]
    },
    {
     "name": "stdout",
     "output_type": "stream",
     "text": [
      "{'loss': 0.1522, 'grad_norm': 13.672713279724121, 'learning_rate': 5.534156378600824e-06, 'epoch': 3.62}\n"
     ]
    },
    {
     "name": "stderr",
     "output_type": "stream",
     "text": [
      " 73%|███████▎  | 4450/6075 [22:12<07:55,  3.42it/s]"
     ]
    },
    {
     "name": "stdout",
     "output_type": "stream",
     "text": [
      "{'loss': 0.1822, 'grad_norm': 9.943206787109375, 'learning_rate': 5.369547325102881e-06, 'epoch': 3.66}\n"
     ]
    },
    {
     "name": "stderr",
     "output_type": "stream",
     "text": [
      " 74%|███████▍  | 4500/6075 [22:27<07:40,  3.42it/s]"
     ]
    },
    {
     "name": "stdout",
     "output_type": "stream",
     "text": [
      "{'loss': 0.1679, 'grad_norm': 11.084664344787598, 'learning_rate': 5.2049382716049394e-06, 'epoch': 3.7}\n"
     ]
    },
    {
     "name": "stderr",
     "output_type": "stream",
     "text": [
      " 75%|███████▍  | 4550/6075 [22:42<07:25,  3.42it/s]"
     ]
    },
    {
     "name": "stdout",
     "output_type": "stream",
     "text": [
      "{'loss': 0.162, 'grad_norm': 7.3714985847473145, 'learning_rate': 5.040329218106996e-06, 'epoch': 3.74}\n"
     ]
    },
    {
     "name": "stderr",
     "output_type": "stream",
     "text": [
      " 76%|███████▌  | 4600/6075 [22:56<07:11,  3.42it/s]"
     ]
    },
    {
     "name": "stdout",
     "output_type": "stream",
     "text": [
      "{'loss': 0.1401, 'grad_norm': 4.239315032958984, 'learning_rate': 4.8757201646090544e-06, 'epoch': 3.79}\n"
     ]
    },
    {
     "name": "stderr",
     "output_type": "stream",
     "text": [
      " 77%|███████▋  | 4650/6075 [23:11<06:55,  3.43it/s]"
     ]
    },
    {
     "name": "stdout",
     "output_type": "stream",
     "text": [
      "{'loss': 0.1513, 'grad_norm': 7.442719459533691, 'learning_rate': 4.711111111111111e-06, 'epoch': 3.83}\n"
     ]
    },
    {
     "name": "stderr",
     "output_type": "stream",
     "text": [
      " 77%|███████▋  | 4700/6075 [23:25<06:42,  3.42it/s]"
     ]
    },
    {
     "name": "stdout",
     "output_type": "stream",
     "text": [
      "{'loss': 0.1404, 'grad_norm': 4.058933258056641, 'learning_rate': 4.5465020576131694e-06, 'epoch': 3.87}\n"
     ]
    },
    {
     "name": "stderr",
     "output_type": "stream",
     "text": [
      " 78%|███████▊  | 4750/6075 [23:40<06:27,  3.42it/s]"
     ]
    },
    {
     "name": "stdout",
     "output_type": "stream",
     "text": [
      "{'loss': 0.141, 'grad_norm': 6.25186014175415, 'learning_rate': 4.381893004115227e-06, 'epoch': 3.91}\n"
     ]
    },
    {
     "name": "stderr",
     "output_type": "stream",
     "text": [
      " 79%|███████▉  | 4800/6075 [23:55<06:51,  3.10it/s]"
     ]
    },
    {
     "name": "stdout",
     "output_type": "stream",
     "text": [
      "{'loss': 0.1471, 'grad_norm': 7.673865795135498, 'learning_rate': 4.2172839506172844e-06, 'epoch': 3.95}\n"
     ]
    },
    {
     "name": "stderr",
     "output_type": "stream",
     "text": [
      " 80%|███████▉  | 4850/6075 [24:10<05:57,  3.42it/s]"
     ]
    },
    {
     "name": "stdout",
     "output_type": "stream",
     "text": [
      "{'loss': 0.1485, 'grad_norm': 7.997491836547852, 'learning_rate': 4.052674897119342e-06, 'epoch': 3.99}\n"
     ]
    },
    {
     "name": "stderr",
     "output_type": "stream",
     "text": [
      " 80%|████████  | 4860/6075 [24:12<05:43,  3.54it/s]\n",
      "  0%|          | 0/123 [00:00<?, ?it/s]\u001b[A\n",
      "  2%|▏         | 3/123 [00:00<00:06, 17.62it/s]\u001b[A\n",
      "  4%|▍         | 5/123 [00:00<00:08, 14.07it/s]\u001b[A\n",
      "  6%|▌         | 7/123 [00:00<00:08, 12.96it/s]\u001b[A\n",
      "  7%|▋         | 9/123 [00:00<00:09, 12.45it/s]\u001b[A\n",
      "  9%|▉         | 11/123 [00:00<00:09, 12.16it/s]\u001b[A\n",
      " 11%|█         | 13/123 [00:01<00:09, 11.98it/s]\u001b[A\n",
      " 12%|█▏        | 15/123 [00:01<00:09, 11.87it/s]\u001b[A\n",
      " 14%|█▍        | 17/123 [00:01<00:08, 11.79it/s]\u001b[A\n",
      " 15%|█▌        | 19/123 [00:01<00:08, 11.75it/s]\u001b[A\n",
      " 17%|█▋        | 21/123 [00:01<00:08, 11.70it/s]\u001b[A\n",
      " 19%|█▊        | 23/123 [00:01<00:08, 11.68it/s]\u001b[A\n",
      " 20%|██        | 25/123 [00:02<00:08, 11.67it/s]\u001b[A\n",
      " 22%|██▏       | 27/123 [00:02<00:08, 11.57it/s]\u001b[A\n",
      " 24%|██▎       | 29/123 [00:02<00:08, 11.59it/s]\u001b[A\n",
      " 25%|██▌       | 31/123 [00:02<00:07, 11.60it/s]\u001b[A\n",
      " 27%|██▋       | 33/123 [00:02<00:07, 11.60it/s]\u001b[A\n",
      " 28%|██▊       | 35/123 [00:02<00:07, 11.60it/s]\u001b[A\n",
      " 30%|███       | 37/123 [00:03<00:07, 11.60it/s]\u001b[A\n",
      " 32%|███▏      | 39/123 [00:03<00:07, 11.61it/s]\u001b[A\n",
      " 33%|███▎      | 41/123 [00:03<00:07, 11.61it/s]\u001b[A\n",
      " 35%|███▍      | 43/123 [00:03<00:06, 11.62it/s]\u001b[A\n",
      " 37%|███▋      | 45/123 [00:03<00:06, 11.62it/s]\u001b[A\n",
      " 38%|███▊      | 47/123 [00:03<00:06, 11.62it/s]\u001b[A\n",
      " 40%|███▉      | 49/123 [00:04<00:06, 11.62it/s]\u001b[A\n",
      " 41%|████▏     | 51/123 [00:04<00:06, 11.61it/s]\u001b[A\n",
      " 43%|████▎     | 53/123 [00:04<00:06, 11.62it/s]\u001b[A\n",
      " 45%|████▍     | 55/123 [00:04<00:05, 11.62it/s]\u001b[A\n",
      " 46%|████▋     | 57/123 [00:04<00:05, 11.62it/s]\u001b[A\n",
      " 48%|████▊     | 59/123 [00:04<00:05, 11.61it/s]\u001b[A\n",
      " 50%|████▉     | 61/123 [00:05<00:05, 11.61it/s]\u001b[A\n",
      " 51%|█████     | 63/123 [00:05<00:05, 11.54it/s]\u001b[A\n",
      " 53%|█████▎    | 65/123 [00:05<00:05, 11.56it/s]\u001b[A\n",
      " 54%|█████▍    | 67/123 [00:05<00:04, 11.58it/s]\u001b[A\n",
      " 56%|█████▌    | 69/123 [00:05<00:04, 11.58it/s]\u001b[A\n",
      " 58%|█████▊    | 71/123 [00:06<00:04, 11.59it/s]\u001b[A\n",
      " 59%|█████▉    | 73/123 [00:06<00:04, 11.57it/s]\u001b[A\n",
      " 61%|██████    | 75/123 [00:06<00:04, 11.59it/s]\u001b[A\n",
      " 63%|██████▎   | 77/123 [00:06<00:03, 11.59it/s]\u001b[A\n",
      " 64%|██████▍   | 79/123 [00:06<00:03, 11.59it/s]\u001b[A\n",
      " 66%|██████▌   | 81/123 [00:06<00:03, 11.59it/s]\u001b[A\n",
      " 67%|██████▋   | 83/123 [00:07<00:03, 11.60it/s]\u001b[A\n",
      " 69%|██████▉   | 85/123 [00:07<00:03, 11.61it/s]\u001b[A\n",
      " 71%|███████   | 87/123 [00:07<00:03, 11.61it/s]\u001b[A\n",
      " 72%|███████▏  | 89/123 [00:07<00:02, 11.62it/s]\u001b[A\n",
      " 74%|███████▍  | 91/123 [00:07<00:02, 11.62it/s]\u001b[A\n",
      " 76%|███████▌  | 93/123 [00:07<00:02, 11.61it/s]\u001b[A\n",
      " 77%|███████▋  | 95/123 [00:08<00:02, 11.61it/s]\u001b[A\n",
      " 79%|███████▉  | 97/123 [00:08<00:02, 11.61it/s]\u001b[A\n",
      " 80%|████████  | 99/123 [00:08<00:02, 11.60it/s]\u001b[A\n",
      " 82%|████████▏ | 101/123 [00:08<00:01, 11.59it/s]\u001b[A\n",
      " 84%|████████▎ | 103/123 [00:08<00:01, 11.60it/s]\u001b[A\n",
      " 85%|████████▌ | 105/123 [00:08<00:01, 11.61it/s]\u001b[A\n",
      " 87%|████████▋ | 107/123 [00:09<00:01, 11.59it/s]\u001b[A\n",
      " 89%|████████▊ | 109/123 [00:09<00:01, 11.61it/s]\u001b[A\n",
      " 90%|█████████ | 111/123 [00:09<00:01, 11.62it/s]\u001b[A\n",
      " 92%|█████████▏| 113/123 [00:09<00:00, 11.61it/s]\u001b[A\n",
      " 93%|█████████▎| 115/123 [00:09<00:00, 11.61it/s]\u001b[A\n",
      " 95%|█████████▌| 117/123 [00:09<00:00, 11.62it/s]\u001b[A\n",
      " 97%|█████████▋| 119/123 [00:10<00:00, 11.62it/s]\u001b[A\n",
      " 98%|█████████▊| 121/123 [00:10<00:00, 11.61it/s]\u001b[A\n",
      "                                                   A\n",
      " 80%|████████  | 4860/6075 [24:23<05:43,  3.54it/s]\n",
      "100%|██████████| 123/123 [00:10<00:00, 12.25it/s]\u001b[A\n",
      "                                                 \u001b[A"
     ]
    },
    {
     "name": "stdout",
     "output_type": "stream",
     "text": [
      "{'eval_loss': 0.23452752828598022, 'eval_accuracy': 0.9363381716322893, 'eval_precision_weighted': 0.9293527558017719, 'eval_recall_weighted': 0.9363381716322893, 'eval_f1_weighted': 0.9306630945050066, 'eval_runtime': 10.6031, 'eval_samples_per_second': 740.724, 'eval_steps_per_second': 11.6, 'epoch': 4.0}\n"
     ]
    },
    {
     "name": "stderr",
     "output_type": "stream",
     "text": [
      " 81%|████████  | 4900/6075 [24:35<05:43,  3.42it/s]  "
     ]
    },
    {
     "name": "stdout",
     "output_type": "stream",
     "text": [
      "{'loss': 0.1351, 'grad_norm': 5.103603839874268, 'learning_rate': 3.8880658436213994e-06, 'epoch': 4.03}\n"
     ]
    },
    {
     "name": "stderr",
     "output_type": "stream",
     "text": [
      " 81%|████████▏ | 4950/6075 [24:49<05:28,  3.42it/s]"
     ]
    },
    {
     "name": "stdout",
     "output_type": "stream",
     "text": [
      "{'loss': 0.1189, 'grad_norm': 4.911952018737793, 'learning_rate': 3.723456790123457e-06, 'epoch': 4.07}\n"
     ]
    },
    {
     "name": "stderr",
     "output_type": "stream",
     "text": [
      " 82%|████████▏ | 5000/6075 [25:04<05:14,  3.42it/s]"
     ]
    },
    {
     "name": "stdout",
     "output_type": "stream",
     "text": [
      "{'loss': 0.1149, 'grad_norm': 5.908533573150635, 'learning_rate': 3.558847736625515e-06, 'epoch': 4.12}\n"
     ]
    },
    {
     "name": "stderr",
     "output_type": "stream",
     "text": [
      " 83%|████████▎ | 5050/6075 [25:19<04:59,  3.42it/s]"
     ]
    },
    {
     "name": "stdout",
     "output_type": "stream",
     "text": [
      "{'loss': 0.1298, 'grad_norm': 4.453601360321045, 'learning_rate': 3.3942386831275723e-06, 'epoch': 4.16}\n"
     ]
    },
    {
     "name": "stderr",
     "output_type": "stream",
     "text": [
      " 84%|████████▍ | 5100/6075 [25:33<04:45,  3.42it/s]"
     ]
    },
    {
     "name": "stdout",
     "output_type": "stream",
     "text": [
      "{'loss': 0.1363, 'grad_norm': 10.739079475402832, 'learning_rate': 3.22962962962963e-06, 'epoch': 4.2}\n"
     ]
    },
    {
     "name": "stderr",
     "output_type": "stream",
     "text": [
      " 85%|████████▍ | 5150/6075 [25:48<04:30,  3.42it/s]"
     ]
    },
    {
     "name": "stdout",
     "output_type": "stream",
     "text": [
      "{'loss': 0.1325, 'grad_norm': 7.949496269226074, 'learning_rate': 3.0650205761316878e-06, 'epoch': 4.24}\n"
     ]
    },
    {
     "name": "stderr",
     "output_type": "stream",
     "text": [
      " 86%|████████▌ | 5200/6075 [26:02<04:15,  3.43it/s]"
     ]
    },
    {
     "name": "stdout",
     "output_type": "stream",
     "text": [
      "{'loss': 0.1317, 'grad_norm': 6.520628452301025, 'learning_rate': 2.9004115226337453e-06, 'epoch': 4.28}\n"
     ]
    },
    {
     "name": "stderr",
     "output_type": "stream",
     "text": [
      " 86%|████████▋ | 5250/6075 [26:17<04:01,  3.42it/s]"
     ]
    },
    {
     "name": "stdout",
     "output_type": "stream",
     "text": [
      "{'loss': 0.1085, 'grad_norm': 11.13996696472168, 'learning_rate': 2.7358024691358028e-06, 'epoch': 4.32}\n"
     ]
    },
    {
     "name": "stderr",
     "output_type": "stream",
     "text": [
      " 87%|████████▋ | 5300/6075 [26:32<03:46,  3.42it/s]"
     ]
    },
    {
     "name": "stdout",
     "output_type": "stream",
     "text": [
      "{'loss': 0.1092, 'grad_norm': 15.461804389953613, 'learning_rate': 2.5711934156378603e-06, 'epoch': 4.36}\n"
     ]
    },
    {
     "name": "stderr",
     "output_type": "stream",
     "text": [
      " 88%|████████▊ | 5350/6075 [26:46<03:31,  3.42it/s]"
     ]
    },
    {
     "name": "stdout",
     "output_type": "stream",
     "text": [
      "{'loss': 0.1199, 'grad_norm': 0.3015335202217102, 'learning_rate': 2.4065843621399178e-06, 'epoch': 4.4}\n"
     ]
    },
    {
     "name": "stderr",
     "output_type": "stream",
     "text": [
      " 89%|████████▉ | 5400/6075 [27:01<03:17,  3.42it/s]"
     ]
    },
    {
     "name": "stdout",
     "output_type": "stream",
     "text": [
      "{'loss': 0.1114, 'grad_norm': 4.896056175231934, 'learning_rate': 2.2419753086419753e-06, 'epoch': 4.44}\n"
     ]
    },
    {
     "name": "stderr",
     "output_type": "stream",
     "text": [
      " 90%|████████▉ | 5450/6075 [27:15<03:02,  3.42it/s]"
     ]
    },
    {
     "name": "stdout",
     "output_type": "stream",
     "text": [
      "{'loss': 0.1246, 'grad_norm': 3.6016921997070312, 'learning_rate': 2.077366255144033e-06, 'epoch': 4.49}\n"
     ]
    },
    {
     "name": "stderr",
     "output_type": "stream",
     "text": [
      " 91%|█████████ | 5500/6075 [27:30<02:48,  3.41it/s]"
     ]
    },
    {
     "name": "stdout",
     "output_type": "stream",
     "text": [
      "{'loss': 0.1299, 'grad_norm': 9.77690601348877, 'learning_rate': 1.9127572016460907e-06, 'epoch': 4.53}\n"
     ]
    },
    {
     "name": "stderr",
     "output_type": "stream",
     "text": [
      " 91%|█████████▏| 5550/6075 [27:45<02:33,  3.42it/s]"
     ]
    },
    {
     "name": "stdout",
     "output_type": "stream",
     "text": [
      "{'loss': 0.1381, 'grad_norm': 9.604392051696777, 'learning_rate': 1.7481481481481482e-06, 'epoch': 4.57}\n"
     ]
    },
    {
     "name": "stderr",
     "output_type": "stream",
     "text": [
      " 92%|█████████▏| 5600/6075 [27:59<02:18,  3.42it/s]"
     ]
    },
    {
     "name": "stdout",
     "output_type": "stream",
     "text": [
      "{'loss': 0.1086, 'grad_norm': 4.6110920906066895, 'learning_rate': 1.5835390946502057e-06, 'epoch': 4.61}\n"
     ]
    },
    {
     "name": "stderr",
     "output_type": "stream",
     "text": [
      " 93%|█████████▎| 5650/6075 [28:14<02:04,  3.41it/s]"
     ]
    },
    {
     "name": "stdout",
     "output_type": "stream",
     "text": [
      "{'loss': 0.1067, 'grad_norm': 10.704190254211426, 'learning_rate': 1.4189300411522636e-06, 'epoch': 4.65}\n"
     ]
    },
    {
     "name": "stderr",
     "output_type": "stream",
     "text": [
      " 94%|█████████▍| 5700/6075 [28:29<01:49,  3.41it/s]"
     ]
    },
    {
     "name": "stdout",
     "output_type": "stream",
     "text": [
      "{'loss': 0.1268, 'grad_norm': 8.065011024475098, 'learning_rate': 1.254320987654321e-06, 'epoch': 4.69}\n"
     ]
    },
    {
     "name": "stderr",
     "output_type": "stream",
     "text": [
      " 95%|█████████▍| 5750/6075 [28:43<01:34,  3.42it/s]"
     ]
    },
    {
     "name": "stdout",
     "output_type": "stream",
     "text": [
      "{'loss': 0.1192, 'grad_norm': 11.540483474731445, 'learning_rate': 1.0897119341563788e-06, 'epoch': 4.73}\n"
     ]
    },
    {
     "name": "stderr",
     "output_type": "stream",
     "text": [
      " 95%|█████████▌| 5800/6075 [28:58<01:20,  3.42it/s]"
     ]
    },
    {
     "name": "stdout",
     "output_type": "stream",
     "text": [
      "{'loss': 0.1201, 'grad_norm': 4.043601989746094, 'learning_rate': 9.251028806584363e-07, 'epoch': 4.77}\n"
     ]
    },
    {
     "name": "stderr",
     "output_type": "stream",
     "text": [
      " 96%|█████████▋| 5850/6075 [29:12<01:05,  3.42it/s]"
     ]
    },
    {
     "name": "stdout",
     "output_type": "stream",
     "text": [
      "{'loss': 0.1176, 'grad_norm': 11.489924430847168, 'learning_rate': 7.604938271604939e-07, 'epoch': 4.81}\n"
     ]
    },
    {
     "name": "stderr",
     "output_type": "stream",
     "text": [
      " 97%|█████████▋| 5900/6075 [29:27<00:51,  3.42it/s]"
     ]
    },
    {
     "name": "stdout",
     "output_type": "stream",
     "text": [
      "{'loss': 0.1096, 'grad_norm': 2.42209529876709, 'learning_rate': 5.958847736625515e-07, 'epoch': 4.86}\n"
     ]
    },
    {
     "name": "stderr",
     "output_type": "stream",
     "text": [
      " 98%|█████████▊| 5950/6075 [29:42<00:36,  3.42it/s]"
     ]
    },
    {
     "name": "stdout",
     "output_type": "stream",
     "text": [
      "{'loss': 0.1174, 'grad_norm': 9.589398384094238, 'learning_rate': 4.3127572016460907e-07, 'epoch': 4.9}\n"
     ]
    },
    {
     "name": "stderr",
     "output_type": "stream",
     "text": [
      " 99%|█████████▉| 6000/6075 [29:56<00:21,  3.42it/s]"
     ]
    },
    {
     "name": "stdout",
     "output_type": "stream",
     "text": [
      "{'loss': 0.1209, 'grad_norm': 1.5861248970031738, 'learning_rate': 2.666666666666667e-07, 'epoch': 4.94}\n"
     ]
    },
    {
     "name": "stderr",
     "output_type": "stream",
     "text": [
      "100%|█████████▉| 6050/6075 [30:11<00:07,  3.42it/s]"
     ]
    },
    {
     "name": "stdout",
     "output_type": "stream",
     "text": [
      "{'loss': 0.1278, 'grad_norm': 10.271713256835938, 'learning_rate': 1.0205761316872429e-07, 'epoch': 4.98}\n"
     ]
    },
    {
     "name": "stderr",
     "output_type": "stream",
     "text": [
      "100%|██████████| 6075/6075 [30:18<00:00,  3.55it/s]\n",
      "  0%|          | 0/123 [00:00<?, ?it/s]\u001b[A\n",
      "  2%|▏         | 3/123 [00:00<00:06, 17.65it/s]\u001b[A\n",
      "  4%|▍         | 5/123 [00:00<00:08, 14.10it/s]\u001b[A\n",
      "  6%|▌         | 7/123 [00:00<00:08, 12.98it/s]\u001b[A\n",
      "  7%|▋         | 9/123 [00:00<00:09, 12.45it/s]\u001b[A\n",
      "  9%|▉         | 11/123 [00:00<00:09, 12.16it/s]\u001b[A\n",
      " 11%|█         | 13/123 [00:01<00:09, 11.99it/s]\u001b[A\n",
      " 12%|█▏        | 15/123 [00:01<00:09, 11.88it/s]\u001b[A\n",
      " 14%|█▍        | 17/123 [00:01<00:08, 11.80it/s]\u001b[A\n",
      " 15%|█▌        | 19/123 [00:01<00:08, 11.73it/s]\u001b[A\n",
      " 17%|█▋        | 21/123 [00:01<00:08, 11.70it/s]\u001b[A\n",
      " 19%|█▊        | 23/123 [00:01<00:08, 11.68it/s]\u001b[A\n",
      " 20%|██        | 25/123 [00:02<00:08, 11.66it/s]\u001b[A\n",
      " 22%|██▏       | 27/123 [00:02<00:08, 11.64it/s]\u001b[A\n",
      " 24%|██▎       | 29/123 [00:02<00:08, 11.65it/s]\u001b[A\n",
      " 25%|██▌       | 31/123 [00:02<00:07, 11.64it/s]\u001b[A\n",
      " 27%|██▋       | 33/123 [00:02<00:07, 11.62it/s]\u001b[A\n",
      " 28%|██▊       | 35/123 [00:02<00:07, 11.63it/s]\u001b[A\n",
      " 30%|███       | 37/123 [00:03<00:07, 11.64it/s]\u001b[A\n",
      " 32%|███▏      | 39/123 [00:03<00:07, 11.64it/s]\u001b[A\n",
      " 33%|███▎      | 41/123 [00:03<00:07, 11.64it/s]\u001b[A\n",
      " 35%|███▍      | 43/123 [00:03<00:06, 11.64it/s]\u001b[A\n",
      " 37%|███▋      | 45/123 [00:03<00:06, 11.63it/s]\u001b[A\n",
      " 38%|███▊      | 47/123 [00:03<00:06, 11.62it/s]\u001b[A\n",
      " 40%|███▉      | 49/123 [00:04<00:06, 11.62it/s]\u001b[A\n",
      " 41%|████▏     | 51/123 [00:04<00:06, 11.64it/s]\u001b[A\n",
      " 43%|████▎     | 53/123 [00:04<00:06, 11.61it/s]\u001b[A\n",
      " 45%|████▍     | 55/123 [00:04<00:05, 11.62it/s]\u001b[A\n",
      " 46%|████▋     | 57/123 [00:04<00:05, 11.62it/s]\u001b[A\n",
      " 48%|████▊     | 59/123 [00:04<00:05, 11.63it/s]\u001b[A\n",
      " 50%|████▉     | 61/123 [00:05<00:05, 11.62it/s]\u001b[A\n",
      " 51%|█████     | 63/123 [00:05<00:05, 11.62it/s]\u001b[A\n",
      " 53%|█████▎    | 65/123 [00:05<00:04, 11.62it/s]\u001b[A\n",
      " 54%|█████▍    | 67/123 [00:05<00:04, 11.63it/s]\u001b[A\n",
      " 56%|█████▌    | 69/123 [00:05<00:04, 11.63it/s]\u001b[A\n",
      " 58%|█████▊    | 71/123 [00:06<00:04, 11.64it/s]\u001b[A\n",
      " 59%|█████▉    | 73/123 [00:06<00:04, 11.64it/s]\u001b[A\n",
      " 61%|██████    | 75/123 [00:06<00:04, 11.62it/s]\u001b[A\n",
      " 63%|██████▎   | 77/123 [00:06<00:03, 11.62it/s]\u001b[A\n",
      " 64%|██████▍   | 79/123 [00:06<00:03, 11.62it/s]\u001b[A\n",
      " 66%|██████▌   | 81/123 [00:06<00:03, 11.62it/s]\u001b[A\n",
      " 67%|██████▋   | 83/123 [00:07<00:03, 11.62it/s]\u001b[A\n",
      " 69%|██████▉   | 85/123 [00:07<00:03, 11.62it/s]\u001b[A\n",
      " 71%|███████   | 87/123 [00:07<00:03, 11.60it/s]\u001b[A\n",
      " 72%|███████▏  | 89/123 [00:07<00:02, 11.60it/s]\u001b[A\n",
      " 74%|███████▍  | 91/123 [00:07<00:02, 11.61it/s]\u001b[A\n",
      " 76%|███████▌  | 93/123 [00:07<00:02, 11.62it/s]\u001b[A\n",
      " 77%|███████▋  | 95/123 [00:08<00:02, 11.62it/s]\u001b[A\n",
      " 79%|███████▉  | 97/123 [00:08<00:02, 11.62it/s]\u001b[A\n",
      " 80%|████████  | 99/123 [00:08<00:02, 11.63it/s]\u001b[A\n",
      " 82%|████████▏ | 101/123 [00:08<00:01, 11.63it/s]\u001b[A\n",
      " 84%|████████▎ | 103/123 [00:08<00:01, 11.62it/s]\u001b[A\n",
      " 85%|████████▌ | 105/123 [00:08<00:01, 11.63it/s]\u001b[A\n",
      " 87%|████████▋ | 107/123 [00:09<00:01, 11.64it/s]\u001b[A\n",
      " 89%|████████▊ | 109/123 [00:09<00:01, 11.63it/s]\u001b[A\n",
      " 90%|█████████ | 111/123 [00:09<00:01, 11.63it/s]\u001b[A\n",
      " 92%|█████████▏| 113/123 [00:09<00:00, 11.65it/s]\u001b[A\n",
      " 93%|█████████▎| 115/123 [00:09<00:00, 11.64it/s]\u001b[A\n",
      " 95%|█████████▌| 117/123 [00:09<00:00, 11.61it/s]\u001b[A\n",
      " 97%|█████████▋| 119/123 [00:10<00:00, 11.62it/s]\u001b[A\n",
      " 98%|█████████▊| 121/123 [00:10<00:00, 11.63it/s]\u001b[A\n",
      "                                                   A\n",
      "100%|██████████| 6075/6075 [30:29<00:00,  3.55it/s]\n",
      "100%|██████████| 123/123 [00:10<00:00, 12.27it/s]\u001b[A\n",
      "100%|██████████| 6075/6075 [30:29<00:00,  3.32it/s]A"
     ]
    },
    {
     "name": "stdout",
     "output_type": "stream",
     "text": [
      "{'eval_loss': 0.22252118587493896, 'eval_accuracy': 0.9382480264833206, 'eval_precision_weighted': 0.932856052087525, 'eval_recall_weighted': 0.9382480264833206, 'eval_f1_weighted': 0.9339656209199302, 'eval_runtime': 10.5848, 'eval_samples_per_second': 742.005, 'eval_steps_per_second': 11.62, 'epoch': 5.0}\n",
      "{'train_runtime': 1829.2073, 'train_samples_per_second': 212.526, 'train_steps_per_second': 3.321, 'train_loss': 0.325086000309069, 'epoch': 5.0}\n"
     ]
    },
    {
     "name": "stderr",
     "output_type": "stream",
     "text": [
      "\n"
     ]
    },
    {
     "data": {
      "text/plain": [
       "TrainOutput(global_step=6075, training_loss=0.325086000309069, metrics={'train_runtime': 1829.2073, 'train_samples_per_second': 212.526, 'train_steps_per_second': 3.321, 'total_flos': 1.8126033096748032e+17, 'train_loss': 0.325086000309069, 'epoch': 5.0})"
      ]
     },
     "execution_count": 16,
     "metadata": {},
     "output_type": "execute_result"
    }
   ],
   "source": [
    "trainer.train()"
   ]
  },
  {
   "cell_type": "markdown",
   "id": "4f61f98b-9221-4416-a4e6-e85b58677e85",
   "metadata": {},
   "source": [
    "Видно, что модель можно доучить, но все равно прирост, если и будет то будет небольшой\n",
    "\n",
    "0.9339\n",
    "\n",
    "![title](./roberta_large_context.png)"
   ]
  },
  {
   "cell_type": "markdown",
   "id": "7891c17e-4861-4ed4-9a87-e77b72420296",
   "metadata": {},
   "source": [
    "## Roberta XLM"
   ]
  },
  {
   "cell_type": "code",
   "execution_count": null,
   "id": "d60dd64b-de82-4aa9-bf60-7a50c1a476c9",
   "metadata": {
    "tags": []
   },
   "outputs": [],
   "source": [
    "from transformers import AutoTokenizer, AutoModelForSequenceClassification, Trainer, TrainingArguments\n",
    "\n",
    "model_checkpoint = \"FacebookAI/xlm-roberta-large\"\n",
    "tokenizer = AutoTokenizer.from_pretrained(model_checkpoint)\n",
    "\n",
    "def tokenize_function(examples):\n",
    "    return tokenizer(examples[\"text\"], truncation=True, padding='max_length', max_length=256)\n",
    "\n",
    "train_dataset = train_dataset.map(tokenize_function, batched=True)\n",
    "val_dataset = val_dataset.map(tokenize_function, batched=True)\n",
    "\n",
    "train_dataset.set_format(type='torch', columns=['input_ids', 'attention_mask', 'labels'])\n",
    "val_dataset.set_format(type='torch', columns=['input_ids', 'attention_mask', 'labels'])\n",
    "\n",
    "num_labels = len(le.classes_)\n",
    "model = AutoModelForSequenceClassification.from_pretrained(model_checkpoint, num_labels=num_labels)\n",
    "\n",
    "model = model.to('cuda')"
   ]
  },
  {
   "cell_type": "code",
   "execution_count": 8,
   "id": "b0846429-ebd0-4ccf-a67f-7e8a0cec9b13",
   "metadata": {
    "execution": {
     "iopub.execute_input": "2025-03-26T09:05:06.032425Z",
     "iopub.status.busy": "2025-03-26T09:05:06.031989Z",
     "iopub.status.idle": "2025-03-26T09:05:06.086054Z",
     "shell.execute_reply": "2025-03-26T09:05:06.085320Z",
     "shell.execute_reply.started": "2025-03-26T09:05:06.032402Z"
    }
   },
   "outputs": [],
   "source": [
    "training_args = TrainingArguments(\n",
    "    output_dir=\"./results\",\n",
    "    run_name=\"xlm-roberta-large\", \n",
    "    evaluation_strategy=\"epoch\",\n",
    "    save_strategy=\"no\",\n",
    "    logging_strategy=\"steps\",\n",
    "    logging_steps=50,\n",
    "    learning_rate=2e-5,\n",
    "    per_device_train_batch_size=64,\n",
    "    per_device_eval_batch_size=64,\n",
    "    num_train_epochs=5,\n",
    "    weight_decay=0.01,\n",
    "    #load_best_model_at_end=True,\n",
    "    metric_for_best_model=\"f1_weighted\",\n",
    "    #compute_metrics=compute_metrics,\n",
    "    report_to=\"wandb\",\n",
    "    \n",
    "    fp16=True,\n",
    ")"
   ]
  },
  {
   "cell_type": "code",
   "execution_count": 11,
   "id": "069607f7-6eb5-4757-929e-846f609e1d07",
   "metadata": {
    "execution": {
     "iopub.execute_input": "2025-03-26T09:05:29.655824Z",
     "iopub.status.busy": "2025-03-26T09:05:29.655423Z",
     "iopub.status.idle": "2025-03-26T09:05:32.420046Z",
     "shell.execute_reply": "2025-03-26T09:05:32.418789Z",
     "shell.execute_reply.started": "2025-03-26T09:05:29.655791Z"
    },
    "tags": []
   },
   "outputs": [],
   "source": [
    "trainer = Trainer(\n",
    "    model=model,\n",
    "    args=training_args,\n",
    "    train_dataset=train_dataset,\n",
    "    eval_dataset=val_dataset,\n",
    "    tokenizer=tokenizer,\n",
    "    compute_metrics=compute_metrics,\n",
    ")"
   ]
  },
  {
   "cell_type": "code",
   "execution_count": 12,
   "id": "da2fa279-8e5c-4fac-8377-b5ca4e790c0b",
   "metadata": {
    "collapsed": true,
    "execution": {
     "iopub.execute_input": "2025-03-26T09:05:35.100288Z",
     "iopub.status.busy": "2025-03-26T09:05:35.099921Z",
     "iopub.status.idle": "2025-03-26T09:46:39.117869Z",
     "shell.execute_reply": "2025-03-26T09:46:39.117032Z",
     "shell.execute_reply.started": "2025-03-26T09:05:35.100267Z"
    },
    "jupyter": {
     "outputs_hidden": true
    },
    "tags": []
   },
   "outputs": [
    {
     "name": "stderr",
     "output_type": "stream",
     "text": [
      "wandb: Using wandb-core as the SDK backend.  Please refer to https://wandb.me/wandb-core for more information.\n",
      "wandb: Currently logged in as: kotstantinovskii. Use `wandb login --relogin` to force relogin\n",
      "wandb: Tracking run with wandb version 0.19.0\n",
      "wandb: Run data is saved locally in /home/jupyter/work/resources/ml design/wandb/run-20250326_090536-ig7x5nuh\n",
      "wandb: Run `wandb offline` to turn off syncing.\n",
      "wandb: Syncing run xlm-roberta-large\n",
      "wandb: ⭐️ View project at https://wandb.ai/kotstantinovskii/huggingface\n",
      "wandb: 🚀 View run at https://wandb.ai/kotstantinovskii/huggingface/runs/ig7x5nuh\n",
      "  1%|          | 50/6075 [00:20<39:24,  2.55it/s] "
     ]
    },
    {
     "name": "stdout",
     "output_type": "stream",
     "text": [
      "{'loss': 4.6145, 'grad_norm': 24.15992546081543, 'learning_rate': 1.9848559670781894e-05, 'epoch': 0.04}\n"
     ]
    },
    {
     "name": "stderr",
     "output_type": "stream",
     "text": [
      "  2%|▏         | 100/6075 [00:39<39:02,  2.55it/s]"
     ]
    },
    {
     "name": "stdout",
     "output_type": "stream",
     "text": [
      "{'loss': 3.4077, 'grad_norm': 17.419675827026367, 'learning_rate': 1.968395061728395e-05, 'epoch': 0.08}\n"
     ]
    },
    {
     "name": "stderr",
     "output_type": "stream",
     "text": [
      "  2%|▏         | 150/6075 [00:59<38:44,  2.55it/s]"
     ]
    },
    {
     "name": "stdout",
     "output_type": "stream",
     "text": [
      "{'loss': 2.635, 'grad_norm': 19.77815055847168, 'learning_rate': 1.951934156378601e-05, 'epoch': 0.12}\n"
     ]
    },
    {
     "name": "stderr",
     "output_type": "stream",
     "text": [
      "  3%|▎         | 200/6075 [01:19<38:24,  2.55it/s]"
     ]
    },
    {
     "name": "stdout",
     "output_type": "stream",
     "text": [
      "{'loss': 2.0676, 'grad_norm': 15.662181854248047, 'learning_rate': 1.9354732510288067e-05, 'epoch': 0.16}\n"
     ]
    },
    {
     "name": "stderr",
     "output_type": "stream",
     "text": [
      "  4%|▍         | 250/6075 [01:38<38:05,  2.55it/s]"
     ]
    },
    {
     "name": "stdout",
     "output_type": "stream",
     "text": [
      "{'loss': 1.779, 'grad_norm': 9.718620300292969, 'learning_rate': 1.9190123456790124e-05, 'epoch': 0.21}\n"
     ]
    },
    {
     "name": "stderr",
     "output_type": "stream",
     "text": [
      "  5%|▍         | 300/6075 [01:58<37:49,  2.54it/s]"
     ]
    },
    {
     "name": "stdout",
     "output_type": "stream",
     "text": [
      "{'loss': 1.5683, 'grad_norm': 12.52465534210205, 'learning_rate': 1.902551440329218e-05, 'epoch': 0.25}\n"
     ]
    },
    {
     "name": "stderr",
     "output_type": "stream",
     "text": [
      "  6%|▌         | 350/6075 [02:18<37:28,  2.55it/s]"
     ]
    },
    {
     "name": "stdout",
     "output_type": "stream",
     "text": [
      "{'loss': 1.4519, 'grad_norm': 11.89262580871582, 'learning_rate': 1.886090534979424e-05, 'epoch': 0.29}\n"
     ]
    },
    {
     "name": "stderr",
     "output_type": "stream",
     "text": [
      "  7%|▋         | 400/6075 [02:37<37:09,  2.55it/s]"
     ]
    },
    {
     "name": "stdout",
     "output_type": "stream",
     "text": [
      "{'loss': 1.2828, 'grad_norm': 10.888080596923828, 'learning_rate': 1.8696296296296297e-05, 'epoch': 0.33}\n"
     ]
    },
    {
     "name": "stderr",
     "output_type": "stream",
     "text": [
      "  7%|▋         | 450/6075 [02:57<36:51,  2.54it/s]"
     ]
    },
    {
     "name": "stdout",
     "output_type": "stream",
     "text": [
      "{'loss': 1.181, 'grad_norm': 10.027362823486328, 'learning_rate': 1.8531687242798354e-05, 'epoch': 0.37}\n"
     ]
    },
    {
     "name": "stderr",
     "output_type": "stream",
     "text": [
      "  8%|▊         | 500/6075 [03:16<36:32,  2.54it/s]"
     ]
    },
    {
     "name": "stdout",
     "output_type": "stream",
     "text": [
      "{'loss': 1.0983, 'grad_norm': 13.475086212158203, 'learning_rate': 1.8367078189300414e-05, 'epoch': 0.41}\n"
     ]
    },
    {
     "name": "stderr",
     "output_type": "stream",
     "text": [
      "  9%|▉         | 550/6075 [03:36<36:10,  2.55it/s]"
     ]
    },
    {
     "name": "stdout",
     "output_type": "stream",
     "text": [
      "{'loss': 1.0012, 'grad_norm': 7.263510704040527, 'learning_rate': 1.820246913580247e-05, 'epoch': 0.45}\n"
     ]
    },
    {
     "name": "stderr",
     "output_type": "stream",
     "text": [
      " 10%|▉         | 600/6075 [03:56<35:52,  2.54it/s]"
     ]
    },
    {
     "name": "stdout",
     "output_type": "stream",
     "text": [
      "{'loss': 0.9571, 'grad_norm': 9.47817611694336, 'learning_rate': 1.8037860082304527e-05, 'epoch': 0.49}\n"
     ]
    },
    {
     "name": "stderr",
     "output_type": "stream",
     "text": [
      " 11%|█         | 650/6075 [04:15<35:30,  2.55it/s]"
     ]
    },
    {
     "name": "stdout",
     "output_type": "stream",
     "text": [
      "{'loss': 0.9071, 'grad_norm': 7.985453128814697, 'learning_rate': 1.7873251028806587e-05, 'epoch': 0.53}\n"
     ]
    },
    {
     "name": "stderr",
     "output_type": "stream",
     "text": [
      " 12%|█▏        | 700/6075 [04:35<35:09,  2.55it/s]"
     ]
    },
    {
     "name": "stdout",
     "output_type": "stream",
     "text": [
      "{'loss': 0.8091, 'grad_norm': 10.619810104370117, 'learning_rate': 1.7708641975308644e-05, 'epoch': 0.58}\n"
     ]
    },
    {
     "name": "stderr",
     "output_type": "stream",
     "text": [
      " 12%|█▏        | 750/6075 [04:55<34:51,  2.55it/s]"
     ]
    },
    {
     "name": "stdout",
     "output_type": "stream",
     "text": [
      "{'loss': 0.8361, 'grad_norm': 12.47028923034668, 'learning_rate': 1.7547325102880658e-05, 'epoch': 0.62}\n"
     ]
    },
    {
     "name": "stderr",
     "output_type": "stream",
     "text": [
      " 13%|█▎        | 800/6075 [05:14<34:33,  2.54it/s]"
     ]
    },
    {
     "name": "stdout",
     "output_type": "stream",
     "text": [
      "{'loss': 0.785, 'grad_norm': 11.852080345153809, 'learning_rate': 1.7382716049382718e-05, 'epoch': 0.66}\n"
     ]
    },
    {
     "name": "stderr",
     "output_type": "stream",
     "text": [
      " 14%|█▍        | 850/6075 [05:34<34:09,  2.55it/s]"
     ]
    },
    {
     "name": "stdout",
     "output_type": "stream",
     "text": [
      "{'loss': 0.7499, 'grad_norm': 17.531620025634766, 'learning_rate': 1.7218106995884775e-05, 'epoch': 0.7}\n"
     ]
    },
    {
     "name": "stderr",
     "output_type": "stream",
     "text": [
      " 15%|█▍        | 900/6075 [05:54<33:53,  2.55it/s]"
     ]
    },
    {
     "name": "stdout",
     "output_type": "stream",
     "text": [
      "{'loss': 0.6942, 'grad_norm': 8.407325744628906, 'learning_rate': 1.705349794238683e-05, 'epoch': 0.74}\n"
     ]
    },
    {
     "name": "stderr",
     "output_type": "stream",
     "text": [
      " 16%|█▌        | 950/6075 [06:13<33:33,  2.54it/s]"
     ]
    },
    {
     "name": "stdout",
     "output_type": "stream",
     "text": [
      "{'loss': 0.6783, 'grad_norm': 8.815706253051758, 'learning_rate': 1.688888888888889e-05, 'epoch': 0.78}\n"
     ]
    },
    {
     "name": "stderr",
     "output_type": "stream",
     "text": [
      " 16%|█▋        | 1000/6075 [06:33<33:12,  2.55it/s]"
     ]
    },
    {
     "name": "stdout",
     "output_type": "stream",
     "text": [
      "{'loss': 0.6772, 'grad_norm': 11.304827690124512, 'learning_rate': 1.6724279835390948e-05, 'epoch': 0.82}\n"
     ]
    },
    {
     "name": "stderr",
     "output_type": "stream",
     "text": [
      " 17%|█▋        | 1050/6075 [06:53<32:51,  2.55it/s]"
     ]
    },
    {
     "name": "stdout",
     "output_type": "stream",
     "text": [
      "{'loss': 0.6509, 'grad_norm': 14.233839988708496, 'learning_rate': 1.6559670781893005e-05, 'epoch': 0.86}\n"
     ]
    },
    {
     "name": "stderr",
     "output_type": "stream",
     "text": [
      " 18%|█▊        | 1100/6075 [07:12<32:32,  2.55it/s]"
     ]
    },
    {
     "name": "stdout",
     "output_type": "stream",
     "text": [
      "{'loss': 0.6016, 'grad_norm': 11.101323127746582, 'learning_rate': 1.6395061728395065e-05, 'epoch': 0.91}\n"
     ]
    },
    {
     "name": "stderr",
     "output_type": "stream",
     "text": [
      " 19%|█▉        | 1150/6075 [07:32<32:11,  2.55it/s]"
     ]
    },
    {
     "name": "stdout",
     "output_type": "stream",
     "text": [
      "{'loss': 0.6296, 'grad_norm': 7.386532306671143, 'learning_rate': 1.623045267489712e-05, 'epoch': 0.95}\n"
     ]
    },
    {
     "name": "stderr",
     "output_type": "stream",
     "text": [
      " 20%|█▉        | 1200/6075 [07:51<31:51,  2.55it/s]"
     ]
    },
    {
     "name": "stdout",
     "output_type": "stream",
     "text": [
      "{'loss': 0.5982, 'grad_norm': 7.80087947845459, 'learning_rate': 1.6065843621399178e-05, 'epoch': 0.99}\n"
     ]
    },
    {
     "name": "stderr",
     "output_type": "stream",
     "text": [
      " 20%|██        | 1215/6075 [07:57<30:38,  2.64it/s]\n",
      "  0%|          | 0/123 [00:00<?, ?it/s]\u001b[A\n",
      "  2%|▏         | 2/123 [00:00<00:07, 15.84it/s]\u001b[A\n",
      "  3%|▎         | 4/123 [00:00<00:12,  9.91it/s]\u001b[A\n",
      "  5%|▍         | 6/123 [00:00<00:13,  8.87it/s]\u001b[A\n",
      "  6%|▌         | 7/123 [00:00<00:13,  8.57it/s]\u001b[A\n",
      "  7%|▋         | 8/123 [00:00<00:13,  8.36it/s]\u001b[A\n",
      "  7%|▋         | 9/123 [00:01<00:13,  8.20it/s]\u001b[A\n",
      "  8%|▊         | 10/123 [00:01<00:13,  8.07it/s]\u001b[A\n",
      "  9%|▉         | 11/123 [00:01<00:14,  7.99it/s]\u001b[A\n",
      " 10%|▉         | 12/123 [00:01<00:14,  7.90it/s]\u001b[A\n",
      " 11%|█         | 13/123 [00:01<00:13,  7.87it/s]\u001b[A\n",
      " 11%|█▏        | 14/123 [00:01<00:13,  7.82it/s]\u001b[A\n",
      " 12%|█▏        | 15/123 [00:01<00:13,  7.81it/s]\u001b[A\n",
      " 13%|█▎        | 16/123 [00:01<00:13,  7.81it/s]\u001b[A\n",
      " 14%|█▍        | 17/123 [00:02<00:13,  7.80it/s]\u001b[A\n",
      " 15%|█▍        | 18/123 [00:02<00:13,  7.80it/s]\u001b[A\n",
      " 15%|█▌        | 19/123 [00:02<00:13,  7.79it/s]\u001b[A\n",
      " 16%|█▋        | 20/123 [00:02<00:13,  7.79it/s]\u001b[A\n",
      " 17%|█▋        | 21/123 [00:02<00:13,  7.79it/s]\u001b[A\n",
      " 18%|█▊        | 22/123 [00:02<00:12,  7.78it/s]\u001b[A\n",
      " 19%|█▊        | 23/123 [00:02<00:12,  7.78it/s]\u001b[A\n",
      " 20%|█▉        | 24/123 [00:02<00:12,  7.78it/s]\u001b[A\n",
      " 20%|██        | 25/123 [00:03<00:12,  7.78it/s]\u001b[A\n",
      " 21%|██        | 26/123 [00:03<00:12,  7.78it/s]\u001b[A\n",
      " 22%|██▏       | 27/123 [00:03<00:12,  7.76it/s]\u001b[A\n",
      " 23%|██▎       | 28/123 [00:03<00:12,  7.77it/s]\u001b[A\n",
      " 24%|██▎       | 29/123 [00:03<00:12,  7.77it/s]\u001b[A\n",
      " 24%|██▍       | 30/123 [00:03<00:11,  7.77it/s]\u001b[A\n",
      " 25%|██▌       | 31/123 [00:03<00:11,  7.77it/s]\u001b[A\n",
      " 26%|██▌       | 32/123 [00:03<00:11,  7.77it/s]\u001b[A\n",
      " 27%|██▋       | 33/123 [00:04<00:11,  7.77it/s]\u001b[A\n",
      " 28%|██▊       | 34/123 [00:04<00:11,  7.77it/s]\u001b[A\n",
      " 28%|██▊       | 35/123 [00:04<00:11,  7.78it/s]\u001b[A\n",
      " 29%|██▉       | 36/123 [00:04<00:11,  7.78it/s]\u001b[A\n",
      " 30%|███       | 37/123 [00:04<00:11,  7.78it/s]\u001b[A\n",
      " 31%|███       | 38/123 [00:04<00:10,  7.77it/s]\u001b[A\n",
      " 32%|███▏      | 39/123 [00:04<00:10,  7.75it/s]\u001b[A\n",
      " 33%|███▎      | 40/123 [00:05<00:10,  7.76it/s]\u001b[A\n",
      " 33%|███▎      | 41/123 [00:05<00:10,  7.77it/s]\u001b[A\n",
      " 34%|███▍      | 42/123 [00:05<00:10,  7.77it/s]\u001b[A\n",
      " 35%|███▍      | 43/123 [00:05<00:10,  7.77it/s]\u001b[A\n",
      " 36%|███▌      | 44/123 [00:05<00:10,  7.77it/s]\u001b[A\n",
      " 37%|███▋      | 45/123 [00:05<00:10,  7.77it/s]\u001b[A\n",
      " 37%|███▋      | 46/123 [00:05<00:09,  7.77it/s]\u001b[A\n",
      " 38%|███▊      | 47/123 [00:05<00:09,  7.78it/s]\u001b[A\n",
      " 39%|███▉      | 48/123 [00:06<00:09,  7.78it/s]\u001b[A\n",
      " 40%|███▉      | 49/123 [00:06<00:09,  7.77it/s]\u001b[A\n",
      " 41%|████      | 50/123 [00:06<00:09,  7.77it/s]\u001b[A\n",
      " 41%|████▏     | 51/123 [00:06<00:09,  7.78it/s]\u001b[A\n",
      " 42%|████▏     | 52/123 [00:06<00:09,  7.78it/s]\u001b[A\n",
      " 43%|████▎     | 53/123 [00:06<00:09,  7.76it/s]\u001b[A\n",
      " 44%|████▍     | 54/123 [00:06<00:08,  7.77it/s]\u001b[A\n",
      " 45%|████▍     | 55/123 [00:06<00:08,  7.78it/s]\u001b[A\n",
      " 46%|████▌     | 56/123 [00:07<00:08,  7.77it/s]\u001b[A\n",
      " 46%|████▋     | 57/123 [00:07<00:08,  7.77it/s]\u001b[A\n",
      " 47%|████▋     | 58/123 [00:07<00:08,  7.77it/s]\u001b[A\n",
      " 48%|████▊     | 59/123 [00:07<00:08,  7.77it/s]\u001b[A\n",
      " 49%|████▉     | 60/123 [00:07<00:08,  7.77it/s]\u001b[A\n",
      " 50%|████▉     | 61/123 [00:07<00:07,  7.77it/s]\u001b[A\n",
      " 50%|█████     | 62/123 [00:07<00:07,  7.77it/s]\u001b[A\n",
      " 51%|█████     | 63/123 [00:07<00:07,  7.76it/s]\u001b[A\n",
      " 52%|█████▏    | 64/123 [00:08<00:07,  7.71it/s]\u001b[A\n",
      " 53%|█████▎    | 65/123 [00:08<00:07,  7.73it/s]\u001b[A\n",
      " 54%|█████▎    | 66/123 [00:08<00:07,  7.73it/s]\u001b[A\n",
      " 54%|█████▍    | 67/123 [00:08<00:07,  7.74it/s]\u001b[A\n",
      " 55%|█████▌    | 68/123 [00:08<00:07,  7.75it/s]\u001b[A\n",
      " 56%|█████▌    | 69/123 [00:08<00:06,  7.76it/s]\u001b[A\n",
      " 57%|█████▋    | 70/123 [00:08<00:06,  7.77it/s]\u001b[A\n",
      " 58%|█████▊    | 71/123 [00:09<00:06,  7.77it/s]\u001b[A\n",
      " 59%|█████▊    | 72/123 [00:09<00:06,  7.78it/s]\u001b[A\n",
      " 59%|█████▉    | 73/123 [00:09<00:06,  7.79it/s]\u001b[A\n",
      " 60%|██████    | 74/123 [00:09<00:06,  7.78it/s]\u001b[A\n",
      " 61%|██████    | 75/123 [00:09<00:06,  7.78it/s]\u001b[A\n",
      " 62%|██████▏   | 76/123 [00:09<00:06,  7.78it/s]\u001b[A\n",
      " 63%|██████▎   | 77/123 [00:09<00:05,  7.77it/s]\u001b[A\n",
      " 63%|██████▎   | 78/123 [00:09<00:05,  7.77it/s]\u001b[A\n",
      " 64%|██████▍   | 79/123 [00:10<00:05,  7.78it/s]\u001b[A\n",
      " 65%|██████▌   | 80/123 [00:10<00:05,  7.78it/s]\u001b[A\n",
      " 66%|██████▌   | 81/123 [00:10<00:05,  7.77it/s]\u001b[A\n",
      " 67%|██████▋   | 82/123 [00:10<00:05,  7.77it/s]\u001b[A\n",
      " 67%|██████▋   | 83/123 [00:10<00:05,  7.77it/s]\u001b[A\n",
      " 68%|██████▊   | 84/123 [00:10<00:05,  7.77it/s]\u001b[A\n",
      " 69%|██████▉   | 85/123 [00:10<00:04,  7.77it/s]\u001b[A\n",
      " 70%|██████▉   | 86/123 [00:10<00:04,  7.77it/s]\u001b[A\n",
      " 71%|███████   | 87/123 [00:11<00:04,  7.77it/s]\u001b[A\n",
      " 72%|███████▏  | 88/123 [00:11<00:04,  7.78it/s]\u001b[A\n",
      " 72%|███████▏  | 89/123 [00:11<00:04,  7.78it/s]\u001b[A\n",
      " 73%|███████▎  | 90/123 [00:11<00:04,  7.78it/s]\u001b[A\n",
      " 74%|███████▍  | 91/123 [00:11<00:04,  7.78it/s]\u001b[A\n",
      " 75%|███████▍  | 92/123 [00:11<00:03,  7.78it/s]\u001b[A\n",
      " 76%|███████▌  | 93/123 [00:11<00:03,  7.78it/s]\u001b[A\n",
      " 76%|███████▋  | 94/123 [00:11<00:03,  7.78it/s]\u001b[A\n",
      " 77%|███████▋  | 95/123 [00:12<00:03,  7.73it/s]\u001b[A\n",
      " 78%|███████▊  | 96/123 [00:12<00:03,  7.74it/s]\u001b[A\n",
      " 79%|███████▉  | 97/123 [00:12<00:03,  7.75it/s]\u001b[A\n",
      " 80%|███████▉  | 98/123 [00:12<00:03,  7.77it/s]\u001b[A\n",
      " 80%|████████  | 99/123 [00:12<00:03,  7.77it/s]\u001b[A\n",
      " 81%|████████▏ | 100/123 [00:12<00:02,  7.77it/s]\u001b[A\n",
      " 82%|████████▏ | 101/123 [00:12<00:02,  7.77it/s]\u001b[A\n",
      " 83%|████████▎ | 102/123 [00:12<00:02,  7.77it/s]\u001b[A\n",
      " 84%|████████▎ | 103/123 [00:13<00:02,  7.77it/s]\u001b[A\n",
      " 85%|████████▍ | 104/123 [00:13<00:02,  7.78it/s]\u001b[A\n",
      " 85%|████████▌ | 105/123 [00:13<00:02,  7.78it/s]\u001b[A\n",
      " 86%|████████▌ | 106/123 [00:13<00:02,  7.78it/s]\u001b[A\n",
      " 87%|████████▋ | 107/123 [00:13<00:02,  7.77it/s]\u001b[A\n",
      " 88%|████████▊ | 108/123 [00:13<00:01,  7.78it/s]\u001b[A\n",
      " 89%|████████▊ | 109/123 [00:13<00:01,  7.77it/s]\u001b[A\n",
      " 89%|████████▉ | 110/123 [00:14<00:01,  7.77it/s]\u001b[A\n",
      " 90%|█████████ | 111/123 [00:14<00:01,  7.78it/s]\u001b[A\n",
      " 91%|█████████ | 112/123 [00:14<00:01,  7.78it/s]\u001b[A\n",
      " 92%|█████████▏| 113/123 [00:14<00:01,  7.79it/s]\u001b[A\n",
      " 93%|█████████▎| 114/123 [00:14<00:01,  7.79it/s]\u001b[A\n",
      " 93%|█████████▎| 115/123 [00:14<00:01,  7.78it/s]\u001b[A\n",
      " 94%|█████████▍| 116/123 [00:14<00:00,  7.78it/s]\u001b[A\n",
      " 95%|█████████▌| 117/123 [00:14<00:00,  7.78it/s]\u001b[A\n",
      " 96%|█████████▌| 118/123 [00:15<00:00,  7.78it/s]\u001b[A\n",
      " 97%|█████████▋| 119/123 [00:15<00:00,  7.78it/s]\u001b[A\n",
      " 98%|█████████▊| 120/123 [00:15<00:00,  7.78it/s]\u001b[A\n",
      " 98%|█████████▊| 121/123 [00:15<00:00,  7.78it/s]\u001b[A\n",
      "                                                   A\n",
      " 20%|██        | 1215/6075 [08:13<30:38,  2.64it/s]\n",
      "100%|██████████| 123/123 [00:15<00:00,  7.81it/s]\u001b[A\n",
      "                                                 \u001b[A"
     ]
    },
    {
     "name": "stdout",
     "output_type": "stream",
     "text": [
      "{'eval_loss': 0.535047709941864, 'eval_accuracy': 0.8647822765469825, 'eval_precision_weighted': 0.853208087543638, 'eval_recall_weighted': 0.8647822765469825, 'eval_f1_weighted': 0.8521587146570393, 'eval_runtime': 15.8392, 'eval_samples_per_second': 495.859, 'eval_steps_per_second': 7.766, 'epoch': 1.0}\n"
     ]
    },
    {
     "name": "stderr",
     "output_type": "stream",
     "text": [
      " 21%|██        | 1250/6075 [08:27<31:33,  2.55it/s]  "
     ]
    },
    {
     "name": "stdout",
     "output_type": "stream",
     "text": [
      "{'loss': 0.5638, 'grad_norm': 19.80738067626953, 'learning_rate': 1.5904526748971195e-05, 'epoch': 1.03}\n"
     ]
    },
    {
     "name": "stderr",
     "output_type": "stream",
     "text": [
      " 21%|██▏       | 1300/6075 [08:46<31:12,  2.55it/s]"
     ]
    },
    {
     "name": "stdout",
     "output_type": "stream",
     "text": [
      "{'loss': 0.5083, 'grad_norm': 10.08694076538086, 'learning_rate': 1.5739917695473252e-05, 'epoch': 1.07}\n"
     ]
    },
    {
     "name": "stderr",
     "output_type": "stream",
     "text": [
      " 22%|██▏       | 1350/6075 [09:06<30:56,  2.55it/s]"
     ]
    },
    {
     "name": "stdout",
     "output_type": "stream",
     "text": [
      "{'loss': 0.4851, 'grad_norm': 8.543373107910156, 'learning_rate': 1.5575308641975312e-05, 'epoch': 1.11}\n"
     ]
    },
    {
     "name": "stderr",
     "output_type": "stream",
     "text": [
      " 23%|██▎       | 1400/6075 [09:26<30:34,  2.55it/s]"
     ]
    },
    {
     "name": "stdout",
     "output_type": "stream",
     "text": [
      "{'loss': 0.486, 'grad_norm': 62.7464714050293, 'learning_rate': 1.541069958847737e-05, 'epoch': 1.15}\n"
     ]
    },
    {
     "name": "stderr",
     "output_type": "stream",
     "text": [
      " 24%|██▍       | 1450/6075 [09:45<30:13,  2.55it/s]"
     ]
    },
    {
     "name": "stdout",
     "output_type": "stream",
     "text": [
      "{'loss': 0.4901, 'grad_norm': 23.99897575378418, 'learning_rate': 1.5246090534979425e-05, 'epoch': 1.19}\n"
     ]
    },
    {
     "name": "stderr",
     "output_type": "stream",
     "text": [
      " 25%|██▍       | 1500/6075 [10:05<29:57,  2.55it/s]"
     ]
    },
    {
     "name": "stdout",
     "output_type": "stream",
     "text": [
      "{'loss': 0.4435, 'grad_norm': 5.247368812561035, 'learning_rate': 1.5081481481481484e-05, 'epoch': 1.23}\n"
     ]
    },
    {
     "name": "stderr",
     "output_type": "stream",
     "text": [
      " 26%|██▌       | 1550/6075 [10:25<29:34,  2.55it/s]"
     ]
    },
    {
     "name": "stdout",
     "output_type": "stream",
     "text": [
      "{'loss': 0.4339, 'grad_norm': 7.111354351043701, 'learning_rate': 1.491687242798354e-05, 'epoch': 1.28}\n"
     ]
    },
    {
     "name": "stderr",
     "output_type": "stream",
     "text": [
      " 26%|██▋       | 1600/6075 [10:44<29:14,  2.55it/s]"
     ]
    },
    {
     "name": "stdout",
     "output_type": "stream",
     "text": [
      "{'loss': 0.4271, 'grad_norm': 11.990880966186523, 'learning_rate': 1.4752263374485599e-05, 'epoch': 1.32}\n"
     ]
    },
    {
     "name": "stderr",
     "output_type": "stream",
     "text": [
      " 27%|██▋       | 1650/6075 [11:04<28:59,  2.54it/s]"
     ]
    },
    {
     "name": "stdout",
     "output_type": "stream",
     "text": [
      "{'loss': 0.4401, 'grad_norm': 8.573368072509766, 'learning_rate': 1.4587654320987657e-05, 'epoch': 1.36}\n"
     ]
    },
    {
     "name": "stderr",
     "output_type": "stream",
     "text": [
      " 28%|██▊       | 1700/6075 [11:23<28:37,  2.55it/s]"
     ]
    },
    {
     "name": "stdout",
     "output_type": "stream",
     "text": [
      "{'loss': 0.4343, 'grad_norm': 14.673293113708496, 'learning_rate': 1.4423045267489712e-05, 'epoch': 1.4}\n"
     ]
    },
    {
     "name": "stderr",
     "output_type": "stream",
     "text": [
      " 29%|██▉       | 1750/6075 [11:43<28:16,  2.55it/s]"
     ]
    },
    {
     "name": "stdout",
     "output_type": "stream",
     "text": [
      "{'loss': 0.4165, 'grad_norm': 9.304162979125977, 'learning_rate': 1.425843621399177e-05, 'epoch': 1.44}\n"
     ]
    },
    {
     "name": "stderr",
     "output_type": "stream",
     "text": [
      " 30%|██▉       | 1800/6075 [12:03<27:59,  2.55it/s]"
     ]
    },
    {
     "name": "stdout",
     "output_type": "stream",
     "text": [
      "{'loss': 0.4029, 'grad_norm': 5.99321174621582, 'learning_rate': 1.4093827160493829e-05, 'epoch': 1.48}\n"
     ]
    },
    {
     "name": "stderr",
     "output_type": "stream",
     "text": [
      " 30%|███       | 1850/6075 [12:22<27:35,  2.55it/s]"
     ]
    },
    {
     "name": "stdout",
     "output_type": "stream",
     "text": [
      "{'loss': 0.3998, 'grad_norm': 25.94679832458496, 'learning_rate': 1.3929218106995885e-05, 'epoch': 1.52}\n"
     ]
    },
    {
     "name": "stderr",
     "output_type": "stream",
     "text": [
      " 31%|███▏      | 1900/6075 [12:42<27:18,  2.55it/s]"
     ]
    },
    {
     "name": "stdout",
     "output_type": "stream",
     "text": [
      "{'loss': 0.3753, 'grad_norm': 10.124625205993652, 'learning_rate': 1.3764609053497944e-05, 'epoch': 1.56}\n"
     ]
    },
    {
     "name": "stderr",
     "output_type": "stream",
     "text": [
      " 32%|███▏      | 1950/6075 [13:02<26:59,  2.55it/s]"
     ]
    },
    {
     "name": "stdout",
     "output_type": "stream",
     "text": [
      "{'loss': 0.3709, 'grad_norm': 17.311248779296875, 'learning_rate': 1.3600000000000002e-05, 'epoch': 1.6}\n"
     ]
    },
    {
     "name": "stderr",
     "output_type": "stream",
     "text": [
      " 33%|███▎      | 2000/6075 [13:21<26:38,  2.55it/s]"
     ]
    },
    {
     "name": "stdout",
     "output_type": "stream",
     "text": [
      "{'loss': 0.3899, 'grad_norm': 6.076077461242676, 'learning_rate': 1.3435390946502059e-05, 'epoch': 1.65}\n"
     ]
    },
    {
     "name": "stderr",
     "output_type": "stream",
     "text": [
      " 34%|███▎      | 2050/6075 [13:41<26:18,  2.55it/s]"
     ]
    },
    {
     "name": "stdout",
     "output_type": "stream",
     "text": [
      "{'loss': 0.3582, 'grad_norm': 5.114618301391602, 'learning_rate': 1.3270781893004117e-05, 'epoch': 1.69}\n"
     ]
    },
    {
     "name": "stderr",
     "output_type": "stream",
     "text": [
      " 35%|███▍      | 2100/6075 [14:00<25:59,  2.55it/s]"
     ]
    },
    {
     "name": "stdout",
     "output_type": "stream",
     "text": [
      "{'loss': 0.4003, 'grad_norm': 5.626178741455078, 'learning_rate': 1.3106172839506175e-05, 'epoch': 1.73}\n"
     ]
    },
    {
     "name": "stderr",
     "output_type": "stream",
     "text": [
      " 35%|███▌      | 2150/6075 [14:20<25:40,  2.55it/s]"
     ]
    },
    {
     "name": "stdout",
     "output_type": "stream",
     "text": [
      "{'loss': 0.3632, 'grad_norm': 10.728328704833984, 'learning_rate': 1.294156378600823e-05, 'epoch': 1.77}\n"
     ]
    },
    {
     "name": "stderr",
     "output_type": "stream",
     "text": [
      " 36%|███▌      | 2200/6075 [14:40<25:20,  2.55it/s]"
     ]
    },
    {
     "name": "stdout",
     "output_type": "stream",
     "text": [
      "{'loss': 0.3769, 'grad_norm': 11.376520156860352, 'learning_rate': 1.2776954732510289e-05, 'epoch': 1.81}\n"
     ]
    },
    {
     "name": "stderr",
     "output_type": "stream",
     "text": [
      " 37%|███▋      | 2250/6075 [14:59<25:00,  2.55it/s]"
     ]
    },
    {
     "name": "stdout",
     "output_type": "stream",
     "text": [
      "{'loss': 0.3555, 'grad_norm': 13.668416023254395, 'learning_rate': 1.2612345679012347e-05, 'epoch': 1.85}\n"
     ]
    },
    {
     "name": "stderr",
     "output_type": "stream",
     "text": [
      " 38%|███▊      | 2300/6075 [15:19<24:41,  2.55it/s]"
     ]
    },
    {
     "name": "stdout",
     "output_type": "stream",
     "text": [
      "{'loss': 0.3533, 'grad_norm': 10.224333763122559, 'learning_rate': 1.2447736625514404e-05, 'epoch': 1.89}\n"
     ]
    },
    {
     "name": "stderr",
     "output_type": "stream",
     "text": [
      " 39%|███▊      | 2350/6075 [15:39<24:20,  2.55it/s]"
     ]
    },
    {
     "name": "stdout",
     "output_type": "stream",
     "text": [
      "{'loss': 0.3427, 'grad_norm': 12.264406204223633, 'learning_rate': 1.2283127572016462e-05, 'epoch': 1.93}\n"
     ]
    },
    {
     "name": "stderr",
     "output_type": "stream",
     "text": [
      " 40%|███▉      | 2400/6075 [15:58<24:01,  2.55it/s]"
     ]
    },
    {
     "name": "stdout",
     "output_type": "stream",
     "text": [
      "{'loss': 0.3206, 'grad_norm': 6.118264198303223, 'learning_rate': 1.211851851851852e-05, 'epoch': 1.98}\n"
     ]
    },
    {
     "name": "stderr",
     "output_type": "stream",
     "text": [
      " 40%|████      | 2430/6075 [16:10<22:58,  2.64it/s]\n",
      "  0%|          | 0/123 [00:00<?, ?it/s]\u001b[A\n",
      "  2%|▏         | 2/123 [00:00<00:07, 15.85it/s]\u001b[A\n",
      "  3%|▎         | 4/123 [00:00<00:11,  9.95it/s]\u001b[A\n",
      "  5%|▍         | 6/123 [00:00<00:13,  8.88it/s]\u001b[A\n",
      "  6%|▌         | 7/123 [00:00<00:13,  8.56it/s]\u001b[A\n",
      "  7%|▋         | 8/123 [00:00<00:13,  8.34it/s]\u001b[A\n",
      "  7%|▋         | 9/123 [00:01<00:13,  8.19it/s]\u001b[A\n",
      "  8%|▊         | 10/123 [00:01<00:13,  8.07it/s]\u001b[A\n",
      "  9%|▉         | 11/123 [00:01<00:14,  7.99it/s]\u001b[A\n",
      " 10%|▉         | 12/123 [00:01<00:13,  7.93it/s]\u001b[A\n",
      " 11%|█         | 13/123 [00:01<00:13,  7.89it/s]\u001b[A\n",
      " 11%|█▏        | 14/123 [00:01<00:13,  7.86it/s]\u001b[A\n",
      " 12%|█▏        | 15/123 [00:01<00:13,  7.84it/s]\u001b[A\n",
      " 13%|█▎        | 16/123 [00:01<00:13,  7.82it/s]\u001b[A\n",
      " 14%|█▍        | 17/123 [00:02<00:13,  7.79it/s]\u001b[A\n",
      " 15%|█▍        | 18/123 [00:02<00:13,  7.80it/s]\u001b[A\n",
      " 15%|█▌        | 19/123 [00:02<00:13,  7.80it/s]\u001b[A\n",
      " 16%|█▋        | 20/123 [00:02<00:13,  7.74it/s]\u001b[A\n",
      " 17%|█▋        | 21/123 [00:02<00:13,  7.74it/s]\u001b[A\n",
      " 18%|█▊        | 22/123 [00:02<00:13,  7.76it/s]\u001b[A\n",
      " 19%|█▊        | 23/123 [00:02<00:12,  7.77it/s]\u001b[A\n",
      " 20%|█▉        | 24/123 [00:02<00:12,  7.77it/s]\u001b[A\n",
      " 20%|██        | 25/123 [00:03<00:12,  7.78it/s]\u001b[A\n",
      " 21%|██        | 26/123 [00:03<00:12,  7.77it/s]\u001b[A\n",
      " 22%|██▏       | 27/123 [00:03<00:12,  7.77it/s]\u001b[A\n",
      " 23%|██▎       | 28/123 [00:03<00:12,  7.78it/s]\u001b[A\n",
      " 24%|██▎       | 29/123 [00:03<00:12,  7.78it/s]\u001b[A\n",
      " 24%|██▍       | 30/123 [00:03<00:11,  7.78it/s]\u001b[A\n",
      " 25%|██▌       | 31/123 [00:03<00:11,  7.76it/s]\u001b[A\n",
      " 26%|██▌       | 32/123 [00:03<00:11,  7.77it/s]\u001b[A\n",
      " 27%|██▋       | 33/123 [00:04<00:11,  7.78it/s]\u001b[A\n",
      " 28%|██▊       | 34/123 [00:04<00:11,  7.77it/s]\u001b[A\n",
      " 28%|██▊       | 35/123 [00:04<00:11,  7.77it/s]\u001b[A\n",
      " 29%|██▉       | 36/123 [00:04<00:11,  7.78it/s]\u001b[A\n",
      " 30%|███       | 37/123 [00:04<00:11,  7.77it/s]\u001b[A\n",
      " 31%|███       | 38/123 [00:04<00:10,  7.78it/s]\u001b[A\n",
      " 32%|███▏      | 39/123 [00:04<00:10,  7.77it/s]\u001b[A\n",
      " 33%|███▎      | 40/123 [00:05<00:10,  7.78it/s]\u001b[A\n",
      " 33%|███▎      | 41/123 [00:05<00:10,  7.79it/s]\u001b[A\n",
      " 34%|███▍      | 42/123 [00:05<00:10,  7.77it/s]\u001b[A\n",
      " 35%|███▍      | 43/123 [00:05<00:10,  7.77it/s]\u001b[A\n",
      " 36%|███▌      | 44/123 [00:05<00:10,  7.78it/s]\u001b[A\n",
      " 37%|███▋      | 45/123 [00:05<00:10,  7.78it/s]\u001b[A\n",
      " 37%|███▋      | 46/123 [00:05<00:09,  7.78it/s]\u001b[A\n",
      " 38%|███▊      | 47/123 [00:05<00:09,  7.79it/s]\u001b[A\n",
      " 39%|███▉      | 48/123 [00:06<00:09,  7.79it/s]\u001b[A\n",
      " 40%|███▉      | 49/123 [00:06<00:09,  7.80it/s]\u001b[A\n",
      " 41%|████      | 50/123 [00:06<00:09,  7.80it/s]\u001b[A\n",
      " 41%|████▏     | 51/123 [00:06<00:09,  7.80it/s]\u001b[A\n",
      " 42%|████▏     | 52/123 [00:06<00:09,  7.80it/s]\u001b[A\n",
      " 43%|████▎     | 53/123 [00:06<00:08,  7.80it/s]\u001b[A\n",
      " 44%|████▍     | 54/123 [00:06<00:08,  7.80it/s]\u001b[A\n",
      " 45%|████▍     | 55/123 [00:06<00:08,  7.80it/s]\u001b[A\n",
      " 46%|████▌     | 56/123 [00:07<00:08,  7.80it/s]\u001b[A\n",
      " 46%|████▋     | 57/123 [00:07<00:08,  7.80it/s]\u001b[A\n",
      " 47%|████▋     | 58/123 [00:07<00:08,  7.79it/s]\u001b[A\n",
      " 48%|████▊     | 59/123 [00:07<00:08,  7.79it/s]\u001b[A\n",
      " 49%|████▉     | 60/123 [00:07<00:08,  7.77it/s]\u001b[A\n",
      " 50%|████▉     | 61/123 [00:07<00:07,  7.78it/s]\u001b[A\n",
      " 50%|█████     | 62/123 [00:07<00:07,  7.78it/s]\u001b[A\n",
      " 51%|█████     | 63/123 [00:07<00:07,  7.78it/s]\u001b[A\n",
      " 52%|█████▏    | 64/123 [00:08<00:07,  7.79it/s]\u001b[A\n",
      " 53%|█████▎    | 65/123 [00:08<00:07,  7.79it/s]\u001b[A\n",
      " 54%|█████▎    | 66/123 [00:08<00:07,  7.79it/s]\u001b[A\n",
      " 54%|█████▍    | 67/123 [00:08<00:07,  7.79it/s]\u001b[A\n",
      " 55%|█████▌    | 68/123 [00:08<00:07,  7.79it/s]\u001b[A\n",
      " 56%|█████▌    | 69/123 [00:08<00:06,  7.79it/s]\u001b[A\n",
      " 57%|█████▋    | 70/123 [00:08<00:06,  7.80it/s]\u001b[A\n",
      " 58%|█████▊    | 71/123 [00:08<00:06,  7.78it/s]\u001b[A\n",
      " 59%|█████▊    | 72/123 [00:09<00:06,  7.78it/s]\u001b[A\n",
      " 59%|█████▉    | 73/123 [00:09<00:06,  7.78it/s]\u001b[A\n",
      " 60%|██████    | 74/123 [00:09<00:06,  7.79it/s]\u001b[A\n",
      " 61%|██████    | 75/123 [00:09<00:06,  7.79it/s]\u001b[A\n",
      " 62%|██████▏   | 76/123 [00:09<00:06,  7.79it/s]\u001b[A\n",
      " 63%|██████▎   | 77/123 [00:09<00:05,  7.79it/s]\u001b[A\n",
      " 63%|██████▎   | 78/123 [00:09<00:05,  7.80it/s]\u001b[A\n",
      " 64%|██████▍   | 79/123 [00:10<00:05,  7.80it/s]\u001b[A\n",
      " 65%|██████▌   | 80/123 [00:10<00:05,  7.80it/s]\u001b[A\n",
      " 66%|██████▌   | 81/123 [00:10<00:05,  7.79it/s]\u001b[A\n",
      " 67%|██████▋   | 82/123 [00:10<00:05,  7.79it/s]\u001b[A\n",
      " 67%|██████▋   | 83/123 [00:10<00:05,  7.79it/s]\u001b[A\n",
      " 68%|██████▊   | 84/123 [00:10<00:05,  7.79it/s]\u001b[A\n",
      " 69%|██████▉   | 85/123 [00:10<00:04,  7.78it/s]\u001b[A\n",
      " 70%|██████▉   | 86/123 [00:10<00:04,  7.78it/s]\u001b[A\n",
      " 71%|███████   | 87/123 [00:11<00:04,  7.78it/s]\u001b[A\n",
      " 72%|███████▏  | 88/123 [00:11<00:04,  7.79it/s]\u001b[A\n",
      " 72%|███████▏  | 89/123 [00:11<00:04,  7.80it/s]\u001b[A\n",
      " 73%|███████▎  | 90/123 [00:11<00:04,  7.80it/s]\u001b[A\n",
      " 74%|███████▍  | 91/123 [00:11<00:04,  7.81it/s]\u001b[A\n",
      " 75%|███████▍  | 92/123 [00:11<00:03,  7.81it/s]\u001b[A\n",
      " 76%|███████▌  | 93/123 [00:11<00:03,  7.80it/s]\u001b[A\n",
      " 76%|███████▋  | 94/123 [00:11<00:03,  7.79it/s]\u001b[A\n",
      " 77%|███████▋  | 95/123 [00:12<00:03,  7.79it/s]\u001b[A\n",
      " 78%|███████▊  | 96/123 [00:12<00:03,  7.78it/s]\u001b[A\n",
      " 79%|███████▉  | 97/123 [00:12<00:03,  7.78it/s]\u001b[A\n",
      " 80%|███████▉  | 98/123 [00:12<00:03,  7.78it/s]\u001b[A\n",
      " 80%|████████  | 99/123 [00:12<00:03,  7.78it/s]\u001b[A\n",
      " 81%|████████▏ | 100/123 [00:12<00:02,  7.79it/s]\u001b[A\n",
      " 82%|████████▏ | 101/123 [00:12<00:02,  7.79it/s]\u001b[A\n",
      " 83%|████████▎ | 102/123 [00:12<00:02,  7.79it/s]\u001b[A\n",
      " 84%|████████▎ | 103/123 [00:13<00:02,  7.78it/s]\u001b[A\n",
      " 85%|████████▍ | 104/123 [00:13<00:02,  7.75it/s]\u001b[A\n",
      " 85%|████████▌ | 105/123 [00:13<00:02,  7.71it/s]\u001b[A\n",
      " 86%|████████▌ | 106/123 [00:13<00:02,  7.72it/s]\u001b[A\n",
      " 87%|████████▋ | 107/123 [00:13<00:02,  7.74it/s]\u001b[A\n",
      " 88%|████████▊ | 108/123 [00:13<00:01,  7.75it/s]\u001b[A\n",
      " 89%|████████▊ | 109/123 [00:13<00:01,  7.75it/s]\u001b[A\n",
      " 89%|████████▉ | 110/123 [00:14<00:01,  7.75it/s]\u001b[A\n",
      " 90%|█████████ | 111/123 [00:14<00:01,  7.75it/s]\u001b[A\n",
      " 91%|█████████ | 112/123 [00:14<00:01,  7.76it/s]\u001b[A\n",
      " 92%|█████████▏| 113/123 [00:14<00:01,  7.76it/s]\u001b[A\n",
      " 93%|█████████▎| 114/123 [00:14<00:01,  7.77it/s]\u001b[A\n",
      " 93%|█████████▎| 115/123 [00:14<00:01,  7.77it/s]\u001b[A\n",
      " 94%|█████████▍| 116/123 [00:14<00:00,  7.78it/s]\u001b[A\n",
      " 95%|█████████▌| 117/123 [00:14<00:00,  7.77it/s]\u001b[A\n",
      " 96%|█████████▌| 118/123 [00:15<00:00,  7.77it/s]\u001b[A\n",
      " 97%|█████████▋| 119/123 [00:15<00:00,  7.77it/s]\u001b[A\n",
      " 98%|█████████▊| 120/123 [00:15<00:00,  7.78it/s]\u001b[A\n",
      " 98%|█████████▊| 121/123 [00:15<00:00,  7.78it/s]\u001b[A\n",
      "                                                   A\n",
      " 40%|████      | 2430/6075 [16:26<22:58,  2.64it/s]\n",
      "100%|██████████| 123/123 [00:15<00:00,  7.82it/s]\u001b[A\n",
      "                                                 \u001b[A"
     ]
    },
    {
     "name": "stdout",
     "output_type": "stream",
     "text": [
      "{'eval_loss': 0.3180396258831024, 'eval_accuracy': 0.9143111790170614, 'eval_precision_weighted': 0.9098141559802903, 'eval_recall_weighted': 0.9143111790170614, 'eval_f1_weighted': 0.908325834384529, 'eval_runtime': 15.7967, 'eval_samples_per_second': 497.192, 'eval_steps_per_second': 7.786, 'epoch': 2.0}\n"
     ]
    },
    {
     "name": "stderr",
     "output_type": "stream",
     "text": [
      " 40%|████      | 2450/6075 [16:34<23:58,  2.52it/s]  "
     ]
    },
    {
     "name": "stdout",
     "output_type": "stream",
     "text": [
      "{'loss': 0.3146, 'grad_norm': 4.100291728973389, 'learning_rate': 1.1953909465020577e-05, 'epoch': 2.02}\n"
     ]
    },
    {
     "name": "stderr",
     "output_type": "stream",
     "text": [
      " 41%|████      | 2500/6075 [16:53<23:20,  2.55it/s]"
     ]
    },
    {
     "name": "stdout",
     "output_type": "stream",
     "text": [
      "{'loss': 0.2899, 'grad_norm': 6.735316276550293, 'learning_rate': 1.1789300411522635e-05, 'epoch': 2.06}\n"
     ]
    },
    {
     "name": "stderr",
     "output_type": "stream",
     "text": [
      " 42%|████▏     | 2550/6075 [17:13<23:00,  2.55it/s]"
     ]
    },
    {
     "name": "stdout",
     "output_type": "stream",
     "text": [
      "{'loss': 0.3017, 'grad_norm': 10.518106460571289, 'learning_rate': 1.1624691358024694e-05, 'epoch': 2.1}\n"
     ]
    },
    {
     "name": "stderr",
     "output_type": "stream",
     "text": [
      " 43%|████▎     | 2600/6075 [17:32<22:41,  2.55it/s]"
     ]
    },
    {
     "name": "stdout",
     "output_type": "stream",
     "text": [
      "{'loss': 0.2478, 'grad_norm': 6.7847580909729, 'learning_rate': 1.146008230452675e-05, 'epoch': 2.14}\n"
     ]
    },
    {
     "name": "stderr",
     "output_type": "stream",
     "text": [
      " 44%|████▎     | 2650/6075 [17:52<22:19,  2.56it/s]"
     ]
    },
    {
     "name": "stdout",
     "output_type": "stream",
     "text": [
      "{'loss': 0.2867, 'grad_norm': 10.330179214477539, 'learning_rate': 1.1295473251028809e-05, 'epoch': 2.18}\n"
     ]
    },
    {
     "name": "stderr",
     "output_type": "stream",
     "text": [
      " 44%|████▍     | 2700/6075 [18:11<21:59,  2.56it/s]"
     ]
    },
    {
     "name": "stdout",
     "output_type": "stream",
     "text": [
      "{'loss': 0.2683, 'grad_norm': 4.695801258087158, 'learning_rate': 1.1130864197530864e-05, 'epoch': 2.22}\n"
     ]
    },
    {
     "name": "stderr",
     "output_type": "stream",
     "text": [
      " 45%|████▌     | 2750/6075 [18:31<21:40,  2.56it/s]"
     ]
    },
    {
     "name": "stdout",
     "output_type": "stream",
     "text": [
      "{'loss': 0.2704, 'grad_norm': 11.86202335357666, 'learning_rate': 1.0966255144032922e-05, 'epoch': 2.26}\n"
     ]
    },
    {
     "name": "stderr",
     "output_type": "stream",
     "text": [
      " 46%|████▌     | 2800/6075 [18:51<21:21,  2.55it/s]"
     ]
    },
    {
     "name": "stdout",
     "output_type": "stream",
     "text": [
      "{'loss': 0.2774, 'grad_norm': 12.341758728027344, 'learning_rate': 1.080164609053498e-05, 'epoch': 2.3}\n"
     ]
    },
    {
     "name": "stderr",
     "output_type": "stream",
     "text": [
      " 47%|████▋     | 2850/6075 [19:10<21:02,  2.55it/s]"
     ]
    },
    {
     "name": "stdout",
     "output_type": "stream",
     "text": [
      "{'loss': 0.2725, 'grad_norm': 8.099405288696289, 'learning_rate': 1.0637037037037037e-05, 'epoch': 2.35}\n"
     ]
    },
    {
     "name": "stderr",
     "output_type": "stream",
     "text": [
      " 48%|████▊     | 2900/6075 [19:30<20:42,  2.56it/s]"
     ]
    },
    {
     "name": "stdout",
     "output_type": "stream",
     "text": [
      "{'loss': 0.253, 'grad_norm': 4.26547384262085, 'learning_rate': 1.0472427983539095e-05, 'epoch': 2.39}\n"
     ]
    },
    {
     "name": "stderr",
     "output_type": "stream",
     "text": [
      " 49%|████▊     | 2950/6075 [19:49<20:23,  2.55it/s]"
     ]
    },
    {
     "name": "stdout",
     "output_type": "stream",
     "text": [
      "{'loss': 0.2569, 'grad_norm': 5.459811687469482, 'learning_rate': 1.0307818930041154e-05, 'epoch': 2.43}\n"
     ]
    },
    {
     "name": "stderr",
     "output_type": "stream",
     "text": [
      " 49%|████▉     | 3000/6075 [20:09<20:03,  2.55it/s]"
     ]
    },
    {
     "name": "stdout",
     "output_type": "stream",
     "text": [
      "{'loss': 0.2367, 'grad_norm': 15.366220474243164, 'learning_rate': 1.014320987654321e-05, 'epoch': 2.47}\n"
     ]
    },
    {
     "name": "stderr",
     "output_type": "stream",
     "text": [
      " 50%|█████     | 3050/6075 [20:29<19:43,  2.56it/s]"
     ]
    },
    {
     "name": "stdout",
     "output_type": "stream",
     "text": [
      "{'loss': 0.241, 'grad_norm': 10.9235258102417, 'learning_rate': 9.978600823045269e-06, 'epoch': 2.51}\n"
     ]
    },
    {
     "name": "stderr",
     "output_type": "stream",
     "text": [
      " 51%|█████     | 3100/6075 [20:48<19:24,  2.55it/s]"
     ]
    },
    {
     "name": "stdout",
     "output_type": "stream",
     "text": [
      "{'loss': 0.2491, 'grad_norm': 6.991733074188232, 'learning_rate': 9.813991769547327e-06, 'epoch': 2.55}\n"
     ]
    },
    {
     "name": "stderr",
     "output_type": "stream",
     "text": [
      " 52%|█████▏    | 3150/6075 [21:08<19:04,  2.56it/s]"
     ]
    },
    {
     "name": "stdout",
     "output_type": "stream",
     "text": [
      "{'loss': 0.2434, 'grad_norm': 9.717705726623535, 'learning_rate': 9.649382716049384e-06, 'epoch': 2.59}\n"
     ]
    },
    {
     "name": "stderr",
     "output_type": "stream",
     "text": [
      " 53%|█████▎    | 3200/6075 [21:27<18:45,  2.56it/s]"
     ]
    },
    {
     "name": "stdout",
     "output_type": "stream",
     "text": [
      "{'loss': 0.2392, 'grad_norm': 5.480097770690918, 'learning_rate': 9.48477366255144e-06, 'epoch': 2.63}\n"
     ]
    },
    {
     "name": "stderr",
     "output_type": "stream",
     "text": [
      " 53%|█████▎    | 3250/6075 [21:47<18:24,  2.56it/s]"
     ]
    },
    {
     "name": "stdout",
     "output_type": "stream",
     "text": [
      "{'loss': 0.2305, 'grad_norm': 22.62981605529785, 'learning_rate': 9.320164609053499e-06, 'epoch': 2.67}\n"
     ]
    },
    {
     "name": "stderr",
     "output_type": "stream",
     "text": [
      " 54%|█████▍    | 3300/6075 [22:07<18:06,  2.55it/s]"
     ]
    },
    {
     "name": "stdout",
     "output_type": "stream",
     "text": [
      "{'loss': 0.216, 'grad_norm': 7.161300182342529, 'learning_rate': 9.155555555555557e-06, 'epoch': 2.72}\n"
     ]
    },
    {
     "name": "stderr",
     "output_type": "stream",
     "text": [
      " 55%|█████▌    | 3350/6075 [22:26<17:47,  2.55it/s]"
     ]
    },
    {
     "name": "stdout",
     "output_type": "stream",
     "text": [
      "{'loss': 0.2313, 'grad_norm': 7.066636562347412, 'learning_rate': 8.990946502057614e-06, 'epoch': 2.76}\n"
     ]
    },
    {
     "name": "stderr",
     "output_type": "stream",
     "text": [
      " 56%|█████▌    | 3400/6075 [22:46<17:27,  2.55it/s]"
     ]
    },
    {
     "name": "stdout",
     "output_type": "stream",
     "text": [
      "{'loss': 0.2369, 'grad_norm': 7.280149936676025, 'learning_rate': 8.826337448559672e-06, 'epoch': 2.8}\n"
     ]
    },
    {
     "name": "stderr",
     "output_type": "stream",
     "text": [
      " 57%|█████▋    | 3450/6075 [23:05<17:08,  2.55it/s]"
     ]
    },
    {
     "name": "stdout",
     "output_type": "stream",
     "text": [
      "{'loss': 0.2446, 'grad_norm': 6.898534297943115, 'learning_rate': 8.661728395061729e-06, 'epoch': 2.84}\n"
     ]
    },
    {
     "name": "stderr",
     "output_type": "stream",
     "text": [
      " 58%|█████▊    | 3500/6075 [23:25<16:48,  2.55it/s]"
     ]
    },
    {
     "name": "stdout",
     "output_type": "stream",
     "text": [
      "{'loss': 0.2119, 'grad_norm': 6.213684558868408, 'learning_rate': 8.497119341563787e-06, 'epoch': 2.88}\n"
     ]
    },
    {
     "name": "stderr",
     "output_type": "stream",
     "text": [
      " 58%|█████▊    | 3550/6075 [23:44<16:27,  2.56it/s]"
     ]
    },
    {
     "name": "stdout",
     "output_type": "stream",
     "text": [
      "{'loss': 0.2378, 'grad_norm': 6.62489652633667, 'learning_rate': 8.332510288065845e-06, 'epoch': 2.92}\n"
     ]
    },
    {
     "name": "stderr",
     "output_type": "stream",
     "text": [
      " 59%|█████▉    | 3600/6075 [24:04<16:09,  2.55it/s]"
     ]
    },
    {
     "name": "stdout",
     "output_type": "stream",
     "text": [
      "{'loss': 0.2196, 'grad_norm': 18.114492416381836, 'learning_rate': 8.167901234567902e-06, 'epoch': 2.96}\n"
     ]
    },
    {
     "name": "stderr",
     "output_type": "stream",
     "text": [
      " 60%|██████    | 3645/6075 [24:22<15:15,  2.65it/s]\n",
      "  0%|          | 0/123 [00:00<?, ?it/s]\u001b[A\n",
      "  2%|▏         | 2/123 [00:00<00:07, 15.81it/s]\u001b[A\n",
      "  3%|▎         | 4/123 [00:00<00:12,  9.91it/s]\u001b[A\n",
      "  5%|▍         | 6/123 [00:00<00:13,  8.86it/s]\u001b[A\n",
      "  6%|▌         | 7/123 [00:00<00:13,  8.57it/s]\u001b[A\n",
      "  7%|▋         | 8/123 [00:00<00:13,  8.34it/s]\u001b[A\n",
      "  7%|▋         | 9/123 [00:01<00:13,  8.18it/s]\u001b[A\n",
      "  8%|▊         | 10/123 [00:01<00:14,  8.04it/s]\u001b[A\n",
      "  9%|▉         | 11/123 [00:01<00:14,  7.96it/s]\u001b[A\n",
      " 10%|▉         | 12/123 [00:01<00:14,  7.90it/s]\u001b[A\n",
      " 11%|█         | 13/123 [00:01<00:13,  7.86it/s]\u001b[A\n",
      " 11%|█▏        | 14/123 [00:01<00:13,  7.83it/s]\u001b[A\n",
      " 12%|█▏        | 15/123 [00:01<00:13,  7.81it/s]\u001b[A\n",
      " 13%|█▎        | 16/123 [00:01<00:13,  7.79it/s]\u001b[A\n",
      " 14%|█▍        | 17/123 [00:02<00:13,  7.77it/s]\u001b[A\n",
      " 15%|█▍        | 18/123 [00:02<00:13,  7.77it/s]\u001b[A\n",
      " 15%|█▌        | 19/123 [00:02<00:13,  7.77it/s]\u001b[A\n",
      " 16%|█▋        | 20/123 [00:02<00:13,  7.77it/s]\u001b[A\n",
      " 17%|█▋        | 21/123 [00:02<00:13,  7.78it/s]\u001b[A\n",
      " 18%|█▊        | 22/123 [00:02<00:12,  7.77it/s]\u001b[A\n",
      " 19%|█▊        | 23/123 [00:02<00:12,  7.77it/s]\u001b[A\n",
      " 20%|█▉        | 24/123 [00:02<00:12,  7.78it/s]\u001b[A\n",
      " 20%|██        | 25/123 [00:03<00:12,  7.79it/s]\u001b[A\n",
      " 21%|██        | 26/123 [00:03<00:12,  7.78it/s]\u001b[A\n",
      " 22%|██▏       | 27/123 [00:03<00:12,  7.78it/s]\u001b[A\n",
      " 23%|██▎       | 28/123 [00:03<00:12,  7.78it/s]\u001b[A\n",
      " 24%|██▎       | 29/123 [00:03<00:12,  7.78it/s]\u001b[A\n",
      " 24%|██▍       | 30/123 [00:03<00:11,  7.77it/s]\u001b[A\n",
      " 25%|██▌       | 31/123 [00:03<00:11,  7.77it/s]\u001b[A\n",
      " 26%|██▌       | 32/123 [00:03<00:11,  7.77it/s]\u001b[A\n",
      " 27%|██▋       | 33/123 [00:04<00:11,  7.77it/s]\u001b[A\n",
      " 28%|██▊       | 34/123 [00:04<00:11,  7.77it/s]\u001b[A\n",
      " 28%|██▊       | 35/123 [00:04<00:11,  7.77it/s]\u001b[A\n",
      " 29%|██▉       | 36/123 [00:04<00:11,  7.77it/s]\u001b[A\n",
      " 30%|███       | 37/123 [00:04<00:11,  7.76it/s]\u001b[A\n",
      " 31%|███       | 38/123 [00:04<00:10,  7.75it/s]\u001b[A\n",
      " 32%|███▏      | 39/123 [00:04<00:10,  7.76it/s]\u001b[A\n",
      " 33%|███▎      | 40/123 [00:05<00:10,  7.76it/s]\u001b[A\n",
      " 33%|███▎      | 41/123 [00:05<00:10,  7.76it/s]\u001b[A\n",
      " 34%|███▍      | 42/123 [00:05<00:10,  7.76it/s]\u001b[A\n",
      " 35%|███▍      | 43/123 [00:05<00:10,  7.77it/s]\u001b[A\n",
      " 36%|███▌      | 44/123 [00:05<00:10,  7.77it/s]\u001b[A\n",
      " 37%|███▋      | 45/123 [00:05<00:10,  7.77it/s]\u001b[A\n",
      " 37%|███▋      | 46/123 [00:05<00:09,  7.77it/s]\u001b[A\n",
      " 38%|███▊      | 47/123 [00:05<00:09,  7.78it/s]\u001b[A\n",
      " 39%|███▉      | 48/123 [00:06<00:09,  7.78it/s]\u001b[A\n",
      " 40%|███▉      | 49/123 [00:06<00:09,  7.78it/s]\u001b[A\n",
      " 41%|████      | 50/123 [00:06<00:09,  7.78it/s]\u001b[A\n",
      " 41%|████▏     | 51/123 [00:06<00:09,  7.77it/s]\u001b[A\n",
      " 42%|████▏     | 52/123 [00:06<00:09,  7.77it/s]\u001b[A\n",
      " 43%|████▎     | 53/123 [00:06<00:09,  7.76it/s]\u001b[A\n",
      " 44%|████▍     | 54/123 [00:06<00:08,  7.77it/s]\u001b[A\n",
      " 45%|████▍     | 55/123 [00:06<00:08,  7.77it/s]\u001b[A\n",
      " 46%|████▌     | 56/123 [00:07<00:08,  7.78it/s]\u001b[A\n",
      " 46%|████▋     | 57/123 [00:07<00:08,  7.77it/s]\u001b[A\n",
      " 47%|████▋     | 58/123 [00:07<00:08,  7.77it/s]\u001b[A\n",
      " 48%|████▊     | 59/123 [00:07<00:08,  7.78it/s]\u001b[A\n",
      " 49%|████▉     | 60/123 [00:07<00:08,  7.78it/s]\u001b[A\n",
      " 50%|████▉     | 61/123 [00:07<00:07,  7.78it/s]\u001b[A\n",
      " 50%|█████     | 62/123 [00:07<00:07,  7.78it/s]\u001b[A\n",
      " 51%|█████     | 63/123 [00:07<00:07,  7.78it/s]\u001b[A\n",
      " 52%|█████▏    | 64/123 [00:08<00:07,  7.78it/s]\u001b[A\n",
      " 53%|█████▎    | 65/123 [00:08<00:07,  7.78it/s]\u001b[A\n",
      " 54%|█████▎    | 66/123 [00:08<00:07,  7.78it/s]\u001b[A\n",
      " 54%|█████▍    | 67/123 [00:08<00:07,  7.74it/s]\u001b[A\n",
      " 55%|█████▌    | 68/123 [00:08<00:07,  7.75it/s]\u001b[A\n",
      " 56%|█████▌    | 69/123 [00:08<00:06,  7.76it/s]\u001b[A\n",
      " 57%|█████▋    | 70/123 [00:08<00:06,  7.77it/s]\u001b[A\n",
      " 58%|█████▊    | 71/123 [00:09<00:06,  7.77it/s]\u001b[A\n",
      " 59%|█████▊    | 72/123 [00:09<00:06,  7.76it/s]\u001b[A\n",
      " 59%|█████▉    | 73/123 [00:09<00:06,  7.76it/s]\u001b[A\n",
      " 60%|██████    | 74/123 [00:09<00:06,  7.76it/s]\u001b[A\n",
      " 61%|██████    | 75/123 [00:09<00:06,  7.77it/s]\u001b[A\n",
      " 62%|██████▏   | 76/123 [00:09<00:06,  7.77it/s]\u001b[A\n",
      " 63%|██████▎   | 77/123 [00:09<00:05,  7.78it/s]\u001b[A\n",
      " 63%|██████▎   | 78/123 [00:09<00:05,  7.77it/s]\u001b[A\n",
      " 64%|██████▍   | 79/123 [00:10<00:05,  7.78it/s]\u001b[A\n",
      " 65%|██████▌   | 80/123 [00:10<00:05,  7.78it/s]\u001b[A\n",
      " 66%|██████▌   | 81/123 [00:10<00:05,  7.75it/s]\u001b[A\n",
      " 67%|██████▋   | 82/123 [00:10<00:05,  7.75it/s]\u001b[A\n",
      " 67%|██████▋   | 83/123 [00:10<00:05,  7.76it/s]\u001b[A\n",
      " 68%|██████▊   | 84/123 [00:10<00:05,  7.76it/s]\u001b[A\n",
      " 69%|██████▉   | 85/123 [00:10<00:04,  7.76it/s]\u001b[A\n",
      " 70%|██████▉   | 86/123 [00:10<00:04,  7.77it/s]\u001b[A\n",
      " 71%|███████   | 87/123 [00:11<00:04,  7.77it/s]\u001b[A\n",
      " 72%|███████▏  | 88/123 [00:11<00:04,  7.77it/s]\u001b[A\n",
      " 72%|███████▏  | 89/123 [00:11<00:04,  7.78it/s]\u001b[A\n",
      " 73%|███████▎  | 90/123 [00:11<00:04,  7.78it/s]\u001b[A\n",
      " 74%|███████▍  | 91/123 [00:11<00:04,  7.78it/s]\u001b[A\n",
      " 75%|███████▍  | 92/123 [00:11<00:03,  7.78it/s]\u001b[A\n",
      " 76%|███████▌  | 93/123 [00:11<00:03,  7.78it/s]\u001b[A\n",
      " 76%|███████▋  | 94/123 [00:11<00:03,  7.78it/s]\u001b[A\n",
      " 77%|███████▋  | 95/123 [00:12<00:03,  7.74it/s]\u001b[A\n",
      " 78%|███████▊  | 96/123 [00:12<00:03,  7.74it/s]\u001b[A\n",
      " 79%|███████▉  | 97/123 [00:12<00:03,  7.75it/s]\u001b[A\n",
      " 80%|███████▉  | 98/123 [00:12<00:03,  7.76it/s]\u001b[A\n",
      " 80%|████████  | 99/123 [00:12<00:03,  7.76it/s]\u001b[A\n",
      " 81%|████████▏ | 100/123 [00:12<00:02,  7.77it/s]\u001b[A\n",
      " 82%|████████▏ | 101/123 [00:12<00:02,  7.77it/s]\u001b[A\n",
      " 83%|████████▎ | 102/123 [00:12<00:02,  7.77it/s]\u001b[A\n",
      " 84%|████████▎ | 103/123 [00:13<00:02,  7.77it/s]\u001b[A\n",
      " 85%|████████▍ | 104/123 [00:13<00:02,  7.78it/s]\u001b[A\n",
      " 85%|████████▌ | 105/123 [00:13<00:02,  7.78it/s]\u001b[A\n",
      " 86%|████████▌ | 106/123 [00:13<00:02,  7.78it/s]\u001b[A\n",
      " 87%|████████▋ | 107/123 [00:13<00:02,  7.78it/s]\u001b[A\n",
      " 88%|████████▊ | 108/123 [00:13<00:01,  7.78it/s]\u001b[A\n",
      " 89%|████████▊ | 109/123 [00:13<00:01,  7.76it/s]\u001b[A\n",
      " 89%|████████▉ | 110/123 [00:14<00:01,  7.76it/s]\u001b[A\n",
      " 90%|█████████ | 111/123 [00:14<00:01,  7.77it/s]\u001b[A\n",
      " 91%|█████████ | 112/123 [00:14<00:01,  7.78it/s]\u001b[A\n",
      " 92%|█████████▏| 113/123 [00:14<00:01,  7.78it/s]\u001b[A\n",
      " 93%|█████████▎| 114/123 [00:14<00:01,  7.78it/s]\u001b[A\n",
      " 93%|█████████▎| 115/123 [00:14<00:01,  7.78it/s]\u001b[A\n",
      " 94%|█████████▍| 116/123 [00:14<00:00,  7.78it/s]\u001b[A\n",
      " 95%|█████████▌| 117/123 [00:14<00:00,  7.78it/s]\u001b[A\n",
      " 96%|█████████▌| 118/123 [00:15<00:00,  7.78it/s]\u001b[A\n",
      " 97%|█████████▋| 119/123 [00:15<00:00,  7.77it/s]\u001b[A\n",
      " 98%|█████████▊| 120/123 [00:15<00:00,  7.77it/s]\u001b[A\n",
      " 98%|█████████▊| 121/123 [00:15<00:00,  7.77it/s]\u001b[A\n",
      "                                                   A\n",
      " 60%|██████    | 3645/6075 [24:37<15:15,  2.65it/s]\n",
      "100%|██████████| 123/123 [00:15<00:00,  7.82it/s]\u001b[A\n",
      "                                                 \u001b[A"
     ]
    },
    {
     "name": "stdout",
     "output_type": "stream",
     "text": [
      "{'eval_loss': 0.2542421519756317, 'eval_accuracy': 0.9281894576012223, 'eval_precision_weighted': 0.9214921648205074, 'eval_recall_weighted': 0.9281894576012223, 'eval_f1_weighted': 0.9227003270811375, 'eval_runtime': 15.8207, 'eval_samples_per_second': 496.437, 'eval_steps_per_second': 7.775, 'epoch': 3.0}\n"
     ]
    },
    {
     "name": "stderr",
     "output_type": "stream",
     "text": [
      " 60%|██████    | 3650/6075 [24:39<1:01:46,  1.53s/it]"
     ]
    },
    {
     "name": "stdout",
     "output_type": "stream",
     "text": [
      "{'loss': 0.2066, 'grad_norm': 5.0911078453063965, 'learning_rate': 8.003292181069959e-06, 'epoch': 3.0}\n"
     ]
    },
    {
     "name": "stderr",
     "output_type": "stream",
     "text": [
      " 61%|██████    | 3700/6075 [24:59<15:29,  2.55it/s]  "
     ]
    },
    {
     "name": "stdout",
     "output_type": "stream",
     "text": [
      "{'loss': 0.1792, 'grad_norm': 7.989728927612305, 'learning_rate': 7.838683127572017e-06, 'epoch': 3.05}\n"
     ]
    },
    {
     "name": "stderr",
     "output_type": "stream",
     "text": [
      " 62%|██████▏   | 3750/6075 [25:19<15:10,  2.55it/s]"
     ]
    },
    {
     "name": "stdout",
     "output_type": "stream",
     "text": [
      "{'loss': 0.2004, 'grad_norm': 15.18894100189209, 'learning_rate': 7.674074074074075e-06, 'epoch': 3.09}\n"
     ]
    },
    {
     "name": "stderr",
     "output_type": "stream",
     "text": [
      " 63%|██████▎   | 3800/6075 [25:38<14:51,  2.55it/s]"
     ]
    },
    {
     "name": "stdout",
     "output_type": "stream",
     "text": [
      "{'loss': 0.1955, 'grad_norm': 8.40949821472168, 'learning_rate': 7.509465020576132e-06, 'epoch': 3.13}\n"
     ]
    },
    {
     "name": "stderr",
     "output_type": "stream",
     "text": [
      " 63%|██████▎   | 3850/6075 [25:58<14:31,  2.55it/s]"
     ]
    },
    {
     "name": "stdout",
     "output_type": "stream",
     "text": [
      "{'loss': 0.1804, 'grad_norm': 5.075021743774414, 'learning_rate': 7.344855967078189e-06, 'epoch': 3.17}\n"
     ]
    },
    {
     "name": "stderr",
     "output_type": "stream",
     "text": [
      " 64%|██████▍   | 3900/6075 [26:17<14:11,  2.56it/s]"
     ]
    },
    {
     "name": "stdout",
     "output_type": "stream",
     "text": [
      "{'loss': 0.172, 'grad_norm': 7.055086135864258, 'learning_rate': 7.180246913580248e-06, 'epoch': 3.21}\n"
     ]
    },
    {
     "name": "stderr",
     "output_type": "stream",
     "text": [
      " 65%|██████▌   | 3950/6075 [26:37<13:51,  2.55it/s]"
     ]
    },
    {
     "name": "stdout",
     "output_type": "stream",
     "text": [
      "{'loss': 0.1634, 'grad_norm': 13.156637191772461, 'learning_rate': 7.015637860082305e-06, 'epoch': 3.25}\n"
     ]
    },
    {
     "name": "stderr",
     "output_type": "stream",
     "text": [
      " 66%|██████▌   | 4000/6075 [26:56<13:32,  2.55it/s]"
     ]
    },
    {
     "name": "stdout",
     "output_type": "stream",
     "text": [
      "{'loss': 0.185, 'grad_norm': 6.096473693847656, 'learning_rate': 6.851028806584362e-06, 'epoch': 3.29}\n"
     ]
    },
    {
     "name": "stderr",
     "output_type": "stream",
     "text": [
      " 67%|██████▋   | 4050/6075 [27:16<13:13,  2.55it/s]"
     ]
    },
    {
     "name": "stdout",
     "output_type": "stream",
     "text": [
      "{'loss': 0.1817, 'grad_norm': 13.892311096191406, 'learning_rate': 6.68641975308642e-06, 'epoch': 3.33}\n"
     ]
    },
    {
     "name": "stderr",
     "output_type": "stream",
     "text": [
      " 67%|██████▋   | 4100/6075 [27:36<12:52,  2.56it/s]"
     ]
    },
    {
     "name": "stdout",
     "output_type": "stream",
     "text": [
      "{'loss': 0.1563, 'grad_norm': 5.9211626052856445, 'learning_rate': 6.521810699588478e-06, 'epoch': 3.37}\n"
     ]
    },
    {
     "name": "stderr",
     "output_type": "stream",
     "text": [
      " 68%|██████▊   | 4150/6075 [27:55<12:33,  2.55it/s]"
     ]
    },
    {
     "name": "stdout",
     "output_type": "stream",
     "text": [
      "{'loss': 0.1699, 'grad_norm': 3.799220323562622, 'learning_rate': 6.357201646090535e-06, 'epoch': 3.42}\n"
     ]
    },
    {
     "name": "stderr",
     "output_type": "stream",
     "text": [
      " 69%|██████▉   | 4200/6075 [28:15<12:14,  2.55it/s]"
     ]
    },
    {
     "name": "stdout",
     "output_type": "stream",
     "text": [
      "{'loss': 0.1882, 'grad_norm': 7.2431464195251465, 'learning_rate': 6.192592592592594e-06, 'epoch': 3.46}\n"
     ]
    },
    {
     "name": "stderr",
     "output_type": "stream",
     "text": [
      " 70%|██████▉   | 4250/6075 [28:34<11:55,  2.55it/s]"
     ]
    },
    {
     "name": "stdout",
     "output_type": "stream",
     "text": [
      "{'loss': 0.1772, 'grad_norm': 10.786275863647461, 'learning_rate': 6.02798353909465e-06, 'epoch': 3.5}\n"
     ]
    },
    {
     "name": "stderr",
     "output_type": "stream",
     "text": [
      " 71%|███████   | 4300/6075 [28:54<11:34,  2.55it/s]"
     ]
    },
    {
     "name": "stdout",
     "output_type": "stream",
     "text": [
      "{'loss': 0.1741, 'grad_norm': 6.993532657623291, 'learning_rate': 5.863374485596708e-06, 'epoch': 3.54}\n"
     ]
    },
    {
     "name": "stderr",
     "output_type": "stream",
     "text": [
      " 72%|███████▏  | 4350/6075 [29:14<11:15,  2.55it/s]"
     ]
    },
    {
     "name": "stdout",
     "output_type": "stream",
     "text": [
      "{'loss': 0.1719, 'grad_norm': 4.517422199249268, 'learning_rate': 5.698765432098766e-06, 'epoch': 3.58}\n"
     ]
    },
    {
     "name": "stderr",
     "output_type": "stream",
     "text": [
      " 72%|███████▏  | 4400/6075 [29:33<10:55,  2.56it/s]"
     ]
    },
    {
     "name": "stdout",
     "output_type": "stream",
     "text": [
      "{'loss': 0.1693, 'grad_norm': 16.449539184570312, 'learning_rate': 5.534156378600824e-06, 'epoch': 3.62}\n"
     ]
    },
    {
     "name": "stderr",
     "output_type": "stream",
     "text": [
      " 73%|███████▎  | 4450/6075 [29:53<10:36,  2.55it/s]"
     ]
    },
    {
     "name": "stdout",
     "output_type": "stream",
     "text": [
      "{'loss': 0.1816, 'grad_norm': 6.896161079406738, 'learning_rate': 5.369547325102881e-06, 'epoch': 3.66}\n"
     ]
    },
    {
     "name": "stderr",
     "output_type": "stream",
     "text": [
      " 74%|███████▍  | 4500/6075 [30:12<10:16,  2.55it/s]"
     ]
    },
    {
     "name": "stdout",
     "output_type": "stream",
     "text": [
      "{'loss': 0.1878, 'grad_norm': 6.110701560974121, 'learning_rate': 5.2049382716049394e-06, 'epoch': 3.7}\n"
     ]
    },
    {
     "name": "stderr",
     "output_type": "stream",
     "text": [
      " 75%|███████▍  | 4550/6075 [30:32<09:57,  2.55it/s]"
     ]
    },
    {
     "name": "stdout",
     "output_type": "stream",
     "text": [
      "{'loss': 0.1803, 'grad_norm': 10.337593078613281, 'learning_rate': 5.040329218106996e-06, 'epoch': 3.74}\n"
     ]
    },
    {
     "name": "stderr",
     "output_type": "stream",
     "text": [
      " 76%|███████▌  | 4600/6075 [30:52<09:37,  2.56it/s]"
     ]
    },
    {
     "name": "stdout",
     "output_type": "stream",
     "text": [
      "{'loss': 0.1579, 'grad_norm': 3.6214516162872314, 'learning_rate': 4.8757201646090544e-06, 'epoch': 3.79}\n"
     ]
    },
    {
     "name": "stderr",
     "output_type": "stream",
     "text": [
      " 77%|███████▋  | 4650/6075 [31:11<09:17,  2.56it/s]"
     ]
    },
    {
     "name": "stdout",
     "output_type": "stream",
     "text": [
      "{'loss': 0.1681, 'grad_norm': 5.158930778503418, 'learning_rate': 4.71440329218107e-06, 'epoch': 3.83}\n"
     ]
    },
    {
     "name": "stderr",
     "output_type": "stream",
     "text": [
      " 77%|███████▋  | 4700/6075 [31:31<08:57,  2.56it/s]"
     ]
    },
    {
     "name": "stdout",
     "output_type": "stream",
     "text": [
      "{'loss': 0.1496, 'grad_norm': 8.42088794708252, 'learning_rate': 4.5497942386831275e-06, 'epoch': 3.87}\n"
     ]
    },
    {
     "name": "stderr",
     "output_type": "stream",
     "text": [
      " 78%|███████▊  | 4750/6075 [31:50<08:38,  2.56it/s]"
     ]
    },
    {
     "name": "stdout",
     "output_type": "stream",
     "text": [
      "{'loss': 0.1446, 'grad_norm': 8.112136840820312, 'learning_rate': 4.385185185185186e-06, 'epoch': 3.91}\n"
     ]
    },
    {
     "name": "stderr",
     "output_type": "stream",
     "text": [
      " 79%|███████▉  | 4800/6075 [32:10<08:19,  2.56it/s]"
     ]
    },
    {
     "name": "stdout",
     "output_type": "stream",
     "text": [
      "{'loss': 0.1593, 'grad_norm': 11.824209213256836, 'learning_rate': 4.2205761316872425e-06, 'epoch': 3.95}\n"
     ]
    },
    {
     "name": "stderr",
     "output_type": "stream",
     "text": [
      " 80%|███████▉  | 4850/6075 [32:30<07:59,  2.56it/s]"
     ]
    },
    {
     "name": "stdout",
     "output_type": "stream",
     "text": [
      "{'loss': 0.1561, 'grad_norm': 14.924551963806152, 'learning_rate': 4.055967078189301e-06, 'epoch': 3.99}\n"
     ]
    },
    {
     "name": "stderr",
     "output_type": "stream",
     "text": [
      " 80%|████████  | 4860/6075 [32:33<07:38,  2.65it/s]\n",
      "  0%|          | 0/123 [00:00<?, ?it/s]\u001b[A\n",
      "  2%|▏         | 2/123 [00:00<00:07, 15.89it/s]\u001b[A\n",
      "  3%|▎         | 4/123 [00:00<00:11,  9.95it/s]\u001b[A\n",
      "  5%|▍         | 6/123 [00:00<00:13,  8.88it/s]\u001b[A\n",
      "  6%|▌         | 7/123 [00:00<00:13,  8.59it/s]\u001b[A\n",
      "  7%|▋         | 8/123 [00:00<00:13,  8.37it/s]\u001b[A\n",
      "  7%|▋         | 9/123 [00:01<00:13,  8.20it/s]\u001b[A\n",
      "  8%|▊         | 10/123 [00:01<00:13,  8.08it/s]\u001b[A\n",
      "  9%|▉         | 11/123 [00:01<00:14,  7.99it/s]\u001b[A\n",
      " 10%|▉         | 12/123 [00:01<00:13,  7.94it/s]\u001b[A\n",
      " 11%|█         | 13/123 [00:01<00:13,  7.90it/s]\u001b[A\n",
      " 11%|█▏        | 14/123 [00:01<00:13,  7.86it/s]\u001b[A\n",
      " 12%|█▏        | 15/123 [00:01<00:13,  7.81it/s]\u001b[A\n",
      " 13%|█▎        | 16/123 [00:01<00:13,  7.80it/s]\u001b[A\n",
      " 14%|█▍        | 17/123 [00:02<00:13,  7.79it/s]\u001b[A\n",
      " 15%|█▍        | 18/123 [00:02<00:13,  7.79it/s]\u001b[A\n",
      " 15%|█▌        | 19/123 [00:02<00:13,  7.78it/s]\u001b[A\n",
      " 16%|█▋        | 20/123 [00:02<00:13,  7.79it/s]\u001b[A\n",
      " 17%|█▋        | 21/123 [00:02<00:13,  7.77it/s]\u001b[A\n",
      " 18%|█▊        | 22/123 [00:02<00:12,  7.77it/s]\u001b[A\n",
      " 19%|█▊        | 23/123 [00:02<00:12,  7.77it/s]\u001b[A\n",
      " 20%|█▉        | 24/123 [00:02<00:12,  7.78it/s]\u001b[A\n",
      " 20%|██        | 25/123 [00:03<00:12,  7.78it/s]\u001b[A\n",
      " 21%|██        | 26/123 [00:03<00:12,  7.78it/s]\u001b[A\n",
      " 22%|██▏       | 27/123 [00:03<00:12,  7.77it/s]\u001b[A\n",
      " 23%|██▎       | 28/123 [00:03<00:12,  7.77it/s]\u001b[A\n",
      " 24%|██▎       | 29/123 [00:03<00:12,  7.73it/s]\u001b[A\n",
      " 24%|██▍       | 30/123 [00:03<00:12,  7.75it/s]\u001b[A\n",
      " 25%|██▌       | 31/123 [00:03<00:11,  7.74it/s]\u001b[A\n",
      " 26%|██▌       | 32/123 [00:03<00:11,  7.75it/s]\u001b[A\n",
      " 27%|██▋       | 33/123 [00:04<00:11,  7.76it/s]\u001b[A\n",
      " 28%|██▊       | 34/123 [00:04<00:11,  7.76it/s]\u001b[A\n",
      " 28%|██▊       | 35/123 [00:04<00:11,  7.77it/s]\u001b[A\n",
      " 29%|██▉       | 36/123 [00:04<00:11,  7.77it/s]\u001b[A\n",
      " 30%|███       | 37/123 [00:04<00:11,  7.77it/s]\u001b[A\n",
      " 31%|███       | 38/123 [00:04<00:10,  7.76it/s]\u001b[A\n",
      " 32%|███▏      | 39/123 [00:04<00:10,  7.76it/s]\u001b[A\n",
      " 33%|███▎      | 40/123 [00:05<00:10,  7.77it/s]\u001b[A\n",
      " 33%|███▎      | 41/123 [00:05<00:10,  7.77it/s]\u001b[A\n",
      " 34%|███▍      | 42/123 [00:05<00:10,  7.77it/s]\u001b[A\n",
      " 35%|███▍      | 43/123 [00:05<00:10,  7.74it/s]\u001b[A\n",
      " 36%|███▌      | 44/123 [00:05<00:10,  7.75it/s]\u001b[A\n",
      " 37%|███▋      | 45/123 [00:05<00:10,  7.76it/s]\u001b[A\n",
      " 37%|███▋      | 46/123 [00:05<00:09,  7.77it/s]\u001b[A\n",
      " 38%|███▊      | 47/123 [00:05<00:09,  7.77it/s]\u001b[A\n",
      " 39%|███▉      | 48/123 [00:06<00:09,  7.77it/s]\u001b[A\n",
      " 40%|███▉      | 49/123 [00:06<00:09,  7.77it/s]\u001b[A\n",
      " 41%|████      | 50/123 [00:06<00:09,  7.78it/s]\u001b[A\n",
      " 41%|████▏     | 51/123 [00:06<00:09,  7.78it/s]\u001b[A\n",
      " 42%|████▏     | 52/123 [00:06<00:09,  7.78it/s]\u001b[A\n",
      " 43%|████▎     | 53/123 [00:06<00:09,  7.77it/s]\u001b[A\n",
      " 44%|████▍     | 54/123 [00:06<00:08,  7.77it/s]\u001b[A\n",
      " 45%|████▍     | 55/123 [00:06<00:08,  7.76it/s]\u001b[A\n",
      " 46%|████▌     | 56/123 [00:07<00:08,  7.76it/s]\u001b[A\n",
      " 46%|████▋     | 57/123 [00:07<00:08,  7.74it/s]\u001b[A\n",
      " 47%|████▋     | 58/123 [00:07<00:08,  7.76it/s]\u001b[A\n",
      " 48%|████▊     | 59/123 [00:07<00:08,  7.76it/s]\u001b[A\n",
      " 49%|████▉     | 60/123 [00:07<00:08,  7.77it/s]\u001b[A\n",
      " 50%|████▉     | 61/123 [00:07<00:07,  7.77it/s]\u001b[A\n",
      " 50%|█████     | 62/123 [00:07<00:07,  7.77it/s]\u001b[A\n",
      " 51%|█████     | 63/123 [00:07<00:07,  7.77it/s]\u001b[A\n",
      " 52%|█████▏    | 64/123 [00:08<00:07,  7.78it/s]\u001b[A\n",
      " 53%|█████▎    | 65/123 [00:08<00:07,  7.77it/s]\u001b[A\n",
      " 54%|█████▎    | 66/123 [00:08<00:07,  7.77it/s]\u001b[A\n",
      " 54%|█████▍    | 67/123 [00:08<00:07,  7.77it/s]\u001b[A\n",
      " 55%|█████▌    | 68/123 [00:08<00:07,  7.77it/s]\u001b[A\n",
      " 56%|█████▌    | 69/123 [00:08<00:06,  7.77it/s]\u001b[A\n",
      " 57%|█████▋    | 70/123 [00:08<00:06,  7.77it/s]\u001b[A\n",
      " 58%|█████▊    | 71/123 [00:09<00:06,  7.75it/s]\u001b[A\n",
      " 59%|█████▊    | 72/123 [00:09<00:06,  7.75it/s]\u001b[A\n",
      " 59%|█████▉    | 73/123 [00:09<00:06,  7.76it/s]\u001b[A\n",
      " 60%|██████    | 74/123 [00:09<00:06,  7.77it/s]\u001b[A\n",
      " 61%|██████    | 75/123 [00:09<00:06,  7.76it/s]\u001b[A\n",
      " 62%|██████▏   | 76/123 [00:09<00:06,  7.77it/s]\u001b[A\n",
      " 63%|██████▎   | 77/123 [00:09<00:05,  7.77it/s]\u001b[A\n",
      " 63%|██████▎   | 78/123 [00:09<00:05,  7.78it/s]\u001b[A\n",
      " 64%|██████▍   | 79/123 [00:10<00:05,  7.78it/s]\u001b[A\n",
      " 65%|██████▌   | 80/123 [00:10<00:05,  7.77it/s]\u001b[A\n",
      " 66%|██████▌   | 81/123 [00:10<00:05,  7.79it/s]\u001b[A\n",
      " 67%|██████▋   | 82/123 [00:10<00:05,  7.78it/s]\u001b[A\n",
      " 67%|██████▋   | 83/123 [00:10<00:05,  7.79it/s]\u001b[A\n",
      " 68%|██████▊   | 84/123 [00:10<00:05,  7.79it/s]\u001b[A\n",
      " 69%|██████▉   | 85/123 [00:10<00:04,  7.78it/s]\u001b[A\n",
      " 70%|██████▉   | 86/123 [00:10<00:04,  7.79it/s]\u001b[A\n",
      " 71%|███████   | 87/123 [00:11<00:04,  7.78it/s]\u001b[A\n",
      " 72%|███████▏  | 88/123 [00:11<00:04,  7.78it/s]\u001b[A\n",
      " 72%|███████▏  | 89/123 [00:11<00:04,  7.77it/s]\u001b[A\n",
      " 73%|███████▎  | 90/123 [00:11<00:04,  7.77it/s]\u001b[A\n",
      " 74%|███████▍  | 91/123 [00:11<00:04,  7.77it/s]\u001b[A\n",
      " 75%|███████▍  | 92/123 [00:11<00:03,  7.77it/s]\u001b[A\n",
      " 76%|███████▌  | 93/123 [00:11<00:03,  7.77it/s]\u001b[A\n",
      " 76%|███████▋  | 94/123 [00:11<00:03,  7.76it/s]\u001b[A\n",
      " 77%|███████▋  | 95/123 [00:12<00:03,  7.75it/s]\u001b[A\n",
      " 78%|███████▊  | 96/123 [00:12<00:03,  7.77it/s]\u001b[A\n",
      " 79%|███████▉  | 97/123 [00:12<00:03,  7.78it/s]\u001b[A\n",
      " 80%|███████▉  | 98/123 [00:12<00:03,  7.78it/s]\u001b[A\n",
      " 80%|████████  | 99/123 [00:12<00:03,  7.77it/s]\u001b[A\n",
      " 81%|████████▏ | 100/123 [00:12<00:02,  7.77it/s]\u001b[A\n",
      " 82%|████████▏ | 101/123 [00:12<00:02,  7.78it/s]\u001b[A\n",
      " 83%|████████▎ | 102/123 [00:12<00:02,  7.78it/s]\u001b[A\n",
      " 84%|████████▎ | 103/123 [00:13<00:02,  7.78it/s]\u001b[A\n",
      " 85%|████████▍ | 104/123 [00:13<00:02,  7.78it/s]\u001b[A\n",
      " 85%|████████▌ | 105/123 [00:13<00:02,  7.78it/s]\u001b[A\n",
      " 86%|████████▌ | 106/123 [00:13<00:02,  7.78it/s]\u001b[A\n",
      " 87%|████████▋ | 107/123 [00:13<00:02,  7.78it/s]\u001b[A\n",
      " 88%|████████▊ | 108/123 [00:13<00:01,  7.78it/s]\u001b[A\n",
      " 89%|████████▊ | 109/123 [00:13<00:01,  7.78it/s]\u001b[A\n",
      " 89%|████████▉ | 110/123 [00:14<00:01,  7.77it/s]\u001b[A\n",
      " 90%|█████████ | 111/123 [00:14<00:01,  7.77it/s]\u001b[A\n",
      " 91%|█████████ | 112/123 [00:14<00:01,  7.77it/s]\u001b[A\n",
      " 92%|█████████▏| 113/123 [00:14<00:01,  7.77it/s]\u001b[A\n",
      " 93%|█████████▎| 114/123 [00:14<00:01,  7.78it/s]\u001b[A\n",
      " 93%|█████████▎| 115/123 [00:14<00:01,  7.78it/s]\u001b[A\n",
      " 94%|█████████▍| 116/123 [00:14<00:00,  7.78it/s]\u001b[A\n",
      " 95%|█████████▌| 117/123 [00:14<00:00,  7.78it/s]\u001b[A\n",
      " 96%|█████████▌| 118/123 [00:15<00:00,  7.78it/s]\u001b[A\n",
      " 97%|█████████▋| 119/123 [00:15<00:00,  7.77it/s]\u001b[A\n",
      " 98%|█████████▊| 120/123 [00:15<00:00,  7.77it/s]\u001b[A\n",
      " 98%|█████████▊| 121/123 [00:15<00:00,  7.77it/s]\u001b[A\n",
      "                                                   A\n",
      " 80%|████████  | 4860/6075 [32:49<07:38,  2.65it/s]\n",
      "100%|██████████| 123/123 [00:15<00:00,  7.81it/s]\u001b[A\n",
      "                                                 \u001b[A"
     ]
    },
    {
     "name": "stdout",
     "output_type": "stream",
     "text": [
      "{'eval_loss': 0.2210596650838852, 'eval_accuracy': 0.9386299974535268, 'eval_precision_weighted': 0.9322626543607394, 'eval_recall_weighted': 0.9386299974535268, 'eval_f1_weighted': 0.9332333575661014, 'eval_runtime': 15.8148, 'eval_samples_per_second': 496.624, 'eval_steps_per_second': 7.778, 'epoch': 4.0}\n"
     ]
    },
    {
     "name": "stderr",
     "output_type": "stream",
     "text": [
      " 81%|████████  | 4900/6075 [33:05<07:40,  2.55it/s]  "
     ]
    },
    {
     "name": "stdout",
     "output_type": "stream",
     "text": [
      "{'loss': 0.1461, 'grad_norm': 15.67917537689209, 'learning_rate': 3.891358024691358e-06, 'epoch': 4.03}\n"
     ]
    },
    {
     "name": "stderr",
     "output_type": "stream",
     "text": [
      " 81%|████████▏ | 4950/6075 [33:25<07:20,  2.55it/s]"
     ]
    },
    {
     "name": "stdout",
     "output_type": "stream",
     "text": [
      "{'loss': 0.1312, 'grad_norm': 6.1508469581604, 'learning_rate': 3.726748971193416e-06, 'epoch': 4.07}\n"
     ]
    },
    {
     "name": "stderr",
     "output_type": "stream",
     "text": [
      " 82%|████████▏ | 5000/6075 [33:44<07:00,  2.56it/s]"
     ]
    },
    {
     "name": "stdout",
     "output_type": "stream",
     "text": [
      "{'loss': 0.1302, 'grad_norm': 3.9208362102508545, 'learning_rate': 3.5621399176954734e-06, 'epoch': 4.12}\n"
     ]
    },
    {
     "name": "stderr",
     "output_type": "stream",
     "text": [
      " 83%|████████▎ | 5050/6075 [34:04<06:41,  2.55it/s]"
     ]
    },
    {
     "name": "stdout",
     "output_type": "stream",
     "text": [
      "{'loss': 0.1288, 'grad_norm': 4.293338298797607, 'learning_rate': 3.3975308641975313e-06, 'epoch': 4.16}\n"
     ]
    },
    {
     "name": "stderr",
     "output_type": "stream",
     "text": [
      " 84%|████████▍ | 5100/6075 [34:23<06:21,  2.55it/s]"
     ]
    },
    {
     "name": "stdout",
     "output_type": "stream",
     "text": [
      "{'loss': 0.1349, 'grad_norm': 6.170426845550537, 'learning_rate': 3.2329218106995884e-06, 'epoch': 4.2}\n"
     ]
    },
    {
     "name": "stderr",
     "output_type": "stream",
     "text": [
      " 85%|████████▍ | 5150/6075 [34:43<06:02,  2.55it/s]"
     ]
    },
    {
     "name": "stdout",
     "output_type": "stream",
     "text": [
      "{'loss': 0.1429, 'grad_norm': 13.27813720703125, 'learning_rate': 3.0683127572016463e-06, 'epoch': 4.24}\n"
     ]
    },
    {
     "name": "stderr",
     "output_type": "stream",
     "text": [
      " 86%|████████▌ | 5200/6075 [35:02<05:42,  2.55it/s]"
     ]
    },
    {
     "name": "stdout",
     "output_type": "stream",
     "text": [
      "{'loss': 0.134, 'grad_norm': 5.624247074127197, 'learning_rate': 2.903703703703704e-06, 'epoch': 4.28}\n"
     ]
    },
    {
     "name": "stderr",
     "output_type": "stream",
     "text": [
      " 86%|████████▋ | 5250/6075 [35:22<05:23,  2.55it/s]"
     ]
    },
    {
     "name": "stdout",
     "output_type": "stream",
     "text": [
      "{'loss': 0.1123, 'grad_norm': 9.519948959350586, 'learning_rate': 2.7390946502057613e-06, 'epoch': 4.32}\n"
     ]
    },
    {
     "name": "stderr",
     "output_type": "stream",
     "text": [
      " 87%|████████▋ | 5300/6075 [35:42<05:03,  2.55it/s]"
     ]
    },
    {
     "name": "stdout",
     "output_type": "stream",
     "text": [
      "{'loss': 0.1144, 'grad_norm': 4.551279544830322, 'learning_rate': 2.574485596707819e-06, 'epoch': 4.36}\n"
     ]
    },
    {
     "name": "stderr",
     "output_type": "stream",
     "text": [
      " 88%|████████▊ | 5350/6075 [36:01<04:43,  2.55it/s]"
     ]
    },
    {
     "name": "stdout",
     "output_type": "stream",
     "text": [
      "{'loss': 0.1342, 'grad_norm': 3.7608141899108887, 'learning_rate': 2.4098765432098767e-06, 'epoch': 4.4}\n"
     ]
    },
    {
     "name": "stderr",
     "output_type": "stream",
     "text": [
      " 89%|████████▉ | 5400/6075 [36:21<04:24,  2.55it/s]"
     ]
    },
    {
     "name": "stdout",
     "output_type": "stream",
     "text": [
      "{'loss': 0.1116, 'grad_norm': 9.51817798614502, 'learning_rate': 2.2452674897119346e-06, 'epoch': 4.44}\n"
     ]
    },
    {
     "name": "stderr",
     "output_type": "stream",
     "text": [
      " 90%|████████▉ | 5450/6075 [36:40<04:04,  2.56it/s]"
     ]
    },
    {
     "name": "stdout",
     "output_type": "stream",
     "text": [
      "{'loss': 0.1367, 'grad_norm': 3.8027758598327637, 'learning_rate': 2.080658436213992e-06, 'epoch': 4.49}\n"
     ]
    },
    {
     "name": "stderr",
     "output_type": "stream",
     "text": [
      " 91%|█████████ | 5500/6075 [37:00<03:44,  2.56it/s]"
     ]
    },
    {
     "name": "stdout",
     "output_type": "stream",
     "text": [
      "{'loss': 0.1408, 'grad_norm': 8.977004051208496, 'learning_rate': 1.9160493827160496e-06, 'epoch': 4.53}\n"
     ]
    },
    {
     "name": "stderr",
     "output_type": "stream",
     "text": [
      " 91%|█████████▏| 5550/6075 [37:19<03:25,  2.56it/s]"
     ]
    },
    {
     "name": "stdout",
     "output_type": "stream",
     "text": [
      "{'loss': 0.153, 'grad_norm': 5.3611531257629395, 'learning_rate': 1.7514403292181071e-06, 'epoch': 4.57}\n"
     ]
    },
    {
     "name": "stderr",
     "output_type": "stream",
     "text": [
      " 92%|█████████▏| 5600/6075 [37:39<03:05,  2.56it/s]"
     ]
    },
    {
     "name": "stdout",
     "output_type": "stream",
     "text": [
      "{'loss': 0.1305, 'grad_norm': 9.859978675842285, 'learning_rate': 1.5868312757201648e-06, 'epoch': 4.61}\n"
     ]
    },
    {
     "name": "stderr",
     "output_type": "stream",
     "text": [
      " 93%|█████████▎| 5650/6075 [37:59<02:46,  2.55it/s]"
     ]
    },
    {
     "name": "stdout",
     "output_type": "stream",
     "text": [
      "{'loss': 0.116, 'grad_norm': 4.962671279907227, 'learning_rate': 1.4222222222222223e-06, 'epoch': 4.65}\n"
     ]
    },
    {
     "name": "stderr",
     "output_type": "stream",
     "text": [
      " 94%|█████████▍| 5700/6075 [38:18<02:26,  2.56it/s]"
     ]
    },
    {
     "name": "stdout",
     "output_type": "stream",
     "text": [
      "{'loss': 0.1323, 'grad_norm': 3.399857521057129, 'learning_rate': 1.2576131687242798e-06, 'epoch': 4.69}\n"
     ]
    },
    {
     "name": "stderr",
     "output_type": "stream",
     "text": [
      " 95%|█████████▍| 5750/6075 [38:38<02:07,  2.55it/s]"
     ]
    },
    {
     "name": "stdout",
     "output_type": "stream",
     "text": [
      "{'loss': 0.1327, 'grad_norm': 10.689278602600098, 'learning_rate': 1.0930041152263375e-06, 'epoch': 4.73}\n"
     ]
    },
    {
     "name": "stderr",
     "output_type": "stream",
     "text": [
      " 95%|█████████▌| 5800/6075 [38:57<01:47,  2.55it/s]"
     ]
    },
    {
     "name": "stdout",
     "output_type": "stream",
     "text": [
      "{'loss': 0.1176, 'grad_norm': 8.566941261291504, 'learning_rate': 9.283950617283951e-07, 'epoch': 4.77}\n"
     ]
    },
    {
     "name": "stderr",
     "output_type": "stream",
     "text": [
      " 96%|█████████▋| 5850/6075 [39:17<01:28,  2.55it/s]"
     ]
    },
    {
     "name": "stdout",
     "output_type": "stream",
     "text": [
      "{'loss': 0.1365, 'grad_norm': 4.962203025817871, 'learning_rate': 7.637860082304526e-07, 'epoch': 4.81}\n"
     ]
    },
    {
     "name": "stderr",
     "output_type": "stream",
     "text": [
      " 97%|█████████▋| 5900/6075 [39:37<01:08,  2.55it/s]"
     ]
    },
    {
     "name": "stdout",
     "output_type": "stream",
     "text": [
      "{'loss': 0.1216, 'grad_norm': 3.2974932193756104, 'learning_rate': 5.991769547325103e-07, 'epoch': 4.86}\n"
     ]
    },
    {
     "name": "stderr",
     "output_type": "stream",
     "text": [
      " 98%|█████████▊| 5950/6075 [39:56<00:48,  2.55it/s]"
     ]
    },
    {
     "name": "stdout",
     "output_type": "stream",
     "text": [
      "{'loss': 0.1309, 'grad_norm': 6.962504863739014, 'learning_rate': 4.345679012345679e-07, 'epoch': 4.9}\n"
     ]
    },
    {
     "name": "stderr",
     "output_type": "stream",
     "text": [
      " 99%|█████████▉| 6000/6075 [40:16<00:29,  2.55it/s]"
     ]
    },
    {
     "name": "stdout",
     "output_type": "stream",
     "text": [
      "{'loss': 0.1283, 'grad_norm': 2.1539132595062256, 'learning_rate': 2.6995884773662555e-07, 'epoch': 4.94}\n"
     ]
    },
    {
     "name": "stderr",
     "output_type": "stream",
     "text": [
      "100%|█████████▉| 6050/6075 [40:35<00:09,  2.56it/s]"
     ]
    },
    {
     "name": "stdout",
     "output_type": "stream",
     "text": [
      "{'loss': 0.1382, 'grad_norm': 9.228480339050293, 'learning_rate': 1.0534979423868315e-07, 'epoch': 4.98}\n"
     ]
    },
    {
     "name": "stderr",
     "output_type": "stream",
     "text": [
      "100%|██████████| 6075/6075 [40:45<00:00,  2.65it/s]\n",
      "  0%|          | 0/123 [00:00<?, ?it/s]\u001b[A\n",
      "  2%|▏         | 2/123 [00:00<00:07, 15.84it/s]\u001b[A\n",
      "  3%|▎         | 4/123 [00:00<00:12,  9.91it/s]\u001b[A\n",
      "  5%|▍         | 6/123 [00:00<00:13,  8.85it/s]\u001b[A\n",
      "  6%|▌         | 7/123 [00:00<00:13,  8.56it/s]\u001b[A\n",
      "  7%|▋         | 8/123 [00:00<00:13,  8.33it/s]\u001b[A\n",
      "  7%|▋         | 9/123 [00:01<00:13,  8.17it/s]\u001b[A\n",
      "  8%|▊         | 10/123 [00:01<00:14,  8.04it/s]\u001b[A\n",
      "  9%|▉         | 11/123 [00:01<00:14,  7.96it/s]\u001b[A\n",
      " 10%|▉         | 12/123 [00:01<00:14,  7.90it/s]\u001b[A\n",
      " 11%|█         | 13/123 [00:01<00:13,  7.86it/s]\u001b[A\n",
      " 11%|█▏        | 14/123 [00:01<00:13,  7.84it/s]\u001b[A\n",
      " 12%|█▏        | 15/123 [00:01<00:13,  7.81it/s]\u001b[A\n",
      " 13%|█▎        | 16/123 [00:01<00:13,  7.80it/s]\u001b[A\n",
      " 14%|█▍        | 17/123 [00:02<00:13,  7.79it/s]\u001b[A\n",
      " 15%|█▍        | 18/123 [00:02<00:13,  7.78it/s]\u001b[A\n",
      " 15%|█▌        | 19/123 [00:02<00:13,  7.78it/s]\u001b[A\n",
      " 16%|█▋        | 20/123 [00:02<00:13,  7.78it/s]\u001b[A\n",
      " 17%|█▋        | 21/123 [00:02<00:13,  7.78it/s]\u001b[A\n",
      " 18%|█▊        | 22/123 [00:02<00:13,  7.76it/s]\u001b[A\n",
      " 19%|█▊        | 23/123 [00:02<00:12,  7.76it/s]\u001b[A\n",
      " 20%|█▉        | 24/123 [00:02<00:12,  7.74it/s]\u001b[A\n",
      " 20%|██        | 25/123 [00:03<00:12,  7.75it/s]\u001b[A\n",
      " 21%|██        | 26/123 [00:03<00:12,  7.76it/s]\u001b[A\n",
      " 22%|██▏       | 27/123 [00:03<00:12,  7.76it/s]\u001b[A\n",
      " 23%|██▎       | 28/123 [00:03<00:12,  7.76it/s]\u001b[A\n",
      " 24%|██▎       | 29/123 [00:03<00:12,  7.76it/s]\u001b[A\n",
      " 24%|██▍       | 30/123 [00:03<00:11,  7.76it/s]\u001b[A\n",
      " 25%|██▌       | 31/123 [00:03<00:11,  7.76it/s]\u001b[A\n",
      " 26%|██▌       | 32/123 [00:03<00:11,  7.76it/s]\u001b[A\n",
      " 27%|██▋       | 33/123 [00:04<00:11,  7.76it/s]\u001b[A\n",
      " 28%|██▊       | 34/123 [00:04<00:11,  7.76it/s]\u001b[A\n",
      " 28%|██▊       | 35/123 [00:04<00:11,  7.76it/s]\u001b[A\n",
      " 29%|██▉       | 36/123 [00:04<00:11,  7.76it/s]\u001b[A\n",
      " 30%|███       | 37/123 [00:04<00:11,  7.76it/s]\u001b[A\n",
      " 31%|███       | 38/123 [00:04<00:10,  7.75it/s]\u001b[A\n",
      " 32%|███▏      | 39/123 [00:04<00:10,  7.75it/s]\u001b[A\n",
      " 33%|███▎      | 40/123 [00:05<00:10,  7.76it/s]\u001b[A\n",
      " 33%|███▎      | 41/123 [00:05<00:10,  7.77it/s]\u001b[A\n",
      " 34%|███▍      | 42/123 [00:05<00:10,  7.76it/s]\u001b[A\n",
      " 35%|███▍      | 43/123 [00:05<00:10,  7.77it/s]\u001b[A\n",
      " 36%|███▌      | 44/123 [00:05<00:10,  7.76it/s]\u001b[A\n",
      " 37%|███▋      | 45/123 [00:05<00:10,  7.77it/s]\u001b[A\n",
      " 37%|███▋      | 46/123 [00:05<00:09,  7.77it/s]\u001b[A\n",
      " 38%|███▊      | 47/123 [00:05<00:09,  7.77it/s]\u001b[A\n",
      " 39%|███▉      | 48/123 [00:06<00:09,  7.77it/s]\u001b[A\n",
      " 40%|███▉      | 49/123 [00:06<00:09,  7.77it/s]\u001b[A\n",
      " 41%|████      | 50/123 [00:06<00:09,  7.77it/s]\u001b[A\n",
      " 41%|████▏     | 51/123 [00:06<00:09,  7.77it/s]\u001b[A\n",
      " 42%|████▏     | 52/123 [00:06<00:09,  7.75it/s]\u001b[A\n",
      " 43%|████▎     | 53/123 [00:06<00:09,  7.76it/s]\u001b[A\n",
      " 44%|████▍     | 54/123 [00:06<00:08,  7.76it/s]\u001b[A\n",
      " 45%|████▍     | 55/123 [00:06<00:08,  7.76it/s]\u001b[A\n",
      " 46%|████▌     | 56/123 [00:07<00:08,  7.77it/s]\u001b[A\n",
      " 46%|████▋     | 57/123 [00:07<00:08,  7.76it/s]\u001b[A\n",
      " 47%|████▋     | 58/123 [00:07<00:08,  7.76it/s]\u001b[A\n",
      " 48%|████▊     | 59/123 [00:07<00:08,  7.76it/s]\u001b[A\n",
      " 49%|████▉     | 60/123 [00:07<00:08,  7.76it/s]\u001b[A\n",
      " 50%|████▉     | 61/123 [00:07<00:07,  7.76it/s]\u001b[A\n",
      " 50%|█████     | 62/123 [00:07<00:07,  7.76it/s]\u001b[A\n",
      " 51%|█████     | 63/123 [00:07<00:07,  7.77it/s]\u001b[A\n",
      " 52%|█████▏    | 64/123 [00:08<00:07,  7.76it/s]\u001b[A\n",
      " 53%|█████▎    | 65/123 [00:08<00:07,  7.76it/s]\u001b[A\n",
      " 54%|█████▎    | 66/123 [00:08<00:07,  7.75it/s]\u001b[A\n",
      " 54%|█████▍    | 67/123 [00:08<00:07,  7.76it/s]\u001b[A\n",
      " 55%|█████▌    | 68/123 [00:08<00:07,  7.76it/s]\u001b[A\n",
      " 56%|█████▌    | 69/123 [00:08<00:06,  7.76it/s]\u001b[A\n",
      " 57%|█████▋    | 70/123 [00:08<00:06,  7.77it/s]\u001b[A\n",
      " 58%|█████▊    | 71/123 [00:09<00:06,  7.77it/s]\u001b[A\n",
      " 59%|█████▊    | 72/123 [00:09<00:06,  7.77it/s]\u001b[A\n",
      " 59%|█████▉    | 73/123 [00:09<00:06,  7.77it/s]\u001b[A\n",
      " 60%|██████    | 74/123 [00:09<00:06,  7.77it/s]\u001b[A\n",
      " 61%|██████    | 75/123 [00:09<00:06,  7.77it/s]\u001b[A\n",
      " 62%|██████▏   | 76/123 [00:09<00:06,  7.76it/s]\u001b[A\n",
      " 63%|██████▎   | 77/123 [00:09<00:05,  7.76it/s]\u001b[A\n",
      " 63%|██████▎   | 78/123 [00:09<00:05,  7.75it/s]\u001b[A\n",
      " 64%|██████▍   | 79/123 [00:10<00:05,  7.75it/s]\u001b[A\n",
      " 65%|██████▌   | 80/123 [00:10<00:05,  7.74it/s]\u001b[A\n",
      " 66%|██████▌   | 81/123 [00:10<00:05,  7.75it/s]\u001b[A\n",
      " 67%|██████▋   | 82/123 [00:10<00:05,  7.76it/s]\u001b[A\n",
      " 67%|██████▋   | 83/123 [00:10<00:05,  7.76it/s]\u001b[A\n",
      " 68%|██████▊   | 84/123 [00:10<00:05,  7.76it/s]\u001b[A\n",
      " 69%|██████▉   | 85/123 [00:10<00:04,  7.77it/s]\u001b[A\n",
      " 70%|██████▉   | 86/123 [00:10<00:04,  7.77it/s]\u001b[A\n",
      " 71%|███████   | 87/123 [00:11<00:04,  7.77it/s]\u001b[A\n",
      " 72%|███████▏  | 88/123 [00:11<00:04,  7.77it/s]\u001b[A\n",
      " 72%|███████▏  | 89/123 [00:11<00:04,  7.77it/s]\u001b[A\n",
      " 73%|███████▎  | 90/123 [00:11<00:04,  7.77it/s]\u001b[A\n",
      " 74%|███████▍  | 91/123 [00:11<00:04,  7.77it/s]\u001b[A\n",
      " 75%|███████▍  | 92/123 [00:11<00:03,  7.77it/s]\u001b[A\n",
      " 76%|███████▌  | 93/123 [00:11<00:03,  7.76it/s]\u001b[A\n",
      " 76%|███████▋  | 94/123 [00:11<00:03,  7.75it/s]\u001b[A\n",
      " 77%|███████▋  | 95/123 [00:12<00:03,  7.75it/s]\u001b[A\n",
      " 78%|███████▊  | 96/123 [00:12<00:03,  7.76it/s]\u001b[A\n",
      " 79%|███████▉  | 97/123 [00:12<00:03,  7.76it/s]\u001b[A\n",
      " 80%|███████▉  | 98/123 [00:12<00:03,  7.76it/s]\u001b[A\n",
      " 80%|████████  | 99/123 [00:12<00:03,  7.77it/s]\u001b[A\n",
      " 81%|████████▏ | 100/123 [00:12<00:02,  7.76it/s]\u001b[A\n",
      " 82%|████████▏ | 101/123 [00:12<00:02,  7.77it/s]\u001b[A\n",
      " 83%|████████▎ | 102/123 [00:13<00:02,  7.77it/s]\u001b[A\n",
      " 84%|████████▎ | 103/123 [00:13<00:02,  7.78it/s]\u001b[A\n",
      " 85%|████████▍ | 104/123 [00:13<00:02,  7.78it/s]\u001b[A\n",
      " 85%|████████▌ | 105/123 [00:13<00:02,  7.78it/s]\u001b[A\n",
      " 86%|████████▌ | 106/123 [00:13<00:02,  7.79it/s]\u001b[A\n",
      " 87%|████████▋ | 107/123 [00:13<00:02,  7.79it/s]\u001b[A\n",
      " 88%|████████▊ | 108/123 [00:13<00:01,  7.79it/s]\u001b[A\n",
      " 89%|████████▊ | 109/123 [00:13<00:01,  7.79it/s]\u001b[A\n",
      " 89%|████████▉ | 110/123 [00:14<00:01,  7.79it/s]\u001b[A\n",
      " 90%|█████████ | 111/123 [00:14<00:01,  7.79it/s]\u001b[A\n",
      " 91%|█████████ | 112/123 [00:14<00:01,  7.79it/s]\u001b[A\n",
      " 92%|█████████▏| 113/123 [00:14<00:01,  7.79it/s]\u001b[A\n",
      " 93%|█████████▎| 114/123 [00:14<00:01,  7.79it/s]\u001b[A\n",
      " 93%|█████████▎| 115/123 [00:14<00:01,  7.79it/s]\u001b[A\n",
      " 94%|█████████▍| 116/123 [00:14<00:00,  7.79it/s]\u001b[A\n",
      " 95%|█████████▌| 117/123 [00:14<00:00,  7.79it/s]\u001b[A\n",
      " 96%|█████████▌| 118/123 [00:15<00:00,  7.78it/s]\u001b[A\n",
      " 97%|█████████▋| 119/123 [00:15<00:00,  7.78it/s]\u001b[A\n",
      " 98%|█████████▊| 120/123 [00:15<00:00,  7.78it/s]\u001b[A\n",
      " 98%|█████████▊| 121/123 [00:15<00:00,  7.77it/s]\u001b[A\n",
      "                                                   A\n",
      "100%|██████████| 6075/6075 [41:01<00:00,  2.65it/s]\n",
      "100%|██████████| 123/123 [00:15<00:00,  7.81it/s]\u001b[A\n",
      "100%|██████████| 6075/6075 [41:01<00:00,  2.47it/s]A"
     ]
    },
    {
     "name": "stdout",
     "output_type": "stream",
     "text": [
      "{'eval_loss': 0.21168532967567444, 'eval_accuracy': 0.9402852049910874, 'eval_precision_weighted': 0.9344483940605778, 'eval_recall_weighted': 0.9402852049910874, 'eval_f1_weighted': 0.9363132979216718, 'eval_runtime': 15.8262, 'eval_samples_per_second': 496.265, 'eval_steps_per_second': 7.772, 'epoch': 5.0}\n",
      "{'train_runtime': 2463.7333, 'train_samples_per_second': 157.791, 'train_steps_per_second': 2.466, 'train_loss': 0.45466066839273084, 'epoch': 5.0}\n"
     ]
    },
    {
     "name": "stderr",
     "output_type": "stream",
     "text": [
      "\n"
     ]
    },
    {
     "data": {
      "text/plain": [
       "TrainOutput(global_step=6075, training_loss=0.45466066839273084, metrics={'train_runtime': 2463.7333, 'train_samples_per_second': 157.791, 'train_steps_per_second': 2.466, 'total_flos': 1.8126033096748032e+17, 'train_loss': 0.45466066839273084, 'epoch': 5.0})"
      ]
     },
     "execution_count": 12,
     "metadata": {},
     "output_type": "execute_result"
    }
   ],
   "source": [
    "trainer.train()"
   ]
  },
  {
   "cell_type": "markdown",
   "id": "f95147cd-2ee2-4040-b0ee-6be107186a7c",
   "metadata": {},
   "source": [
    "По нашей основной метрике выиграл Roberta-Large, ее и будем использовать как основную\n",
    "\n",
    "Метрика: 0.9335\n",
    "\n",
    "![title](./roberta_large_context.png)"
   ]
  },
  {
   "cell_type": "code",
   "execution_count": 16,
   "id": "4b5d9fe2-4cb1-4999-88d8-bcfa4f0fa87d",
   "metadata": {
    "execution": {
     "iopub.execute_input": "2025-03-26T10:07:27.710789Z",
     "iopub.status.busy": "2025-03-26T10:07:27.710370Z",
     "iopub.status.idle": "2025-03-26T10:08:06.805656Z",
     "shell.execute_reply": "2025-03-26T10:08:06.804705Z",
     "shell.execute_reply.started": "2025-03-26T10:07:27.710768Z"
    },
    "tags": []
   },
   "outputs": [],
   "source": [
    "trainer.save_model(\"./final_model\")"
   ]
  },
  {
   "cell_type": "code",
   "execution_count": null,
   "id": "0b8e528d-312b-43f2-bf1b-e5c43f24ee40",
   "metadata": {},
   "outputs": [],
   "source": []
  }
 ],
 "metadata": {
  "kernelspec": {
   "display_name": "DataSphere Kernel",
   "language": "python",
   "name": "python3"
  },
  "language_info": {
   "codemirror_mode": {
    "name": "ipython",
    "version": 3
   },
   "file_extension": ".py",
   "mimetype": "text/x-python",
   "name": "python",
   "nbconvert_exporter": "python",
   "pygments_lexer": "ipython3",
   "version": "3.10.12"
  }
 },
 "nbformat": 4,
 "nbformat_minor": 5
}
